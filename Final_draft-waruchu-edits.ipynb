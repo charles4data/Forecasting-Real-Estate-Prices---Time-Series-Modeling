{
 "cells": [
  {
   "cell_type": "markdown",
   "metadata": {
    "id": "9N8ufMpQfeZf"
   },
   "source": [
    "# A Time Series Modeling Guide for Waridi Investments: Using Zillow Data to Identify the Most Profitable Zip Codes for Real Estate Investments\n"
   ]
  },
  {
   "cell_type": "markdown",
   "metadata": {
    "id": "S3UDuF8ZfSBq"
   },
   "source": [
    "## Group 8 Project Colaborators\n",
    "\n",
    "**STUDENT NAMES:**  \n",
    "+ SAMMY SIFUNA  \n",
    "+ JULIUS CHARLES  \n",
    "+ WARUCH KURIA  \n",
    "+ RAEL NDONYE  \n",
    "+ ALLAN OMONDI  \n",
    "+ JANET KHAINZA\n",
    "----------------------------------------------"
   ]
  },
  {
   "cell_type": "markdown",
   "metadata": {
    "id": "RzGJMQTtadYo"
   },
   "source": [
    "## Business Understanding\n",
    "       \n",
    "### Background\n",
    "Between `1996` to `2018`, the U.S. real estate market underwent significant transformations. It commenced with an increase in home prices driven by a growing perception of real estate as a valuable long-term investment. However, the Great Recession between `2007` to `2009` brought about extensive declines in home values, triggering foreclosures and eroding trust.\n",
    "Over time,low interest rates and government interventions helped restore stability and confidence in the market. Urbanization gained momentum as more people gravitated towards cities, younger individuals entered the housing market, and technology assumed a pivotal role. Although certain cities thrived, others faced challenges. Regulatory reforms were introduced to prevent potential crises. Hence, the era marked a period of adaptation and evolution in the dynamics of buying and selling homes.\n",
    "![Depiction of a Changing Market Prices](images/time-series-analysis.jpg)\n",
    "\n",
    "\n",
    "### Problem Statement\n",
    "Waridi Investments, a recently established real estate investment firm, has engaged our services to identify the top `5 zip codes` with the potential for the highest return on investment when they `sell in 5 years`. Their strategic approach is to initiate short-term investments in one of the most thriving real estate markets in the United States of America. The company places significant emphasis on securing sound investments that ensure consistent cash flow, ultimately enabling them to reinvest effectively when the opportune moment arises.\n",
    "\n",
    "### Objectives\n",
    "* To determine the top `5 zip codes` that show the highest potential `return on investment (ROI) in 5 years.`\n",
    "* To determine the `5 least advisable cities` to invest in.\n",
    "* To identify which `top 5 metropolitan areas` and states have the highest market performance in terms of price growth.\n",
    "* To determine the best month to invest to maximize ROI.\n",
    "* To show how factors like economic stability(recession) impact housing market performance.\n",
    "\n",
    "### Hypotheis \n",
    "**Null Hypothesis (H0):** The variables do not help predict future real estate prices\n",
    "\n",
    "**Alternative Hypothesis (H1):** The variables predict future real estate prices\n",
    "\n",
    "-------------------------------------"
   ]
  },
  {
   "cell_type": "markdown",
   "metadata": {
    "id": "_eP0KiM0gExS"
   },
   "source": [
    "## Data Understanding\n",
    "\n",
    "### A Brief Description of the Dataset\n",
    "\n",
    "This data represents median monthly housing sales prices for `265 zip codes in the USA`, over the period of `April 1996 through April 2018` as reported by Zillow.\n",
    "\n",
    "Each row represents a unique zip code. Each record contains location information and median housing sales prices for each month.\n",
    "\n",
    "There are `11568 rows and 272 variables`:\n",
    "\n",
    "+ **RegionID:** Unique index\n",
    "+ **RegionName:** Unique Zip Code\n",
    "+ **City:** City in which the zip code is located\n",
    "+ **State:** State in which the zip code is located\n",
    "+ **Metro:** Metropolitan Area in which the zip code is located\n",
    "+ **CountyName:** County in which the zip code is located\n",
    "+ **SizeRank:** Numerical rank of size of zip code, ranked 1 through 14723\n",
    "+ **1996-04 through 2018-04:** refers to the median housing sales values for `April 1996` through `April 2018`, that is `265 data points` of monthly data for each zip code\n",
    "\n",
    "We shall check for the accuracy of our forecasts using `MSE (Mean Squared Error)`. This will provide us with the average error of our forecasts.\n",
    "\n",
    "### Assumptions:\n",
    "1. The zip codes are representative of the broader real estate market in the United States.\n",
    "2. The real estate market conditions during this period were influenced by various economic and socio-political factors.\n",
    "3. The data covers a combination of urban, suburban, and rural area.\n",
    "4. The data doesn't reflect significant improvements or renovations made to properties over time that could increase or decrease prices."
   ]
  },
  {
   "cell_type": "markdown",
   "metadata": {},
   "source": [
    "### Reviewing and Inspecting the Data\n",
    "\n",
    "In this step, we load, review, and examine the dataset further"
   ]
  },
  {
   "cell_type": "code",
   "execution_count": 2,
   "metadata": {
    "id": "Wn0q7hBlAFjM"
   },
   "outputs": [
    {
     "name": "stderr",
     "output_type": "stream",
     "text": [
      "C:\\Users\\charles4data\\anaconda3\\envs\\learn-env\\lib\\site-packages\\scipy\\__init__.py:138: UserWarning: A NumPy version >=1.16.5 and <1.23.0 is required for this version of SciPy (detected version 1.24.4)\n",
      "  warnings.warn(f\"A NumPy version >={np_minversion} and <{np_maxversion} is required for this version of \"\n"
     ]
    },
    {
     "ename": "ModuleNotFoundError",
     "evalue": "No module named 'statsmodels.api'",
     "output_type": "error",
     "traceback": [
      "\u001b[1;31m---------------------------------------------------------------------------\u001b[0m",
      "\u001b[1;31mModuleNotFoundError\u001b[0m                       Traceback (most recent call last)",
      "\u001b[1;32m<ipython-input-2-2a0fef28b79a>\u001b[0m in \u001b[0;36m<module>\u001b[1;34m\u001b[0m\n\u001b[0;32m     14\u001b[0m \u001b[1;32mfrom\u001b[0m \u001b[0msklearn\u001b[0m\u001b[1;33m.\u001b[0m\u001b[0mmetrics\u001b[0m \u001b[1;32mimport\u001b[0m \u001b[0mmean_squared_error\u001b[0m\u001b[1;33m\u001b[0m\u001b[1;33m\u001b[0m\u001b[0m\n\u001b[0;32m     15\u001b[0m \u001b[1;32mfrom\u001b[0m \u001b[0mmath\u001b[0m \u001b[1;32mimport\u001b[0m \u001b[0msqrt\u001b[0m\u001b[1;33m\u001b[0m\u001b[1;33m\u001b[0m\u001b[0m\n\u001b[1;32m---> 16\u001b[1;33m \u001b[1;32mimport\u001b[0m \u001b[0mstatsmodels\u001b[0m\u001b[1;33m.\u001b[0m\u001b[0mapi\u001b[0m \u001b[1;32mas\u001b[0m \u001b[0msm\u001b[0m\u001b[1;33m\u001b[0m\u001b[1;33m\u001b[0m\u001b[0m\n\u001b[0m\u001b[0;32m     17\u001b[0m \u001b[1;32mfrom\u001b[0m \u001b[0mstatsmodels\u001b[0m\u001b[1;33m.\u001b[0m\u001b[0mtsa\u001b[0m\u001b[1;33m.\u001b[0m\u001b[0marima_model\u001b[0m \u001b[1;32mimport\u001b[0m \u001b[0mARMA\u001b[0m\u001b[1;33m\u001b[0m\u001b[1;33m\u001b[0m\u001b[0m\n\u001b[0;32m     18\u001b[0m \u001b[1;32mfrom\u001b[0m \u001b[0mstatsmodels\u001b[0m\u001b[1;33m.\u001b[0m\u001b[0mtsa\u001b[0m\u001b[1;33m.\u001b[0m\u001b[0marima\u001b[0m\u001b[1;33m.\u001b[0m\u001b[0mmodel\u001b[0m \u001b[1;32mimport\u001b[0m \u001b[0mARIMA\u001b[0m\u001b[1;33m\u001b[0m\u001b[1;33m\u001b[0m\u001b[0m\n",
      "\u001b[1;31mModuleNotFoundError\u001b[0m: No module named 'statsmodels.api'"
     ]
    }
   ],
   "source": [
    "# Import libraries\n",
    "import numpy as np\n",
    "import pandas as pd\n",
    "import matplotlib\n",
    "from matplotlib import pyplot as plt\n",
    "from scipy import stats\n",
    "from random import gauss as gs\n",
    "import math\n",
    "import datetime\n",
    "import warnings\n",
    "matplotlib.rcParams['timezone'] = 'UTC'\n",
    "\n",
    "from sklearn.linear_model import LinearRegression\n",
    "from sklearn.metrics import mean_squared_error\n",
    "from math import sqrt\n",
    "import statsmodels.api as sm\n",
    "from statsmodels.tsa.arima_model import ARMA\n",
    "from statsmodels.tsa.arima.model import ARIMA\n",
    "from statsmodels.tsa.stattools import adfuller, acf, pacf\n",
    "from statsmodels.graphics.tsaplots import plot_acf,plot_pacf\n",
    "from pandas.plotting import autocorrelation_plot, lag_plot\n",
    "from statsmodels.tsa.seasonal import seasonal_decompose\n",
    "from statsmodels.tsa.statespace.sarimax import SARIMAX\n",
    "from pandas.plotting import register_matplotlib_converters\n",
    "register_matplotlib_converters()\n",
    "from statsmodels.graphics.tsaplots import plot_acf, plot_pacf\n",
    "from statsmodels.tools.sm_exceptions import ConvergenceWarning\n",
    "warnings.simplefilter('ignore', ConvergenceWarning)\n",
    "import itertools\n",
    "import warnings\n",
    "warnings.filterwarnings('ignore')\n",
    "from matplotlib.pylab import rcParams\n",
    "%matplotlib inline\n",
    "plt.style.use('ggplot')"
   ]
  },
  {
   "cell_type": "code",
   "execution_count": 1,
   "metadata": {
    "colab": {
     "base_uri": "https://localhost:8080/"
    },
    "id": "A7hSUYD0Si2V",
    "outputId": "105d0edd-e093-4e2a-cdf9-8662a38e886b"
   },
   "outputs": [
    {
     "name": "stdout",
     "output_type": "stream",
     "text": [
      "Requirement already satisfied: pmdarima in c:\\users\\charles4data\\anaconda3\\envs\\learn-env\\lib\\site-packages (2.0.3)\n",
      "Requirement already satisfied: Cython!=0.29.18,!=0.29.31,>=0.29 in c:\\users\\charles4data\\anaconda3\\envs\\learn-env\\lib\\site-packages (from pmdarima) (0.29.21)\n",
      "Requirement already satisfied: pandas>=0.19 in c:\\users\\charles4data\\anaconda3\\envs\\learn-env\\lib\\site-packages (from pmdarima) (2.0.3)\n",
      "Requirement already satisfied: joblib>=0.11 in c:\\users\\charles4data\\anaconda3\\envs\\learn-env\\lib\\site-packages (from pmdarima) (1.3.2)\n",
      "Collecting numpy>=1.21.2\n",
      "  Using cached numpy-1.24.4-cp38-cp38-win_amd64.whl (14.9 MB)\n",
      "Requirement already satisfied: scipy>=1.3.2 in c:\\users\\charles4data\\anaconda3\\envs\\learn-env\\lib\\site-packages (from pmdarima) (1.10.1)\n",
      "Requirement already satisfied: scikit-learn>=0.22 in c:\\users\\charles4data\\anaconda3\\envs\\learn-env\\lib\\site-packages (from pmdarima) (1.3.0)\n",
      "Requirement already satisfied: urllib3 in c:\\users\\charles4data\\anaconda3\\envs\\learn-env\\lib\\site-packages (from pmdarima) (1.25.10)\n",
      "Requirement already satisfied: setuptools!=50.0.0,>=38.6.0 in c:\\users\\charles4data\\anaconda3\\envs\\learn-env\\lib\\site-packages (from pmdarima) (68.1.2)\n",
      "Requirement already satisfied: statsmodels>=0.13.2 in c:\\users\\charles4data\\anaconda3\\envs\\learn-env\\lib\\site-packages (from pmdarima) (0.14.0)\n",
      "Requirement already satisfied: python-dateutil>=2.8.2 in c:\\users\\charles4data\\anaconda3\\envs\\learn-env\\lib\\site-packages (from pandas>=0.19->pmdarima) (2.8.2)\n",
      "Requirement already satisfied: tzdata>=2022.1 in c:\\users\\charles4data\\anaconda3\\envs\\learn-env\\lib\\site-packages (from pandas>=0.19->pmdarima) (2023.3)\n",
      "Requirement already satisfied: pytz>=2020.1 in c:\\users\\charles4data\\anaconda3\\envs\\learn-env\\lib\\site-packages (from pandas>=0.19->pmdarima) (2020.1)\n",
      "Requirement already satisfied: threadpoolctl>=2.0.0 in c:\\users\\charles4data\\anaconda3\\envs\\learn-env\\lib\\site-packages (from scikit-learn>=0.22->pmdarima) (2.1.0)\n",
      "Requirement already satisfied: packaging>=21.3 in c:\\users\\charles4data\\anaconda3\\envs\\learn-env\\lib\\site-packages (from statsmodels>=0.13.2->pmdarima) (23.1)\n",
      "Requirement already satisfied: patsy>=0.5.2 in c:\\users\\charles4data\\anaconda3\\envs\\learn-env\\lib\\site-packages (from statsmodels>=0.13.2->pmdarima) (0.5.3)\n",
      "Requirement already satisfied: six>=1.5 in c:\\users\\charles4data\\anaconda3\\envs\\learn-env\\lib\\site-packages (from python-dateutil>=2.8.2->pandas>=0.19->pmdarima) (1.15.0)\n",
      "Installing collected packages: numpy\n",
      "  Attempting uninstall: numpy\n",
      "    Found existing installation: numpy 1.20.3\n",
      "    Uninstalling numpy-1.20.3:\n",
      "      Successfully uninstalled numpy-1.20.3\n",
      "Successfully installed numpy-1.24.4\n",
      "Note: you may need to restart the kernel to use updated packages.\n"
     ]
    },
    {
     "name": "stderr",
     "output_type": "stream",
     "text": [
      "ERROR: After October 2020 you may experience errors when installing or updating packages. This is because pip will change the way that it resolves dependency conflicts.\n",
      "\n",
      "We recommend you use --use-feature=2020-resolver to test your packages with the new resolver before it becomes the default.\n",
      "\n",
      "tensorflow 2.3.1 requires numpy<1.19.0,>=1.16.0, but you'll have numpy 1.24.4 which is incompatible.\n"
     ]
    }
   ],
   "source": [
    "pip install pmdarima"
   ]
  },
  {
   "cell_type": "code",
   "execution_count": null,
   "metadata": {
    "scrolled": false
   },
   "outputs": [],
   "source": [
    "import pmdarima as pm"
   ]
  },
  {
   "cell_type": "code",
   "execution_count": null,
   "metadata": {
    "colab": {
     "base_uri": "https://localhost:8080/",
     "height": 236
    },
    "id": "K1JM1cxNAGxz",
    "outputId": "8fce0d8c-f2c7-4b62-93e6-c92f992a3278"
   },
   "outputs": [],
   "source": [
    "#loading dataset and viewing first 5 rows\n",
    "data = pd.read_csv('data/zillow_data.csv')\n",
    "\n",
    "data.head()"
   ]
  },
  {
   "cell_type": "code",
   "execution_count": null,
   "metadata": {
    "colab": {
     "base_uri": "https://localhost:8080/"
    },
    "id": "NS1vwFavhcb8",
    "outputId": "44a79937-5209-45e1-eddd-dcb360ab0ea2"
   },
   "outputs": [],
   "source": [
    "data.info()"
   ]
  },
  {
   "cell_type": "code",
   "execution_count": null,
   "metadata": {
    "colab": {
     "base_uri": "https://localhost:8080/"
    },
    "id": "3TznssuiAQm7",
    "outputId": "ed67a5b8-ea7b-4703-fae2-afc73a2404a5"
   },
   "outputs": [],
   "source": [
    "data.columns"
   ]
  },
  {
   "cell_type": "code",
   "execution_count": null,
   "metadata": {
    "colab": {
     "base_uri": "https://localhost:8080/"
    },
    "id": "dfZUA0asAQke",
    "outputId": "f6cc21c7-562a-4361-c412-a84a39e80718"
   },
   "outputs": [],
   "source": [
    "# Examine the shape of the dataset\n",
    "data.shape"
   ]
  },
  {
   "cell_type": "code",
   "execution_count": null,
   "metadata": {
    "colab": {
     "base_uri": "https://localhost:8080/"
    },
    "id": "Pb_Mhs8BAQiL",
    "outputId": "613388f4-3766-4955-a848-530d14bd451e"
   },
   "outputs": [],
   "source": [
    "# Viewing number of zipcodes in dataset and nan values\n",
    "print('Total number of zipcodes:', len(data))\n",
    "data.iloc[:, :20].isna().sum() # up to 20th column"
   ]
  },
  {
   "cell_type": "markdown",
   "metadata": {
    "id": "nLXCJ9mRHPfG"
   },
   "source": [
    "## **Exploratory Data Analysis(EDA) and Feature Engineering**\n",
    "\n",
    "First, some basic EDA and Feature Engineering will be performed. \n",
    "- **N/B:** There will be a lot of EDA and feature engineering required throughout this project, therefore, the processes will be performed as needed."
   ]
  },
  {
   "cell_type": "markdown",
   "metadata": {},
   "source": [
    "### **Checking for Duplicates**\n",
    "- The data has no duplicates."
   ]
  },
  {
   "cell_type": "code",
   "execution_count": null,
   "metadata": {
    "colab": {
     "base_uri": "https://localhost:8080/"
    },
    "id": "xQInn49aAok9",
    "outputId": "4d5d71bb-82cb-4abf-d470-ab9d9c6773e3"
   },
   "outputs": [],
   "source": [
    "# check for duplicates\n",
    "data.duplicated().sum()"
   ]
  },
  {
   "cell_type": "markdown",
   "metadata": {},
   "source": [
    "### **Changing `RegionName` to `ZipCode`**"
   ]
  },
  {
   "cell_type": "markdown",
   "metadata": {},
   "source": [
    "The data types are okay as expected."
   ]
  },
  {
   "cell_type": "code",
   "execution_count": null,
   "metadata": {
    "colab": {
     "base_uri": "https://localhost:8080/"
    },
    "id": "s-EUXAmnAQfi",
    "outputId": "1db15fe0-8b8f-4a5c-a5f4-d4a6230df9bf"
   },
   "outputs": [],
   "source": [
    "#Inspecting dataframe dtypes\n",
    "data.iloc[:, :20].dtypes"
   ]
  },
  {
   "cell_type": "markdown",
   "metadata": {},
   "source": [
    "However, `RegionName` column will be renamed to `ZipCode` for easier recognition.\n",
    "- Further, the column will be converted to a string."
   ]
  },
  {
   "cell_type": "code",
   "execution_count": null,
   "metadata": {
    "colab": {
     "base_uri": "https://localhost:8080/"
    },
    "id": "zNzSXdLkAexT",
    "outputId": "9d2bfd8b-0941-4964-a0a6-74091cd4f757"
   },
   "outputs": [],
   "source": [
    "# change 'RegionName' column to 'ZipCode' to avoid confusion\n",
    "data.rename(columns={'RegionName': 'ZipCode'}, inplace=True)\n",
    "\n",
    "data.ZipCode = data.ZipCode.astype('string')\n",
    "\n",
    "#confirming the change\n",
    "print(data.dtypes[\"ZipCode\"])"
   ]
  },
  {
   "cell_type": "markdown",
   "metadata": {
    "id": "a7KehqlqiOIb"
   },
   "source": [
    "### **Missing Values**\n",
    "\n",
    "There are some missing values in the `Metro` and `dates` columns. To deal with this:\n",
    "- Missing values in the **Metro** column will be replaced with **missing**.  \n",
    "- Missing values in the dates columns will be backfilled."
   ]
  },
  {
   "cell_type": "code",
   "execution_count": null,
   "metadata": {
    "colab": {
     "base_uri": "https://localhost:8080/"
    },
    "id": "TJS4GzZSAoi5",
    "outputId": "f7450580-a977-4b40-edd6-50d083e2bfc7",
    "scrolled": true
   },
   "outputs": [],
   "source": [
    "data.isnull().sum()"
   ]
  },
  {
   "cell_type": "code",
   "execution_count": null,
   "metadata": {
    "colab": {
     "base_uri": "https://localhost:8080/",
     "height": 424
    },
    "id": "1kEdDCb-AogG",
    "outputId": "437213dc-eb56-4b7f-b271-06cf2ac34d9d"
   },
   "outputs": [],
   "source": [
    "# Define a function to explore missing data\n",
    "def missing(data):\n",
    "    missing_data = data.isna().sum()\n",
    "    missing_data = missing_data[missing_data>0]\n",
    "    return missing_data.to_frame()\n",
    "\n",
    "# Apply missing_data function to the dataframe\n",
    "missing(data)"
   ]
  },
  {
   "cell_type": "code",
   "execution_count": null,
   "metadata": {
    "colab": {
     "base_uri": "https://localhost:8080/"
    },
    "id": "bIa_0kaUA79m",
    "outputId": "087414bc-aa13-4482-d8aa-e90525b74040"
   },
   "outputs": [],
   "source": [
    "# replacing the missing values bin Metro with 'missing'\n",
    "data.Metro.fillna('missing', inplace=True)\n",
    "\n",
    "# interpolate missing values on date columns\n",
    "data.interpolate(method=\"pad\", inplace=True)\n",
    "\n",
    "data.isna().sum().sum()"
   ]
  },
  {
   "cell_type": "markdown",
   "metadata": {
    "id": "2V4Cj3k3ip3R"
   },
   "source": [
    "### **Creating New Columns for Analysis**"
   ]
  },
  {
   "cell_type": "markdown",
   "metadata": {
    "id": "iGwNSsS7NCjU"
   },
   "source": [
    "#### **Select Top 10 States to Invest in Real Estate**\n",
    "- The data will first be filtered to choose the ten best states to invest in real estate in the USA. The guiding information has been extracted from this article by [Fit Small Business](https://fitsmallbusiness.com/best-and-worst-states-to-invest-in-real-estate/).\n",
    "- The top 10 states most suitable for investment that yields high returns in real estate are: \n",
    "1. Georgia (GA)\n",
    "2. Utah (UT)\n",
    "3. Texas (TX)\n",
    "4. North Carolina (NC)\n",
    "5. New Jersey (NJ)\n",
    "6. Tennessee (TN)\n",
    "7. Washington (WA)\n",
    "8. Delaware (DE)\n",
    "9. Nebraska (NE)\n",
    "10. Florida (FL).\n",
    "- This narrows down the number of Zip Codes to **4039**."
   ]
  },
  {
   "cell_type": "code",
   "execution_count": null,
   "metadata": {
    "colab": {
     "base_uri": "https://localhost:8080/",
     "height": 253
    },
    "id": "GGM90QBxWm-q",
    "outputId": "ccc53f85-0022-4188-d446-0855b59ea262"
   },
   "outputs": [],
   "source": [
    "# List of states to invest in\n",
    "states_to_invest = ['GA', 'UT', 'TX', 'NC', 'NJ', 'TN', 'WA', 'DE', 'NE', 'FL']\n",
    "\n",
    "# Filter data for the selected states\n",
    "# new df - data_states created\n",
    "data_states = data[data['State'].isin(states_to_invest)].copy()\n",
    "\n",
    "# Drop unnecessary columns\n",
    "columns_to_drop = ['RegionID', 'SizeRank']\n",
    "data_states.drop(columns_to_drop, axis=1, inplace=True)\n",
    "\n",
    "# Reset the index\n",
    "data_states.reset_index(drop=True, inplace=True)\n",
    "\n",
    "print('Total Zipcodes in DataFrame:', len(data_states))\n",
    "data_states.head()"
   ]
  },
  {
   "cell_type": "code",
   "execution_count": null,
   "metadata": {
    "colab": {
     "base_uri": "https://localhost:8080/"
    },
    "id": "vba28G-5qyfb",
    "outputId": "521f2c57-7730-4af5-ec40-0727246e19cf"
   },
   "outputs": [],
   "source": [
    "data_states.shape"
   ]
  },
  {
   "cell_type": "markdown",
   "metadata": {
    "id": "LdbJn5JDdOru"
   },
   "source": [
    "#### **Calculating ROI and CV**\n",
    "- Next, 5 columns will be created:\n",
    "1. **`CV`**: This will store the coefficient of variation values. The information is used by investors to gauge the degree of volatility or risk in relation to the anticipated returns from their investments.\n",
    "    - It is calculated as standard deviation divided by the mean.\n",
    "    - A low CV means there is a lower investment risk, and vice versa for a high CV.\n",
    "    - 22-year and 5-year CV will be calculated.\n",
    "2. **`ROI`**: This will store values that show the measure of the profitability of an investment relative to its cost and is typically expressed as a percentage.\n",
    "    - A high ROI indicates that the gains or profits obtained from the investment are significantly greater than the initial investment itself. \n",
    "    - 22-year, 5-year and 3-year ROI will be calculated."
   ]
  },
  {
   "cell_type": "code",
   "execution_count": null,
   "metadata": {
    "colab": {
     "base_uri": "https://localhost:8080/",
     "height": 206
    },
    "id": "nnfx-ovddM54",
    "outputId": "52a1fd22-91c4-4373-814b-62b0a274a43b"
   },
   "outputs": [],
   "source": [
    "# 22-year ROI\n",
    "data_states['ROI_all'] = round(((data_states['2018-04'] / data_states['1996-04']) - 1) * 100, 2)\n",
    "\n",
    "## 5-year ROI\n",
    "data_states['ROI_5yr'] = round(((data_states['2018-04'] - data_states['2013-04']) / data_states['2013-01']) * 100, 2)\n",
    "\n",
    "## 3-year ROI\n",
    "data_states['ROI_3yr'] = round(((data_states['2018-04'] - data_states['2015-04']) / data_states['2015-01']) * 100, 2)\n",
    "\n",
    "# standard deviation 22 years\n",
    "data_states['std_all'] = round(data_states.loc[:,'1996-04':'2018-04'].std(skipna=True, axis=1), 2)\n",
    "\n",
    "# standard deviation 5 years\n",
    "data_states['std_5yr'] = round(data_states.loc[:,'2013-04':'2018-04'].std(skipna=True, axis=1), 2)\n",
    "\n",
    "# mean 22 years\n",
    "data_states['mean_all'] = round(data_states.loc[:,'1996-04':'2018-04'].mean(skipna=True, axis=1), 2)\n",
    "\n",
    "# mean 5 years\n",
    "data_states['mean_5yr'] = round(data_states.loc[:,'2013-04':'2018-04'].mean(skipna=True, axis=1), 2)\n",
    "\n",
    "# 22-year CV\n",
    "data_states['CV_all'] = round(data_states['std_all']/data_states['mean_all'] * 100, 2)\n",
    "\n",
    "# 5-year CV\n",
    "data_states['CV_5yr'] = round(data_states['std_5yr']/data_states['mean_5yr'] * 100, 2)\n",
    "\n",
    "# Displaying the columns\n",
    "data_states[['State', 'ZipCode','ROI_all','ROI_5yr', 'ROI_3yr', 'CV_all', 'CV_5yr']].head()"
   ]
  },
  {
   "cell_type": "code",
   "execution_count": null,
   "metadata": {
    "colab": {
     "base_uri": "https://localhost:8080/",
     "height": 350
    },
    "id": "Bs0qlqasXz0N",
    "outputId": "21da4e25-55dd-414c-bd0c-00f4196cfd59",
    "scrolled": true
   },
   "outputs": [],
   "source": [
    "#Check for zeros\n",
    "data_states.describe()"
   ]
  },
  {
   "cell_type": "code",
   "execution_count": null,
   "metadata": {
    "colab": {
     "base_uri": "https://localhost:8080/",
     "height": 394
    },
    "id": "RjqB3CJCgXrO",
    "outputId": "b323e4ff-7f3f-4698-c5f9-0552d3cbd747",
    "scrolled": true
   },
   "outputs": [],
   "source": [
    "# viewing the selected States by highest 22-yr ROI\n",
    "states_roi = round(data_states.groupby('State', group_keys=False).sum()[['ROI_all', 'ROI_5yr', 'ROI_3yr']] / 100, 2)\n",
    "states_roi.sort_values(by=['ROI_all'], ascending=False)"
   ]
  },
  {
   "cell_type": "markdown",
   "metadata": {},
   "source": [
    "**Observations**  \n",
    "Even though the analysis will be focussed on Zip Codes, the states' ROI analysis provides a general overview of zip codes to expect in the top-performing list.\n",
    "- The State of Florida has the highest ROI for all specified periods.\n",
    "- Even though New Jersey comes third in 22-year ROI, it performs poorly in the 5-year and 3-year ROI.\n",
    "- Delaware State has the lowest ROI values for all periods.\n"
   ]
  },
  {
   "cell_type": "code",
   "execution_count": null,
   "metadata": {
    "colab": {
     "base_uri": "https://localhost:8080/",
     "height": 504
    },
    "id": "Y2QRy8iRkafW",
    "outputId": "59062456-f7ae-4a86-cac4-a98653cf97e0",
    "scrolled": false
   },
   "outputs": [],
   "source": [
    "# Create a bar chart of the top 10 zip codes by ROI, ROI_5yr, and ROI_3yr\n",
    "fig, ax = plt.subplots(1, 1, figsize=(10, 5))\n",
    "states_roi.plot(kind='bar', ax=ax)\n",
    "\n",
    "# Set the title, labels, and ticks\n",
    "plt.title(\"Comparative Analysis of States by ROI_all, ROI_5yr, and ROI_3yr\")\n",
    "ax.set_ylabel(\"ROI\")\n",
    "ax.set_xlabel(\"States\")\n",
    "plt.xticks(rotation=45)  # Rotate x-axis labels for better readability\n",
    "\n",
    "plt.savefig('images/ROI_comp.jpg')\n",
    "# Show the bar chart\n",
    "plt.show()"
   ]
  },
  {
   "cell_type": "code",
   "execution_count": null,
   "metadata": {
    "colab": {
     "base_uri": "https://localhost:8080/",
     "height": 394
    },
    "id": "fP-e90WtmtkV",
    "outputId": "0292651a-b78a-472f-8445-81be55bef153",
    "scrolled": true
   },
   "outputs": [],
   "source": [
    "# displaying states by CV\n",
    "states_cv = round(data_states.groupby('State', group_keys=False).sum()[['CV_all', 'CV_5yr']] / 100, 2)\n",
    "states_cv.sort_values(by=['CV_all'], ascending=False)"
   ]
  },
  {
   "cell_type": "markdown",
   "metadata": {},
   "source": [
    "**Observations**\n",
    "- Again, Florida State has the highest CV values. This is an indication that even though the return on investment is great, it is still a risky state to invest in. Therefore, zip codes in this state will be investigated with a skeptical attitude.\n",
    "- Delaware has low returns and low risk. "
   ]
  },
  {
   "cell_type": "code",
   "execution_count": null,
   "metadata": {
    "colab": {
     "base_uri": "https://localhost:8080/",
     "height": 504
    },
    "id": "WWe2SjDZmtP3",
    "outputId": "0d0c1b49-9ebe-4505-9f2f-bf316e68a142"
   },
   "outputs": [],
   "source": [
    "# Create a bar chart of the top 10 zip codes by CV_all and CV_5yr\n",
    "fig, ax = plt.subplots(1, 1, figsize=(10, 5))\n",
    "states_cv.plot(kind='bar', ax=ax)\n",
    "\n",
    "# Set the title, labels, and ticks\n",
    "plt.title(\"Comparative Analysis of States by CV\")\n",
    "ax.set_ylabel(\"CV\")\n",
    "ax.set_xlabel(\"States\")\n",
    "plt.xticks(rotation=45)  # Rotate x-axis labels for better readability\n",
    "\n",
    "plt.savefig('images/CV_comp.jpg')\n",
    "# Show the bar chart\n",
    "plt.show()"
   ]
  },
  {
   "cell_type": "code",
   "execution_count": null,
   "metadata": {
    "colab": {
     "base_uri": "https://localhost:8080/",
     "height": 236
    },
    "id": "AYNWjRpQsxrP",
    "outputId": "adc5e4d6-7ce1-4f72-ff4f-12de7158a296"
   },
   "outputs": [],
   "source": [
    "data_states.head()"
   ]
  },
  {
   "cell_type": "code",
   "execution_count": null,
   "metadata": {
    "colab": {
     "base_uri": "https://localhost:8080/"
    },
    "id": "w9arCe0Zs7pJ",
    "outputId": "df4486cb-6207-4c13-974f-4c790ad05208"
   },
   "outputs": [],
   "source": [
    "data_states.nunique()"
   ]
  },
  {
   "cell_type": "markdown",
   "metadata": {},
   "source": [
    "## Preparation for Modelling\n",
    "- The next lines of code will rank zip codes by different ROI and CV periods.  \n",
    "- This will give an overview of how the zip codes performed individually.\n",
    "- The codes will filter out the top 10 zip codes by the given criteria."
   ]
  },
  {
   "cell_type": "markdown",
   "metadata": {},
   "source": [
    "### **1. All ROI Periods**\n",
    "- Extract top 10 zip codes by `ROI_all` in descending order"
   ]
  },
  {
   "cell_type": "code",
   "execution_count": null,
   "metadata": {
    "colab": {
     "base_uri": "https://localhost:8080/",
     "height": 522
    },
    "id": "5oisTvbKp1sq",
    "outputId": "561d0d07-0212-4c56-a2d7-2b47ffabee09",
    "scrolled": false
   },
   "outputs": [],
   "source": [
    "# Extract top 10 zip codes by ROI_all in descending order\n",
    "top_10_zipcodes_roi_all = data_states.sort_values(by='ROI_all', ascending=False).head(10)\n",
    "\n",
    "# Plotting the graph\n",
    "fig, ax = plt.subplots(figsize=(8, 5))\n",
    "top_10_zipcodes_roi_all.plot(kind='bar', x='ZipCode', y=['ROI_all', 'ROI_5yr', 'ROI_3yr'], ax=ax)\n",
    "ax.set_xlabel('Zip Code')\n",
    "ax.set_ylabel('ROI')\n",
    "ax.set_title('Top 10 Zip Codes by ROI\\n(All Periods)')\n",
    "plt.savefig('images/ROI_all')\n",
    "plt.show()"
   ]
  },
  {
   "cell_type": "markdown",
   "metadata": {},
   "source": [
    "**Observations**  \n",
    "- Zip Code 31561 seems to be performing extremely well in terms of potential for profits.\n",
    "- The oter zip codes are somewhere at the same performance level."
   ]
  },
  {
   "cell_type": "markdown",
   "metadata": {},
   "source": [
    "### **2. All CV Periods**\n",
    "- Extract top 10 zip codes by `CV_all` in descending order"
   ]
  },
  {
   "cell_type": "code",
   "execution_count": null,
   "metadata": {
    "colab": {
     "base_uri": "https://localhost:8080/",
     "height": 522
    },
    "id": "i1womi7GwPFx",
    "outputId": "8a2145a9-2358-4213-be41-633e20529d4c",
    "scrolled": false
   },
   "outputs": [],
   "source": [
    "# Extract top 10 zip codes by CV_all in descending order\n",
    "top_10_zipcodes_cv_all = data_states.sort_values(by='CV_all', ascending=False).head(10)\n",
    "\n",
    "# Plotting the graph\n",
    "fig, ax = plt.subplots(figsize=(12, 5))\n",
    "top_10_zipcodes_cv_all.plot(kind='bar', x='ZipCode', y=['CV_all', 'CV_5yr'], ax=ax)\n",
    "ax.set_xlabel('Zip Code')\n",
    "ax.set_ylabel('ROI')\n",
    "ax.set_title('Top 10 Zip Codes by CV\\n(All Periods)')\n",
    "plt.savefig('images/CV_all')\n",
    "plt.show()"
   ]
  },
  {
   "cell_type": "markdown",
   "metadata": {},
   "source": [
    "**Observations**\n",
    "- Zip code 28039 has the highest CV for the past five years.\n",
    "- 31527 has the highest overall CV.\n",
    "- The goal is to choose the zip codes with least CV. 31027, 19962 and 99163 may fit into this criteria,"
   ]
  },
  {
   "cell_type": "markdown",
   "metadata": {},
   "source": [
    "### **3. ROI and CV - 22 years**\n",
    "- Extract top 10 zip codes by `ROI_all` in descending order.\n",
    "- Plot both `ROI_all` and `CV_all`."
   ]
  },
  {
   "cell_type": "code",
   "execution_count": null,
   "metadata": {
    "colab": {
     "base_uri": "https://localhost:8080/",
     "height": 522
    },
    "id": "VIB5zY1Sxjjw",
    "outputId": "21c82bf4-1a1a-4910-9f72-4249ac040575",
    "scrolled": false
   },
   "outputs": [],
   "source": [
    "# Extract top 10 zip codes by ROI_all in descending order\n",
    "top_10_zipcodes_roi_cv_all = data_states.sort_values(by='ROI_all', ascending=False).head(10)\n",
    "\n",
    "# Plotting the graph\n",
    "fig, ax = plt.subplots(figsize=(12, 5))\n",
    "top_10_zipcodes_roi_cv_all.plot(kind='bar', x='ZipCode', y=['ROI_all', 'CV_all'], ax=ax)\n",
    "ax.set_xlabel('Zip Code')\n",
    "ax.set_ylabel('Value')\n",
    "ax.set_title('ROI vs CV\\n(1996 to 2018)')\n",
    "plt.savefig('images/ROI_CV_all')\n",
    "plt.show()"
   ]
  },
  {
   "cell_type": "markdown",
   "metadata": {},
   "source": [
    "### **4. ROI and CV - 5 years**\n",
    "- Extract top 10 zip codes by `ROI_5yr` in descending order.\n",
    "- Plot both `ROI_5yr` and `CV_5yr`."
   ]
  },
  {
   "cell_type": "markdown",
   "metadata": {},
   "source": [
    "**Observations**\n",
    "- This graph is unclear on how the two values compare because the extreme ROI value for 31561 seems to overpower the rest."
   ]
  },
  {
   "cell_type": "code",
   "execution_count": null,
   "metadata": {
    "colab": {
     "base_uri": "https://localhost:8080/",
     "height": 522
    },
    "id": "GOG6lMaSyfvZ",
    "outputId": "49c3f64a-ff71-4d26-fe5c-9ee6ab164e95",
    "scrolled": false
   },
   "outputs": [],
   "source": [
    "# Extract top 10 zip codes by ROI_all in descending order\n",
    "top_10_zipcodes_roi_cv_5yr = data_states.sort_values(by='ROI_all', ascending=False).head(10)\n",
    "\n",
    "# Plotting the graph\n",
    "fig, ax = plt.subplots(figsize=(12, 5))\n",
    "top_10_zipcodes_roi_cv_5yr.plot(kind='bar', x='ZipCode', y=['ROI_5yr', 'CV_5yr'], ax=ax)\n",
    "ax.set_xlabel('Zip Code')\n",
    "ax.set_ylabel('Value')\n",
    "ax.set_title('ROI vs CV\\n(5-year Period)')\n",
    "plt.savefig('images/ROI_CV_5yr')\n",
    "plt.show()"
   ]
  },
  {
   "cell_type": "markdown",
   "metadata": {},
   "source": [
    "**Observations**\n",
    "- Here, 31527 stands out again with a high 5-year ROI. The CV, however, is unfortunately also high.\n",
    "- 7302, 30317 and 78702 have high ROIs but higher than most CV values.\n",
    "- This graph seems to give a better comparable visualization and will be used to form the time series for modelling."
   ]
  },
  {
   "cell_type": "code",
   "execution_count": null,
   "metadata": {
    "colab": {
     "base_uri": "https://localhost:8080/",
     "height": 236
    },
    "id": "AIbnKVV2qJOq",
    "outputId": "3218f754-ed00-4c97-da85-eaaf5d5db46f",
    "scrolled": true
   },
   "outputs": [],
   "source": [
    "top_10_zipcodes_roi_cv_5yr.head()"
   ]
  },
  {
   "cell_type": "code",
   "execution_count": null,
   "metadata": {
    "colab": {
     "base_uri": "https://localhost:8080/"
    },
    "id": "Le1T12H0d3EG",
    "outputId": "5242b543-5468-428f-8948-eb4636ceb7d9"
   },
   "outputs": [],
   "source": [
    "top_10_zipcodes_roi_cv_5yr.shape"
   ]
  },
  {
   "cell_type": "code",
   "execution_count": null,
   "metadata": {},
   "outputs": [],
   "source": [
    "# confirming the list of Zip Codes\n",
    "top_10_zipcodes_roi_cv_5yr[\"ZipCode\"]"
   ]
  },
  {
   "cell_type": "markdown",
   "metadata": {},
   "source": [
    "### Identifying the Zip Codes by City, County, Metro  and State\n",
    "|Zip Code| City | County | Metro | State |\n",
    "| ------ | :---------- | :------ | :----- | :----- |\n",
    "| 31561  | Sea Island | Glynn County | Brunswick | Georgia |\n",
    "| 31527  | Jekyll Island | Glynn County | Brunswick | Georgia |\n",
    "| 7302   | Jersey City | Hudson County | New York |  New Jersey |\n",
    "| 30139  | Fairmount | Gordon County | Calhoun | Georgia |\n",
    "| 76234  | Decatur | Wise County | Dallas-Fort Worth |  Texas |\n",
    "| 19951  | Harbeson | Sussex County | Salisbury |  Delaware |\n",
    "| 98851  | Soap Lake | Grant County | Moses Lake |  Washington |\n",
    "| 30317  | Atlanta | DeKalb County | Atlanta | Georgia |\n",
    "| 78702  | Austin | Travis | Austin | Texas |\n",
    "| 28762  | Old Fort | McDowell | Marion | North Carolina |"
   ]
  },
  {
   "cell_type": "code",
   "execution_count": null,
   "metadata": {
    "id": "puW5dkd11kyB"
   },
   "outputs": [],
   "source": [
    "final_df = top_10_zipcodes_roi_cv_5yr.drop(['City', 'State', 'Metro', 'CountyName',\n",
    "                                     'ROI_all', 'ROI_3yr',\n",
    "                                       'std_all', 'std_5yr',\n",
    "                                       'mean_all','mean_5yr',\n",
    "                                       'CV_all'], axis=1)"
   ]
  },
  {
   "cell_type": "code",
   "execution_count": null,
   "metadata": {
    "colab": {
     "base_uri": "https://localhost:8080/",
     "height": 236
    },
    "id": "dw9Z3tNSjU6v",
    "outputId": "5a9c29a1-870d-46f5-9d67-bfb46c219607",
    "scrolled": true
   },
   "outputs": [],
   "source": [
    "final_df.head()"
   ]
  },
  {
   "cell_type": "code",
   "execution_count": null,
   "metadata": {
    "colab": {
     "base_uri": "https://localhost:8080/"
    },
    "id": "LVjXBaYnlJr0",
    "outputId": "58b5fca5-e95d-49f7-b733-52cdd28aa243",
    "scrolled": false
   },
   "outputs": [],
   "source": [
    "final_df.info()"
   ]
  },
  {
   "cell_type": "markdown",
   "metadata": {},
   "source": [
    "### Converting to Time Series"
   ]
  },
  {
   "cell_type": "code",
   "execution_count": null,
   "metadata": {
    "colab": {
     "base_uri": "https://localhost:8080/",
     "height": 238
    },
    "id": "bXAO3oGx1kvE",
    "outputId": "2e56db91-9d0f-4637-914f-83d0a9f7713a",
    "scrolled": true
   },
   "outputs": [],
   "source": [
    "time_df= final_df.melt(id_vars=['ZipCode', 'ROI_5yr', 'CV_5yr'], var_name='Time', value_name='Sale Price')\n",
    "# time_df['Time'] = pd.to_datetime(final_df['Time'], infer_datetime_format=True)\n",
    "time_df['Time'] = pd.to_datetime(time_df['Time'])\n",
    "time_df.set_index('Time', inplace=True)\n",
    "time_df = time_df.pivot_table('Sale Price', ['Time'], 'ZipCode')\n",
    "time_df.head()"
   ]
  },
  {
   "cell_type": "code",
   "execution_count": null,
   "metadata": {},
   "outputs": [],
   "source": [
    "time_df.index.name"
   ]
  },
  {
   "cell_type": "markdown",
   "metadata": {
    "id": "Hdjzp2tjHtPS"
   },
   "source": [
    "## Modelling"
   ]
  },
  {
   "cell_type": "markdown",
   "metadata": {},
   "source": [
    "The line graph below shows the historical average home values for the selected zip codes over the dataset's time period. "
   ]
  },
  {
   "cell_type": "code",
   "execution_count": null,
   "metadata": {
    "colab": {
     "base_uri": "https://localhost:8080/",
     "height": 493
    },
    "id": "jBZmMJ1e1kr_",
    "outputId": "45e90f4c-9c76-4bb0-a3f8-bae47d928d61",
    "scrolled": false
   },
   "outputs": [],
   "source": [
    "time_df.plot(figsize=(8,5))\n",
    "plt.xlabel('Time', fontsize=14)\n",
    "plt.ylabel('Average Home Value', fontsize=14)\n",
    "plt.title('Historical Average Home Values for Zipcodes of Interest')\n",
    "plt.savefig('images/hist_avg')\n",
    "plt.legend();"
   ]
  },
  {
   "cell_type": "markdown",
   "metadata": {
    "id": "Yth20rsGtjGq"
   },
   "source": [
    "**Observations** (changed from 31527 to 7302)\n",
    "- We shall remove **`31561`** and **`7302`**. They are outliers in the dataset and have dramatic trends over the period under review."
   ]
  },
  {
   "cell_type": "code",
   "execution_count": null,
   "metadata": {
    "colab": {
     "base_uri": "https://localhost:8080/",
     "height": 493
    },
    "id": "tmfoAnI71klo",
    "outputId": "da77e256-79d5-401b-adbb-eeffb08f4529",
    "scrolled": false
   },
   "outputs": [],
   "source": [
    "top_8_df = time_df.drop(['31561','7302'], axis=1)\n",
    "top_8_df.plot(figsize=(8,5))\n",
    "plt.xlabel('Year', fontsize=14)\n",
    "plt.ylabel('Average Home Value', fontsize=14)\n",
    "plt.title('Historical Average Home Values for Zipcodes of Interest')\n",
    "plt.savefig('images/hist_avg_top8')\n",
    "plt.legend();"
   ]
  },
  {
   "cell_type": "code",
   "execution_count": null,
   "metadata": {
    "colab": {
     "base_uri": "https://localhost:8080/",
     "height": 238
    },
    "id": "ABF5hTIMzfrm",
    "outputId": "6219fa4f-810c-4221-81cf-aa4a5c4553da",
    "scrolled": false
   },
   "outputs": [],
   "source": [
    "# confirming that 8 zipcodes are left\n",
    "top_8_df.head()"
   ]
  },
  {
   "cell_type": "markdown",
   "metadata": {
    "id": "-yh2qqs_Fwqw"
   },
   "source": [
    "### Adjusting the Review Period (changed month to April)\n",
    "- The was a market recession during the period 2008 - 2011.\n",
    "- As a result, the analysis will consider data from April 2012 to April 2018.\n",
    "- New DataFrame is named **`recent_time**."
   ]
  },
  {
   "cell_type": "code",
   "execution_count": null,
   "metadata": {
    "colab": {
     "base_uri": "https://localhost:8080/",
     "height": 570
    },
    "id": "CLIDVoUw1kb7",
    "outputId": "b14c2198-2258-4bdc-ee3e-72baff993d63",
    "scrolled": false
   },
   "outputs": [],
   "source": [
    "recent_time = top_8_df['2012-03-01':]\n",
    "recent_time.plot(figsize=(8, 5))\n",
    "plt.xlabel('Year', fontsize=14)\n",
    "plt.ylabel('Average Home Value', fontsize=14)\n",
    "plt.title('Historical Average Home Values for Zipcodes of Interest')\n",
    "plt.legend()\n",
    "plt.savefig('images/hist_avg_recent_time');"
   ]
  },
  {
   "cell_type": "code",
   "execution_count": null,
   "metadata": {
    "colab": {
     "base_uri": "https://localhost:8080/",
     "height": 238
    },
    "id": "IYSYeXfO0jon",
    "outputId": "40b8b8a0-4480-4bdd-eedc-8f95acf07f32",
    "scrolled": true
   },
   "outputs": [],
   "source": [
    "recent_time.head()"
   ]
  },
  {
   "cell_type": "code",
   "execution_count": null,
   "metadata": {
    "id": "lHFTw9o0wgfJ"
   },
   "outputs": [],
   "source": [
    "# Converting columns to str\n",
    "recent_time.columns = recent_time.columns.astype(str)\n",
    "zipcode_list =  top_8_df.columns.astype(str)\n",
    "\n",
    "recent_time.columns"
   ]
  },
  {
   "cell_type": "markdown",
   "metadata": {
    "id": "28-UAQAxH_nR"
   },
   "source": [
    "### 5.1 Seasonality\n",
    "- The following function checks for and removes seasonality using the `seasonal_decompose` function. \n",
    "- Twelve (12) periods are specified to represent a year, the duration of a season in the data.\n",
    "- After extracting the **trend**, **seasonality** and **residuals**, it plots each of these components in separate subplots. \n",
    "- It is important to remove seasonality and trend because If they are part of the time series, there will be effects in the forecast value."
   ]
  },
  {
   "cell_type": "code",
   "execution_count": null,
   "metadata": {
    "id": "4wNRrQVoqWTN"
   },
   "outputs": [],
   "source": [
    "def seasonal_decomposition(data):\n",
    "    decomposition = seasonal_decompose(data, period=12)\n",
    "\n",
    "    # Gather the trend, seasonality, and residuals\n",
    "    trend = decomposition.trend\n",
    "    seasonal = decomposition.seasonal\n",
    "    residual = decomposition.resid\n",
    "\n",
    "    # Plot gathered statistics\n",
    "    plt.figure(figsize=(12,8))\n",
    "    plt.subplot(411)\n",
    "    plt.plot(data, label='Original', color='blue')\n",
    "    plt.legend(loc='best')\n",
    "#     plt.xticks(data.index, data.index.year)\n",
    "    \n",
    "    plt.subplot(412)\n",
    "    plt.plot(trend, label='Trend', color='blue')\n",
    "    plt.legend(loc='best')\n",
    "#     plt.xticks(data.index, data.index.year)\n",
    "    \n",
    "    plt.subplot(413)\n",
    "    plt.plot(seasonal,label='Seasonality', color='blue')\n",
    "    plt.legend(loc='best')\n",
    "#     plt.xticks(data.index, data.index.year)\n",
    "    \n",
    "    plt.subplot(414)\n",
    "    plt.plot(residual, label='Residuals', color='blue')\n",
    "    plt.legend(loc='best')\n",
    "    plt.xticks(data.index, data.index.year)\n",
    "    \n",
    "    # Format x-axis labels to show years only\n",
    "    plt.xticks(data.index, data.index.year)\n",
    "    \n",
    "    # Adjust layout for the last subplot to avoid squeezing x-axis labels\n",
    "    plt.subplots_adjust(bottom=0.8)\n",
    "\n",
    "    plt.tight_layout()"
   ]
  },
  {
   "cell_type": "markdown",
   "metadata": {
    "id": "LKH3k-E8UpcA"
   },
   "source": [
    "#### i.) Zipcode 19951 (Harbeson, Delaware)"
   ]
  },
  {
   "cell_type": "code",
   "execution_count": null,
   "metadata": {
    "colab": {
     "base_uri": "https://localhost:8080/",
     "height": 807
    },
    "id": "iBtqVtDoqgZE",
    "outputId": "1e9455d4-1fac-43b1-e5c2-33892b18f1c5",
    "scrolled": false
   },
   "outputs": [],
   "source": [
    "seasonal_decomposition(recent_time['19951'])\n",
    "plt.savefig('images/seas_dec_19951');"
   ]
  },
  {
   "cell_type": "markdown",
   "metadata": {
    "id": "LKH3k-E8UpcA"
   },
   "source": [
    "#### ii.) Zipcode 28762 (Old Fort, North Carolina)"
   ]
  },
  {
   "cell_type": "code",
   "execution_count": null,
   "metadata": {
    "colab": {
     "base_uri": "https://localhost:8080/",
     "height": 807
    },
    "id": "iBtqVtDoqgZE",
    "outputId": "1e9455d4-1fac-43b1-e5c2-33892b18f1c5",
    "scrolled": false
   },
   "outputs": [],
   "source": [
    "seasonal_decomposition(recent_time['28762'])\n",
    "plt.savefig('images/seas_dec_28762');"
   ]
  },
  {
   "cell_type": "markdown",
   "metadata": {},
   "source": [
    "#### iii.) Zipcode 30139 (Fairmount, Georgia)"
   ]
  },
  {
   "cell_type": "code",
   "execution_count": null,
   "metadata": {},
   "outputs": [],
   "source": []
  },
  {
   "cell_type": "markdown",
   "metadata": {},
   "source": [
    "#### iv.) Zipcode 30317 (Atlanta, Georgia)"
   ]
  },
  {
   "cell_type": "code",
   "execution_count": null,
   "metadata": {},
   "outputs": [],
   "source": []
  },
  {
   "cell_type": "markdown",
   "metadata": {},
   "source": [
    "#### v.) Zipcode 31527 (Brunswick, Georgia)"
   ]
  },
  {
   "cell_type": "code",
   "execution_count": null,
   "metadata": {},
   "outputs": [],
   "source": []
  },
  {
   "cell_type": "markdown",
   "metadata": {},
   "source": [
    "#### vi.) Zipcode 76234 (Decatur, Texas)"
   ]
  },
  {
   "cell_type": "code",
   "execution_count": null,
   "metadata": {},
   "outputs": [],
   "source": []
  },
  {
   "cell_type": "markdown",
   "metadata": {},
   "source": [
    "#### vii.) Zipcode 78702 (Austin, Texas)"
   ]
  },
  {
   "cell_type": "code",
   "execution_count": null,
   "metadata": {},
   "outputs": [],
   "source": []
  },
  {
   "cell_type": "markdown",
   "metadata": {},
   "source": [
    "#### viii.) Zipcode 98851 (Soap Lake, Washington)"
   ]
  },
  {
   "cell_type": "code",
   "execution_count": null,
   "metadata": {},
   "outputs": [],
   "source": []
  },
  {
   "cell_type": "markdown",
   "metadata": {
    "id": "mNX3lkepJ3ZI"
   },
   "source": [
    "The above plots gives a better view of our series componetent, with seasnoality, trend and residual patterns"
   ]
  },
  {
   "cell_type": "markdown",
   "metadata": {
    "id": "cRUhF2pAr1a0"
   },
   "source": [
    "Find a way to scale up and have time series show"
   ]
  },
  {
   "cell_type": "markdown",
   "metadata": {
    "id": "A1iO9TCpKV56"
   },
   "source": [
    "**5.2 Stationarity**"
   ]
  },
  {
   "cell_type": "code",
   "execution_count": null,
   "metadata": {
    "id": "DKO4osRjn2rE"
   },
   "outputs": [],
   "source": [
    "#\n",
    "def check_stationarity(data):\n",
    "    result = adfuller(data)\n",
    "\n",
    "    print('ADF Statistic: %f' % result[0])\n",
    "    print('p-value: %f' % result[1])\n",
    "    print('Critical Values:')\n",
    "    for key, value in result[4].items():\n",
    "        print('\\t%s: %.3f' % (key, value))"
   ]
  },
  {
   "cell_type": "code",
   "execution_count": null,
   "metadata": {
    "colab": {
     "base_uri": "https://localhost:8080/"
    },
    "id": "Hi7vP8GVn7we",
    "outputId": "57457f7f-f7bb-4c95-a6b6-77973697ed43"
   },
   "outputs": [],
   "source": [
    "check_stationarity(recent_time['19951'])"
   ]
  },
  {
   "cell_type": "markdown",
   "metadata": {
    "id": "uOp-ORnuElmI"
   },
   "source": [
    "It Seems all Data is non-stationary. So let's make it stationary"
   ]
  },
  {
   "cell_type": "code",
   "execution_count": null,
   "metadata": {
    "colab": {
     "base_uri": "https://localhost:8080/"
    },
    "id": "G7ZTo0BnonxQ",
    "outputId": "d82621db-4da3-4b5f-c9ac-f546a35d047a"
   },
   "outputs": [],
   "source": [
    "def detrend(data):\n",
    "    '''function returns a stationary series'''\n",
    "\n",
    "    diff_series = data.diff(1).diff(1).dropna()\n",
    "    return diff_series\n",
    "detrended_series = detrend(recent_time['19951'])\n",
    "detrended_series.head()"
   ]
  },
  {
   "cell_type": "code",
   "execution_count": null,
   "metadata": {
    "colab": {
     "base_uri": "https://localhost:8080/",
     "height": 492
    },
    "id": "1RbtvSvUJwod",
    "outputId": "a1e5d5ff-72d7-4757-f379-820f3853be02"
   },
   "outputs": [],
   "source": [
    "plt.figure(figsize=(10, 5))\n",
    "plt.plot(detrended_series)\n",
    "plt.title('Differenced Data for Zip Code 19951')\n",
    "plt.xlabel('Time')\n",
    "plt.ylabel('Differenced Value')\n",
    "# plt.savefig(images/)\n",
    "plt.show()"
   ]
  },
  {
   "cell_type": "code",
   "execution_count": null,
   "metadata": {
    "colab": {
     "base_uri": "https://localhost:8080/"
    },
    "id": "pqw6exrEs2Xu",
    "outputId": "7f475a33-7a74-4fb4-ce62-61e4b02edd04"
   },
   "outputs": [],
   "source": [
    "check_stationarity(detrended_series)"
   ]
  },
  {
   "cell_type": "markdown",
   "metadata": {
    "id": "-P6DFCGhOpA2"
   },
   "source": [
    "p-value is less than 0.05, hence the series is stationary."
   ]
  },
  {
   "cell_type": "markdown",
   "metadata": {
    "id": "Q9twu-uUO3d2"
   },
   "source": [
    "**5.4 Autocorrelation and partial correlation of detrended series**"
   ]
  },
  {
   "cell_type": "code",
   "execution_count": null,
   "metadata": {
    "colab": {
     "base_uri": "https://localhost:8080/",
     "height": 507
    },
    "id": "gcGkzDRiLUXk",
    "outputId": "df7944de-937d-4adb-feb0-a45783092979"
   },
   "outputs": [],
   "source": [
    "plt.figure(figsize=(8, 5))\n",
    "plt.subplot(211)\n",
    "plot_acf(detrended_series, ax=plt.gca(), lags=20)\n",
    "plt.title('Autocorrelation Function (ACF)')\n",
    "\n",
    "plt.subplot(212)\n",
    "plot_pacf(detrended_series, ax=plt.gca(), lags=20)\n",
    "plt.title('Partial Autocorrelation Function (PACF)')\n",
    "\n",
    "plt.tight_layout()\n",
    "plt.show()"
   ]
  },
  {
   "cell_type": "markdown",
   "metadata": {
    "id": "TsHRgDMHQKZo"
   },
   "source": [
    "**5.5 Time Series modeling**"
   ]
  },
  {
   "cell_type": "markdown",
   "metadata": {
    "id": "4Wbx5SZKQThH"
   },
   "source": [
    "Since our data has seasonality we use SARIMAX model."
   ]
  },
  {
   "cell_type": "code",
   "execution_count": null,
   "metadata": {
    "id": "b0IJHZTeQJ8U"
   },
   "outputs": [],
   "source": [
    "#using auto_arima- it does a random search for the best pdq,PDQS\n",
    "sarima_model = pm.auto_arima(detrended_series,\n",
    "                             m=12,\n",
    "                             seasonal=True,\n",
    "                             start_p=0,\n",
    "                             start_q=0,\n",
    "                             start_P=0,\n",
    "                             start_Q=0,\n",
    "                             max_order=6,\n",
    "                             test='adf',\n",
    "                             error_action='warn',\n",
    "                             suppress_warnings=True,\n",
    "                              stepwise=True,\n",
    "                              trace=False)"
   ]
  },
  {
   "cell_type": "markdown",
   "metadata": {
    "id": "Avh5C3Ypm7ws"
   },
   "source": [
    "The Akaike Information Criterion (AIC) tests the goodness of fit.It rewards models that achieve a high goodness-of-fit with little complexity\n",
    "\n",
    "A model that fits the data very well while using lots of features will be assigned a larger AIC score than a model that uses fewer features to achieve the same goodness-of-fit."
   ]
  },
  {
   "cell_type": "code",
   "execution_count": null,
   "metadata": {
    "colab": {
     "base_uri": "https://localhost:8080/"
    },
    "id": "IbN2C5h-m3rq",
    "outputId": "b63a32dc-389b-4e2d-c8cc-6fa31fc29e8c"
   },
   "outputs": [],
   "source": [
    "print(sarima_model.summary())"
   ]
  },
  {
   "cell_type": "markdown",
   "metadata": {
    "id": "HO-R_Pyenkjo"
   },
   "source": [
    "Will look for other values of pdq and s that might lower AIC value."
   ]
  },
  {
   "cell_type": "code",
   "execution_count": null,
   "metadata": {
    "id": "6WQAtkbgnzKj"
   },
   "outputs": [],
   "source": [
    "# Define the p, d and q parameters to take any value between 0 and 2\n",
    "\n",
    "p = d = q = range(0,2)\n",
    "\n",
    "# Generate all different combinations of p, d , q and s\n",
    "pdq = list(itertools.product(p, d, q))\n",
    "pdqs = [(x[0], x[1], x[2], 12) for x in list(itertools.product(p, d, q))]"
   ]
  },
  {
   "cell_type": "code",
   "execution_count": null,
   "metadata": {
    "id": "t7-4VDzIoB1H"
   },
   "outputs": [],
   "source": [
    "ans = []\n",
    "for comb in pdq:\n",
    "    for combs in pdqs:\n",
    "        try:\n",
    "            model = sm.tsa.statespace.SARIMAX(detrended_series,\n",
    "                                            order=comb,\n",
    "                                            seasonal_order=combs,\n",
    "                                            enforce_stationarity=False,\n",
    "                                            enforce_invertibility=False)\n",
    "            output = model.fit()\n",
    "            ans.append([comb, combs, output.aic])\n",
    "\n",
    "        except:\n",
    "            continue"
   ]
  },
  {
   "cell_type": "code",
   "execution_count": null,
   "metadata": {
    "colab": {
     "base_uri": "https://localhost:8080/",
     "height": 424
    },
    "id": "g2ohWbHRooVU",
    "outputId": "6c195f19-e553-4d08-b312-c3d91945182e"
   },
   "outputs": [],
   "source": [
    "ans_df = pd.DataFrame(ans, columns=['pdq','pdqs', 'aic'])\n",
    "ans_df"
   ]
  },
  {
   "cell_type": "code",
   "execution_count": null,
   "metadata": {
    "colab": {
     "base_uri": "https://localhost:8080/"
    },
    "id": "c0Tfox6Ao5ou",
    "outputId": "7d7dde50-921c-4573-a308-08a90043a4d6"
   },
   "outputs": [],
   "source": [
    "ans_df.loc[ans_df['aic'].idxmin()]"
   ]
  },
  {
   "cell_type": "code",
   "execution_count": null,
   "metadata": {
    "colab": {
     "base_uri": "https://localhost:8080/"
    },
    "id": "juWzyfsM5SOB",
    "outputId": "bf0ed0f9-c60d-410e-913f-8134b299982e"
   },
   "outputs": [],
   "source": [
    "# Split your data into training and test sets\n",
    "train_size = 0.8\n",
    "split_index = round(len(detrended_series) * train_size)\n",
    "train = detrended_series[:split_index]\n",
    "test = detrended_series[split_index:]\n",
    "\n",
    "# Build and fit your model using the training data\n",
    "model = SARIMAX(train, order=(1, 1, 1), seasonal_order=(1, 1, 1, 12))\n",
    "results = model.fit()\n",
    "\n",
    "print(results.summary())\n",
    "\n",
    "\n",
    "# Evaluate the model using the test set and calculate performance metrics\n",
    "##forecast = results.get_forecast(steps=len(test))\n",
    "##forecasted_values = forecast.predicted_mean\n",
    "\n",
    "# Calculate the performance metrics and compare forecasts to actual values\n",
    "##rmse = np.sqrt(mean_squared_error(test, forecasted_values))\n",
    "##print(f\"RMSE: {rmse}\")\n",
    "\n",
    "#plt.figure(figsize=(12, 6))\n",
    "#plt.plot(test, label='Actual')\n",
    "#plt.plot(forecasted_values, label='Forecast', color='blue')\n",
    "#plt.xlabel('Time')\n",
    "#plt.ylabel('Differenced Value')\n",
    "#plt.title('Actual vs Forecasted Values')\n",
    "#plt.legend()\n",
    "#plt.show()"
   ]
  },
  {
   "cell_type": "markdown",
   "metadata": {
    "id": "mGKQSY5FslRf"
   },
   "source": [
    "**6 Model Diagnostics**"
   ]
  },
  {
   "cell_type": "code",
   "execution_count": null,
   "metadata": {
    "colab": {
     "base_uri": "https://localhost:8080/",
     "height": 1000
    },
    "id": "vxfdjStTrwI5",
    "outputId": "661e9170-7fdc-4060-b041-4dcc49617efb"
   },
   "outputs": [],
   "source": [
    "results.plot_diagnostics(figsize=(15, 12))\n",
    "plt.show()"
   ]
  },
  {
   "cell_type": "markdown",
   "metadata": {
    "id": "5GM2ZCgCxc5O"
   },
   "source": [
    "**6.1 Forecasting and Model Evaluation**"
   ]
  },
  {
   "cell_type": "markdown",
   "metadata": {
    "id": "pxSe3sXRxxB3"
   },
   "source": [
    "We compare predicted values to real values of the time series, which will help us understand the accuracy of our forecasts"
   ]
  },
  {
   "cell_type": "code",
   "execution_count": null,
   "metadata": {
    "id": "PN-k0hwsxZvo"
   },
   "outputs": [],
   "source": [
    "pred = results.get_prediction(start=pd.to_datetime('2016-01-01'), dynamic=False)\n",
    "\n",
    "pred_ci = pred.conf_int() # this gives us the confidence interval for our forecasts"
   ]
  },
  {
   "cell_type": "code",
   "execution_count": null,
   "metadata": {
    "colab": {
     "base_uri": "https://localhost:8080/",
     "height": 678
    },
    "id": "QzjcGiLkx-C6",
    "outputId": "b3fc341f-791b-4efb-c604-bdeccda3e995"
   },
   "outputs": [],
   "source": [
    "plt.figure(figsize = (15,8))\n",
    "ax = detrended_series['2013':].plot(label='observed',color='black')\n",
    "pred.predicted_mean.plot(ax=ax, label='Forecast', color='red',alpha=0.8)\n",
    "\n",
    "ax.fill_between(pred_ci.index,\n",
    "                pred_ci.iloc[:, 0],\n",
    "                pred_ci.iloc[:, 1], color='k', alpha=0.5)\n",
    "\n",
    "ax.set_title('Dynamic Forecast from 2015-2018')\n",
    "ax.set_xlabel('Date')\n",
    "ax.set_ylabel('Amount')\n",
    "plt.legend()\n",
    "\n",
    "plt.show()"
   ]
  },
  {
   "cell_type": "markdown",
   "metadata": {
    "id": "e20qEpESzYqA"
   },
   "source": [
    "**6.1.1 Dynamic Focusing**"
   ]
  },
  {
   "cell_type": "code",
   "execution_count": null,
   "metadata": {
    "id": "MT4eF4i3zhqR"
   },
   "outputs": [],
   "source": [
    "pred_dynamic = results.get_prediction(start=pd.to_datetime('2015-01-01'), dynamic=True)\n",
    "pred_dynamic_ci = pred_dynamic.conf_int()"
   ]
  },
  {
   "cell_type": "code",
   "execution_count": null,
   "metadata": {
    "colab": {
     "base_uri": "https://localhost:8080/",
     "height": 678
    },
    "id": "HSZPhAg3zob9",
    "outputId": "fd864c01-6ff4-4117-a45f-d9c02a20d58e"
   },
   "outputs": [],
   "source": [
    "plt.figure(figsize = (15,8))\n",
    "ax = detrended_series['2012':].plot(label='observed',color='black')\n",
    "pred_dynamic.predicted_mean.plot(ax=ax, label='Forecast', color='red',alpha=0.8)\n",
    "\n",
    "ax.fill_between(pred_dynamic_ci.index,\n",
    "                pred_dynamic_ci.iloc[:, 0],\n",
    "                pred_dynamic_ci.iloc[:, 1], color='k', alpha=.5)\n",
    "\n",
    "ax.set_title('Non dynamic Forecast from 2015-2018')\n",
    "ax.set_xlabel('Date')\n",
    "ax.set_ylabel('Amount')\n",
    "plt.legend()\n",
    "\n",
    "plt.show()"
   ]
  },
  {
   "cell_type": "markdown",
   "metadata": {
    "id": "D2LkDi4-RcBC"
   },
   "source": [
    "**Zipcode 19951**"
   ]
  },
  {
   "cell_type": "code",
   "execution_count": null,
   "metadata": {
    "id": "NRSkjmAGSQ_K"
   },
   "outputs": [],
   "source": [
    "# Apply differencing\n",
    "differenced_data2 = recent_time['19951'].diff(periods=1).dropna()"
   ]
  },
  {
   "cell_type": "code",
   "execution_count": null,
   "metadata": {
    "id": "HBOHD7QtE3MU"
   },
   "outputs": [],
   "source": [
    "# Identifying range for pdq values\n",
    "p = d = q = range(0, 2)\n",
    "\n",
    "# Generate all different combinations of p, q and q triplets\n",
    "pdq = list(itertools.product(p, d, q))\n",
    "\n",
    "# Generate all different combinations of seasonal p, q and q triplets\n",
    "pdqs = [(x[0], x[1], x[2], 12) for x in list(itertools.product(p, d, q))]"
   ]
  },
  {
   "cell_type": "code",
   "execution_count": null,
   "metadata": {
    "colab": {
     "base_uri": "https://localhost:8080/"
    },
    "id": "IDKPG21wSCjW",
    "outputId": "c7409531-1cb1-4f97-9a7a-089c6cc952b8"
   },
   "outputs": [],
   "source": [
    "# Train Test Split\n",
    "train_size=0.8\n",
    "split_indx = round(len(differenced_data2) * train_size)\n",
    "train = differenced_data2[:split_indx]\n",
    "test = differenced_data2[split_indx:]\n",
    "\n",
    "# Find lowest AIC for pdq/pdqs combinations\n",
    "ans = []\n",
    "for comb in pdq:\n",
    "    for combs in pdqs:\n",
    "        try:\n",
    "            mod = sm.tsa.statespace.SARIMAX(train,\n",
    "                                            order=comb,\n",
    "                                            seasonal_order=combs,\n",
    "                                            enforce_stationarity=False,\n",
    "                                            enforce_invertibility=False)\n",
    "\n",
    "            output = mod.fit()\n",
    "            ans.append([comb, combs, output.aic])\n",
    "        except:\n",
    "            continue\n",
    "\n",
    "ans_df2 = pd.DataFrame(ans, columns=['pdq', 'pdqs', 'aic'])\n",
    "ans_df2.loc[ans_df['aic'].idxmin()]"
   ]
  },
  {
   "cell_type": "code",
   "execution_count": null,
   "metadata": {
    "colab": {
     "base_uri": "https://localhost:8080/"
    },
    "id": "uxNEmVdk2olQ",
    "outputId": "96963e73-2430-4748-ad5b-95a331a8df30"
   },
   "outputs": [],
   "source": [
    "model2 = SARIMAX(train, order=(1, 1, 1), seasonal_order=(1, 1, 0, 12))\n",
    "results2 = model.fit()\n",
    "\n",
    "print(results2.summary())"
   ]
  },
  {
   "cell_type": "code",
   "execution_count": null,
   "metadata": {
    "colab": {
     "base_uri": "https://localhost:8080/",
     "height": 1000
    },
    "id": "_mdmboLt3X0q",
    "outputId": "a9aa8f12-158a-4a51-ca9f-9a68cb4b44e0"
   },
   "outputs": [],
   "source": [
    "results2.plot_diagnostics(figsize=(15, 12))\n",
    "plt.show()"
   ]
  },
  {
   "cell_type": "code",
   "execution_count": null,
   "metadata": {
    "colab": {
     "base_uri": "https://localhost:8080/",
     "height": 461
    },
    "id": "IX925ADfE3I0",
    "outputId": "52e66867-3a37-49c5-94eb-8b50ce15a0b6"
   },
   "outputs": [],
   "source": [
    "# Plugging optimal parameters into SARIMA model\n",
    "\n",
    "SARIMA_MODEL2 = sm.tsa.statespace.SARIMAX(train,\n",
    "                order=(1,1,1),\n",
    "                seasonal_order=(1,1,0,12),\n",
    "                enforce_stationarity=False,\n",
    "                enforce_invertibility=False)\n",
    "\n",
    "output = SARIMA_MODEL2.fit()\n",
    "\n",
    "\n",
    "# Getting test set predictions and confidence intervals from 09/2016 to 04/2018\n",
    "\n",
    "preds = output.get_prediction(start=pd.to_datetime('2016-09-01'), end=pd.to_datetime('2018-04-01'), dynamic=True)\n",
    "pred_conf = preds.conf_int()\n",
    "\n",
    "# Plot observed values\n",
    "ax = differenced_data2.plot(label='Observed')\n",
    "\n",
    "# Plot predicted values\n",
    "preds.predicted_mean.plot(ax=ax, label='Forecast', alpha=0.9)\n",
    "\n",
    "# Plot the range for confidence intervals\n",
    "ax.fill_between(pred_conf.index,\n",
    "                pred_conf.iloc[:, 0],\n",
    "                pred_conf.iloc[:, 1], color='lightgreen', alpha=0.5, label='Confidence Interval')\n",
    "\n",
    "# Set axes labels\n",
    "ax.set_xlabel('Date')\n",
    "ax.set_ylabel('Sale Prices')\n",
    "ax.set_title('Model Performance on Zipcode 59718 Test Data')\n",
    "plt.legend()\n",
    "\n",
    "plt.show()"
   ]
  },
  {
   "cell_type": "code",
   "execution_count": null,
   "metadata": {
    "id": "gpVnWc_DE23N"
   },
   "outputs": [],
   "source": []
  },
  {
   "cell_type": "markdown",
   "metadata": {
    "id": "D_-H3N0Fke7F"
   },
   "source": [
    "\n",
    "#### **Zipcode 28762**"
   ]
  },
  {
   "cell_type": "code",
   "execution_count": null,
   "metadata": {
    "id": "gAsld71S3-Uh"
   },
   "outputs": [],
   "source": [
    "differenced_data3 = recent_time['28762'].diff(periods=1).dropna()"
   ]
  },
  {
   "cell_type": "code",
   "execution_count": null,
   "metadata": {
    "id": "TmXPKfKa3-Eq"
   },
   "outputs": [],
   "source": [
    "p= d = q = range(0, 2)\n",
    "\n",
    "# Generate all different combinations of p, q and q triplets\n",
    "pdq = list(itertools.product(p, d, q))\n",
    "\n",
    "# Generate all different combinations of seasonal p, q and q triplets\n",
    "pdqs = [(x[0], x[1], x[2], 12) for x in list(itertools.product(p, d, q))]"
   ]
  },
  {
   "cell_type": "code",
   "execution_count": null,
   "metadata": {
    "colab": {
     "base_uri": "https://localhost:8080/"
    },
    "id": "8e5Kvkh139xJ",
    "outputId": "b3678460-edd7-4a14-9e44-9ad904c8a66d"
   },
   "outputs": [],
   "source": [
    "train_size=0.8\n",
    "split_indx = round(len(differenced_data3) * train_size)\n",
    "train = differenced_data3[:split_indx]\n",
    "test = differenced_data3[split_indx:]\n",
    "\n",
    "# Find lowest AIC for pdq/pdqs combinations\n",
    "ans = []\n",
    "for comb in pdq:\n",
    "    for combs in pdqs:\n",
    "        try:\n",
    "            mod = sm.tsa.statespace.SARIMAX(train,\n",
    "                                            order=comb,\n",
    "                                            seasonal_order=combs,\n",
    "                                            enforce_stationarity=False,\n",
    "                                            enforce_invertibility=False)\n",
    "\n",
    "            output = mod.fit()\n",
    "            ans.append([comb, combs, output.aic])\n",
    "        except:\n",
    "            continue\n",
    "\n",
    "ans_df3 = pd.DataFrame(ans, columns=['pdq', 'pdqs', 'aic'])\n",
    "ans_df3.loc[ans_df['aic'].idxmin()]"
   ]
  },
  {
   "cell_type": "code",
   "execution_count": null,
   "metadata": {
    "colab": {
     "base_uri": "https://localhost:8080/"
    },
    "id": "r_nE2uc08W-_",
    "outputId": "c9cf580a-cdd5-485f-bfb0-42b24ef55de2"
   },
   "outputs": [],
   "source": [
    "model3 = SARIMAX(train, order=(1, 1, 1), seasonal_order=(1, 1, 0, 12))\n",
    "results3 = model.fit()\n",
    "\n",
    "print(results3.summary())"
   ]
  },
  {
   "cell_type": "code",
   "execution_count": null,
   "metadata": {
    "colab": {
     "base_uri": "https://localhost:8080/",
     "height": 1000
    },
    "id": "8gxYAgEW8yhg",
    "outputId": "c5e06eab-ad95-496b-be4b-8b99481dae9e"
   },
   "outputs": [],
   "source": [
    "results3.plot_diagnostics(figsize=(15, 12))\n",
    "plt.show()"
   ]
  },
  {
   "cell_type": "code",
   "execution_count": null,
   "metadata": {
    "id": "yrO6M36uHFI6"
   },
   "outputs": [],
   "source": []
  },
  {
   "cell_type": "code",
   "execution_count": null,
   "metadata": {
    "colab": {
     "base_uri": "https://localhost:8080/",
     "height": 461
    },
    "id": "uQDL5Bx6HPqq",
    "outputId": "5f047695-2678-4c97-84ce-388af456a53f"
   },
   "outputs": [],
   "source": [
    "# Plugging optimal parameters into SARIMA model\n",
    "\n",
    "SARIMA_MODEL3 = sm.tsa.statespace.SARIMAX(train,\n",
    "                order=(1,1,1),\n",
    "                seasonal_order=(1,1,0,12),\n",
    "                enforce_stationarity=False,\n",
    "                enforce_invertibility=False)\n",
    "\n",
    "output = SARIMA_MODEL3.fit()\n",
    "\n",
    "\n",
    "# Getting test set predictions and confidence intervals from 09/2016 to 04/2018\n",
    "\n",
    "preds = output.get_prediction(start=pd.to_datetime('2016-09-01'), end=pd.to_datetime('2018-04-01'), dynamic=True)\n",
    "pred_conf = preds.conf_int()\n",
    "\n",
    "# Plot observed values\n",
    "ax = differenced_data2.plot(label='Observed')\n",
    "\n",
    "# Plot predicted values\n",
    "preds.predicted_mean.plot(ax=ax, label='Forecast', alpha=0.9)\n",
    "\n",
    "# Plot the range for confidence intervals\n",
    "ax.fill_between(pred_conf.index,\n",
    "                pred_conf.iloc[:, 0],\n",
    "                pred_conf.iloc[:, 1], color='lightgreen', alpha=0.5, label='Confidence Interval')\n",
    "\n",
    "# Set axes labels\n",
    "ax.set_xlabel('Date')\n",
    "ax.set_ylabel('Sale Prices')\n",
    "ax.set_title('Model Performance on Zipcode 59718 Test Data')\n",
    "plt.legend()\n",
    "\n",
    "plt.show()"
   ]
  },
  {
   "cell_type": "code",
   "execution_count": null,
   "metadata": {
    "id": "hjspmlWGH7fE"
   },
   "outputs": [],
   "source": []
  },
  {
   "cell_type": "code",
   "execution_count": null,
   "metadata": {
    "id": "nje2B7QrH7Pp"
   },
   "outputs": [],
   "source": []
  },
  {
   "cell_type": "markdown",
   "metadata": {
    "id": "Bn9cqPyiHdtM"
   },
   "source": [
    "**Zipcode 30139**"
   ]
  },
  {
   "cell_type": "code",
   "execution_count": null,
   "metadata": {
    "id": "WMH4UbgPHE13"
   },
   "outputs": [],
   "source": [
    "differenced_data4 = recent_time['30139'].diff(periods=1).dropna()"
   ]
  },
  {
   "cell_type": "code",
   "execution_count": null,
   "metadata": {
    "id": "eLCfgFI8H9tS"
   },
   "outputs": [],
   "source": [
    "p= d = q = range(0, 2)\n",
    "\n",
    "# Generate all different combinations of p, q and q triplets\n",
    "pdq = list(itertools.product(p, d, q))\n",
    "\n",
    "# Generate all different combinations of seasonal p, q and q triplets\n",
    "pdqs = [(x[0], x[1], x[2], 12) for x in list(itertools.product(p, d, q))]"
   ]
  },
  {
   "cell_type": "code",
   "execution_count": null,
   "metadata": {
    "colab": {
     "base_uri": "https://localhost:8080/"
    },
    "id": "-6T-_gFSH9i7",
    "outputId": "7dd10c95-8144-49e4-d6ce-dad60add84c2"
   },
   "outputs": [],
   "source": [
    "train_size=0.8\n",
    "split_indx = round(len(differenced_data4) * train_size)\n",
    "train = differenced_data4[:split_indx]\n",
    "test = differenced_data4[split_indx:]\n",
    "\n",
    "# Find lowest AIC for pdq/pdqs combinations\n",
    "ans = []\n",
    "for comb in pdq:\n",
    "    for combs in pdqs:\n",
    "        try:\n",
    "            mod = sm.tsa.statespace.SARIMAX(train,\n",
    "                                            order=comb,\n",
    "                                            seasonal_order=combs,\n",
    "                                            enforce_stationarity=False,\n",
    "                                            enforce_invertibility=False)\n",
    "\n",
    "            output = mod.fit()\n",
    "            ans.append([comb, combs, output.aic])\n",
    "        except:\n",
    "            continue\n",
    "\n",
    "ans_df4 = pd.DataFrame(ans, columns=['pdq', 'pdqs', 'aic'])\n",
    "ans_df4.loc[ans_df['aic'].idxmin()]"
   ]
  },
  {
   "cell_type": "code",
   "execution_count": null,
   "metadata": {
    "id": "Ls-lQaJKH9XD"
   },
   "outputs": [],
   "source": []
  },
  {
   "cell_type": "code",
   "execution_count": null,
   "metadata": {
    "colab": {
     "base_uri": "https://localhost:8080/"
    },
    "id": "3N4ZjGagnEEb",
    "outputId": "71796d04-8d08-4510-a8af-557e6bd1f53f"
   },
   "outputs": [],
   "source": [
    "import itertools\n",
    "\n",
    "# Identifying range for pdq values\n",
    "p = d = q = range(0, 2)\n",
    "\n",
    "# Generate all different combinations of p, q and q triplets\n",
    "pdq = list(itertools.product(p, d, q))\n",
    "\n",
    "# Generate all different combinations of seasonal p, q and q triplets\n",
    "pdqs = [(x[0], x[1], x[2], 12) for x in list(itertools.product(p, d, q))]\n",
    "\n",
    "base_zip = recent_time['7302']\n",
    "\n",
    "# Train Test Split\n",
    "train_size = 0.8\n",
    "split_indx = round(len(base_zip) * train_size)\n",
    "train = base_zip[:split_indx]\n",
    "test = base_zip[split_indx:]\n",
    "\n",
    "# Find lowest AIC for pdq/pdqs combinations\n",
    "ans = []\n",
    "for comb in pdq:\n",
    "    for combs in pdqs:\n",
    "        try:\n",
    "            mod = sm.tsa.statespace.SARIMAX(train,\n",
    "                                            order=comb,\n",
    "                                            seasonal_order=combs,\n",
    "                                            enforce_stationarity=False,\n",
    "                                            enforce_invertibility=False)\n",
    "\n",
    "            output = mod.fit()\n",
    "            ans.append([comb, combs, output.aic])\n",
    "        except:\n",
    "            continue\n",
    "\n",
    "ans_df = pd.DataFrame(ans, columns=['pdq', 'pdqs', 'aic'])\n",
    "best_model = ans_df.loc[ans_df['aic'].idxmin()]\n",
    "\n",
    "print(\"Best model parameters:\")\n",
    "print(best_model)"
   ]
  },
  {
   "cell_type": "code",
   "execution_count": null,
   "metadata": {
    "colab": {
     "base_uri": "https://localhost:8080/"
    },
    "id": "Tp0kTiHwhd9w",
    "outputId": "af6755c8-b8c8-47bd-e6f5-efb1f8b2b259"
   },
   "outputs": [],
   "source": [
    "model4 = SARIMAX(train, order=(1, 0, 1), seasonal_order=(1, 1, 1, 12))\n",
    "results4 = model.fit()\n",
    "\n",
    "print(results3.summary())"
   ]
  },
  {
   "cell_type": "code",
   "execution_count": null,
   "metadata": {
    "colab": {
     "base_uri": "https://localhost:8080/",
     "height": 1000
    },
    "id": "uwE1LkpvVGCk",
    "outputId": "3bbb1a8b-948e-459c-8bcd-16cc8c8657bd"
   },
   "outputs": [],
   "source": [
    "results4.plot_diagnostics(figsize=(15, 12))\n",
    "plt.show()"
   ]
  },
  {
   "cell_type": "code",
   "execution_count": null,
   "metadata": {
    "colab": {
     "base_uri": "https://localhost:8080/",
     "height": 476
    },
    "id": "vEYTSSpJK4yd",
    "outputId": "02446032-204d-4881-abe0-123d7683ea34"
   },
   "outputs": [],
   "source": [
    "# Plugging optimal parameters into SARIMA model\n",
    "\n",
    "SARIMA_MODEL4 = sm.tsa.statespace.SARIMAX(train,\n",
    "                order=(1,1,1),\n",
    "                seasonal_order=(1,1,0,12),\n",
    "                enforce_stationarity=False,\n",
    "                enforce_invertibility=False)\n",
    "\n",
    "output = SARIMA_MODEL4.fit()\n",
    "\n",
    "\n",
    "# Getting test set predictions and confidence intervals from 09/2016 to 04/2018\n",
    "\n",
    "preds = output.get_prediction(start=pd.to_datetime('2016-09-01'), end=pd.to_datetime('2018-04-01'), dynamic=True)\n",
    "pred_conf = preds.conf_int()\n",
    "\n",
    "# Plot observed values\n",
    "ax = differenced_data2.plot(label='Observed')\n",
    "\n",
    "# Plot predicted values\n",
    "preds.predicted_mean.plot(ax=ax, label='Forecast', alpha=0.9)\n",
    "\n",
    "# Plot the range for confidence intervals\n",
    "ax.fill_between(pred_conf.index,\n",
    "                pred_conf.iloc[:, 0],\n",
    "                pred_conf.iloc[:, 1], color='lightgreen', alpha=0.5, label='Confidence Interval')\n",
    "\n",
    "# Set axes labels\n",
    "ax.set_xlabel('Date')\n",
    "ax.set_ylabel('Sale Prices')\n",
    "ax.set_title('Model Performance on Zipcode 59718 Test Data')\n",
    "plt.legend()\n",
    "\n",
    "plt.show()"
   ]
  },
  {
   "cell_type": "code",
   "execution_count": null,
   "metadata": {
    "id": "rDnGkctIK4iM"
   },
   "outputs": [],
   "source": []
  },
  {
   "cell_type": "code",
   "execution_count": null,
   "metadata": {
    "id": "d6HKzNr_K4SE"
   },
   "outputs": [],
   "source": []
  },
  {
   "cell_type": "markdown",
   "metadata": {
    "id": "nsNiwI1CLQXK"
   },
   "source": [
    "**Zipcode 30317**"
   ]
  },
  {
   "cell_type": "code",
   "execution_count": null,
   "metadata": {
    "id": "oLn98M6bLtTX"
   },
   "outputs": [],
   "source": [
    "differenced_data5 = recent_time['30317'].diff(periods=1).dropna()"
   ]
  },
  {
   "cell_type": "code",
   "execution_count": null,
   "metadata": {
    "id": "BHnXlu-NLtA0"
   },
   "outputs": [],
   "source": [
    "p= d = q = range(0, 2)\n",
    "\n",
    "# Generate all different combinations of p, q and q triplets\n",
    "pdq = list(itertools.product(p, d, q))\n",
    "\n",
    "# Generate all different combinations of seasonal p, q and q triplets\n",
    "pdqs = [(x[0], x[1], x[2], 12) for x in list(itertools.product(p, d, q))]"
   ]
  },
  {
   "cell_type": "code",
   "execution_count": null,
   "metadata": {
    "colab": {
     "base_uri": "https://localhost:8080/"
    },
    "id": "6Z6Qq4-ZLszP",
    "outputId": "7101c887-f548-405c-dd3f-8d18b3aad814"
   },
   "outputs": [],
   "source": [
    "train_size=0.8\n",
    "split_indx = round(len(differenced_data4) * train_size)\n",
    "train = differenced_data5[:split_indx]\n",
    "test = differenced_data5[split_indx:]\n",
    "\n",
    "# Find lowest AIC for pdq/pdqs combinations\n",
    "ans = []\n",
    "for comb in pdq:\n",
    "    for combs in pdqs:\n",
    "        try:\n",
    "            mod = sm.tsa.statespace.SARIMAX(train,\n",
    "                                            order=comb,\n",
    "                                            seasonal_order=combs,\n",
    "                                            enforce_stationarity=False,\n",
    "                                            enforce_invertibility=False)\n",
    "\n",
    "            output = mod.fit()\n",
    "            ans.append([comb, combs, output.aic])\n",
    "        except:\n",
    "            continue\n",
    "\n",
    "ans_df5 = pd.DataFrame(ans, columns=['pdq', 'pdqs', 'aic'])\n",
    "ans_df5.loc[ans_df['aic'].idxmin()]"
   ]
  },
  {
   "cell_type": "code",
   "execution_count": null,
   "metadata": {
    "colab": {
     "base_uri": "https://localhost:8080/"
    },
    "id": "vkeESB_bVF6h",
    "outputId": "80920b44-f976-4b4d-a82c-c0d9e84b1326"
   },
   "outputs": [],
   "source": [
    "model5 = SARIMAX(train, order=(1, 0, 1), seasonal_order=(1, 1, 1, 12))\n",
    "results5 = model.fit()\n",
    "\n",
    "print(results5.summary())"
   ]
  },
  {
   "cell_type": "code",
   "execution_count": null,
   "metadata": {
    "colab": {
     "base_uri": "https://localhost:8080/",
     "height": 1000
    },
    "id": "zjxisOQgMqih",
    "outputId": "03427466-fa7d-4886-f1ab-cc3b00f64c26"
   },
   "outputs": [],
   "source": [
    "results5.plot_diagnostics(figsize=(15, 12))\n",
    "plt.show()"
   ]
  },
  {
   "cell_type": "code",
   "execution_count": null,
   "metadata": {
    "colab": {
     "base_uri": "https://localhost:8080/",
     "height": 476
    },
    "id": "KIAM8QvpNRtm",
    "outputId": "d848f3c3-a2b2-4463-a503-314b0df3f67b"
   },
   "outputs": [],
   "source": [
    "# Plugging optimal parameters into SARIMA model\n",
    "\n",
    "SARIMA_MODEL5 = sm.tsa.statespace.SARIMAX(train,\n",
    "                order=(1,1,1),\n",
    "                seasonal_order=(1,1,0,12),\n",
    "                enforce_stationarity=False,\n",
    "                enforce_invertibility=False)\n",
    "\n",
    "output5 = SARIMA_MODEL5.fit()\n",
    "\n",
    "# Getting test set predictions and confidence intervals from 09/2016 to 04/2018\n",
    "\n",
    "preds = output.get_prediction(start=pd.to_datetime('2016-09-01'), end=pd.to_datetime('2018-04-01'), dynamic=True)\n",
    "pred_conf = preds.conf_int()\n",
    "\n",
    "# Plot observed values\n",
    "ax = differenced_data2.plot(label='Observed')\n",
    "\n",
    "# Plot predicted values\n",
    "preds.predicted_mean.plot(ax=ax, label='Forecast', alpha=0.9)\n",
    "\n",
    "# Plot the range for confidence intervals\n",
    "ax.fill_between(pred_conf.index,\n",
    "                pred_conf.iloc[:, 0],\n",
    "                pred_conf.iloc[:, 1], color='lightgreen', alpha=0.5, label='Confidence Interval')\n",
    "\n",
    "# Set axes labels\n",
    "ax.set_xlabel('Date')\n",
    "ax.set_ylabel('Sale Prices')\n",
    "ax.set_title('Model Performance on Zipcode 59718 Test Data')\n",
    "plt.legend()\n",
    "\n",
    "plt.show()"
   ]
  },
  {
   "cell_type": "code",
   "execution_count": null,
   "metadata": {
    "id": "48CZNaQKNRXz"
   },
   "outputs": [],
   "source": []
  },
  {
   "cell_type": "code",
   "execution_count": null,
   "metadata": {
    "id": "gss-PrzLMqUR"
   },
   "outputs": [],
   "source": []
  },
  {
   "cell_type": "markdown",
   "metadata": {
    "id": "plrW7C_DOZvo"
   },
   "source": [
    "**Zipcode 76234**"
   ]
  },
  {
   "cell_type": "code",
   "execution_count": null,
   "metadata": {
    "id": "CoZWwLOFMqDp"
   },
   "outputs": [],
   "source": [
    "differenced_data6 = recent_time['30317'].diff(periods=1).dropna()"
   ]
  },
  {
   "cell_type": "code",
   "execution_count": null,
   "metadata": {
    "id": "woi46L8oOiuZ"
   },
   "outputs": [],
   "source": [
    "# Identifying range for pdq values\n",
    "p= d = q = range(0, 2)\n",
    "\n",
    "# Generate all different combinations of p, q and q triplets\n",
    "pdq = list(itertools.product(p, d, q))\n",
    "\n",
    "# Generate all different combinations of seasonal p, q and q triplets\n",
    "pdqs = [(x[0], x[1], x[2], 12) for x in list(itertools.product(p, d, q))]"
   ]
  },
  {
   "cell_type": "code",
   "execution_count": null,
   "metadata": {
    "colab": {
     "base_uri": "https://localhost:8080/"
    },
    "id": "c6i1RDqOOiW9",
    "outputId": "dfc4f62c-20bd-4dcf-cb50-3f2d40aa7785"
   },
   "outputs": [],
   "source": [
    "# Train Test Split\n",
    "train_size=0.8\n",
    "split_indx = round(len(differenced_data6) * train_size)\n",
    "train = differenced_data6[:split_indx]\n",
    "test = differenced_data6[split_indx:]\n",
    "\n",
    "# Find lowest AIC for pdq/pdqs combinations\n",
    "ans = []\n",
    "for comb in pdq:\n",
    "    for combs in pdqs:\n",
    "        try:\n",
    "            mod = sm.tsa.statespace.SARIMAX(train,\n",
    "                                            order=comb,\n",
    "                                            seasonal_order=combs,\n",
    "                                            enforce_stationarity=False,\n",
    "                                            enforce_invertibility=False)\n",
    "\n",
    "            output = mod.fit()\n",
    "            ans.append([comb, combs, output.aic])\n",
    "        except:\n",
    "            continue\n",
    "\n",
    "ans_df6 = pd.DataFrame(ans, columns=['pdq', 'pdqs', 'aic'])\n",
    "ans_df6.loc[ans_df['aic'].idxmin()]"
   ]
  },
  {
   "cell_type": "code",
   "execution_count": null,
   "metadata": {
    "colab": {
     "base_uri": "https://localhost:8080/"
    },
    "id": "W6Cu9YfUOiJZ",
    "outputId": "183f57a2-2961-4fc2-8101-0afb91002cde"
   },
   "outputs": [],
   "source": [
    "model6 = SARIMAX(train, order=(1, 0, 1), seasonal_order=(1, 1, 1, 12))\n",
    "results6 = model.fit()\n",
    "\n",
    "print(results6.summary())"
   ]
  },
  {
   "cell_type": "code",
   "execution_count": null,
   "metadata": {
    "colab": {
     "base_uri": "https://localhost:8080/",
     "height": 1000
    },
    "id": "KrFibqQDOh8D",
    "outputId": "f31c8a33-30c7-4e8a-9890-a3aaa90502fe"
   },
   "outputs": [],
   "source": [
    "results6.plot_diagnostics(figsize=(15, 12))\n",
    "plt.show()"
   ]
  },
  {
   "cell_type": "code",
   "execution_count": null,
   "metadata": {
    "colab": {
     "base_uri": "https://localhost:8080/",
     "height": 476
    },
    "id": "pyINAMzISjEo",
    "outputId": "e744eeef-aea3-44b1-fc92-e6a65faa5e00"
   },
   "outputs": [],
   "source": [
    "# Plugging optimal parameters into SARIMA model\n",
    "\n",
    "SARIMA_MODEL6 = sm.tsa.statespace.SARIMAX(train,\n",
    "                order=(1,0,1),\n",
    "                seasonal_order=(1,1,1,12),\n",
    "                enforce_stationarity=False,\n",
    "                enforce_invertibility=False)\n",
    "\n",
    "output = SARIMA_MODEL6.fit()\n",
    "\n",
    "\n",
    "# Getting test set predictions and confidence intervals from 09/2016 to 04/2018\n",
    "\n",
    "preds = output.get_prediction(start=pd.to_datetime('2016-09-01'), end=pd.to_datetime('2018-04-01'), dynamic=True)\n",
    "pred_conf = preds.conf_int()\n",
    "\n",
    "# Plot observed values\n",
    "ax = differenced_data6.plot(label='Observed')\n",
    "\n",
    "# Plot predicted values\n",
    "preds.predicted_mean.plot(ax=ax, label='Forecast', alpha=0.9)\n",
    "\n",
    "# Plot the range for confidence intervals\n",
    "ax.fill_between(pred_conf.index,\n",
    "                pred_conf.iloc[:, 0],\n",
    "                pred_conf.iloc[:, 1], color='lightgreen', alpha=0.5, label='Confidence Interval')\n",
    "\n",
    "# Set axes labels\n",
    "ax.set_xlabel('Date')\n",
    "ax.set_ylabel('Sale Prices')\n",
    "ax.set_title('Model Performance on Zipcode 76234 Test Data')\n",
    "plt.legend()\n",
    "\n",
    "plt.show()"
   ]
  },
  {
   "cell_type": "code",
   "execution_count": null,
   "metadata": {
    "id": "3_s2OBAISizM"
   },
   "outputs": [],
   "source": []
  },
  {
   "cell_type": "code",
   "execution_count": null,
   "metadata": {
    "id": "49zCXEwwUTU2"
   },
   "outputs": [],
   "source": []
  },
  {
   "cell_type": "markdown",
   "metadata": {
    "id": "N6wBeO-3UVa_"
   },
   "source": [
    "**Zipcode 78702**"
   ]
  },
  {
   "cell_type": "code",
   "execution_count": null,
   "metadata": {
    "id": "Kme59HOSUS_H"
   },
   "outputs": [],
   "source": [
    "differenced_data7 = recent_time['78702'].diff(periods=1).dropna()"
   ]
  },
  {
   "cell_type": "code",
   "execution_count": null,
   "metadata": {
    "id": "5iEXnCFnSiiC"
   },
   "outputs": [],
   "source": [
    "# Identifying range for pdq values\n",
    "p= d = q = range(0, 2)\n",
    "\n",
    "# Generate all different combinations of p, q and q triplets\n",
    "pdq = list(itertools.product(p, d, q))\n",
    "\n",
    "# Generate all different combinations of seasonal p, q and q triplets\n",
    "pdqs = [(x[0], x[1], x[2], 12) for x in list(itertools.product(p, d, q))]"
   ]
  },
  {
   "cell_type": "code",
   "execution_count": null,
   "metadata": {
    "colab": {
     "base_uri": "https://localhost:8080/"
    },
    "id": "JHr2YCBFVF5G",
    "outputId": "39fa5508-f5f9-4755-8562-27ec5c297f66"
   },
   "outputs": [],
   "source": [
    "# Train Test Split\n",
    "train_size=0.8\n",
    "split_indx = round(len(differenced_data7) * train_size)\n",
    "train = differenced_data7[:split_indx]\n",
    "test = differenced_data7[split_indx:]\n",
    "\n",
    "# Find lowest AIC for pdq/pdqs combinations\n",
    "ans = []\n",
    "for comb in pdq:\n",
    "    for combs in pdqs:\n",
    "        try:\n",
    "            mod = sm.tsa.statespace.SARIMAX(train,\n",
    "                                            order=comb,\n",
    "                                            seasonal_order=combs,\n",
    "                                            enforce_stationarity=False,\n",
    "                                            enforce_invertibility=False)\n",
    "\n",
    "            output = mod.fit()\n",
    "            ans.append([comb, combs, output.aic])\n",
    "        except:\n",
    "            continue\n",
    "\n",
    "ans_df7 = pd.DataFrame(ans, columns=['pdq', 'pdqs', 'aic'])\n",
    "ans_df7.loc[ans_df['aic'].idxmin()]"
   ]
  },
  {
   "cell_type": "code",
   "execution_count": null,
   "metadata": {
    "colab": {
     "base_uri": "https://localhost:8080/"
    },
    "id": "igCvcjl5VFqo",
    "outputId": "530e5d62-47ba-4e0b-ca6f-45e1aa2f6e01"
   },
   "outputs": [],
   "source": [
    "model7 = SARIMAX(train, order=(1, 0, 1), seasonal_order=(1, 1, 1, 12))\n",
    "results7 = model.fit()\n",
    "\n",
    "print(results7.summary())"
   ]
  },
  {
   "cell_type": "code",
   "execution_count": null,
   "metadata": {
    "colab": {
     "base_uri": "https://localhost:8080/",
     "height": 1000
    },
    "id": "eWC9UlyeVFeW",
    "outputId": "921dc139-78bb-48f5-c415-1eb2f9a07cb8"
   },
   "outputs": [],
   "source": [
    "results7.plot_diagnostics(figsize=(15, 12))\n",
    "plt.show()"
   ]
  },
  {
   "cell_type": "code",
   "execution_count": null,
   "metadata": {
    "colab": {
     "base_uri": "https://localhost:8080/",
     "height": 476
    },
    "id": "ef8FiNO7VFTt",
    "outputId": "bd9c5a0f-db45-4138-ac42-79718c8fe564"
   },
   "outputs": [],
   "source": [
    "# Plugging optimal parameters into SARIMA model\n",
    "\n",
    "SARIMA_MODEL7 = sm.tsa.statespace.SARIMAX(train,\n",
    "                order=(1,0,1),\n",
    "                seasonal_order=(1,1,1,12),\n",
    "                enforce_stationarity=False,\n",
    "                enforce_invertibility=False)\n",
    "\n",
    "output = SARIMA_MODEL7.fit()\n",
    "\n",
    "\n",
    "# Getting test set predictions and confidence intervals from 09/2016 to 04/2018\n",
    "\n",
    "preds = output.get_prediction(start=pd.to_datetime('2016-09-01'), end=pd.to_datetime('2018-04-01'), dynamic=True)\n",
    "pred_conf = preds.conf_int()\n",
    "\n",
    "# Plot observed values\n",
    "ax = differenced_data7.plot(label='Observed')\n",
    "\n",
    "# Plot predicted values\n",
    "preds.predicted_mean.plot(ax=ax, label='Forecast', alpha=0.9)\n",
    "\n",
    "# Plot the range for confidence intervals\n",
    "ax.fill_between(pred_conf.index,\n",
    "                pred_conf.iloc[:, 0],\n",
    "                pred_conf.iloc[:, 1], color='lightgreen', alpha=0.5, label='Confidence Interval')\n",
    "\n",
    "# Set axes labels\n",
    "ax.set_xlabel('Date')\n",
    "ax.set_ylabel('Sale Prices')\n",
    "ax.set_title('Model Performance on Zipcode 78702 Test Data')\n",
    "plt.legend()\n",
    "\n",
    "plt.show()"
   ]
  },
  {
   "cell_type": "code",
   "execution_count": null,
   "metadata": {
    "id": "OYVTayYVVFHP"
   },
   "outputs": [],
   "source": []
  },
  {
   "cell_type": "code",
   "execution_count": null,
   "metadata": {
    "id": "nRurDhzuXfte"
   },
   "outputs": [],
   "source": []
  },
  {
   "cell_type": "markdown",
   "metadata": {
    "id": "PHdE4iZxXly2"
   },
   "source": [
    "**Zipcode 98851**"
   ]
  },
  {
   "cell_type": "code",
   "execution_count": null,
   "metadata": {
    "id": "3s5TxbdfXfM9"
   },
   "outputs": [],
   "source": [
    "# Apply differencing\n",
    "differenced_data8 = recent_time['98851'].diff(periods=1).dropna()"
   ]
  },
  {
   "cell_type": "code",
   "execution_count": null,
   "metadata": {
    "id": "GbkW2H1BXe8M"
   },
   "outputs": [],
   "source": [
    "# Identifying range for pdq values\n",
    "p= d = q = range(0, 2)\n",
    "\n",
    "# Generate all different combinations of p, q and q triplets\n",
    "pdq = list(itertools.product(p, d, q))\n",
    "\n",
    "# Generate all different combinations of seasonal p, q and q triplets\n",
    "pdqs = [(x[0], x[1], x[2], 12) for x in list(itertools.product(p, d, q))]"
   ]
  },
  {
   "cell_type": "code",
   "execution_count": null,
   "metadata": {
    "colab": {
     "base_uri": "https://localhost:8080/"
    },
    "id": "tGVkuOKgXe2s",
    "outputId": "d8826ece-779f-4a29-b4bf-7d39df12efc1"
   },
   "outputs": [],
   "source": [
    "train_size=0.8\n",
    "split_indx = round(len(differenced_data2) * train_size)\n",
    "train = differenced_data8[:split_indx]\n",
    "test = differenced_data8[split_indx:]\n",
    "\n",
    "# Find lowest AIC for pdq/pdqs combinations\n",
    "ans = []\n",
    "for comb in pdq:\n",
    "    for combs in pdqs:\n",
    "        try:\n",
    "            mod = sm.tsa.statespace.SARIMAX(train,\n",
    "                                            order=comb,\n",
    "                                            seasonal_order=combs,\n",
    "                                            enforce_stationarity=False,\n",
    "                                            enforce_invertibility=False)\n",
    "\n",
    "            output = mod.fit()\n",
    "            ans.append([comb, combs, output.aic])\n",
    "        except:\n",
    "            continue\n",
    "\n",
    "ans_df8 = pd.DataFrame(ans, columns=['pdq', 'pdqs', 'aic'])\n",
    "ans_df8.loc[ans_df['aic'].idxmin()]"
   ]
  },
  {
   "cell_type": "code",
   "execution_count": null,
   "metadata": {
    "colab": {
     "base_uri": "https://localhost:8080/"
    },
    "id": "fnXexHtsZ5z_",
    "outputId": "283b9e5e-7be7-4eb1-b0e9-e0d8c1983a58"
   },
   "outputs": [],
   "source": [
    "model8 = SARIMAX(train, order=(1, 0, 1), seasonal_order=(1, 1, 1, 12))\n",
    "results8 = model.fit()\n",
    "\n",
    "print(results8.summary())"
   ]
  },
  {
   "cell_type": "code",
   "execution_count": null,
   "metadata": {
    "colab": {
     "base_uri": "https://localhost:8080/",
     "height": 1000
    },
    "id": "4BXV2iLeZ5mR",
    "outputId": "cb29e214-469c-4c3c-f3c3-7342908a7516"
   },
   "outputs": [],
   "source": [
    "results8.plot_diagnostics(figsize=(15, 12))\n",
    "plt.show()"
   ]
  },
  {
   "cell_type": "code",
   "execution_count": null,
   "metadata": {
    "colab": {
     "base_uri": "https://localhost:8080/",
     "height": 476
    },
    "id": "L28bQXAiZ5Y1",
    "outputId": "0818b146-4154-4f94-b0ec-a2d23130fc74"
   },
   "outputs": [],
   "source": [
    "# Plugging optimal parameters into SARIMA model\n",
    "\n",
    "SARIMA_MODEL8 = sm.tsa.statespace.SARIMAX(train,\n",
    "                order=(1,0,1),\n",
    "                seasonal_order=(1,1,1,12),\n",
    "                enforce_stationarity=False,\n",
    "                enforce_invertibility=False)\n",
    "\n",
    "output = SARIMA_MODEL8.fit()\n",
    "\n",
    "\n",
    "# Getting test set predictions and confidence intervals from 09/2016 to 04/2018\n",
    "\n",
    "preds = output.get_prediction(start=pd.to_datetime('2016-09-01'), end=pd.to_datetime('2018-04-01'), dynamic=True)\n",
    "pred_conf = preds.conf_int()\n",
    "\n",
    "# Plot observed values\n",
    "ax = differenced_data8.plot(label='Observed')\n",
    "\n",
    "# Plot predicted values\n",
    "preds.predicted_mean.plot(ax=ax, label='Forecast', alpha=0.9)\n",
    "\n",
    "# Plot the range for confidence intervals\n",
    "ax.fill_between(pred_conf.index,\n",
    "                pred_conf.iloc[:, 0],\n",
    "                pred_conf.iloc[:, 1], color='lightgreen', alpha=0.5, label='Confidence Interval')\n",
    "\n",
    "# Set axes labels\n",
    "ax.set_xlabel('Date')\n",
    "ax.set_ylabel('Sale Prices')\n",
    "ax.set_title('Model Performance on Zipcode 98851 Test Data')\n",
    "plt.legend()\n",
    "\n",
    "plt.show()"
   ]
  },
  {
   "cell_type": "code",
   "execution_count": null,
   "metadata": {
    "id": "2SSNP6tYZ-Es"
   },
   "outputs": [],
   "source": []
  },
  {
   "cell_type": "markdown",
   "metadata": {
    "id": "7vqXFMFOcuHI"
   },
   "source": [
    "**8. fbprophet Model -**"
   ]
  },
  {
   "cell_type": "code",
   "execution_count": null,
   "metadata": {
    "id": "lMCRU3uvZ9oF"
   },
   "outputs": [],
   "source": []
  },
  {
   "cell_type": "markdown",
   "metadata": {
    "id": "oAOt660JdGZH"
   },
   "source": [
    "**9. CONCLUSION**"
   ]
  },
  {
   "cell_type": "code",
   "execution_count": null,
   "metadata": {
    "id": "gNGB8-Q-Z5KN"
   },
   "outputs": [],
   "source": []
  },
  {
   "cell_type": "markdown",
   "metadata": {
    "id": "qEaAiTVOdVVr"
   },
   "source": [
    "**10 Recommendations**"
   ]
  },
  {
   "cell_type": "code",
   "execution_count": null,
   "metadata": {
    "id": "Uws_863RNLFC"
   },
   "outputs": [],
   "source": []
  }
 ],
 "metadata": {
  "colab": {
   "provenance": []
  },
  "kernelspec": {
   "display_name": "Python (learn-env)",
   "language": "python",
   "name": "learn-env"
  },
  "language_info": {
   "codemirror_mode": {
    "name": "ipython",
    "version": 3
   },
   "file_extension": ".py",
   "mimetype": "text/x-python",
   "name": "python",
   "nbconvert_exporter": "python",
   "pygments_lexer": "ipython3",
   "version": "3.8.5"
  },
  "toc": {
   "base_numbering": 1,
   "nav_menu": {},
   "number_sections": true,
   "sideBar": true,
   "skip_h1_title": true,
   "title_cell": "Table of Contents",
   "title_sidebar": "Contents",
   "toc_cell": false,
   "toc_position": {},
   "toc_section_display": true,
   "toc_window_display": true
  }
 },
 "nbformat": 4,
 "nbformat_minor": 1
}
