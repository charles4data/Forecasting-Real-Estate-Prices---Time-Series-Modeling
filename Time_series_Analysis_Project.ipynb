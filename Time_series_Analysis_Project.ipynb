{
 "cells": [
  {
   "cell_type": "markdown",
   "metadata": {
    "id": "9N8ufMpQfeZf"
   },
   "source": [
    "<div style=\"text-align: center; color: blue\">\n",
    "    <h1>A TIME SERIES MODEL</h1>\n",
    "    <p style=\"text-align: center; font-size: 20px; color: Orange\">Forecasting real estate prices of various zip codes and determining the top five (5) best zipcodes for Waridi Investments to venture into. \n",
    "    </p>\n",
    "</div>\n"
   ]
  },
  {
   "cell_type": "markdown",
   "metadata": {
    "id": "S3UDuF8ZfSBq"
   },
   "source": [
    "\n",
    "## Group 8 Project Colaborators\n",
    "\n",
    "**STUDENT NAMES:**  \n",
    "+ SAMMY SIFUNA  \n",
    "+ JULIUS CHARLES  \n",
    "+ WARUCH KURIA  \n",
    "+ RAEL NDONYE  \n",
    "+ ALLAN OMONDI  \n",
    "+ JANET KHAINZA"
   ]
  },
  {
   "cell_type": "markdown",
   "metadata": {
    "id": "l9gUP8Ptfx0L"
   },
   "source": [
    "## Business Understanding\n",
    "       \n",
    "### Background\n",
    "Between `1996` to `2018`, the U.S. real estate market underwent significant transformations. It commenced with an increase in home prices driven by a growing perception of real estate as a valuable long-term investment. However, the Great Recession between `2007` to `2009` brought about extensive declines in home values, triggering foreclosures and eroding trust.\n",
    "Over time,low interest rates and government interventions helped restore stability and confidence in the market. Urbanization gained momentum as more people gravitated towards cities, younger individuals entered the housing market, and technology assumed a pivotal role. Although certain cities thrived, others faced challenges. Regulatory reforms were introduced to prevent potential crises. Hence, the era marked a period of adaptation and evolution in the dynamics of buying and selling homes.\n",
    "![Depiction of a Changing Market Prices](images/time-series-analysis.jpg)\n",
    "\n",
    "\n",
    "### Problem Statement\n",
    "Waridi Investments, a recently established real estate investment firm, has engaged our services to identify the top `5 zip codes` with the potential for the highest return on investment when they `sell in 5 years`. Their strategic approach is to initiate short-term investments in one of the most thriving real estate markets in the United States of America. The company places significant emphasis on securing sound investments that ensure consistent cash flow, ultimately enabling them to reinvest effectively when the opportune moment arises.\n",
    "\n",
    "### Objectives\n",
    "* To determine the top `5 zip codes` that show the highest potential `return on investment (ROI) in 5 years.`\n",
    "* To determine the `5 least advisable cities` to invest in.\n",
    "* To identify which `top 5 metropolitan areas` and states have the highest market performance in terms of price growth.\n",
    "* To determine the best month to invest to maximize ROI.\n",
    "* To show how factors like economic stability(recession) impact housing market performance.\n",
    "\n",
    "#### Hypotheis testing\n",
    "**Null Hypothesis (H0):** The variables do not help predict future real estate prices\n",
    "\n",
    "**Alternative Hypothesis (H1):** The variables predict future real estate prices"
   ]
  },
  {
   "cell_type": "markdown",
   "metadata": {
    "id": "_eP0KiM0gExS"
   },
   "source": [
    "## Data Understanding\n",
    "\n",
    "### A Brief Description of the Dataset\n",
    "\n",
    "This data represents median monthly housing sales prices for `265 zip codes in the USA`, over the period of `April 1996 through April 2018` as reported by Zillow.\n",
    "\n",
    "Each row represents a unique zip code. Each record contains location information and median housing sales prices for each month.\n",
    "\n",
    "There are `11568 rows and 272 variables`:\n",
    "\n",
    "+ **RegionID:** Unique index\n",
    "+ **RegionName:** Unique Zip Code\n",
    "+ **City:** City in which the zip code is located\n",
    "+ **State:** State in which the zip code is located\n",
    "+ **Metro:** Metropolitan Area in which the zip code is located\n",
    "+ **CountyName:** County in which the zip code is located\n",
    "+ **SizeRank:** Numerical rank of size of zip code, ranked 1 through 14723\n",
    "+ **1996-04 through 2018-04:** refers to the median housing sales values for `April 1996` through `April 2018`, that is `265 data points` of monthly data for each zip code\n",
    "\n",
    "We shall check for the accuracy of our forecasts using `MSE (Mean Squared Error)`. This will provide us with the average error of our forecasts.\n"
   ]
  },
  {
   "cell_type": "markdown",
   "metadata": {},
   "source": [
    "### Assumptions:\n",
    "1. The zip codes are representative of the broader real estate market in the United States.\n",
    "2. The real estate market conditions during this period were influenced by various economic and socio-political factors.\n",
    "3. The data covers a combination of urban, suburban, and rural area.\n",
    "4. The data doesn't reflect significant improvements or renovations made to properties over time that could increase or decrease prices."
   ]
  },
  {
   "cell_type": "markdown",
   "metadata": {},
   "source": [
    "### Reviewing and Inspecting the Data\n",
    "\n",
    "In this step, we load, review, and examine the dataset further"
   ]
  },
  {
   "cell_type": "code",
   "execution_count": null,
   "metadata": {
    "executionInfo": {
     "elapsed": 2397,
     "status": "ok",
     "timestamp": 1692894023967,
     "user": {
      "displayName": "Waruchu Kuria",
      "userId": "10228095980568770522"
     },
     "user_tz": -180
    },
    "id": "Wn0q7hBlAFjM"
   },
   "outputs": [],
   "source": [
    "# Import libraries\n",
    "import numpy as np\n",
    "import folium\n",
    "import pandas as pd\n",
    "import matplotlib as mpl\n",
    "from matplotlib import pyplot as plt\n",
    "from scipy import stats\n",
    "from random import gauss as gs\n",
    "import math\n",
    "import datetime\n",
    "from sklearn.linear_model import LinearRegression\n",
    "from sklearn.metrics import mean_squared_error\n",
    "from math import sqrt\n",
    "import statsmodels.api as sm\n",
    "from statsmodels.tsa.arima_model import ARMA\n",
    "from statsmodels.tsa.stattools import adfuller, acf, pacf\n",
    "from statsmodels.graphics.tsaplots import plot_acf,plot_pacf\n",
    "from pandas.plotting import autocorrelation_plot, lag_plot\n",
    "from statsmodels.tsa.seasonal import seasonal_decompose\n",
    "from statsmodels.tsa.statespace.sarimax import SARIMAX\n",
    "from pandas.plotting import register_matplotlib_converters\n",
    "register_matplotlib_converters()\n",
    "from statsmodels.graphics.tsaplots import plot_acf, plot_pacf\n",
    "import warnings\n",
    "warnings.filterwarnings('ignore')\n",
    "from matplotlib.pylab import rcParams\n",
    "%matplotlib inline\n",
    "plt.style.use('ggplot')"
   ]
  },
  {
   "cell_type": "code",
   "execution_count": null,
   "metadata": {
    "colab": {
     "base_uri": "https://localhost:8080/",
     "height": 290
    },
    "executionInfo": {
     "elapsed": 1865,
     "status": "ok",
     "timestamp": 1692894025828,
     "user": {
      "displayName": "Waruchu Kuria",
      "userId": "10228095980568770522"
     },
     "user_tz": -180
    },
    "id": "K1JM1cxNAGxz",
    "outputId": "ce616610-f3f9-4ef5-8bee-c31c480480ae"
   },
   "outputs": [],
   "source": [
    "#loading dataset and viewing first 5 rows\n",
    "data = pd.read_csv('data/zillow_data.csv')\n",
    "\n",
    "data.head(10)"
   ]
  },
  {
   "cell_type": "code",
   "execution_count": null,
   "metadata": {},
   "outputs": [],
   "source": [
    "data.tail(10)"
   ]
  },
  {
   "cell_type": "code",
   "execution_count": null,
   "metadata": {
    "colab": {
     "base_uri": "https://localhost:8080/"
    },
    "executionInfo": {
     "elapsed": 18,
     "status": "ok",
     "timestamp": 1692894026640,
     "user": {
      "displayName": "Waruchu Kuria",
      "userId": "10228095980568770522"
     },
     "user_tz": -180
    },
    "id": "NS1vwFavhcb8",
    "outputId": "88153356-e956-4b32-f97d-35e40b7aafa6"
   },
   "outputs": [],
   "source": [
    "data.info()"
   ]
  },
  {
   "cell_type": "code",
   "execution_count": null,
   "metadata": {
    "colab": {
     "base_uri": "https://localhost:8080/"
    },
    "executionInfo": {
     "elapsed": 16,
     "status": "ok",
     "timestamp": 1692894026640,
     "user": {
      "displayName": "Waruchu Kuria",
      "userId": "10228095980568770522"
     },
     "user_tz": -180
    },
    "id": "3TznssuiAQm7",
    "outputId": "f626f4a1-411f-461a-f6fe-25dca8605d53"
   },
   "outputs": [],
   "source": [
    "data.columns"
   ]
  },
  {
   "cell_type": "code",
   "execution_count": null,
   "metadata": {
    "colab": {
     "base_uri": "https://localhost:8080/"
    },
    "executionInfo": {
     "elapsed": 13,
     "status": "ok",
     "timestamp": 1692894026640,
     "user": {
      "displayName": "Waruchu Kuria",
      "userId": "10228095980568770522"
     },
     "user_tz": -180
    },
    "id": "dfZUA0asAQke",
    "outputId": "3d24d53d-c395-44e7-ebf8-cdd2dd3c76a3"
   },
   "outputs": [],
   "source": [
    "# Examine the shape of the dataset\n",
    "data.shape"
   ]
  },
  {
   "cell_type": "code",
   "execution_count": null,
   "metadata": {
    "colab": {
     "base_uri": "https://localhost:8080/"
    },
    "executionInfo": {
     "elapsed": 12,
     "status": "ok",
     "timestamp": 1692894026641,
     "user": {
      "displayName": "Waruchu Kuria",
      "userId": "10228095980568770522"
     },
     "user_tz": -180
    },
    "id": "Pb_Mhs8BAQiL",
    "outputId": "cdf92063-8567-492f-94cd-7154fa869d28"
   },
   "outputs": [],
   "source": [
    "# Viewing number of zipcodes in dataset and NAN values\n",
    "print('Total number of zipcodes:', len(data))\n",
    "data.iloc[:, :20].isna().sum()"
   ]
  },
  {
   "cell_type": "code",
   "execution_count": null,
   "metadata": {
    "colab": {
     "base_uri": "https://localhost:8080/"
    },
    "executionInfo": {
     "elapsed": 10,
     "status": "ok",
     "timestamp": 1692894026641,
     "user": {
      "displayName": "Waruchu Kuria",
      "userId": "10228095980568770522"
     },
     "user_tz": -180
    },
    "id": "s-EUXAmnAQfi",
    "outputId": "cd3938e5-3fe7-4932-d655-576cdc59061b"
   },
   "outputs": [],
   "source": [
    "#Inspecting dataframe dtypes\n",
    "\n",
    "data.iloc[:, :10].dtypes"
   ]
  },
  {
   "cell_type": "code",
   "execution_count": null,
   "metadata": {
    "colab": {
     "base_uri": "https://localhost:8080/"
    },
    "executionInfo": {
     "elapsed": 8,
     "status": "ok",
     "timestamp": 1692894026641,
     "user": {
      "displayName": "Waruchu Kuria",
      "userId": "10228095980568770522"
     },
     "user_tz": -180
    },
    "id": "zNzSXdLkAexT",
    "outputId": "1269af57-f1f2-48ea-86d5-1dcbbb00fd45"
   },
   "outputs": [],
   "source": [
    "# change 'RegionName' column to 'ZipCode' to avoid confusion\n",
    "data.rename(columns={'RegionName': 'ZipCode'}, inplace=True)\n",
    "\n",
    "data.ZipCode = data.ZipCode.astype('string')\n",
    "\n",
    "#confirming the change\n",
    "print(data.dtypes[\"ZipCode\"])"
   ]
  },
  {
   "cell_type": "code",
   "execution_count": null,
   "metadata": {
    "colab": {
     "base_uri": "https://localhost:8080/"
    },
    "executionInfo": {
     "elapsed": 625,
     "status": "ok",
     "timestamp": 1692894027260,
     "user": {
      "displayName": "Waruchu Kuria",
      "userId": "10228095980568770522"
     },
     "user_tz": -180
    },
    "id": "xQInn49aAok9",
    "outputId": "29675761-ad57-4be3-854d-68e909b86c41"
   },
   "outputs": [],
   "source": [
    "# check for duplicates\n",
    "data.duplicated().sum()"
   ]
  },
  {
   "cell_type": "code",
   "execution_count": null,
   "metadata": {
    "colab": {
     "base_uri": "https://localhost:8080/"
    },
    "executionInfo": {
     "elapsed": 19,
     "status": "ok",
     "timestamp": 1692894027260,
     "user": {
      "displayName": "Waruchu Kuria",
      "userId": "10228095980568770522"
     },
     "user_tz": -180
    },
    "id": "TJS4GzZSAoi5",
    "outputId": "2a52699e-8161-4f4d-f3d9-283a028d6df1"
   },
   "outputs": [],
   "source": [
    "# all missing data because of the datatime appearing as columns\n",
    "data.isnull().sum()"
   ]
  },
  {
   "cell_type": "markdown",
   "metadata": {
    "id": "nLXCJ9mRHPfG"
   },
   "source": [
    "## Exploratory Data Analysis(EDA) and Feature Engineering"
   ]
  },
  {
   "cell_type": "markdown",
   "metadata": {
    "id": "a7KehqlqiOIb"
   },
   "source": [
    "### Missing Values\n",
    "\n",
    "There are some missing values in the `Metro` and `dates` columns."
   ]
  },
  {
   "cell_type": "code",
   "execution_count": null,
   "metadata": {
    "colab": {
     "base_uri": "https://localhost:8080/",
     "height": 423
    },
    "executionInfo": {
     "elapsed": 16,
     "status": "ok",
     "timestamp": 1692894027260,
     "user": {
      "displayName": "Waruchu Kuria",
      "userId": "10228095980568770522"
     },
     "user_tz": -180
    },
    "id": "1kEdDCb-AogG",
    "outputId": "869c9caf-1966-4412-ec26-e34370716d3c"
   },
   "outputs": [],
   "source": [
    "# Define a function to explore missing data\n",
    "def missing_data(data):\n",
    "    missing_data = data.isna().sum()\n",
    "    missing_data = missing_data[missing_data>0]\n",
    "    return missing_data.to_frame()\n",
    "\n",
    "# Apply missing_data function to the dataframe\n",
    "missing_data(data)"
   ]
  },
  {
   "cell_type": "markdown",
   "metadata": {
    "id": "T4vZxUJAhoZo"
   },
   "source": [
    "- Missing values in the **Metro** column are replaced with **missing**.  \n",
    "- Missing values in the dates columns are backfilled."
   ]
  },
  {
   "cell_type": "code",
   "execution_count": null,
   "metadata": {
    "colab": {
     "base_uri": "https://localhost:8080/"
    },
    "executionInfo": {
     "elapsed": 15,
     "status": "ok",
     "timestamp": 1692894027261,
     "user": {
      "displayName": "Waruchu Kuria",
      "userId": "10228095980568770522"
     },
     "user_tz": -180
    },
    "id": "bIa_0kaUA79m",
    "outputId": "e25127b4-4e2e-4135-948a-f0ce216686b0"
   },
   "outputs": [],
   "source": [
    "# replacing the missing values bin Metro with 'missing'\n",
    "data.Metro.fillna('missing', inplace=True)\n",
    "\n",
    "# interpolate missing values on date columns\n",
    "data.interpolate(method=\"pad\", inplace=True)\n",
    "\n",
    "data.isna().sum().sum()"
   ]
  },
  {
   "cell_type": "markdown",
   "metadata": {
    "id": "2V4Cj3k3ip3R"
   },
   "source": [
    "### Creating New Columns for Analysis"
   ]
  },
  {
   "cell_type": "markdown",
   "metadata": {
    "id": "7JWwpSBikKlE"
   },
   "source": [
    "- In finance, the coefficient of variation allows investors to determine how much volatility, or risk, is assumed in comparison to the amount of return expected from investments.\n",
    "- Ideally, if the coefficient of variation formula should result in a lower ratio of the standard deviation to mean return, then the better the risk-return trade-off.\n",
    "- (**CONFIRM**)Therefore, in these next steps we are going to filter the data some more by calculating the CV value and only selecting values with in the company's risk factor (assume 60 percentile)."
   ]
  },
  {
   "cell_type": "code",
   "execution_count": null,
   "metadata": {
    "executionInfo": {
     "elapsed": 12,
     "status": "ok",
     "timestamp": 1692894027261,
     "user": {
      "displayName": "Waruchu Kuria",
      "userId": "10228095980568770522"
     },
     "user_tz": -180
    },
    "id": "aGRGRqSZCc_k"
   },
   "outputs": [],
   "source": [
    "# # calculating and creating a new column -ROI\n",
    "# data['ROI'] = (data['2018-04']/ data['1996-04'])-1\n",
    "\n",
    "# #calculating std to be used to find CV\n",
    "# data[\"std\"] = data.loc[:, \"1996-04\":\"2018-04\"].std(skipna=True, axis=1)\n",
    "\n",
    "# #calculating mean to be used to find CV\n",
    "# data[\"mean\"] = data.loc[:, \"1996-04\":\"2018-04\"].mean(skipna=True, axis=1)\n",
    "\n",
    "# # calculating and creating a new column - CV\n",
    "# data[\"CV\"] = data['std']/ data[\"mean\"]\n",
    "\n",
    "# data.columns"
   ]
  },
  {
   "cell_type": "code",
   "execution_count": null,
   "metadata": {
    "executionInfo": {
     "elapsed": 13,
     "status": "ok",
     "timestamp": 1692894027262,
     "user": {
      "displayName": "Waruchu Kuria",
      "userId": "10228095980568770522"
     },
     "user_tz": -180
    },
    "id": "FS4rQ1VfRWWJ"
   },
   "outputs": [],
   "source": [
    "# # List of 5-year periods start and end years\n",
    "# periods = [(1998, 2003), (2003, 2008), (2008, 2013), (2013, 2018)]\n",
    "\n",
    "# # Create a new DataFrame to store ROI values\n",
    "# roi_data = pd.DataFrame()\n",
    "\n",
    "# # Calculate ROI for each period and store in the new DataFrame\n",
    "# for start_year, end_year in periods:\n",
    "#     start_col = str(start_year) + '-04'  # Assuming April data is available for each year\n",
    "#     end_col = str(end_year) + '-04'\n",
    "\n",
    "#     roi_data['ROI_' + str(start_year) + '-' + str(end_year)] = (\n",
    "#         (data[end_col] - data[start_col]) / data[start_col]\n",
    "#     ) * 100\n",
    "\n",
    "# # Display the new DataFrame with ROI values for each period\n",
    "# print(roi_data)\n"
   ]
  },
  {
   "cell_type": "markdown",
   "metadata": {
    "id": "iGwNSsS7NCjU"
   },
   "source": [
    "### Select Top 10 States to invest in\n",
    "As per this article by [Fit Small Business](https://fitsmallbusiness.com/best-and-worst-states-to-invest-in-real-estate/), the 10 states for the best yields in real estate are Georgia, Utah, Texas, North Carolina and Texas.\n",
    "- This narrows down our number of Zip Codes to 4039.\n",
    "\n"
   ]
  },
  {
   "cell_type": "code",
   "execution_count": null,
   "metadata": {
    "colab": {
     "base_uri": "https://localhost:8080/",
     "height": 326
    },
    "executionInfo": {
     "elapsed": 12,
     "status": "ok",
     "timestamp": 1692894027262,
     "user": {
      "displayName": "Waruchu Kuria",
      "userId": "10228095980568770522"
     },
     "user_tz": -180
    },
    "id": "GGM90QBxWm-q",
    "outputId": "1b09026f-71d3-4086-ae2f-9e494b45e125"
   },
   "outputs": [],
   "source": [
    "# List of states to invest in\n",
    "states_to_invest = ['GA', 'UT', 'TX', 'NC', 'NJ', 'TN', 'WA', 'DE', 'NE', 'FL']\n",
    "\n",
    "# Filter data for the selected states\n",
    "data_states = data[data['State'].isin(states_to_invest)].copy()\n",
    "\n",
    "# Drop unnecessary columns\n",
    "columns_to_drop = ['RegionID', 'SizeRank']\n",
    "data_states.drop(columns_to_drop, axis=1, inplace=True)\n",
    "\n",
    "# Reset the index\n",
    "data_states.reset_index(drop=True, inplace=True)\n",
    "\n",
    "print('Total Zipcodes in DataFrame:', len(data_states))\n",
    "data_states.head()"
   ]
  },
  {
   "cell_type": "code",
   "execution_count": null,
   "metadata": {
    "colab": {
     "base_uri": "https://localhost:8080/",
     "height": 349
    },
    "executionInfo": {
     "elapsed": 1045,
     "status": "ok",
     "timestamp": 1692894028298,
     "user": {
      "displayName": "Waruchu Kuria",
      "userId": "10228095980568770522"
     },
     "user_tz": -180
    },
    "id": "Bs0qlqasXz0N",
    "outputId": "2eb0b092-ac1a-4eb2-edf7-a984f7f8881b"
   },
   "outputs": [],
   "source": [
    "#Check for zeros\n",
    "data_states.describe()"
   ]
  },
  {
   "cell_type": "markdown",
   "metadata": {
    "id": "LdbJn5JDdOru"
   },
   "source": [
    "### Calculating ROI and CV"
   ]
  },
  {
   "cell_type": "markdown",
   "metadata": {
    "id": "gonSNzDeV0Ot"
   },
   "source": [
    "Calculating the average price for the last five years to narrow down the data."
   ]
  },
  {
   "cell_type": "code",
   "execution_count": null,
   "metadata": {
    "colab": {
     "base_uri": "https://localhost:8080/"
    },
    "executionInfo": {
     "elapsed": 10,
     "status": "ok",
     "timestamp": 1692894028299,
     "user": {
      "displayName": "Waruchu Kuria",
      "userId": "10228095980568770522"
     },
     "user_tz": -180
    },
    "id": "FcI79oaNdoRm",
    "outputId": "1151575a-732a-4176-fdb9-816a3bd95bdb"
   },
   "outputs": [],
   "source": [
    "# average price for the last 5 years (2013 to 2018)\n",
    "data_states['yr_avg']=data_states.iloc[:,-60:].mean(skipna=True, axis=1)\n",
    "\n",
    "#Calculate the 75% cutoff value\n",
    "q_75 = data_states['yr_avg'].quantile(q=0.75)\n",
    "print(f'Average Value 75% cutoff value: {round(q_75,2)}')\n",
    "\n",
    "#Calculate the 25% cutoff value\n",
    "q_25 = data_states['yr_avg'].quantile(q=0.25)\n",
    "print(f'Average Value 25% cutoff value: {round(q_25,2)}')\n",
    "\n",
    "#Get data frame with selected zipcodes.\n",
    "states_avg = data_states[(data_states['yr_avg']<q_75) & (data_states['yr_avg']>q_25)]\n",
    "print(f'Amount of zipcodes: {len(states_avg)}')"
   ]
  },
  {
   "cell_type": "code",
   "execution_count": null,
   "metadata": {
    "colab": {
     "base_uri": "https://localhost:8080/",
     "height": 290
    },
    "executionInfo": {
     "elapsed": 346,
     "status": "ok",
     "timestamp": 1692894156860,
     "user": {
      "displayName": "Waruchu Kuria",
      "userId": "10228095980568770522"
     },
     "user_tz": -180
    },
    "id": "MHOxerHXfCsP",
    "outputId": "dcc6b019-5bbc-4166-8a32-9a80cfb3cc17"
   },
   "outputs": [],
   "source": [
    "states_avg.head()"
   ]
  },
  {
   "cell_type": "code",
   "execution_count": null,
   "metadata": {
    "colab": {
     "base_uri": "https://localhost:8080/",
     "height": 206
    },
    "executionInfo": {
     "elapsed": 423,
     "status": "ok",
     "timestamp": 1692894159338,
     "user": {
      "displayName": "Waruchu Kuria",
      "userId": "10228095980568770522"
     },
     "user_tz": -180
    },
    "id": "nnfx-ovddM54",
    "outputId": "912021d6-8195-4314-9da6-20286a1edacd"
   },
   "outputs": [],
   "source": [
    "#Calculate historical return on investment\n",
    "data_states['ROI'] = (data_states['yr_avg']/data_states['1996-04'])-1\n",
    "\n",
    "## 5 year ROI\n",
    "data_states['ROI_5yr'] = round((data_states['2018-04'] - data_states['2013-01'])/ data_states['2013-01'],4)\n",
    "\n",
    "## 3 year ROI\n",
    "data_states['ROI_3yr'] = round((data_states['2018-04'] - data_states['2015-01'])/ data_states['2015-01'],4)\n",
    "\n",
    "#Calculate standard deviation of monthly values\n",
    "data_states['std'] = data_states.loc[:,'1996-04':'2018-04'].std(skipna=True, axis=1)\n",
    "\n",
    "#Calculate historical mean value\n",
    "data_states['mean'] = data_states.loc[:,'1996-04':'2018-04'].mean(skipna=True, axis=1)\n",
    "\n",
    "#Calculate coefficient of variation\n",
    "data_states['CV'] = data_states['std']/data_states['mean']\n",
    "\n",
    "#Show calculated values\n",
    "data_states[['State', 'ZipCode','std','mean','ROI','ROI_5yr', 'ROI_3yr', 'CV']].head()"
   ]
  },
  {
   "cell_type": "code",
   "execution_count": null,
   "metadata": {
    "colab": {
     "base_uri": "https://localhost:8080/"
    },
    "executionInfo": {
     "elapsed": 314,
     "status": "ok",
     "timestamp": 1692894162195,
     "user": {
      "displayName": "Waruchu Kuria",
      "userId": "10228095980568770522"
     },
     "user_tz": -180
    },
    "id": "RjqB3CJCgXrO",
    "outputId": "218e24c0-01eb-493d-f50e-cb742fe95538"
   },
   "outputs": [],
   "source": [
    "states_roi = data_states.groupby('State', group_keys=False).sum()['ROI']\n",
    "states_roi.sort_values(ascending=False)"
   ]
  },
  {
   "cell_type": "code",
   "execution_count": null,
   "metadata": {
    "colab": {
     "base_uri": "https://localhost:8080/"
    },
    "executionInfo": {
     "elapsed": 4,
     "status": "ok",
     "timestamp": 1692894164506,
     "user": {
      "displayName": "Waruchu Kuria",
      "userId": "10228095980568770522"
     },
     "user_tz": -180
    },
    "id": "wOyDsSm9h3ve",
    "outputId": "84f34069-fac6-4009-f799-4fc89e81a0ed"
   },
   "outputs": [],
   "source": [
    "#Define upper limit of CV according to risk profile.\n",
    "cv_60 = data_states.CV.quantile(.6)\n",
    "print(f'\\nCV upper limit: {cv_60}')"
   ]
  },
  {
   "cell_type": "code",
   "execution_count": null,
   "metadata": {
    "colab": {
     "base_uri": "https://localhost:8080/",
     "height": 307
    },
    "executionInfo": {
     "elapsed": 5,
     "status": "ok",
     "timestamp": 1692894166258,
     "user": {
      "displayName": "Waruchu Kuria",
      "userId": "10228095980568770522"
     },
     "user_tz": -180
    },
    "id": "LkZnXnX3inJQ",
    "outputId": "56553f33-6a91-492d-e8a2-131575f12ccd"
   },
   "outputs": [],
   "source": [
    "# Group states by highest ROIs within the firms risk profile.\n",
    "states_roi_cv = data_states[data_states['CV'] < cv_60].sort_values('ROI', axis=0, ascending=False)\n",
    "states_roi_cv.head()"
   ]
  },
  {
   "cell_type": "code",
   "execution_count": null,
   "metadata": {
    "colab": {
     "base_uri": "https://localhost:8080/"
    },
    "executionInfo": {
     "elapsed": 476,
     "status": "ok",
     "timestamp": 1692885108585,
     "user": {
      "displayName": "Waruchu Kuria",
      "userId": "10228095980568770522"
     },
     "user_tz": -180
    },
    "id": "tOeRNgbTjdkJ",
    "outputId": "9857de8e-a684-4682-b21d-890e8ab6318a"
   },
   "outputs": [],
   "source": [
    "states_roi_cv.shape"
   ]
  },
  {
   "cell_type": "code",
   "execution_count": null,
   "metadata": {
    "colab": {
     "base_uri": "https://localhost:8080/"
    },
    "executionInfo": {
     "elapsed": 305,
     "status": "ok",
     "timestamp": 1692885111879,
     "user": {
      "displayName": "Waruchu Kuria",
      "userId": "10228095980568770522"
     },
     "user_tz": -180
    },
    "id": "TcC4uKC1l5Ml",
    "outputId": "f318d5e1-08b6-483c-c539-51d687e88e10"
   },
   "outputs": [],
   "source": [
    "# No. of zipcodes per state\n",
    "states_roi_cv['State'].value_counts()"
   ]
  },
  {
   "cell_type": "code",
   "execution_count": null,
   "metadata": {
    "colab": {
     "base_uri": "https://localhost:8080/"
    },
    "executionInfo": {
     "elapsed": 315,
     "status": "ok",
     "timestamp": 1692885159872,
     "user": {
      "displayName": "Waruchu Kuria",
      "userId": "10228095980568770522"
     },
     "user_tz": -180
    },
    "id": "rE_d80sQmlTo",
    "outputId": "5faa8491-284c-411e-be0a-edf44722cbf5"
   },
   "outputs": [],
   "source": [
    "### not sure why\n",
    "states_roi_cv.groupby('State').max()['ROI']"
   ]
  },
  {
   "cell_type": "code",
   "execution_count": null,
   "metadata": {
    "colab": {
     "base_uri": "https://localhost:8080/"
    },
    "executionInfo": {
     "elapsed": 328,
     "status": "ok",
     "timestamp": 1692885241358,
     "user": {
      "displayName": "Waruchu Kuria",
      "userId": "10228095980568770522"
     },
     "user_tz": -180
    },
    "id": "BtOId_3amusx",
    "outputId": "3b6b222e-da5e-44c4-b24d-09ca81fb154e"
   },
   "outputs": [],
   "source": [
    "states_roi_cv.isna().sum()"
   ]
  },
  {
   "cell_type": "code",
   "execution_count": null,
   "metadata": {
    "colab": {
     "base_uri": "https://localhost:8080/"
    },
    "executionInfo": {
     "elapsed": 330,
     "status": "ok",
     "timestamp": 1692885258724,
     "user": {
      "displayName": "Waruchu Kuria",
      "userId": "10228095980568770522"
     },
     "user_tz": -180
    },
    "id": "6Q-jiJjtojvj",
    "outputId": "acb04de6-ae09-45f0-8a95-ed1839d561fe"
   },
   "outputs": [],
   "source": [
    "states_roi_cv_grouped = states_roi_cv.groupby('State').sum()['ROI']\n",
    "states_roi_cv_grouped.sort_values(ascending=False)\n",
    "\n",
    "# max roi, least cv\n",
    "target_states = list(states_roi_cv_grouped.sort_values(ascending=False).index)\n",
    "target_states"
   ]
  },
  {
   "cell_type": "code",
   "execution_count": null,
   "metadata": {
    "colab": {
     "base_uri": "https://localhost:8080/",
     "height": 308
    },
    "executionInfo": {
     "elapsed": 335,
     "status": "ok",
     "timestamp": 1692885274295,
     "user": {
      "displayName": "Waruchu Kuria",
      "userId": "10228095980568770522"
     },
     "user_tz": -180
    },
    "id": "jRy_X2IVpHte",
    "outputId": "31ccc9c2-63cf-4996-cd3c-f0e4862d19b4"
   },
   "outputs": [],
   "source": [
    "# Filter the DataFrame for the target states\n",
    "states_combined = states_roi_cv[states_roi_cv['State'].isin(target_states)]\n",
    "\n",
    "# Print the filtered DataFrame\n",
    "states_combined.head()"
   ]
  },
  {
   "cell_type": "code",
   "execution_count": null,
   "metadata": {
    "colab": {
     "base_uri": "https://localhost:8080/"
    },
    "executionInfo": {
     "elapsed": 305,
     "status": "ok",
     "timestamp": 1692885278233,
     "user": {
      "displayName": "Waruchu Kuria",
      "userId": "10228095980568770522"
     },
     "user_tz": -180
    },
    "id": "i-yUUlD8sXVl",
    "outputId": "eb00eb9a-121f-46f3-fd85-27255e522448"
   },
   "outputs": [],
   "source": [
    "states_roi_cv.columns"
   ]
  },
  {
   "cell_type": "code",
   "execution_count": null,
   "metadata": {
    "colab": {
     "base_uri": "https://localhost:8080/",
     "height": 206
    },
    "executionInfo": {
     "elapsed": 971,
     "status": "ok",
     "timestamp": 1692885360798,
     "user": {
      "displayName": "Waruchu Kuria",
      "userId": "10228095980568770522"
     },
     "user_tz": -180
    },
    "id": "xEMEMn6hxR1Q",
    "outputId": "7f61576e-8f1e-4b6b-c97f-941c8380c122"
   },
   "outputs": [],
   "source": [
    "# creating a function that changes the dataframe structure from wide view to long view\n",
    "\n",
    "def melt_df(data):\n",
    "    melted = pd.melt(data, id_vars=['ZipCode', 'City', 'State', 'Metro',\n",
    "                                    'CountyName', 'yr_avg', 'ROI', 'ROI_5yr',\n",
    "                                    'ROI_3yr',\t'std',\t'mean',\t'CV'],\n",
    "                     var_name='Date')\n",
    "    melted['Date'] = pd.to_datetime(melted['Date'], infer_datetime_format=True)\n",
    "    melted = melted.dropna(subset=['value'])\n",
    "    return melted\n",
    "\n",
    "states_melted = melt_df(states_combined)\n",
    "\n",
    "states_melted.head()"
   ]
  },
  {
   "cell_type": "code",
   "execution_count": null,
   "metadata": {
    "id": "CJI2I0kT3J4n"
   },
   "outputs": [],
   "source": [
    "# Convert 'date' column to datetime format\n",
    "states_melted['Date'] = pd.to_datetime(states_melted['Date'])\n",
    "\n",
    "# Set the 'Date' column as index\n",
    "states_melted.set_index('Date', inplace=True)"
   ]
  },
  {
   "cell_type": "code",
   "execution_count": null,
   "metadata": {
    "colab": {
     "base_uri": "https://localhost:8080/",
     "height": 455
    },
    "executionInfo": {
     "elapsed": 372,
     "status": "ok",
     "timestamp": 1692886047218,
     "user": {
      "displayName": "Waruchu Kuria",
      "userId": "10228095980568770522"
     },
     "user_tz": -180
    },
    "id": "86bIdZC_xy_P",
    "outputId": "d756f954-7cf6-41e6-8aae-8706b692acda"
   },
   "outputs": [],
   "source": [
    "# Sort the DataFrame by ROI in descending order\n",
    "top_10_zipcodes = states_melted.sort_values(by='ROI', ascending=False)\n",
    "\n",
    "# Print the top 10 zip codes by ROI\n",
    "top_10_zipcodes"
   ]
  },
  {
   "cell_type": "markdown",
   "metadata": {
    "id": "YlNHS_nqecv4"
   },
   "source": [
    "### **Converting to Time Series**"
   ]
  },
  {
   "cell_type": "markdown",
   "metadata": {
    "id": "pjKjEzbdi5w0"
   },
   "source": [
    "**Step 1: Changing the dataframe from wide view to long view**"
   ]
  },
  {
   "cell_type": "code",
   "execution_count": null,
   "metadata": {
    "id": "t7wyD2cZDi__"
   },
   "outputs": [],
   "source": [
    "melted_data = states_melted.copy()"
   ]
  },
  {
   "cell_type": "code",
   "execution_count": null,
   "metadata": {
    "id": "pkNdQtWyCc3h"
   },
   "outputs": [],
   "source": [
    "# creating a function that changes the dataframe structure from wide view to long view\n",
    "\n",
    "def melt_df(data):\n",
    "    melted = pd.melt(data, id_vars=['ZipCode', 'City', 'State', 'Metro',\n",
    "                                    'CountyName'], var_name='Date')\n",
    "    melted_data['Date'] = pd.to_datetime(melted_data['Date'], format='%Y-%m-%d')\n",
    "    melted = melted.dropna(subset=['value'])\n",
    "    return melted\n",
    "\n",
    "melted_data = melt_df(melted_data)"
   ]
  },
  {
   "cell_type": "markdown",
   "metadata": {
    "id": "BHy-0CgXeveE"
   },
   "source": [
    "**Step 2: Converting the Date Column to DateTime Format and Setting it as the Index**"
   ]
  },
  {
   "cell_type": "code",
   "execution_count": null,
   "metadata": {
    "id": "0F1WbqY0Cc8z"
   },
   "outputs": [],
   "source": [
    "# Convert 'date' column to datetime format\n",
    "melted_data['Date'] = pd.to_datetime(melted_data['Date'])\n",
    "\n",
    "# Set the 'Date' column as index\n",
    "melted_data.set_index('Date', inplace=True)"
   ]
  },
  {
   "cell_type": "code",
   "execution_count": null,
   "metadata": {
    "colab": {
     "base_uri": "https://localhost:8080/",
     "height": 238
    },
    "executionInfo": {
     "elapsed": 335,
     "status": "ok",
     "timestamp": 1692878104025,
     "user": {
      "displayName": "Waruchu Kuria",
      "userId": "10228095980568770522"
     },
     "user_tz": -180
    },
    "id": "HOnzcGIiCc6Y",
    "outputId": "0adf062d-9401-44b0-a5d1-50d27fc3af41"
   },
   "outputs": [],
   "source": [
    "melted_data.head()"
   ]
  },
  {
   "cell_type": "code",
   "execution_count": null,
   "metadata": {
    "colab": {
     "base_uri": "https://localhost:8080/"
    },
    "executionInfo": {
     "elapsed": 320,
     "status": "ok",
     "timestamp": 1692884111043,
     "user": {
      "displayName": "Waruchu Kuria",
      "userId": "10228095980568770522"
     },
     "user_tz": -180
    },
    "id": "GlpCaFPCwVz5",
    "outputId": "8dda76e5-7903-4932-86b0-0892a662441c"
   },
   "outputs": [],
   "source": [
    "print(\"Columns in melted_data:\", melted_data.columns)\n",
    "print()\n",
    "print(\"Columns in states_combined:\", states_combined.columns)"
   ]
  },
  {
   "cell_type": "code",
   "execution_count": null,
   "metadata": {
    "colab": {
     "base_uri": "https://localhost:8080/",
     "height": 390
    },
    "executionInfo": {
     "elapsed": 2338,
     "status": "error",
     "timestamp": 1692883936991,
     "user": {
      "displayName": "Waruchu Kuria",
      "userId": "10228095980568770522"
     },
     "user_tz": -180
    },
    "id": "KYcTm-JpvZ5k",
    "outputId": "bda86f0e-7357-45c2-a335-1adc30ee12f9"
   },
   "outputs": [],
   "source": [
    "# Join the dataframes based on common columns\n",
    "final_df = melted_data.merge(states_combined, on=['ZipCode', 'City', 'State', 'Metro', 'CountyName'])\n",
    "\n",
    "# Set the 'Date' column as the index\n",
    "final_df.set_index('Date', inplace=True)\n",
    "\n",
    "# Print the resulting DataFrame\n",
    "final_df.head()"
   ]
  },
  {
   "cell_type": "markdown",
   "metadata": {
    "id": "lIqTf2OhfAIN"
   },
   "source": [
    "### **Narrowing Down to a Few Zip Codes from the Data**\n",
    "- The data is quite large.\n",
    "- Therefore, the analysis will filter out the first 1000 zip codes per state based on median prices (`value`)."
   ]
  },
  {
   "cell_type": "code",
   "execution_count": null,
   "metadata": {
    "colab": {
     "base_uri": "https://localhost:8080/",
     "height": 238
    },
    "executionInfo": {
     "elapsed": 9410,
     "status": "ok",
     "timestamp": 1692873245190,
     "user": {
      "displayName": "Waruchu Kuria",
      "userId": "10228095980568770522"
     },
     "user_tz": -180
    },
    "id": "ag0RuQkUIBA2",
    "outputId": "b2c406ac-c1b8-4073-8b14-3d746dd5cd9a"
   },
   "outputs": [],
   "source": [
    "# # Group by 'State' and get the top 1000 zip codes for each state based on median prices\n",
    "# top_zipcodes = (melted_data.sort_values(['State', 'value'], ascending=[True, False])\n",
    "#                 .groupby('State')\n",
    "#                 .head(1000))\n",
    "\n",
    "# # # Create a new DataFrame with the selected data\n",
    "# top_zipcodes_df = pd.DataFrame({\n",
    "#     # 'Date': top_zipcodes['Date'],\n",
    "#     'State': top_zipcodes['State'],\n",
    "#     'County': top_zipcodes['CountyName'],\n",
    "#     'Metro': top_zipcodes['Metro'],\n",
    "#     'City': top_zipcodes['City'],\n",
    "#     'ZipCode': top_zipcodes['ZipCode'],\n",
    "#     'SizeRank': top_zipcodes['SizeRank'],\n",
    "#     'Value': top_zipcodes['value']\n",
    "\n",
    "# })\n",
    "# # # Display the result\n",
    "# top_zipcodes_df.head()"
   ]
  },
  {
   "cell_type": "code",
   "execution_count": null,
   "metadata": {
    "colab": {
     "base_uri": "https://localhost:8080/",
     "height": 424
    },
    "executionInfo": {
     "elapsed": 32,
     "status": "ok",
     "timestamp": 1692873245192,
     "user": {
      "displayName": "Waruchu Kuria",
      "userId": "10228095980568770522"
     },
     "user_tz": -180
    },
    "id": "qSAzO-S6cR_c",
    "outputId": "28bfd44f-e80e-4021-c7da-29ab1432827f"
   },
   "outputs": [],
   "source": [
    "top_zipcodes_df.reset_index()"
   ]
  },
  {
   "cell_type": "code",
   "execution_count": null,
   "metadata": {
    "colab": {
     "base_uri": "https://localhost:8080/",
     "height": 35
    },
    "executionInfo": {
     "elapsed": 27,
     "status": "ok",
     "timestamp": 1692873245194,
     "user": {
      "displayName": "Waruchu Kuria",
      "userId": "10228095980568770522"
     },
     "user_tz": -180
    },
    "id": "UlcZo19leadj",
    "outputId": "e3fb4371-59f4-40b6-c094-813b28ff49eb"
   },
   "outputs": [],
   "source": [
    "top_zipcodes_df.index.name"
   ]
  },
  {
   "cell_type": "code",
   "execution_count": null,
   "metadata": {
    "colab": {
     "base_uri": "https://localhost:8080/",
     "height": 245
    },
    "executionInfo": {
     "elapsed": 877,
     "status": "error",
     "timestamp": 1692873246047,
     "user": {
      "displayName": "Waruchu Kuria",
      "userId": "10228095980568770522"
     },
     "user_tz": -180
    },
    "id": "kOPWgIRacHNQ",
    "outputId": "132c5f44-f184-4b0b-cbe9-fde7b36c9f00"
   },
   "outputs": [],
   "source": [
    "# List of 5-year periods start and end years\n",
    "periods = [(1998, 2003), (2003, 2008), (2008, 2013), (2013, 2018)]\n",
    "\n",
    "# Create an empty DataFrame to store ROI values\n",
    "roi_data = pd.DataFrame()\n",
    "\n",
    "# Iterate over each zip code\n",
    "for zip_code in top_zipcodes_df['ZipCode']:\n",
    "    zip_roi_data = {'ZipCode': zip_code}\n",
    "\n",
    "    for start_year, end_year in periods:\n",
    "        start_col = str(start_year) + '-04'  # Assuming April data is available for each year\n",
    "        end_col = str(end_year) + '-04'\n",
    "\n",
    "        start_value = top_zipcodes_df[top_zipcodes_df['ZipCode'] == zip_code][start_col].values[1]\n",
    "        end_value = top_zipcodes_df[top_zipcodes_df['ZipCode'] == zip_code][end_col].values[1]\n",
    "\n",
    "        roi = ((end_value - start_value) / start_value) * 100\n",
    "        col_name = f'ROI_{start_year}-{end_year}'\n",
    "        zip_roi_data[col_name] = roi\n",
    "\n",
    "    # Append the data for the current zip code to the roi_data DataFrame\n",
    "    roi_data = roi_data.append(zip_roi_data, ignore_index=True)\n",
    "\n",
    "# Display the new DataFrame with ROI values for each period\n",
    "print(roi_data)\n"
   ]
  },
  {
   "cell_type": "code",
   "execution_count": null,
   "metadata": {
    "id": "tw22pceafHW9"
   },
   "outputs": [],
   "source": [
    "# confirming the new columns are added correctly\n",
    "melted_data.info()"
   ]
  },
  {
   "cell_type": "code",
   "execution_count": null,
   "metadata": {
    "id": "CxPO6EaoGfys"
   },
   "outputs": [],
   "source": [
    "# ROI 5-years\n"
   ]
  },
  {
   "cell_type": "code",
   "execution_count": null,
   "metadata": {
    "id": "3Irqjiu-XCJc"
   },
   "outputs": [],
   "source": [
    "# Assuming your datetime column is named 'Date' and it's the index of your melted_data DataFrame\n",
    "melted_data['Year'] = melted_data.index.year\n",
    "\n",
    "# Define a function to create 5-year bands\n",
    "def create_5_year_band(year):\n",
    "    return f\"{year // 5 * 5}-{year // 5 * 5 + 4}\"\n",
    "\n",
    "# Apply the function to the 'Year' column to create the 5-year bands\n",
    "melted_data['5_Year_Band'] = melted_data['Year'].apply(create_5_year_band)\n",
    "melted_data.head()\n"
   ]
  },
  {
   "cell_type": "code",
   "execution_count": null,
   "metadata": {
    "id": "wM-e1DWuanml"
   },
   "outputs": [],
   "source": []
  },
  {
   "cell_type": "code",
   "execution_count": null,
   "metadata": {
    "id": "t-Wl8uC-naVh"
   },
   "outputs": [],
   "source": [
    "top_zipcodes_df.index.name"
   ]
  },
  {
   "cell_type": "code",
   "execution_count": null,
   "metadata": {
    "id": "8jRiVT4egzcr"
   },
   "outputs": [],
   "source": [
    "top_zipcodes_df.info()"
   ]
  },
  {
   "cell_type": "markdown",
   "metadata": {
    "id": "UFLHh3O4pUL0"
   },
   "source": [
    "- The data now has 51000 records, i.e. 1000 zipcodes from 51 states."
   ]
  },
  {
   "cell_type": "code",
   "execution_count": null,
   "metadata": {
    "id": "ofamd4-1qP57"
   },
   "outputs": [],
   "source": [
    "top_zipcodes_df.columns"
   ]
  },
  {
   "cell_type": "code",
   "execution_count": null,
   "metadata": {
    "id": "ldmTEOCLs7sp"
   },
   "outputs": [],
   "source": [
    "top_zipcodes_df.describe()"
   ]
  },
  {
   "cell_type": "markdown",
   "metadata": {
    "id": "AIk5-umVg6B6"
   },
   "source": [
    "### **5-year Return on Investment**"
   ]
  },
  {
   "cell_type": "code",
   "execution_count": null,
   "metadata": {
    "id": "SIY6tWiVo_DZ"
   },
   "outputs": [],
   "source": [
    "# # Create a new 'year' column based on the year from the datetime index\n",
    "# top_zipcodes_df['Year'] = top_zipcodes_df.index.year\n",
    "\n",
    "# # Define a function to group dates into 5-year periods\n",
    "# def create_5_year_periods(year):\n",
    "#     return f\"{year}-{year+4}\"\n",
    "\n",
    "# # Apply the function to create the '5-year-periods' column\n",
    "# top_zipcodes_df['5-year-periods'] = top_zipcodes_df['Year'].apply(create_5_year_periods)\n",
    "\n",
    "# top_zipcodes_df.tail()"
   ]
  },
  {
   "cell_type": "markdown",
   "metadata": {
    "id": "gtpoFgw4sLlU"
   },
   "source": [
    "#### **Calculate Mean ROI for each 5-year period**"
   ]
  },
  {
   "cell_type": "code",
   "execution_count": null,
   "metadata": {
    "id": "6tf3F4rysI0x"
   },
   "outputs": [],
   "source": [
    "mean_roi_by_period = top_zipcodes_df.groupby('5_Year_Band')['ROI'].mean()\n",
    "\n",
    "# Plotting the data\n",
    "plt.figure(figsize=(10, 6))\n",
    "mean_roi_by_period.plot(kind='bar', color='blue')\n",
    "plt.title('Mean ROI by 5-Year Period')\n",
    "plt.xlabel('5-Year Period')\n",
    "plt.ylabel('Mean ROI')\n",
    "plt.xticks(rotation=45)\n",
    "plt.tight_layout()\n",
    "plt.show()"
   ]
  },
  {
   "cell_type": "markdown",
   "metadata": {
    "id": "9zoB7987OsD2"
   },
   "source": [
    "### **Determine the top 5 zip codes that show the highest potential return on investment (ROI)**"
   ]
  },
  {
   "cell_type": "code",
   "execution_count": null,
   "metadata": {
    "id": "5tySigYZOVK-"
   },
   "outputs": [],
   "source": [
    "# Create a DataFrame of the top 5 zip codes\n",
    "top_zipcodes_ROI = pd.DataFrame(top_zipcodes_df.groupby(\"ZipCode\")[\"ROI\"].mean().sort_values(ascending=False).head(5))\n",
    "print(top_zipcodes_ROI)\n",
    "\n",
    "# Create a bar chart of the average ROI\n",
    "fig, ax = plt.subplots(1, 1, figsize=(10, 5))\n",
    "top_zipcodes_ROI.plot(kind='bar', ax=ax, color=\"blue\")\n",
    "\n",
    "# Set the title, labels, and ticks\n",
    "plt.title(\"Zipcodes with the Highest ROI\")\n",
    "ax.set_ylabel(\"Average ROI\");\n",
    "ax.set_xlabel(\"Zipcodes\")\n",
    "# plt.xticks(fontsize= 18)\n",
    "\n",
    "# Show the bar chart\n",
    "plt.show()"
   ]
  },
  {
   "cell_type": "code",
   "execution_count": null,
   "metadata": {
    "id": "2p-SAHYZyKbB"
   },
   "outputs": [],
   "source": [
    "#top 5 zipcodes in terms of ROI\n",
    "top_5_zipcodes_ROI =['10021', '31561', '10011', '11231', '10014']\n",
    "\n",
    "top5_roi_df = top_zipcodes_df[top_zipcodes_df['ZipCode'].isin(top_5_zipcodes_ROI)]\n",
    "top5_roi_df.head()"
   ]
  },
  {
   "cell_type": "code",
   "execution_count": null,
   "metadata": {
    "id": "WXpsxBJIPF4X"
   },
   "outputs": [],
   "source": [
    "# Create a DataFrame of the top 5 zip codes\n",
    "top_zipcodes_CV = pd.DataFrame(top_zipcodes_df.groupby(\"ZipCode\")[\"CV\"].mean().sort_values(ascending=False).head(5))\n",
    "print(top_zipcodes_CV)\n",
    "\n",
    "# Create a bar chart of the average CV\n",
    "fig, ax = plt.subplots(1, 1, figsize=(10, 5))\n",
    "top_zipcodes_CV.plot(kind='bar', ax=ax, color=\"red\")\n",
    "\n",
    "# Set the title, labels, and ticks\n",
    "plt.title(\"Zipcodes with the Highest CV\")\n",
    "ax.set_ylabel(\"Average CV\");\n",
    "ax.set_xlabel(\"Zipcodes\")\n",
    "# plt.xticks(fontsize= 18)\n",
    "\n",
    "# Show the bar chart\n",
    "plt.show()"
   ]
  },
  {
   "cell_type": "code",
   "execution_count": null,
   "metadata": {
    "id": "uaWCE8mE1kWG"
   },
   "outputs": [],
   "source": [
    "#top 5 zipcodes in terms of CV\n",
    "top_5_zipcodes_CV =['56041', '2116', '16102', '43013', '24054']\n",
    "\n",
    "top5_cv_df = top_zipcodes_df[top_zipcodes_df['ZipCode'].isin(top_5_zipcodes_CV)]\n",
    "top5_cv_df.head()"
   ]
  },
  {
   "cell_type": "markdown",
   "metadata": {
    "id": "agLRtzeWUsJZ"
   },
   "source": [
    "### **Determine the 5 Least Advisable Cities to Invest in**"
   ]
  },
  {
   "cell_type": "code",
   "execution_count": null,
   "metadata": {
    "id": "ASFD_4EEUuCr"
   },
   "outputs": [],
   "source": [
    "# Create a DataFrame of the bottom 5 zip codes\n",
    "bottom_zipcodes_ROI = pd.DataFrame(top_zipcodes_df.groupby(\"ZipCode\")[\"ROI\"].mean().sort_values(ascending=False).tail(5))\n",
    "print(bottom_zipcodes_ROI)\n",
    "\n",
    "# Create a bar chart of the average ROI\n",
    "fig, ax = plt.subplots(1, 1, figsize=(10, 5))\n",
    "bottom_zipcodes_ROI.plot(kind='bar', ax=ax, color=\"blue\")\n",
    "\n",
    "# Set the title, labels, and ticks\n",
    "plt.title(\"Zipcodes with the Lowest ROI\")\n",
    "ax.set_ylabel(\"Average ROI\");\n",
    "ax.set_xlabel(\"Zipcodes\")\n",
    "# plt.xticks(fontsize= 18)\n",
    "\n",
    "# Show the bar chart\n",
    "plt.show()"
   ]
  },
  {
   "cell_type": "code",
   "execution_count": null,
   "metadata": {
    "id": "LVJLQcTw0vli"
   },
   "outputs": [],
   "source": [
    "# bottom 5 zipcodes in terms of ROI\n",
    "bottom_5_zipcodes_ROI =['67473', '71075', '24054', '28039', '16102']\n",
    "\n",
    "bottom5_roi_df = top_zipcodes_df[top_zipcodes_df['ZipCode'].isin(bottom_5_zipcodes_ROI)]\n",
    "bottom5_df.head()"
   ]
  },
  {
   "cell_type": "code",
   "execution_count": null,
   "metadata": {
    "id": "wRemzxRqUuJL"
   },
   "outputs": [],
   "source": [
    "# Create a DataFrame of the bottom 5 zip codes\n",
    "bottom_zipcodes_CV = pd.DataFrame(top_zipcodes_df.groupby(\"ZipCode\")[\"CV\"].mean().sort_values(ascending=False).tail(5))\n",
    "print(bottom_zipcodes_CV)\n",
    "\n",
    "# Create a bar chart of the average ROI\n",
    "fig, ax = plt.subplots(1, 1, figsize=(10, 5))\n",
    "bottom_zipcodes_CV.plot(kind='bar', ax=ax, color=\"red\")\n",
    "\n",
    "# Set the title, labels, and ticks\n",
    "plt.title(\"Zipcodes with the Lowest CV\")\n",
    "ax.set_ylabel(\"Average ROI\");\n",
    "ax.set_xlabel(\"Zipcodes\")\n",
    "# plt.xticks(fontsize= 18)\n",
    "\n",
    "# Show the bar chart\n",
    "plt.show()"
   ]
  },
  {
   "cell_type": "code",
   "execution_count": null,
   "metadata": {
    "id": "aD3AXYsZ1LSD"
   },
   "outputs": [],
   "source": [
    "# bottom 5 zipcodes in terms of CV\n",
    "bottom_5_zipcodes_CV =['38139', '74137', '46037', '46077', '44040']\n",
    "\n",
    "bottom5_cv_df = top_zipcodes_df[top_zipcodes_df['ZipCode'].isin(bottom_5_zipcodes_CV)]\n",
    "bottom5_cv_df.head()"
   ]
  },
  {
   "cell_type": "markdown",
   "metadata": {
    "id": "2zFPBYKzVxqJ"
   },
   "source": [
    "### **Which are the Top 5 Metro Areas and States with the Highest Market Performance in Terms of Price Growth** (correct graph)"
   ]
  },
  {
   "cell_type": "code",
   "execution_count": null,
   "metadata": {
    "id": "zNly3O32ZI7t"
   },
   "outputs": [],
   "source": [
    "# Group the data by metro area and state and calculate the mean ROI\n",
    "top_metro_areas_df = top_zipcodes_df.groupby([\"Metro\", \"State\"])[\"ROI\"].mean()\n",
    "\n",
    "# Sort by mean ROI\n",
    "top_metro_areas_df = top_metro_areas_df.sort_values(ascending=True)\n",
    "\n",
    "# Get the top 5 metropolitan areas\n",
    "top_5_metro_areas = top_metro_areas_df.index[:5]\n",
    "\n",
    "# Print the top 5 metropolitan areas\n",
    "print(\"Top 5 Metropolitan Areas with the Highest Market Performance in Terms of Price Growth:\")\n",
    "for metro_area in top_5_metro_areas:\n",
    "    print(metro_area)\n",
    "\n",
    "# Plot a horizontal bar graph\n",
    "plt.figure(figsize=(10, 6))\n",
    "top_metro_areas_df.loc[top_5_metro_areas].plot(kind='barh', color='blue')\n",
    "plt.xlabel('Mean ROI')\n",
    "plt.ylabel('Metro Area, State')\n",
    "plt.title('Top 5 Metropolitan Areas with the Highest Market Performance')\n",
    "plt.tight_layout()\n",
    "plt.show()"
   ]
  },
  {
   "cell_type": "code",
   "execution_count": null,
   "metadata": {
    "id": "AIq75xLHZI4y"
   },
   "outputs": [],
   "source": [
    "# Group the data by state and calculate the mean ROI\n",
    "top_cities_df = top_zipcodes_df.groupby([\"City\", \"State\"])[\"ROI\"].mean()\n",
    "\n",
    "# Sort by mean ROI\n",
    "top_cities_df = top_cities_df.sort_values(ascending=False)\n",
    "\n",
    "# Get the top 5 states\n",
    "top_cities_df = top_cities_df.index[:5]\n",
    "\n",
    "# Print the top 5 states\n",
    "print(\"Top 5 Cities with the Highest Market Performance in Terms of Price Growth:\")\n",
    "for city in top_cities_df:\n",
    "    print(city)"
   ]
  },
  {
   "cell_type": "code",
   "execution_count": null,
   "metadata": {
    "id": "PwrpVhY7E21y"
   },
   "outputs": [],
   "source": []
  },
  {
   "cell_type": "markdown",
   "metadata": {
    "id": "XTWqX-JeaZeS"
   },
   "source": [
    "### **Determine the best month to invest to maximize ROI**"
   ]
  },
  {
   "cell_type": "code",
   "execution_count": null,
   "metadata": {
    "id": "5p12bCvKZIzk"
   },
   "outputs": [],
   "source": [
    "# Group the data by month and calculate the mean ROI\n",
    "monthly_roi_df = top_zipcodes_df.groupby(\"Date\")[\"ROI\"].mean()\n",
    "\n",
    "# Sort by mean ROI\n",
    "monthly_roi_df = monthly_roi_df.sort_values(ascending=False)\n",
    "\n",
    "# Get the month with the highest mean ROI\n",
    "best_month = monthly_roi_df.index[0]\n",
    "\n",
    "# Print the best month\n",
    "print(\"The best month to invest to maximize ROI is:\", best_month)"
   ]
  },
  {
   "cell_type": "code",
   "execution_count": null,
   "metadata": {
    "id": "2N9ZIZLPdgia"
   },
   "outputs": [],
   "source": [
    "monthly_roi_df.head()"
   ]
  },
  {
   "cell_type": "code",
   "execution_count": null,
   "metadata": {
    "id": "vprS7TsGbMky"
   },
   "outputs": [],
   "source": [
    "monthly_data = top_zipcodes_df['Value'].resample('MS').mean()\n",
    "monthly_data = monthly_data.fillna(monthly_data.bfill())\n",
    "monthly_data.plot(figsize=(8,5))\n",
    "plt.title('Average Home Value By Month')\n",
    "plt.ylabel('Value')\n",
    "plt.show()\n",
    "print(\"Earliest Dates\")\n",
    "print(monthly_data.head())\n",
    "print()\n",
    "print(\"Most Recent\")\n",
    "print(monthly_data.tail())"
   ]
  },
  {
   "cell_type": "code",
   "execution_count": null,
   "metadata": {
    "id": "UKbStG7kdRse"
   },
   "outputs": [],
   "source": [
    "monthly_data['2012':].plot(figsize=(8,5))"
   ]
  },
  {
   "cell_type": "markdown",
   "metadata": {
    "id": "iw4aLGHHxZki"
   },
   "source": [
    "## Modeling\n",
    "- To begin the modelling, the data will be checked for `trend`, `seasonality` and `residuals`."
   ]
  },
  {
   "cell_type": "markdown",
   "metadata": {
    "id": "ttJPl9Lt-3JW"
   },
   "source": [
    "### Checking for Trend (correct this)"
   ]
  },
  {
   "cell_type": "code",
   "execution_count": null,
   "metadata": {
    "id": "V9lhTMFs-2pB"
   },
   "outputs": [],
   "source": [
    "#checking for trends in the dataset\n",
    "\n",
    "# Calculate mean ROI for each ZipCode and sort in descending order\n",
    "top_zipcodes_by_mean_roi = top_zipcodes_df.groupby(\"ZipCode\")[\"ROI\"].mean().sort_values(ascending=False).head(20)\n",
    "\n",
    "for zip_code, region_data in top_zipcodes_by_mean_roi.groupby(\"ZipCode\"):\n",
    "  zipcode_data = top_zipcodes_df[top_zipcodes_df[\"ZipCode\"] == zip_code]\n",
    "  values = zipcode_data['ROI'].mean()  # Select the mean 'ROI'\n",
    "  plt.plot(values, label=zip_code)  # Plot the values with zip code as label\n",
    "\n",
    "plt.xlabel('Time')\n",
    "plt.ylabel('ROI')\n",
    "plt.title('Line Plot by Zip Code')\n",
    "plt.legend()\n",
    "plt.show()"
   ]
  },
  {
   "cell_type": "code",
   "execution_count": null,
   "metadata": {
    "id": "OOFglQr29o1l"
   },
   "outputs": [],
   "source": [
    "def seasonal_decomposition(df):\n",
    "    decomposition = seasonal_decompose(df)\n",
    "\n",
    "    # Gather the trend, seasonality, and residuals\n",
    "    trend = decomposition.trend\n",
    "    seasonal = decomposition.seasonal\n",
    "    residual = decomposition.resid\n",
    "\n",
    "    # Plot gathered statistics\n",
    "    plt.figure(figsize=(8,8))\n",
    "    plt.subplot(411)\n",
    "    plt.plot(df, label='Original', color='blue')\n",
    "    #plt.plot(ts, label='Original', color='blue')\n",
    "    plt.legend(loc='best')\n",
    "    plt.subplot(412)\n",
    "    plt.plot(trend, label='Trend', color='blue')\n",
    "    plt.legend(loc='best')\n",
    "    plt.subplot(413)\n",
    "    plt.plot(seasonal,label='Seasonality', color='blue')\n",
    "    plt.legend(loc='best')\n",
    "    plt.subplot(414)\n",
    "    plt.plot(residual, label='Residuals', color='blue')\n",
    "    plt.legend(loc='best')\n",
    "    plt.tight_layout()"
   ]
  },
  {
   "cell_type": "markdown",
   "metadata": {
    "id": "motJJG7N6Hid"
   },
   "source": [
    "### Check for Seasonality"
   ]
  },
  {
   "cell_type": "code",
   "execution_count": null,
   "metadata": {
    "id": "6mtFoS6SyLE9"
   },
   "outputs": [],
   "source": [
    "seasonal_decompose(top_zipcodes_df[\"ROI\"])"
   ]
  },
  {
   "cell_type": "markdown",
   "metadata": {
    "id": "WGVDq26N3K31"
   },
   "source": [
    "### Check for Stationarity"
   ]
  },
  {
   "cell_type": "code",
   "execution_count": null,
   "metadata": {
    "id": "D1o--mFPyLJR"
   },
   "outputs": [],
   "source": [
    "# Extract the 'ROI' column for analysis\n",
    "roi_series = top_zipcodes_df['ROI']\n",
    "\n",
    "# Apply the ADF test\n",
    "result = adfuller(roi_series)\n",
    "\n",
    "# Print the ADF test results\n",
    "print(\"ADF Statistic:\", result[0])\n",
    "print(\"p-value:\", result[1])\n",
    "print(\"Critical Values:\", result[4])\n",
    "print(\"Is Stationary:\", \"No\" if result[1] > 0.05 else \"Yes\")\n"
   ]
  },
  {
   "cell_type": "markdown",
   "metadata": {
    "id": "nV4okxsN6nLN"
   },
   "source": [
    "- The series `**is stationary**` because the p-value is less than 0.05.\n",
    "- There will be no need to difference."
   ]
  },
  {
   "cell_type": "code",
   "execution_count": null,
   "metadata": {
    "id": "w0HkDXqFyLHA"
   },
   "outputs": [],
   "source": [
    "# Checking by State\n",
    "grouped = top_zipcodes_df.groupby('State')\n",
    "\n",
    "# For each group (State) apply ADF test\n",
    "for state, group in grouped:\n",
    "\n",
    "    # Extract the ROI values for the current state\n",
    "    roi_values = group['ROI']\n",
    "\n",
    "    # Performing Augmented Dickey Fuller test\n",
    "    result = adfuller(roi_values)\n",
    "\n",
    "    # Print State Name, Test Statistics and p-value\n",
    "    print(f\"State: {state}\")\n",
    "    print(f\"Test Statistics: {result[0]}\")\n",
    "    print(f\"p-value: {result[1]}\")\n",
    "\n",
    "    # Determine if the data is stationary\n",
    "    if result[1] < 0.05:\n",
    "        print(\"Data is stationary\")\n",
    "    else:\n",
    "        print(\"Data is not stationary\")\n",
    "\n",
    "    print(\"\\n\")\n"
   ]
  },
  {
   "cell_type": "markdown",
   "metadata": {
    "id": "JeaA7je-BxiJ"
   },
   "source": [
    "ARIMA"
   ]
  },
  {
   "cell_type": "code",
   "execution_count": null,
   "metadata": {
    "id": "E7OpmL9gyLC0"
   },
   "outputs": [],
   "source": []
  },
  {
   "cell_type": "code",
   "execution_count": null,
   "metadata": {
    "id": "ZHPWfMb0yLAY"
   },
   "outputs": [],
   "source": []
  },
  {
   "cell_type": "code",
   "execution_count": null,
   "metadata": {
    "id": "mr4L4y12yK99"
   },
   "outputs": [],
   "source": []
  },
  {
   "cell_type": "code",
   "execution_count": null,
   "metadata": {
    "id": "LbHh42D6yK7u"
   },
   "outputs": [],
   "source": []
  },
  {
   "cell_type": "code",
   "execution_count": null,
   "metadata": {
    "id": "3Xhjw68gyK5l"
   },
   "outputs": [],
   "source": [
    "# top_zipcodes_df to csv\n",
    "csv_file_path = 'top_zipcodes_data.csv'\n",
    "top_zipcodes_df.to_csv(csv_file_path, index=False)"
   ]
  }
 ],
 "metadata": {
  "colab": {
   "authorship_tag": "ABX9TyN4UJU7bMeJMUp4WcCNwqm9",
   "provenance": [
    {
     "file_id": "1Qrtq2mBS5q7JcJqbzkJ6bOM3IVOtj7zV",
     "timestamp": 1692809499518
    }
   ]
  },
  "kernelspec": {
   "display_name": "Python (learn-env)",
   "language": "python",
   "name": "learn-env"
  },
  "language_info": {
   "codemirror_mode": {
    "name": "ipython",
    "version": 3
   },
   "file_extension": ".py",
   "mimetype": "text/x-python",
   "name": "python",
   "nbconvert_exporter": "python",
   "pygments_lexer": "ipython3",
   "version": "3.8.5"
  },
  "toc": {
   "base_numbering": 1,
   "nav_menu": {},
   "number_sections": true,
   "sideBar": true,
   "skip_h1_title": true,
   "title_cell": "Table of Contents",
   "title_sidebar": "Contents",
   "toc_cell": false,
   "toc_position": {
    "height": "688.182px",
    "left": "1396.36px",
    "top": "110.781px",
    "width": "349.091px"
   },
   "toc_section_display": true,
   "toc_window_display": true
  }
 },
 "nbformat": 4,
 "nbformat_minor": 1
}
