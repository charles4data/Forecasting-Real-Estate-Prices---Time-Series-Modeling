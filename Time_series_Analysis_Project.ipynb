{
 "cells": [
  {
   "cell_type": "markdown",
   "metadata": {
    "id": "9N8ufMpQfeZf"
   },
   "source": [
    "# TIME SERIES ANALYSIS FOR REAL ESTATE INVESTMENT"
   ]
  },
  {
   "cell_type": "markdown",
   "metadata": {
    "id": "S3UDuF8ZfSBq"
   },
   "source": [
    "## Group 8 Project Collaborators\n",
    "\n",
    "**Students Names:**  \n",
    "    1. Sammy Sifuna  \n",
    "    2. Julius Charles  \n",
    "    3. Waruchu Kuria  \n",
    "    4. Rael Ndonye  \n",
    "    5. Alan Omondi  \n",
    "    6. Janet Khainza"
   ]
  },
  {
   "attachments": {},
   "cell_type": "markdown",
   "metadata": {
    "id": "l9gUP8Ptfx0L"
   },
   "source": [
    "## 1.0 Business Understanding\n",
    "       \n",
    "### 1.1 Background\n",
    "Between `1996` to `2018`, the U.S. real estate market underwent significant transformations. It commenced with an increase in home prices driven by a growing perception of real estate as a valuable long-term investment. However, the Great Recession between `2007` to `2009` brought about extensive declines in home values, triggering foreclosures and eroding trust.\n",
    "Over time,low interest rates and government interventions helped restore stability and confidence in the market. Urbanization gained momentum as more people gravitated towards cities, younger individuals entered the housing market, and technology assumed a pivotal role. Although certain cities thrived, others faced challenges. Regulatory reforms were introduced to prevent potential crises. In conclusion, this era marked a period of adaptation and evolution in the dynamics of buying and selling homes.\n",
    "![Depiction of a Changing Market Prices](images/time-series-analysis.jpg)\n",
    "\n",
    "\n",
    "### 1.2 Problem Statement\n",
    "Waridi Investments, a recently established real estate investment firm, has engaged our services to identify the top `5 zip codes with the potential for the highest return on investment when they sell in 5 years`. Their strategic approach is to initiate short-term investments in one of the most thriving real estate markets in the United States of America. The company places significant emphasis on securing sound investments that ensure consistent cash flow, ultimately enabling them to reinvest effectively when the opportune moment arises.\n",
    "\n",
    "### 1.3 Objectives\n",
    "* To determine the top `5 zip codes` that show the highest potential `return on investment (ROI) in 5 years.`\n",
    "* To determine the `5 least advisable cities` to invest in.\n",
    "* To identify which `top 5 metropolitan areas` and states have the highest market performance in terms of price growth.\n",
    "* To determine the best month to invest to maximize ROI.\n",
    "* To show how factors like economic stability(recession) impact housing market performance.\n",
    "\n",
    "#### Hypotheis testing\n",
    "**Null Hypothesis (H0):** `The variables do not help predict future real estate prices`\n",
    "\n",
    "**Alternative Hypothesis (H1):** `The variables predict future real estate prices`"
   ]
  },
  {
   "cell_type": "markdown",
   "metadata": {
    "id": "_eP0KiM0gExS"
   },
   "source": [
    "## 2.0 Data Understanding\n",
    "\n",
    "This data represents median monthly housing sales prices for `265 zip codes in the USA`, over the period of `April 1996 through April 2018` as reported by Zillow.\n",
    "\n",
    "Each row represents a unique zip code. Each record contains location information and median housing sales prices for each month.\n",
    "\n",
    "There are `11568 rows and 272 variables`:\n",
    "\n",
    "* RegionID: Unique index\n",
    "* RegionName: Unique Zip Code\n",
    "* City: City in which the zip code is located\n",
    "* State: State in which the zip code is located\n",
    "* Metro: Metropolitan Area in which the zip code is located\n",
    "* CountyName: County in which the zip code is located\n",
    "* SizeRank: Numerical rank of size of zip code, ranked 1 through 14723\n",
    "* 1996-04 through 2018-04: refers to the median housing sales values for `April 1996 through April 2018`, that is `265 data points` of monthly data for each zip code\n",
    "\n",
    "We shall check for the accuracy of our forecasts using `MSE (Mean Squared Error)`. This will provide us with the average error of our forecasts.\n",
    "\n",
    "#### Assumptions:\n",
    "1. The zip codes are representative of the broader real estate market in the United States.\n",
    "2. The real estate market conditions during this period were influenced by various economic and socio-political factors.\n",
    "3. The data covers a combination of urban, suburban, and rural area.\n",
    "4. The data doesn't reflect significant improvements or renovations made to properties over time that could increase or decrease prices."
   ]
  },
  {
   "cell_type": "code",
   "execution_count": 2,
   "metadata": {
    "executionInfo": {
     "elapsed": 4,
     "status": "ok",
     "timestamp": 1692807729153,
     "user": {
      "displayName": "Waruchu Kuria",
      "userId": "10228095980568770522"
     },
     "user_tz": -180
    },
    "id": "Wn0q7hBlAFjM"
   },
   "outputs": [],
   "source": [
    "# Import libraries\n",
    "import numpy as np\n",
    "import folium\n",
    "import pandas as pd\n",
    "import matplotlib as mpl\n",
    "from matplotlib import pyplot as plt\n",
    "from scipy import stats\n",
    "from random import gauss as gs\n",
    "import math\n",
    "import datetime\n",
    "from sklearn.linear_model import LinearRegression\n",
    "from sklearn.metrics import mean_squared_error\n",
    "from math import sqrt\n",
    "import statsmodels.api as sm\n",
    "from statsmodels.tsa.arima_model import ARMA\n",
    "from statsmodels.tsa.stattools import adfuller, acf, pacf\n",
    "from statsmodels.graphics.tsaplots import plot_acf,plot_pacf\n",
    "from pandas.plotting import autocorrelation_plot, lag_plot\n",
    "from statsmodels.tsa.seasonal import seasonal_decompose\n",
    "from statsmodels.tsa.statespace.sarimax import SARIMAX\n",
    "from pandas.plotting import register_matplotlib_converters\n",
    "register_matplotlib_converters()\n",
    "from statsmodels.graphics.tsaplots import plot_acf, plot_pacf\n",
    "import warnings\n",
    "warnings.filterwarnings('ignore')\n",
    "from matplotlib.pylab import rcParams\n",
    "%matplotlib inline\n",
    "plt.style.use('ggplot')"
   ]
  },
  {
   "cell_type": "code",
   "execution_count": 3,
   "metadata": {
    "colab": {
     "base_uri": "https://localhost:8080/",
     "height": 290
    },
    "executionInfo": {
     "elapsed": 1177,
     "status": "ok",
     "timestamp": 1692807730327,
     "user": {
      "displayName": "Waruchu Kuria",
      "userId": "10228095980568770522"
     },
     "user_tz": -180
    },
    "id": "K1JM1cxNAGxz",
    "outputId": "05bffcfc-28b9-493a-a2ec-8ecc3f26f150"
   },
   "outputs": [
    {
     "data": {
      "text/html": [
       "<div>\n",
       "<style scoped>\n",
       "    .dataframe tbody tr th:only-of-type {\n",
       "        vertical-align: middle;\n",
       "    }\n",
       "\n",
       "    .dataframe tbody tr th {\n",
       "        vertical-align: top;\n",
       "    }\n",
       "\n",
       "    .dataframe thead th {\n",
       "        text-align: right;\n",
       "    }\n",
       "</style>\n",
       "<table border=\"1\" class=\"dataframe\">\n",
       "  <thead>\n",
       "    <tr style=\"text-align: right;\">\n",
       "      <th></th>\n",
       "      <th>RegionID</th>\n",
       "      <th>RegionName</th>\n",
       "      <th>City</th>\n",
       "      <th>State</th>\n",
       "      <th>Metro</th>\n",
       "      <th>CountyName</th>\n",
       "      <th>SizeRank</th>\n",
       "      <th>1996-04</th>\n",
       "      <th>1996-05</th>\n",
       "      <th>1996-06</th>\n",
       "      <th>...</th>\n",
       "      <th>2017-07</th>\n",
       "      <th>2017-08</th>\n",
       "      <th>2017-09</th>\n",
       "      <th>2017-10</th>\n",
       "      <th>2017-11</th>\n",
       "      <th>2017-12</th>\n",
       "      <th>2018-01</th>\n",
       "      <th>2018-02</th>\n",
       "      <th>2018-03</th>\n",
       "      <th>2018-04</th>\n",
       "    </tr>\n",
       "  </thead>\n",
       "  <tbody>\n",
       "    <tr>\n",
       "      <th>0</th>\n",
       "      <td>84654</td>\n",
       "      <td>60657</td>\n",
       "      <td>Chicago</td>\n",
       "      <td>IL</td>\n",
       "      <td>Chicago</td>\n",
       "      <td>Cook</td>\n",
       "      <td>1</td>\n",
       "      <td>334200.0</td>\n",
       "      <td>335400.0</td>\n",
       "      <td>336500.0</td>\n",
       "      <td>...</td>\n",
       "      <td>1005500</td>\n",
       "      <td>1007500</td>\n",
       "      <td>1007800</td>\n",
       "      <td>1009600</td>\n",
       "      <td>1013300</td>\n",
       "      <td>1018700</td>\n",
       "      <td>1024400</td>\n",
       "      <td>1030700</td>\n",
       "      <td>1033800</td>\n",
       "      <td>1030600</td>\n",
       "    </tr>\n",
       "    <tr>\n",
       "      <th>1</th>\n",
       "      <td>90668</td>\n",
       "      <td>75070</td>\n",
       "      <td>McKinney</td>\n",
       "      <td>TX</td>\n",
       "      <td>Dallas-Fort Worth</td>\n",
       "      <td>Collin</td>\n",
       "      <td>2</td>\n",
       "      <td>235700.0</td>\n",
       "      <td>236900.0</td>\n",
       "      <td>236700.0</td>\n",
       "      <td>...</td>\n",
       "      <td>308000</td>\n",
       "      <td>310000</td>\n",
       "      <td>312500</td>\n",
       "      <td>314100</td>\n",
       "      <td>315000</td>\n",
       "      <td>316600</td>\n",
       "      <td>318100</td>\n",
       "      <td>319600</td>\n",
       "      <td>321100</td>\n",
       "      <td>321800</td>\n",
       "    </tr>\n",
       "    <tr>\n",
       "      <th>2</th>\n",
       "      <td>91982</td>\n",
       "      <td>77494</td>\n",
       "      <td>Katy</td>\n",
       "      <td>TX</td>\n",
       "      <td>Houston</td>\n",
       "      <td>Harris</td>\n",
       "      <td>3</td>\n",
       "      <td>210400.0</td>\n",
       "      <td>212200.0</td>\n",
       "      <td>212200.0</td>\n",
       "      <td>...</td>\n",
       "      <td>321000</td>\n",
       "      <td>320600</td>\n",
       "      <td>320200</td>\n",
       "      <td>320400</td>\n",
       "      <td>320800</td>\n",
       "      <td>321200</td>\n",
       "      <td>321200</td>\n",
       "      <td>323000</td>\n",
       "      <td>326900</td>\n",
       "      <td>329900</td>\n",
       "    </tr>\n",
       "    <tr>\n",
       "      <th>3</th>\n",
       "      <td>84616</td>\n",
       "      <td>60614</td>\n",
       "      <td>Chicago</td>\n",
       "      <td>IL</td>\n",
       "      <td>Chicago</td>\n",
       "      <td>Cook</td>\n",
       "      <td>4</td>\n",
       "      <td>498100.0</td>\n",
       "      <td>500900.0</td>\n",
       "      <td>503100.0</td>\n",
       "      <td>...</td>\n",
       "      <td>1289800</td>\n",
       "      <td>1287700</td>\n",
       "      <td>1287400</td>\n",
       "      <td>1291500</td>\n",
       "      <td>1296600</td>\n",
       "      <td>1299000</td>\n",
       "      <td>1302700</td>\n",
       "      <td>1306400</td>\n",
       "      <td>1308500</td>\n",
       "      <td>1307000</td>\n",
       "    </tr>\n",
       "    <tr>\n",
       "      <th>4</th>\n",
       "      <td>93144</td>\n",
       "      <td>79936</td>\n",
       "      <td>El Paso</td>\n",
       "      <td>TX</td>\n",
       "      <td>El Paso</td>\n",
       "      <td>El Paso</td>\n",
       "      <td>5</td>\n",
       "      <td>77300.0</td>\n",
       "      <td>77300.0</td>\n",
       "      <td>77300.0</td>\n",
       "      <td>...</td>\n",
       "      <td>119100</td>\n",
       "      <td>119400</td>\n",
       "      <td>120000</td>\n",
       "      <td>120300</td>\n",
       "      <td>120300</td>\n",
       "      <td>120300</td>\n",
       "      <td>120300</td>\n",
       "      <td>120500</td>\n",
       "      <td>121000</td>\n",
       "      <td>121500</td>\n",
       "    </tr>\n",
       "  </tbody>\n",
       "</table>\n",
       "<p>5 rows × 272 columns</p>\n",
       "</div>"
      ],
      "text/plain": [
       "   RegionID  RegionName      City State              Metro CountyName  \\\n",
       "0     84654       60657   Chicago    IL            Chicago       Cook   \n",
       "1     90668       75070  McKinney    TX  Dallas-Fort Worth     Collin   \n",
       "2     91982       77494      Katy    TX            Houston     Harris   \n",
       "3     84616       60614   Chicago    IL            Chicago       Cook   \n",
       "4     93144       79936   El Paso    TX            El Paso    El Paso   \n",
       "\n",
       "   SizeRank   1996-04   1996-05   1996-06  ...  2017-07  2017-08  2017-09  \\\n",
       "0         1  334200.0  335400.0  336500.0  ...  1005500  1007500  1007800   \n",
       "1         2  235700.0  236900.0  236700.0  ...   308000   310000   312500   \n",
       "2         3  210400.0  212200.0  212200.0  ...   321000   320600   320200   \n",
       "3         4  498100.0  500900.0  503100.0  ...  1289800  1287700  1287400   \n",
       "4         5   77300.0   77300.0   77300.0  ...   119100   119400   120000   \n",
       "\n",
       "   2017-10  2017-11  2017-12  2018-01  2018-02  2018-03  2018-04  \n",
       "0  1009600  1013300  1018700  1024400  1030700  1033800  1030600  \n",
       "1   314100   315000   316600   318100   319600   321100   321800  \n",
       "2   320400   320800   321200   321200   323000   326900   329900  \n",
       "3  1291500  1296600  1299000  1302700  1306400  1308500  1307000  \n",
       "4   120300   120300   120300   120300   120500   121000   121500  \n",
       "\n",
       "[5 rows x 272 columns]"
      ]
     },
     "execution_count": 3,
     "metadata": {},
     "output_type": "execute_result"
    }
   ],
   "source": [
    "#loading dataset and viewing first 5 rows\n",
    "data = pd.read_csv('data/zillow_data.csv')\n",
    "\n",
    "data.head()"
   ]
  },
  {
   "cell_type": "code",
   "execution_count": 4,
   "metadata": {
    "colab": {
     "base_uri": "https://localhost:8080/"
    },
    "executionInfo": {
     "elapsed": 16,
     "status": "ok",
     "timestamp": 1692807730327,
     "user": {
      "displayName": "Waruchu Kuria",
      "userId": "10228095980568770522"
     },
     "user_tz": -180
    },
    "id": "NS1vwFavhcb8",
    "outputId": "617fd6f9-c3f6-4a02-cc54-e74c665352bb"
   },
   "outputs": [
    {
     "name": "stdout",
     "output_type": "stream",
     "text": [
      "<class 'pandas.core.frame.DataFrame'>\n",
      "RangeIndex: 14723 entries, 0 to 14722\n",
      "Columns: 272 entries, RegionID to 2018-04\n",
      "dtypes: float64(219), int64(49), object(4)\n",
      "memory usage: 30.6+ MB\n"
     ]
    }
   ],
   "source": [
    "data.info()"
   ]
  },
  {
   "cell_type": "code",
   "execution_count": 5,
   "metadata": {
    "colab": {
     "base_uri": "https://localhost:8080/"
    },
    "executionInfo": {
     "elapsed": 14,
     "status": "ok",
     "timestamp": 1692807730327,
     "user": {
      "displayName": "Waruchu Kuria",
      "userId": "10228095980568770522"
     },
     "user_tz": -180
    },
    "id": "3TznssuiAQm7",
    "outputId": "e2893ae8-06c1-438a-c45f-d215635d9c33"
   },
   "outputs": [
    {
     "data": {
      "text/plain": [
       "Index(['RegionID', 'RegionName', 'City', 'State', 'Metro', 'CountyName',\n",
       "       'SizeRank', '1996-04', '1996-05', '1996-06',\n",
       "       ...\n",
       "       '2017-07', '2017-08', '2017-09', '2017-10', '2017-11', '2017-12',\n",
       "       '2018-01', '2018-02', '2018-03', '2018-04'],\n",
       "      dtype='object', length=272)"
      ]
     },
     "execution_count": 5,
     "metadata": {},
     "output_type": "execute_result"
    }
   ],
   "source": [
    "data.columns"
   ]
  },
  {
   "cell_type": "code",
   "execution_count": 6,
   "metadata": {
    "colab": {
     "base_uri": "https://localhost:8080/"
    },
    "executionInfo": {
     "elapsed": 12,
     "status": "ok",
     "timestamp": 1692807730328,
     "user": {
      "displayName": "Waruchu Kuria",
      "userId": "10228095980568770522"
     },
     "user_tz": -180
    },
    "id": "dfZUA0asAQke",
    "outputId": "162ad006-bcb5-4d97-d2fd-45aada4f61b7"
   },
   "outputs": [
    {
     "data": {
      "text/plain": [
       "(14723, 272)"
      ]
     },
     "execution_count": 6,
     "metadata": {},
     "output_type": "execute_result"
    }
   ],
   "source": [
    "# Examine the shape of the dataset\n",
    "data.shape"
   ]
  },
  {
   "cell_type": "code",
   "execution_count": 110,
   "metadata": {
    "colab": {
     "base_uri": "https://localhost:8080/"
    },
    "executionInfo": {
     "elapsed": 10,
     "status": "ok",
     "timestamp": 1692807730328,
     "user": {
      "displayName": "Waruchu Kuria",
      "userId": "10228095980568770522"
     },
     "user_tz": -180
    },
    "id": "Pb_Mhs8BAQiL",
    "outputId": "26f720d1-a562-4418-edd9-8eae7e7f16d1"
   },
   "outputs": [
    {
     "name": "stdout",
     "output_type": "stream",
     "text": [
      "Total number of zipcodes: 14723\n"
     ]
    },
    {
     "data": {
      "text/plain": [
       "RegionID         0\n",
       "RegionName       0\n",
       "City             0\n",
       "State            0\n",
       "Metro         1043\n",
       "CountyName       0\n",
       "SizeRank         0\n",
       "1996-04       1039\n",
       "1996-05       1039\n",
       "1996-06       1039\n",
       "1996-07       1039\n",
       "1996-08       1039\n",
       "1996-09       1039\n",
       "1996-10       1039\n",
       "1996-11       1039\n",
       "1996-12       1039\n",
       "1997-01       1039\n",
       "1997-02       1039\n",
       "1997-03       1039\n",
       "1997-04       1039\n",
       "dtype: int64"
      ]
     },
     "execution_count": 110,
     "metadata": {},
     "output_type": "execute_result"
    }
   ],
   "source": [
    "# Viewing number of zipcodes in dataset and nan values\n",
    "print('Total number of zipcodes:', len(data))\n",
    "data.iloc[:, :20].isna().sum()"
   ]
  },
  {
   "cell_type": "code",
   "execution_count": 111,
   "metadata": {
    "colab": {
     "base_uri": "https://localhost:8080/"
    },
    "executionInfo": {
     "elapsed": 8,
     "status": "ok",
     "timestamp": 1692807730328,
     "user": {
      "displayName": "Waruchu Kuria",
      "userId": "10228095980568770522"
     },
     "user_tz": -180
    },
    "id": "s-EUXAmnAQfi",
    "outputId": "24f5c2eb-68dd-409e-ada7-7bf8e7236a9f"
   },
   "outputs": [
    {
     "data": {
      "text/plain": [
       "RegionID        int64\n",
       "RegionName      int64\n",
       "City           object\n",
       "State          object\n",
       "Metro          object\n",
       "CountyName     object\n",
       "SizeRank        int64\n",
       "1996-04       float64\n",
       "1996-05       float64\n",
       "1996-06       float64\n",
       "dtype: object"
      ]
     },
     "execution_count": 111,
     "metadata": {},
     "output_type": "execute_result"
    }
   ],
   "source": [
    "#Inspecting dataframe dtypes\n",
    "\n",
    "data.iloc[:, :10].dtypes"
   ]
  },
  {
   "cell_type": "code",
   "execution_count": 112,
   "metadata": {
    "colab": {
     "base_uri": "https://localhost:8080/"
    },
    "executionInfo": {
     "elapsed": 7,
     "status": "ok",
     "timestamp": 1692807730329,
     "user": {
      "displayName": "Waruchu Kuria",
      "userId": "10228095980568770522"
     },
     "user_tz": -180
    },
    "id": "zNzSXdLkAexT",
    "outputId": "38622893-97aa-4064-d48f-27d3f6fc2a66"
   },
   "outputs": [
    {
     "name": "stdout",
     "output_type": "stream",
     "text": [
      "string\n"
     ]
    }
   ],
   "source": [
    "# change 'RegionName' column to 'ZipCode' to avoid confusion\n",
    "data.rename(columns={'RegionName': 'ZipCode'}, inplace=True)\n",
    "\n",
    "data.ZipCode = data.ZipCode.astype('string')\n",
    "\n",
    "#confirming the change\n",
    "print(data.dtypes[\"ZipCode\"])"
   ]
  },
  {
   "cell_type": "code",
   "execution_count": 113,
   "metadata": {
    "colab": {
     "base_uri": "https://localhost:8080/"
    },
    "executionInfo": {
     "elapsed": 597,
     "status": "ok",
     "timestamp": 1692807730921,
     "user": {
      "displayName": "Waruchu Kuria",
      "userId": "10228095980568770522"
     },
     "user_tz": -180
    },
    "id": "xQInn49aAok9",
    "outputId": "28ae391d-0737-4dd9-eecb-79f6bcf55fe2"
   },
   "outputs": [
    {
     "data": {
      "text/plain": [
       "0"
      ]
     },
     "execution_count": 113,
     "metadata": {},
     "output_type": "execute_result"
    }
   ],
   "source": [
    "# check for duplicates\n",
    "data.duplicated().sum()"
   ]
  },
  {
   "cell_type": "code",
   "execution_count": 114,
   "metadata": {
    "colab": {
     "base_uri": "https://localhost:8080/"
    },
    "executionInfo": {
     "elapsed": 19,
     "status": "ok",
     "timestamp": 1692807730923,
     "user": {
      "displayName": "Waruchu Kuria",
      "userId": "10228095980568770522"
     },
     "user_tz": -180
    },
    "id": "TJS4GzZSAoi5",
    "outputId": "62dcd779-e528-4825-b320-d5e385fac215"
   },
   "outputs": [
    {
     "data": {
      "text/plain": [
       "RegionID       0\n",
       "ZipCode        0\n",
       "City           0\n",
       "State          0\n",
       "Metro       1043\n",
       "            ... \n",
       "2017-12        0\n",
       "2018-01        0\n",
       "2018-02        0\n",
       "2018-03        0\n",
       "2018-04        0\n",
       "Length: 272, dtype: int64"
      ]
     },
     "execution_count": 114,
     "metadata": {},
     "output_type": "execute_result"
    }
   ],
   "source": [
    "# all missing data because of the datatime appearing as columns\n",
    "data.isnull().sum()"
   ]
  },
  {
   "cell_type": "markdown",
   "metadata": {
    "id": "nLXCJ9mRHPfG"
   },
   "source": [
    "## **Exploratory Data Analysis(EDA) and Feature Engineering**"
   ]
  },
  {
   "cell_type": "markdown",
   "metadata": {
    "id": "a7KehqlqiOIb"
   },
   "source": [
    "### **Missing Values**\n",
    "\n",
    "There are some missing values in the `Metro` and `dates` columns."
   ]
  },
  {
   "cell_type": "code",
   "execution_count": 115,
   "metadata": {
    "colab": {
     "base_uri": "https://localhost:8080/",
     "height": 423
    },
    "executionInfo": {
     "elapsed": 15,
     "status": "ok",
     "timestamp": 1692807730923,
     "user": {
      "displayName": "Waruchu Kuria",
      "userId": "10228095980568770522"
     },
     "user_tz": -180
    },
    "id": "1kEdDCb-AogG",
    "outputId": "7d380b27-69a8-47a4-dbef-85e564135865"
   },
   "outputs": [
    {
     "data": {
      "text/html": [
       "\n",
       "  <div id=\"df-d0d9153f-3da2-4c10-918f-2dc35bd1c374\" class=\"colab-df-container\">\n",
       "    <div>\n",
       "<style scoped>\n",
       "    .dataframe tbody tr th:only-of-type {\n",
       "        vertical-align: middle;\n",
       "    }\n",
       "\n",
       "    .dataframe tbody tr th {\n",
       "        vertical-align: top;\n",
       "    }\n",
       "\n",
       "    .dataframe thead th {\n",
       "        text-align: right;\n",
       "    }\n",
       "</style>\n",
       "<table border=\"1\" class=\"dataframe\">\n",
       "  <thead>\n",
       "    <tr style=\"text-align: right;\">\n",
       "      <th></th>\n",
       "      <th>0</th>\n",
       "    </tr>\n",
       "  </thead>\n",
       "  <tbody>\n",
       "    <tr>\n",
       "      <th>Metro</th>\n",
       "      <td>1043</td>\n",
       "    </tr>\n",
       "    <tr>\n",
       "      <th>1996-04</th>\n",
       "      <td>1039</td>\n",
       "    </tr>\n",
       "    <tr>\n",
       "      <th>1996-05</th>\n",
       "      <td>1039</td>\n",
       "    </tr>\n",
       "    <tr>\n",
       "      <th>1996-06</th>\n",
       "      <td>1039</td>\n",
       "    </tr>\n",
       "    <tr>\n",
       "      <th>1996-07</th>\n",
       "      <td>1039</td>\n",
       "    </tr>\n",
       "    <tr>\n",
       "      <th>...</th>\n",
       "      <td>...</td>\n",
       "    </tr>\n",
       "    <tr>\n",
       "      <th>2014-02</th>\n",
       "      <td>56</td>\n",
       "    </tr>\n",
       "    <tr>\n",
       "      <th>2014-03</th>\n",
       "      <td>56</td>\n",
       "    </tr>\n",
       "    <tr>\n",
       "      <th>2014-04</th>\n",
       "      <td>56</td>\n",
       "    </tr>\n",
       "    <tr>\n",
       "      <th>2014-05</th>\n",
       "      <td>56</td>\n",
       "    </tr>\n",
       "    <tr>\n",
       "      <th>2014-06</th>\n",
       "      <td>56</td>\n",
       "    </tr>\n",
       "  </tbody>\n",
       "</table>\n",
       "<p>220 rows × 1 columns</p>\n",
       "</div>\n",
       "    <div class=\"colab-df-buttons\">\n",
       "\n",
       "  <div class=\"colab-df-container\">\n",
       "    <button class=\"colab-df-convert\" onclick=\"convertToInteractive('df-d0d9153f-3da2-4c10-918f-2dc35bd1c374')\"\n",
       "            title=\"Convert this dataframe to an interactive table.\"\n",
       "            style=\"display:none;\">\n",
       "\n",
       "  <svg xmlns=\"http://www.w3.org/2000/svg\" height=\"24px\" viewBox=\"0 -960 960 960\">\n",
       "    <path d=\"M120-120v-720h720v720H120Zm60-500h600v-160H180v160Zm220 220h160v-160H400v160Zm0 220h160v-160H400v160ZM180-400h160v-160H180v160Zm440 0h160v-160H620v160ZM180-180h160v-160H180v160Zm440 0h160v-160H620v160Z\"/>\n",
       "  </svg>\n",
       "    </button>\n",
       "\n",
       "  <style>\n",
       "    .colab-df-container {\n",
       "      display:flex;\n",
       "      gap: 12px;\n",
       "    }\n",
       "\n",
       "    .colab-df-convert {\n",
       "      background-color: #E8F0FE;\n",
       "      border: none;\n",
       "      border-radius: 50%;\n",
       "      cursor: pointer;\n",
       "      display: none;\n",
       "      fill: #1967D2;\n",
       "      height: 32px;\n",
       "      padding: 0 0 0 0;\n",
       "      width: 32px;\n",
       "    }\n",
       "\n",
       "    .colab-df-convert:hover {\n",
       "      background-color: #E2EBFA;\n",
       "      box-shadow: 0px 1px 2px rgba(60, 64, 67, 0.3), 0px 1px 3px 1px rgba(60, 64, 67, 0.15);\n",
       "      fill: #174EA6;\n",
       "    }\n",
       "\n",
       "    .colab-df-buttons div {\n",
       "      margin-bottom: 4px;\n",
       "    }\n",
       "\n",
       "    [theme=dark] .colab-df-convert {\n",
       "      background-color: #3B4455;\n",
       "      fill: #D2E3FC;\n",
       "    }\n",
       "\n",
       "    [theme=dark] .colab-df-convert:hover {\n",
       "      background-color: #434B5C;\n",
       "      box-shadow: 0px 1px 3px 1px rgba(0, 0, 0, 0.15);\n",
       "      filter: drop-shadow(0px 1px 2px rgba(0, 0, 0, 0.3));\n",
       "      fill: #FFFFFF;\n",
       "    }\n",
       "  </style>\n",
       "\n",
       "    <script>\n",
       "      const buttonEl =\n",
       "        document.querySelector('#df-d0d9153f-3da2-4c10-918f-2dc35bd1c374 button.colab-df-convert');\n",
       "      buttonEl.style.display =\n",
       "        google.colab.kernel.accessAllowed ? 'block' : 'none';\n",
       "\n",
       "      async function convertToInteractive(key) {\n",
       "        const element = document.querySelector('#df-d0d9153f-3da2-4c10-918f-2dc35bd1c374');\n",
       "        const dataTable =\n",
       "          await google.colab.kernel.invokeFunction('convertToInteractive',\n",
       "                                                    [key], {});\n",
       "        if (!dataTable) return;\n",
       "\n",
       "        const docLinkHtml = 'Like what you see? Visit the ' +\n",
       "          '<a target=\"_blank\" href=https://colab.research.google.com/notebooks/data_table.ipynb>data table notebook</a>'\n",
       "          + ' to learn more about interactive tables.';\n",
       "        element.innerHTML = '';\n",
       "        dataTable['output_type'] = 'display_data';\n",
       "        await google.colab.output.renderOutput(dataTable, element);\n",
       "        const docLink = document.createElement('div');\n",
       "        docLink.innerHTML = docLinkHtml;\n",
       "        element.appendChild(docLink);\n",
       "      }\n",
       "    </script>\n",
       "  </div>\n",
       "\n",
       "\n",
       "<div id=\"df-4dae01e5-b5dc-41e7-b8de-88b841ce76b5\">\n",
       "  <button class=\"colab-df-quickchart\" onclick=\"quickchart('df-4dae01e5-b5dc-41e7-b8de-88b841ce76b5')\"\n",
       "            title=\"Suggest charts.\"\n",
       "            style=\"display:none;\">\n",
       "\n",
       "<svg xmlns=\"http://www.w3.org/2000/svg\" height=\"24px\"viewBox=\"0 0 24 24\"\n",
       "     width=\"24px\">\n",
       "    <g>\n",
       "        <path d=\"M19 3H5c-1.1 0-2 .9-2 2v14c0 1.1.9 2 2 2h14c1.1 0 2-.9 2-2V5c0-1.1-.9-2-2-2zM9 17H7v-7h2v7zm4 0h-2V7h2v10zm4 0h-2v-4h2v4z\"/>\n",
       "    </g>\n",
       "</svg>\n",
       "  </button>\n",
       "\n",
       "<style>\n",
       "  .colab-df-quickchart {\n",
       "    background-color: #E8F0FE;\n",
       "    border: none;\n",
       "    border-radius: 50%;\n",
       "    cursor: pointer;\n",
       "    display: none;\n",
       "    fill: #1967D2;\n",
       "    height: 32px;\n",
       "    padding: 0 0 0 0;\n",
       "    width: 32px;\n",
       "  }\n",
       "\n",
       "  .colab-df-quickchart:hover {\n",
       "    background-color: #E2EBFA;\n",
       "    box-shadow: 0px 1px 2px rgba(60, 64, 67, 0.3), 0px 1px 3px 1px rgba(60, 64, 67, 0.15);\n",
       "    fill: #174EA6;\n",
       "  }\n",
       "\n",
       "  [theme=dark] .colab-df-quickchart {\n",
       "    background-color: #3B4455;\n",
       "    fill: #D2E3FC;\n",
       "  }\n",
       "\n",
       "  [theme=dark] .colab-df-quickchart:hover {\n",
       "    background-color: #434B5C;\n",
       "    box-shadow: 0px 1px 3px 1px rgba(0, 0, 0, 0.15);\n",
       "    filter: drop-shadow(0px 1px 2px rgba(0, 0, 0, 0.3));\n",
       "    fill: #FFFFFF;\n",
       "  }\n",
       "</style>\n",
       "\n",
       "  <script>\n",
       "    async function quickchart(key) {\n",
       "      const charts = await google.colab.kernel.invokeFunction(\n",
       "          'suggestCharts', [key], {});\n",
       "    }\n",
       "    (() => {\n",
       "      let quickchartButtonEl =\n",
       "        document.querySelector('#df-4dae01e5-b5dc-41e7-b8de-88b841ce76b5 button');\n",
       "      quickchartButtonEl.style.display =\n",
       "        google.colab.kernel.accessAllowed ? 'block' : 'none';\n",
       "    })();\n",
       "  </script>\n",
       "</div>\n",
       "    </div>\n",
       "  </div>\n"
      ],
      "text/plain": [
       "            0\n",
       "Metro    1043\n",
       "1996-04  1039\n",
       "1996-05  1039\n",
       "1996-06  1039\n",
       "1996-07  1039\n",
       "...       ...\n",
       "2014-02    56\n",
       "2014-03    56\n",
       "2014-04    56\n",
       "2014-05    56\n",
       "2014-06    56\n",
       "\n",
       "[220 rows x 1 columns]"
      ]
     },
     "execution_count": 115,
     "metadata": {},
     "output_type": "execute_result"
    }
   ],
   "source": [
    "# Define a function to explore missing data\n",
    "def missing_data(data):\n",
    "    missing_data = data.isna().sum()\n",
    "    missing_data = missing_data[missing_data>0]\n",
    "    return missing_data.to_frame()\n",
    "\n",
    "# Apply missing_data function to the dataframe\n",
    "missing_data(data)"
   ]
  },
  {
   "cell_type": "markdown",
   "metadata": {
    "id": "T4vZxUJAhoZo"
   },
   "source": [
    "- Missing values in the **Metro** column are replaced with **missing**.  \n",
    "- Missing values in the dates columns are backfilled."
   ]
  },
  {
   "cell_type": "code",
   "execution_count": 116,
   "metadata": {
    "colab": {
     "base_uri": "https://localhost:8080/"
    },
    "executionInfo": {
     "elapsed": 13,
     "status": "ok",
     "timestamp": 1692807730924,
     "user": {
      "displayName": "Waruchu Kuria",
      "userId": "10228095980568770522"
     },
     "user_tz": -180
    },
    "id": "bIa_0kaUA79m",
    "outputId": "635d40d4-2003-42d3-b8d8-d0fcec147627"
   },
   "outputs": [
    {
     "data": {
      "text/plain": [
       "0"
      ]
     },
     "execution_count": 116,
     "metadata": {},
     "output_type": "execute_result"
    }
   ],
   "source": [
    "# replacing the missing values bin Metro with 'missing'\n",
    "data.Metro.fillna('missing', inplace=True)\n",
    "\n",
    "# interpolate missing values on date columns\n",
    "data.interpolate(method=\"pad\", inplace=True)\n",
    "\n",
    "data.isna().sum().sum()"
   ]
  },
  {
   "cell_type": "markdown",
   "metadata": {
    "id": "2V4Cj3k3ip3R"
   },
   "source": [
    "### **Creating New Columns for Analysis**"
   ]
  },
  {
   "cell_type": "markdown",
   "metadata": {
    "id": "7JWwpSBikKlE"
   },
   "source": [
    "- In finance, the coefficient of variation allows investors to determine how much volatility, or risk, is assumed in comparison to the amount of return expected from investments.\n",
    "- Ideally, if the coefficient of variation formula should result in a lower ratio of the standard deviation to mean return, then the better the risk-return trade-off.\n",
    "- (**CONFIRM**)Therefore, in these next steps we are going to filter the data some more by calculating the CV value and only selecting values with in the company's risk factor (assume 60 percentile)."
   ]
  },
  {
   "cell_type": "code",
   "execution_count": 117,
   "metadata": {
    "colab": {
     "base_uri": "https://localhost:8080/"
    },
    "executionInfo": {
     "elapsed": 385,
     "status": "ok",
     "timestamp": 1692807731300,
     "user": {
      "displayName": "Waruchu Kuria",
      "userId": "10228095980568770522"
     },
     "user_tz": -180
    },
    "id": "aGRGRqSZCc_k",
    "outputId": "d11e6950-8310-461e-947a-6122aff55d0a"
   },
   "outputs": [
    {
     "data": {
      "text/plain": [
       "Index(['RegionID', 'ZipCode', 'City', 'State', 'Metro', 'CountyName',\n",
       "       'SizeRank', '1996-04', '1996-05', '1996-06',\n",
       "       ...\n",
       "       '2017-11', '2017-12', '2018-01', '2018-02', '2018-03', '2018-04', 'ROI',\n",
       "       'std', 'mean', 'CV'],\n",
       "      dtype='object', length=276)"
      ]
     },
     "execution_count": 117,
     "metadata": {},
     "output_type": "execute_result"
    }
   ],
   "source": [
    "# calculating and creating a new column -ROI\n",
    "data['ROI'] = (data['2018-04']/ data['1996-04'])-1\n",
    "\n",
    "#calculating std to be used to find CV\n",
    "data[\"std\"] = data.loc[:, \"1996-04\":\"2018-04\"].std(skipna=True, axis=1)\n",
    "\n",
    "#calculating mean to be used to find CV\n",
    "data[\"mean\"] = data.loc[:, \"1996-04\":\"2018-04\"].mean(skipna=True, axis=1)\n",
    "\n",
    "# calculating and creating a new column - CV\n",
    "data[\"CV\"] = data['std']/ data[\"mean\"]\n",
    "\n",
    "data.columns"
   ]
  },
  {
   "cell_type": "markdown",
   "metadata": {
    "id": "YlNHS_nqecv4"
   },
   "source": [
    "### **Converting to Time Series**"
   ]
  },
  {
   "cell_type": "markdown",
   "metadata": {
    "id": "pjKjEzbdi5w0"
   },
   "source": [
    "**Step 1: Changing the dataframe from wide view to long view**"
   ]
  },
  {
   "cell_type": "code",
   "execution_count": 118,
   "metadata": {
    "executionInfo": {
     "elapsed": 3,
     "status": "ok",
     "timestamp": 1692807731300,
     "user": {
      "displayName": "Waruchu Kuria",
      "userId": "10228095980568770522"
     },
     "user_tz": -180
    },
    "id": "t7wyD2cZDi__"
   },
   "outputs": [],
   "source": [
    "melted_data = data.copy()"
   ]
  },
  {
   "cell_type": "code",
   "execution_count": 119,
   "metadata": {
    "executionInfo": {
     "elapsed": 5031,
     "status": "ok",
     "timestamp": 1692807736328,
     "user": {
      "displayName": "Waruchu Kuria",
      "userId": "10228095980568770522"
     },
     "user_tz": -180
    },
    "id": "pkNdQtWyCc3h"
   },
   "outputs": [],
   "source": [
    "# creating a function that changes the dataframe structure from wide view to long view\n",
    "\n",
    "def melt_df(data):\n",
    "    melted = pd.melt(data, id_vars=['RegionID','ZipCode', 'City', 'State', 'Metro',\n",
    "                                    'CountyName', 'SizeRank', 'std', 'mean','ROI', 'CV' ],\n",
    "                     var_name='Date')\n",
    "    melted['Date'] = pd.to_datetime(melted['Date'], infer_datetime_format=True)\n",
    "    melted = melted.dropna(subset=['value'])\n",
    "    return melted\n",
    "\n",
    "melted_data = melt_df(melted_data)"
   ]
  },
  {
   "cell_type": "markdown",
   "metadata": {
    "id": "BHy-0CgXeveE"
   },
   "source": [
    "**Step 2: Converting the Date Column to DateTime Format and Setting it as the Index**"
   ]
  },
  {
   "cell_type": "code",
   "execution_count": 120,
   "metadata": {
    "executionInfo": {
     "elapsed": 12,
     "status": "ok",
     "timestamp": 1692807736329,
     "user": {
      "displayName": "Waruchu Kuria",
      "userId": "10228095980568770522"
     },
     "user_tz": -180
    },
    "id": "0F1WbqY0Cc8z"
   },
   "outputs": [],
   "source": [
    "# Convert 'date' column to datetime format\n",
    "melted_data['Date'] = pd.to_datetime(melted_data['Date'])\n",
    "\n",
    "# Set the 'Date' column as index\n",
    "melted_data.set_index('Date', inplace=True)"
   ]
  },
  {
   "cell_type": "code",
   "execution_count": 121,
   "metadata": {
    "colab": {
     "base_uri": "https://localhost:8080/",
     "height": 237
    },
    "executionInfo": {
     "elapsed": 12,
     "status": "ok",
     "timestamp": 1692807736330,
     "user": {
      "displayName": "Waruchu Kuria",
      "userId": "10228095980568770522"
     },
     "user_tz": -180
    },
    "id": "HOnzcGIiCc6Y",
    "outputId": "47b89a41-721c-4d64-bd49-522574546612"
   },
   "outputs": [
    {
     "data": {
      "text/html": [
       "\n",
       "  <div id=\"df-86a3c3d3-b5fa-4f3d-bb79-e4525905edb9\" class=\"colab-df-container\">\n",
       "    <div>\n",
       "<style scoped>\n",
       "    .dataframe tbody tr th:only-of-type {\n",
       "        vertical-align: middle;\n",
       "    }\n",
       "\n",
       "    .dataframe tbody tr th {\n",
       "        vertical-align: top;\n",
       "    }\n",
       "\n",
       "    .dataframe thead th {\n",
       "        text-align: right;\n",
       "    }\n",
       "</style>\n",
       "<table border=\"1\" class=\"dataframe\">\n",
       "  <thead>\n",
       "    <tr style=\"text-align: right;\">\n",
       "      <th></th>\n",
       "      <th>RegionID</th>\n",
       "      <th>ZipCode</th>\n",
       "      <th>City</th>\n",
       "      <th>State</th>\n",
       "      <th>Metro</th>\n",
       "      <th>CountyName</th>\n",
       "      <th>SizeRank</th>\n",
       "      <th>std</th>\n",
       "      <th>mean</th>\n",
       "      <th>ROI</th>\n",
       "      <th>CV</th>\n",
       "      <th>value</th>\n",
       "    </tr>\n",
       "    <tr>\n",
       "      <th>Date</th>\n",
       "      <th></th>\n",
       "      <th></th>\n",
       "      <th></th>\n",
       "      <th></th>\n",
       "      <th></th>\n",
       "      <th></th>\n",
       "      <th></th>\n",
       "      <th></th>\n",
       "      <th></th>\n",
       "      <th></th>\n",
       "      <th></th>\n",
       "      <th></th>\n",
       "    </tr>\n",
       "  </thead>\n",
       "  <tbody>\n",
       "    <tr>\n",
       "      <th>1996-04-01</th>\n",
       "      <td>84654</td>\n",
       "      <td>60657</td>\n",
       "      <td>Chicago</td>\n",
       "      <td>IL</td>\n",
       "      <td>Chicago</td>\n",
       "      <td>Cook</td>\n",
       "      <td>1</td>\n",
       "      <td>190821.103965</td>\n",
       "      <td>743978.867925</td>\n",
       "      <td>2.083782</td>\n",
       "      <td>0.256487</td>\n",
       "      <td>334200.0</td>\n",
       "    </tr>\n",
       "    <tr>\n",
       "      <th>1996-04-01</th>\n",
       "      <td>90668</td>\n",
       "      <td>75070</td>\n",
       "      <td>McKinney</td>\n",
       "      <td>TX</td>\n",
       "      <td>Dallas-Fort Worth</td>\n",
       "      <td>Collin</td>\n",
       "      <td>2</td>\n",
       "      <td>33537.101427</td>\n",
       "      <td>219655.849057</td>\n",
       "      <td>0.365295</td>\n",
       "      <td>0.152680</td>\n",
       "      <td>235700.0</td>\n",
       "    </tr>\n",
       "    <tr>\n",
       "      <th>1996-04-01</th>\n",
       "      <td>91982</td>\n",
       "      <td>77494</td>\n",
       "      <td>Katy</td>\n",
       "      <td>TX</td>\n",
       "      <td>Houston</td>\n",
       "      <td>Harris</td>\n",
       "      <td>3</td>\n",
       "      <td>37730.794353</td>\n",
       "      <td>262110.566038</td>\n",
       "      <td>0.567966</td>\n",
       "      <td>0.143950</td>\n",
       "      <td>210400.0</td>\n",
       "    </tr>\n",
       "    <tr>\n",
       "      <th>1996-04-01</th>\n",
       "      <td>84616</td>\n",
       "      <td>60614</td>\n",
       "      <td>Chicago</td>\n",
       "      <td>IL</td>\n",
       "      <td>Chicago</td>\n",
       "      <td>Cook</td>\n",
       "      <td>4</td>\n",
       "      <td>231225.944628</td>\n",
       "      <td>974139.245283</td>\n",
       "      <td>1.623971</td>\n",
       "      <td>0.237364</td>\n",
       "      <td>498100.0</td>\n",
       "    </tr>\n",
       "    <tr>\n",
       "      <th>1996-04-01</th>\n",
       "      <td>93144</td>\n",
       "      <td>79936</td>\n",
       "      <td>El Paso</td>\n",
       "      <td>TX</td>\n",
       "      <td>El Paso</td>\n",
       "      <td>El Paso</td>\n",
       "      <td>5</td>\n",
       "      <td>18167.079218</td>\n",
       "      <td>101875.471698</td>\n",
       "      <td>0.571798</td>\n",
       "      <td>0.178326</td>\n",
       "      <td>77300.0</td>\n",
       "    </tr>\n",
       "  </tbody>\n",
       "</table>\n",
       "</div>\n",
       "    <div class=\"colab-df-buttons\">\n",
       "\n",
       "  <div class=\"colab-df-container\">\n",
       "    <button class=\"colab-df-convert\" onclick=\"convertToInteractive('df-86a3c3d3-b5fa-4f3d-bb79-e4525905edb9')\"\n",
       "            title=\"Convert this dataframe to an interactive table.\"\n",
       "            style=\"display:none;\">\n",
       "\n",
       "  <svg xmlns=\"http://www.w3.org/2000/svg\" height=\"24px\" viewBox=\"0 -960 960 960\">\n",
       "    <path d=\"M120-120v-720h720v720H120Zm60-500h600v-160H180v160Zm220 220h160v-160H400v160Zm0 220h160v-160H400v160ZM180-400h160v-160H180v160Zm440 0h160v-160H620v160ZM180-180h160v-160H180v160Zm440 0h160v-160H620v160Z\"/>\n",
       "  </svg>\n",
       "    </button>\n",
       "\n",
       "  <style>\n",
       "    .colab-df-container {\n",
       "      display:flex;\n",
       "      gap: 12px;\n",
       "    }\n",
       "\n",
       "    .colab-df-convert {\n",
       "      background-color: #E8F0FE;\n",
       "      border: none;\n",
       "      border-radius: 50%;\n",
       "      cursor: pointer;\n",
       "      display: none;\n",
       "      fill: #1967D2;\n",
       "      height: 32px;\n",
       "      padding: 0 0 0 0;\n",
       "      width: 32px;\n",
       "    }\n",
       "\n",
       "    .colab-df-convert:hover {\n",
       "      background-color: #E2EBFA;\n",
       "      box-shadow: 0px 1px 2px rgba(60, 64, 67, 0.3), 0px 1px 3px 1px rgba(60, 64, 67, 0.15);\n",
       "      fill: #174EA6;\n",
       "    }\n",
       "\n",
       "    .colab-df-buttons div {\n",
       "      margin-bottom: 4px;\n",
       "    }\n",
       "\n",
       "    [theme=dark] .colab-df-convert {\n",
       "      background-color: #3B4455;\n",
       "      fill: #D2E3FC;\n",
       "    }\n",
       "\n",
       "    [theme=dark] .colab-df-convert:hover {\n",
       "      background-color: #434B5C;\n",
       "      box-shadow: 0px 1px 3px 1px rgba(0, 0, 0, 0.15);\n",
       "      filter: drop-shadow(0px 1px 2px rgba(0, 0, 0, 0.3));\n",
       "      fill: #FFFFFF;\n",
       "    }\n",
       "  </style>\n",
       "\n",
       "    <script>\n",
       "      const buttonEl =\n",
       "        document.querySelector('#df-86a3c3d3-b5fa-4f3d-bb79-e4525905edb9 button.colab-df-convert');\n",
       "      buttonEl.style.display =\n",
       "        google.colab.kernel.accessAllowed ? 'block' : 'none';\n",
       "\n",
       "      async function convertToInteractive(key) {\n",
       "        const element = document.querySelector('#df-86a3c3d3-b5fa-4f3d-bb79-e4525905edb9');\n",
       "        const dataTable =\n",
       "          await google.colab.kernel.invokeFunction('convertToInteractive',\n",
       "                                                    [key], {});\n",
       "        if (!dataTable) return;\n",
       "\n",
       "        const docLinkHtml = 'Like what you see? Visit the ' +\n",
       "          '<a target=\"_blank\" href=https://colab.research.google.com/notebooks/data_table.ipynb>data table notebook</a>'\n",
       "          + ' to learn more about interactive tables.';\n",
       "        element.innerHTML = '';\n",
       "        dataTable['output_type'] = 'display_data';\n",
       "        await google.colab.output.renderOutput(dataTable, element);\n",
       "        const docLink = document.createElement('div');\n",
       "        docLink.innerHTML = docLinkHtml;\n",
       "        element.appendChild(docLink);\n",
       "      }\n",
       "    </script>\n",
       "  </div>\n",
       "\n",
       "\n",
       "<div id=\"df-4a924510-8207-480e-8ea0-84ad1feb9492\">\n",
       "  <button class=\"colab-df-quickchart\" onclick=\"quickchart('df-4a924510-8207-480e-8ea0-84ad1feb9492')\"\n",
       "            title=\"Suggest charts.\"\n",
       "            style=\"display:none;\">\n",
       "\n",
       "<svg xmlns=\"http://www.w3.org/2000/svg\" height=\"24px\"viewBox=\"0 0 24 24\"\n",
       "     width=\"24px\">\n",
       "    <g>\n",
       "        <path d=\"M19 3H5c-1.1 0-2 .9-2 2v14c0 1.1.9 2 2 2h14c1.1 0 2-.9 2-2V5c0-1.1-.9-2-2-2zM9 17H7v-7h2v7zm4 0h-2V7h2v10zm4 0h-2v-4h2v4z\"/>\n",
       "    </g>\n",
       "</svg>\n",
       "  </button>\n",
       "\n",
       "<style>\n",
       "  .colab-df-quickchart {\n",
       "    background-color: #E8F0FE;\n",
       "    border: none;\n",
       "    border-radius: 50%;\n",
       "    cursor: pointer;\n",
       "    display: none;\n",
       "    fill: #1967D2;\n",
       "    height: 32px;\n",
       "    padding: 0 0 0 0;\n",
       "    width: 32px;\n",
       "  }\n",
       "\n",
       "  .colab-df-quickchart:hover {\n",
       "    background-color: #E2EBFA;\n",
       "    box-shadow: 0px 1px 2px rgba(60, 64, 67, 0.3), 0px 1px 3px 1px rgba(60, 64, 67, 0.15);\n",
       "    fill: #174EA6;\n",
       "  }\n",
       "\n",
       "  [theme=dark] .colab-df-quickchart {\n",
       "    background-color: #3B4455;\n",
       "    fill: #D2E3FC;\n",
       "  }\n",
       "\n",
       "  [theme=dark] .colab-df-quickchart:hover {\n",
       "    background-color: #434B5C;\n",
       "    box-shadow: 0px 1px 3px 1px rgba(0, 0, 0, 0.15);\n",
       "    filter: drop-shadow(0px 1px 2px rgba(0, 0, 0, 0.3));\n",
       "    fill: #FFFFFF;\n",
       "  }\n",
       "</style>\n",
       "\n",
       "  <script>\n",
       "    async function quickchart(key) {\n",
       "      const charts = await google.colab.kernel.invokeFunction(\n",
       "          'suggestCharts', [key], {});\n",
       "    }\n",
       "    (() => {\n",
       "      let quickchartButtonEl =\n",
       "        document.querySelector('#df-4a924510-8207-480e-8ea0-84ad1feb9492 button');\n",
       "      quickchartButtonEl.style.display =\n",
       "        google.colab.kernel.accessAllowed ? 'block' : 'none';\n",
       "    })();\n",
       "  </script>\n",
       "</div>\n",
       "    </div>\n",
       "  </div>\n"
      ],
      "text/plain": [
       "            RegionID ZipCode      City State              Metro CountyName  \\\n",
       "Date                                                                         \n",
       "1996-04-01     84654   60657   Chicago    IL            Chicago       Cook   \n",
       "1996-04-01     90668   75070  McKinney    TX  Dallas-Fort Worth     Collin   \n",
       "1996-04-01     91982   77494      Katy    TX            Houston     Harris   \n",
       "1996-04-01     84616   60614   Chicago    IL            Chicago       Cook   \n",
       "1996-04-01     93144   79936   El Paso    TX            El Paso    El Paso   \n",
       "\n",
       "            SizeRank            std           mean       ROI        CV  \\\n",
       "Date                                                                     \n",
       "1996-04-01         1  190821.103965  743978.867925  2.083782  0.256487   \n",
       "1996-04-01         2   33537.101427  219655.849057  0.365295  0.152680   \n",
       "1996-04-01         3   37730.794353  262110.566038  0.567966  0.143950   \n",
       "1996-04-01         4  231225.944628  974139.245283  1.623971  0.237364   \n",
       "1996-04-01         5   18167.079218  101875.471698  0.571798  0.178326   \n",
       "\n",
       "               value  \n",
       "Date                  \n",
       "1996-04-01  334200.0  \n",
       "1996-04-01  235700.0  \n",
       "1996-04-01  210400.0  \n",
       "1996-04-01  498100.0  \n",
       "1996-04-01   77300.0  "
      ]
     },
     "execution_count": 121,
     "metadata": {},
     "output_type": "execute_result"
    }
   ],
   "source": [
    "melted_data.head()"
   ]
  },
  {
   "cell_type": "code",
   "execution_count": 122,
   "metadata": {
    "colab": {
     "base_uri": "https://localhost:8080/"
    },
    "executionInfo": {
     "elapsed": 10,
     "status": "ok",
     "timestamp": 1692807736330,
     "user": {
      "displayName": "Waruchu Kuria",
      "userId": "10228095980568770522"
     },
     "user_tz": -180
    },
    "id": "tw22pceafHW9",
    "outputId": "641b77cc-46f2-415a-8340-0be800006a18"
   },
   "outputs": [
    {
     "name": "stdout",
     "output_type": "stream",
     "text": [
      "<class 'pandas.core.frame.DataFrame'>\n",
      "DatetimeIndex: 3901595 entries, 1996-04-01 to 2018-04-01\n",
      "Data columns (total 12 columns):\n",
      " #   Column      Dtype  \n",
      "---  ------      -----  \n",
      " 0   RegionID    int64  \n",
      " 1   ZipCode     string \n",
      " 2   City        object \n",
      " 3   State       object \n",
      " 4   Metro       object \n",
      " 5   CountyName  object \n",
      " 6   SizeRank    int64  \n",
      " 7   std         float64\n",
      " 8   mean        float64\n",
      " 9   ROI         float64\n",
      " 10  CV          float64\n",
      " 11  value       float64\n",
      "dtypes: float64(5), int64(2), object(4), string(1)\n",
      "memory usage: 387.0+ MB\n"
     ]
    }
   ],
   "source": [
    "# confirming the new columns are added correctly\n",
    "melted_data.info()"
   ]
  },
  {
   "cell_type": "markdown",
   "metadata": {
    "id": "lIqTf2OhfAIN"
   },
   "source": [
    "### **Narrowing Down to a Few Zip Codes from the Data**\n",
    "- The data is quite large.\n",
    "- Therefore, the analysis will filter out the first 1000 zip codes per state based on median prices (`value`)."
   ]
  },
  {
   "cell_type": "code",
   "execution_count": 123,
   "metadata": {
    "colab": {
     "base_uri": "https://localhost:8080/",
     "height": 237
    },
    "executionInfo": {
     "elapsed": 5848,
     "status": "ok",
     "timestamp": 1692807742171,
     "user": {
      "displayName": "Waruchu Kuria",
      "userId": "10228095980568770522"
     },
     "user_tz": -180
    },
    "id": "ag0RuQkUIBA2",
    "outputId": "5952ad0f-a808-4c0f-c973-e3b4a6b43346"
   },
   "outputs": [
    {
     "data": {
      "text/html": [
       "\n",
       "  <div id=\"df-b01faab6-a402-4b01-99e5-524c8c3e8677\" class=\"colab-df-container\">\n",
       "    <div>\n",
       "<style scoped>\n",
       "    .dataframe tbody tr th:only-of-type {\n",
       "        vertical-align: middle;\n",
       "    }\n",
       "\n",
       "    .dataframe tbody tr th {\n",
       "        vertical-align: top;\n",
       "    }\n",
       "\n",
       "    .dataframe thead th {\n",
       "        text-align: right;\n",
       "    }\n",
       "</style>\n",
       "<table border=\"1\" class=\"dataframe\">\n",
       "  <thead>\n",
       "    <tr style=\"text-align: right;\">\n",
       "      <th></th>\n",
       "      <th>State</th>\n",
       "      <th>County</th>\n",
       "      <th>Metro</th>\n",
       "      <th>City</th>\n",
       "      <th>ZipCode</th>\n",
       "      <th>Value</th>\n",
       "      <th>std</th>\n",
       "      <th>mean</th>\n",
       "      <th>ROI</th>\n",
       "      <th>CV</th>\n",
       "    </tr>\n",
       "    <tr>\n",
       "      <th>Date</th>\n",
       "      <th></th>\n",
       "      <th></th>\n",
       "      <th></th>\n",
       "      <th></th>\n",
       "      <th></th>\n",
       "      <th></th>\n",
       "      <th></th>\n",
       "      <th></th>\n",
       "      <th></th>\n",
       "      <th></th>\n",
       "    </tr>\n",
       "  </thead>\n",
       "  <tbody>\n",
       "    <tr>\n",
       "      <th>2016-11-01</th>\n",
       "      <td>AK</td>\n",
       "      <td>Anchorage</td>\n",
       "      <td>Anchorage</td>\n",
       "      <td>Anchorage</td>\n",
       "      <td>99516</td>\n",
       "      <td>498100.0</td>\n",
       "      <td>108903.972298</td>\n",
       "      <td>375657.358491</td>\n",
       "      <td>1.704731</td>\n",
       "      <td>0.289902</td>\n",
       "    </tr>\n",
       "    <tr>\n",
       "      <th>2016-07-01</th>\n",
       "      <td>AK</td>\n",
       "      <td>Anchorage</td>\n",
       "      <td>Anchorage</td>\n",
       "      <td>Anchorage</td>\n",
       "      <td>99516</td>\n",
       "      <td>497800.0</td>\n",
       "      <td>108903.972298</td>\n",
       "      <td>375657.358491</td>\n",
       "      <td>1.704731</td>\n",
       "      <td>0.289902</td>\n",
       "    </tr>\n",
       "    <tr>\n",
       "      <th>2016-12-01</th>\n",
       "      <td>AK</td>\n",
       "      <td>Anchorage</td>\n",
       "      <td>Anchorage</td>\n",
       "      <td>Anchorage</td>\n",
       "      <td>99516</td>\n",
       "      <td>497600.0</td>\n",
       "      <td>108903.972298</td>\n",
       "      <td>375657.358491</td>\n",
       "      <td>1.704731</td>\n",
       "      <td>0.289902</td>\n",
       "    </tr>\n",
       "    <tr>\n",
       "      <th>2016-10-01</th>\n",
       "      <td>AK</td>\n",
       "      <td>Anchorage</td>\n",
       "      <td>Anchorage</td>\n",
       "      <td>Anchorage</td>\n",
       "      <td>99516</td>\n",
       "      <td>497500.0</td>\n",
       "      <td>108903.972298</td>\n",
       "      <td>375657.358491</td>\n",
       "      <td>1.704731</td>\n",
       "      <td>0.289902</td>\n",
       "    </tr>\n",
       "    <tr>\n",
       "      <th>2018-03-01</th>\n",
       "      <td>AK</td>\n",
       "      <td>Anchorage</td>\n",
       "      <td>Anchorage</td>\n",
       "      <td>Anchorage</td>\n",
       "      <td>99516</td>\n",
       "      <td>497500.0</td>\n",
       "      <td>108903.972298</td>\n",
       "      <td>375657.358491</td>\n",
       "      <td>1.704731</td>\n",
       "      <td>0.289902</td>\n",
       "    </tr>\n",
       "  </tbody>\n",
       "</table>\n",
       "</div>\n",
       "    <div class=\"colab-df-buttons\">\n",
       "\n",
       "  <div class=\"colab-df-container\">\n",
       "    <button class=\"colab-df-convert\" onclick=\"convertToInteractive('df-b01faab6-a402-4b01-99e5-524c8c3e8677')\"\n",
       "            title=\"Convert this dataframe to an interactive table.\"\n",
       "            style=\"display:none;\">\n",
       "\n",
       "  <svg xmlns=\"http://www.w3.org/2000/svg\" height=\"24px\" viewBox=\"0 -960 960 960\">\n",
       "    <path d=\"M120-120v-720h720v720H120Zm60-500h600v-160H180v160Zm220 220h160v-160H400v160Zm0 220h160v-160H400v160ZM180-400h160v-160H180v160Zm440 0h160v-160H620v160ZM180-180h160v-160H180v160Zm440 0h160v-160H620v160Z\"/>\n",
       "  </svg>\n",
       "    </button>\n",
       "\n",
       "  <style>\n",
       "    .colab-df-container {\n",
       "      display:flex;\n",
       "      gap: 12px;\n",
       "    }\n",
       "\n",
       "    .colab-df-convert {\n",
       "      background-color: #E8F0FE;\n",
       "      border: none;\n",
       "      border-radius: 50%;\n",
       "      cursor: pointer;\n",
       "      display: none;\n",
       "      fill: #1967D2;\n",
       "      height: 32px;\n",
       "      padding: 0 0 0 0;\n",
       "      width: 32px;\n",
       "    }\n",
       "\n",
       "    .colab-df-convert:hover {\n",
       "      background-color: #E2EBFA;\n",
       "      box-shadow: 0px 1px 2px rgba(60, 64, 67, 0.3), 0px 1px 3px 1px rgba(60, 64, 67, 0.15);\n",
       "      fill: #174EA6;\n",
       "    }\n",
       "\n",
       "    .colab-df-buttons div {\n",
       "      margin-bottom: 4px;\n",
       "    }\n",
       "\n",
       "    [theme=dark] .colab-df-convert {\n",
       "      background-color: #3B4455;\n",
       "      fill: #D2E3FC;\n",
       "    }\n",
       "\n",
       "    [theme=dark] .colab-df-convert:hover {\n",
       "      background-color: #434B5C;\n",
       "      box-shadow: 0px 1px 3px 1px rgba(0, 0, 0, 0.15);\n",
       "      filter: drop-shadow(0px 1px 2px rgba(0, 0, 0, 0.3));\n",
       "      fill: #FFFFFF;\n",
       "    }\n",
       "  </style>\n",
       "\n",
       "    <script>\n",
       "      const buttonEl =\n",
       "        document.querySelector('#df-b01faab6-a402-4b01-99e5-524c8c3e8677 button.colab-df-convert');\n",
       "      buttonEl.style.display =\n",
       "        google.colab.kernel.accessAllowed ? 'block' : 'none';\n",
       "\n",
       "      async function convertToInteractive(key) {\n",
       "        const element = document.querySelector('#df-b01faab6-a402-4b01-99e5-524c8c3e8677');\n",
       "        const dataTable =\n",
       "          await google.colab.kernel.invokeFunction('convertToInteractive',\n",
       "                                                    [key], {});\n",
       "        if (!dataTable) return;\n",
       "\n",
       "        const docLinkHtml = 'Like what you see? Visit the ' +\n",
       "          '<a target=\"_blank\" href=https://colab.research.google.com/notebooks/data_table.ipynb>data table notebook</a>'\n",
       "          + ' to learn more about interactive tables.';\n",
       "        element.innerHTML = '';\n",
       "        dataTable['output_type'] = 'display_data';\n",
       "        await google.colab.output.renderOutput(dataTable, element);\n",
       "        const docLink = document.createElement('div');\n",
       "        docLink.innerHTML = docLinkHtml;\n",
       "        element.appendChild(docLink);\n",
       "      }\n",
       "    </script>\n",
       "  </div>\n",
       "\n",
       "\n",
       "<div id=\"df-67612da0-cd7b-404d-8372-e19e1b69a6a9\">\n",
       "  <button class=\"colab-df-quickchart\" onclick=\"quickchart('df-67612da0-cd7b-404d-8372-e19e1b69a6a9')\"\n",
       "            title=\"Suggest charts.\"\n",
       "            style=\"display:none;\">\n",
       "\n",
       "<svg xmlns=\"http://www.w3.org/2000/svg\" height=\"24px\"viewBox=\"0 0 24 24\"\n",
       "     width=\"24px\">\n",
       "    <g>\n",
       "        <path d=\"M19 3H5c-1.1 0-2 .9-2 2v14c0 1.1.9 2 2 2h14c1.1 0 2-.9 2-2V5c0-1.1-.9-2-2-2zM9 17H7v-7h2v7zm4 0h-2V7h2v10zm4 0h-2v-4h2v4z\"/>\n",
       "    </g>\n",
       "</svg>\n",
       "  </button>\n",
       "\n",
       "<style>\n",
       "  .colab-df-quickchart {\n",
       "    background-color: #E8F0FE;\n",
       "    border: none;\n",
       "    border-radius: 50%;\n",
       "    cursor: pointer;\n",
       "    display: none;\n",
       "    fill: #1967D2;\n",
       "    height: 32px;\n",
       "    padding: 0 0 0 0;\n",
       "    width: 32px;\n",
       "  }\n",
       "\n",
       "  .colab-df-quickchart:hover {\n",
       "    background-color: #E2EBFA;\n",
       "    box-shadow: 0px 1px 2px rgba(60, 64, 67, 0.3), 0px 1px 3px 1px rgba(60, 64, 67, 0.15);\n",
       "    fill: #174EA6;\n",
       "  }\n",
       "\n",
       "  [theme=dark] .colab-df-quickchart {\n",
       "    background-color: #3B4455;\n",
       "    fill: #D2E3FC;\n",
       "  }\n",
       "\n",
       "  [theme=dark] .colab-df-quickchart:hover {\n",
       "    background-color: #434B5C;\n",
       "    box-shadow: 0px 1px 3px 1px rgba(0, 0, 0, 0.15);\n",
       "    filter: drop-shadow(0px 1px 2px rgba(0, 0, 0, 0.3));\n",
       "    fill: #FFFFFF;\n",
       "  }\n",
       "</style>\n",
       "\n",
       "  <script>\n",
       "    async function quickchart(key) {\n",
       "      const charts = await google.colab.kernel.invokeFunction(\n",
       "          'suggestCharts', [key], {});\n",
       "    }\n",
       "    (() => {\n",
       "      let quickchartButtonEl =\n",
       "        document.querySelector('#df-67612da0-cd7b-404d-8372-e19e1b69a6a9 button');\n",
       "      quickchartButtonEl.style.display =\n",
       "        google.colab.kernel.accessAllowed ? 'block' : 'none';\n",
       "    })();\n",
       "  </script>\n",
       "</div>\n",
       "    </div>\n",
       "  </div>\n"
      ],
      "text/plain": [
       "           State     County      Metro       City ZipCode     Value  \\\n",
       "Date                                                                  \n",
       "2016-11-01    AK  Anchorage  Anchorage  Anchorage   99516  498100.0   \n",
       "2016-07-01    AK  Anchorage  Anchorage  Anchorage   99516  497800.0   \n",
       "2016-12-01    AK  Anchorage  Anchorage  Anchorage   99516  497600.0   \n",
       "2016-10-01    AK  Anchorage  Anchorage  Anchorage   99516  497500.0   \n",
       "2018-03-01    AK  Anchorage  Anchorage  Anchorage   99516  497500.0   \n",
       "\n",
       "                      std           mean       ROI        CV  \n",
       "Date                                                          \n",
       "2016-11-01  108903.972298  375657.358491  1.704731  0.289902  \n",
       "2016-07-01  108903.972298  375657.358491  1.704731  0.289902  \n",
       "2016-12-01  108903.972298  375657.358491  1.704731  0.289902  \n",
       "2016-10-01  108903.972298  375657.358491  1.704731  0.289902  \n",
       "2018-03-01  108903.972298  375657.358491  1.704731  0.289902  "
      ]
     },
     "execution_count": 123,
     "metadata": {},
     "output_type": "execute_result"
    }
   ],
   "source": [
    "# Group by 'State' and get the top 1000 zip codes for each state based on median prices\n",
    "top_zipcodes = (melted_data.sort_values(['State', 'value'], ascending=[True, False])\n",
    "                .groupby('State')\n",
    "                .head(1000))\n",
    "\n",
    "# # Create a new DataFrame with the selected data\n",
    "top_zipcodes_df = pd.DataFrame({\n",
    "    # 'Date': top_zipcodes['Date'],\n",
    "    'State': top_zipcodes['State'],\n",
    "    'County': top_zipcodes['CountyName'],\n",
    "    'Metro': top_zipcodes['Metro'],\n",
    "    'City': top_zipcodes['City'],\n",
    "    'ZipCode': top_zipcodes['ZipCode'],\n",
    "    'Value': top_zipcodes['value'],\n",
    "    'std': top_zipcodes['std'],\n",
    "    'mean': top_zipcodes['mean'],\n",
    "    'ROI': top_zipcodes['ROI'],\n",
    "    'CV': top_zipcodes['CV']\n",
    "\n",
    "})\n",
    "\n",
    "# # Display the result\n",
    "top_zipcodes_df.head()"
   ]
  },
  {
   "cell_type": "code",
   "execution_count": 124,
   "metadata": {
    "colab": {
     "base_uri": "https://localhost:8080/",
     "height": 36
    },
    "executionInfo": {
     "elapsed": 19,
     "status": "ok",
     "timestamp": 1692807742172,
     "user": {
      "displayName": "Waruchu Kuria",
      "userId": "10228095980568770522"
     },
     "user_tz": -180
    },
    "id": "t-Wl8uC-naVh",
    "outputId": "5df20e6c-f432-474c-a8d1-7548a2b3fe54"
   },
   "outputs": [
    {
     "data": {
      "application/vnd.google.colaboratory.intrinsic+json": {
       "type": "string"
      },
      "text/plain": [
       "'Date'"
      ]
     },
     "execution_count": 124,
     "metadata": {},
     "output_type": "execute_result"
    }
   ],
   "source": [
    "top_zipcodes_df.index.name"
   ]
  },
  {
   "cell_type": "code",
   "execution_count": 125,
   "metadata": {
    "colab": {
     "base_uri": "https://localhost:8080/"
    },
    "executionInfo": {
     "elapsed": 16,
     "status": "ok",
     "timestamp": 1692807742172,
     "user": {
      "displayName": "Waruchu Kuria",
      "userId": "10228095980568770522"
     },
     "user_tz": -180
    },
    "id": "8jRiVT4egzcr",
    "outputId": "b84406fa-cca3-4412-b6f0-c0ad8bfdd125"
   },
   "outputs": [
    {
     "name": "stdout",
     "output_type": "stream",
     "text": [
      "<class 'pandas.core.frame.DataFrame'>\n",
      "DatetimeIndex: 51000 entries, 2016-11-01 to 2014-02-01\n",
      "Data columns (total 10 columns):\n",
      " #   Column   Non-Null Count  Dtype  \n",
      "---  ------   --------------  -----  \n",
      " 0   State    51000 non-null  object \n",
      " 1   County   51000 non-null  object \n",
      " 2   Metro    51000 non-null  object \n",
      " 3   City     51000 non-null  object \n",
      " 4   ZipCode  51000 non-null  string \n",
      " 5   Value    51000 non-null  float64\n",
      " 6   std      51000 non-null  float64\n",
      " 7   mean     51000 non-null  float64\n",
      " 8   ROI      51000 non-null  float64\n",
      " 9   CV       51000 non-null  float64\n",
      "dtypes: float64(5), object(4), string(1)\n",
      "memory usage: 4.3+ MB\n"
     ]
    }
   ],
   "source": [
    "top_zipcodes_df.info()"
   ]
  },
  {
   "cell_type": "markdown",
   "metadata": {
    "id": "UFLHh3O4pUL0"
   },
   "source": [
    "- The data now has 51000 records, i.e. 1000 zipcodes from 51 states."
   ]
  },
  {
   "cell_type": "code",
   "execution_count": 126,
   "metadata": {
    "colab": {
     "base_uri": "https://localhost:8080/"
    },
    "executionInfo": {
     "elapsed": 14,
     "status": "ok",
     "timestamp": 1692807742173,
     "user": {
      "displayName": "Waruchu Kuria",
      "userId": "10228095980568770522"
     },
     "user_tz": -180
    },
    "id": "ofamd4-1qP57",
    "outputId": "6aa1886f-f3de-4834-d883-4ce0bd6f873e"
   },
   "outputs": [
    {
     "data": {
      "text/plain": [
       "Index(['State', 'County', 'Metro', 'City', 'ZipCode', 'Value', 'std', 'mean',\n",
       "       'ROI', 'CV'],\n",
       "      dtype='object')"
      ]
     },
     "execution_count": 126,
     "metadata": {},
     "output_type": "execute_result"
    }
   ],
   "source": [
    "top_zipcodes_df.columns"
   ]
  },
  {
   "cell_type": "code",
   "execution_count": 127,
   "metadata": {
    "colab": {
     "base_uri": "https://localhost:8080/",
     "height": 300
    },
    "executionInfo": {
     "elapsed": 11,
     "status": "ok",
     "timestamp": 1692807742173,
     "user": {
      "displayName": "Waruchu Kuria",
      "userId": "10228095980568770522"
     },
     "user_tz": -180
    },
    "id": "ldmTEOCLs7sp",
    "outputId": "76196cb3-6d00-404c-c7fe-4e26335bf220"
   },
   "outputs": [
    {
     "data": {
      "text/html": [
       "\n",
       "  <div id=\"df-bad12590-9d37-4671-b2f6-8e605b89ce0c\" class=\"colab-df-container\">\n",
       "    <div>\n",
       "<style scoped>\n",
       "    .dataframe tbody tr th:only-of-type {\n",
       "        vertical-align: middle;\n",
       "    }\n",
       "\n",
       "    .dataframe tbody tr th {\n",
       "        vertical-align: top;\n",
       "    }\n",
       "\n",
       "    .dataframe thead th {\n",
       "        text-align: right;\n",
       "    }\n",
       "</style>\n",
       "<table border=\"1\" class=\"dataframe\">\n",
       "  <thead>\n",
       "    <tr style=\"text-align: right;\">\n",
       "      <th></th>\n",
       "      <th>Value</th>\n",
       "      <th>std</th>\n",
       "      <th>mean</th>\n",
       "      <th>ROI</th>\n",
       "      <th>CV</th>\n",
       "    </tr>\n",
       "  </thead>\n",
       "  <tbody>\n",
       "    <tr>\n",
       "      <th>count</th>\n",
       "      <td>5.100000e+04</td>\n",
       "      <td>5.100000e+04</td>\n",
       "      <td>5.100000e+04</td>\n",
       "      <td>51000.000000</td>\n",
       "      <td>51000.000000</td>\n",
       "    </tr>\n",
       "    <tr>\n",
       "      <th>mean</th>\n",
       "      <td>8.760330e+05</td>\n",
       "      <td>2.570727e+05</td>\n",
       "      <td>6.788827e+05</td>\n",
       "      <td>3.940624</td>\n",
       "      <td>0.342105</td>\n",
       "    </tr>\n",
       "    <tr>\n",
       "      <th>std</th>\n",
       "      <td>1.176212e+06</td>\n",
       "      <td>5.286190e+05</td>\n",
       "      <td>8.174821e+05</td>\n",
       "      <td>22.741604</td>\n",
       "      <td>0.187040</td>\n",
       "    </tr>\n",
       "    <tr>\n",
       "      <th>min</th>\n",
       "      <td>1.623000e+05</td>\n",
       "      <td>1.866613e+04</td>\n",
       "      <td>9.586755e+04</td>\n",
       "      <td>-0.912302</td>\n",
       "      <td>0.088818</td>\n",
       "    </tr>\n",
       "    <tr>\n",
       "      <th>25%</th>\n",
       "      <td>3.780000e+05</td>\n",
       "      <td>7.686192e+04</td>\n",
       "      <td>2.747581e+05</td>\n",
       "      <td>0.734187</td>\n",
       "      <td>0.229045</td>\n",
       "    </tr>\n",
       "    <tr>\n",
       "      <th>50%</th>\n",
       "      <td>5.750000e+05</td>\n",
       "      <td>1.379157e+05</td>\n",
       "      <td>4.315645e+05</td>\n",
       "      <td>1.422403</td>\n",
       "      <td>0.289101</td>\n",
       "    </tr>\n",
       "    <tr>\n",
       "      <th>75%</th>\n",
       "      <td>9.185500e+05</td>\n",
       "      <td>2.530333e+05</td>\n",
       "      <td>7.718940e+05</td>\n",
       "      <td>2.478723</td>\n",
       "      <td>0.381796</td>\n",
       "    </tr>\n",
       "    <tr>\n",
       "      <th>max</th>\n",
       "      <td>1.931490e+07</td>\n",
       "      <td>6.686020e+06</td>\n",
       "      <td>8.366725e+06</td>\n",
       "      <td>344.461390</td>\n",
       "      <td>1.701296</td>\n",
       "    </tr>\n",
       "  </tbody>\n",
       "</table>\n",
       "</div>\n",
       "    <div class=\"colab-df-buttons\">\n",
       "\n",
       "  <div class=\"colab-df-container\">\n",
       "    <button class=\"colab-df-convert\" onclick=\"convertToInteractive('df-bad12590-9d37-4671-b2f6-8e605b89ce0c')\"\n",
       "            title=\"Convert this dataframe to an interactive table.\"\n",
       "            style=\"display:none;\">\n",
       "\n",
       "  <svg xmlns=\"http://www.w3.org/2000/svg\" height=\"24px\" viewBox=\"0 -960 960 960\">\n",
       "    <path d=\"M120-120v-720h720v720H120Zm60-500h600v-160H180v160Zm220 220h160v-160H400v160Zm0 220h160v-160H400v160ZM180-400h160v-160H180v160Zm440 0h160v-160H620v160ZM180-180h160v-160H180v160Zm440 0h160v-160H620v160Z\"/>\n",
       "  </svg>\n",
       "    </button>\n",
       "\n",
       "  <style>\n",
       "    .colab-df-container {\n",
       "      display:flex;\n",
       "      gap: 12px;\n",
       "    }\n",
       "\n",
       "    .colab-df-convert {\n",
       "      background-color: #E8F0FE;\n",
       "      border: none;\n",
       "      border-radius: 50%;\n",
       "      cursor: pointer;\n",
       "      display: none;\n",
       "      fill: #1967D2;\n",
       "      height: 32px;\n",
       "      padding: 0 0 0 0;\n",
       "      width: 32px;\n",
       "    }\n",
       "\n",
       "    .colab-df-convert:hover {\n",
       "      background-color: #E2EBFA;\n",
       "      box-shadow: 0px 1px 2px rgba(60, 64, 67, 0.3), 0px 1px 3px 1px rgba(60, 64, 67, 0.15);\n",
       "      fill: #174EA6;\n",
       "    }\n",
       "\n",
       "    .colab-df-buttons div {\n",
       "      margin-bottom: 4px;\n",
       "    }\n",
       "\n",
       "    [theme=dark] .colab-df-convert {\n",
       "      background-color: #3B4455;\n",
       "      fill: #D2E3FC;\n",
       "    }\n",
       "\n",
       "    [theme=dark] .colab-df-convert:hover {\n",
       "      background-color: #434B5C;\n",
       "      box-shadow: 0px 1px 3px 1px rgba(0, 0, 0, 0.15);\n",
       "      filter: drop-shadow(0px 1px 2px rgba(0, 0, 0, 0.3));\n",
       "      fill: #FFFFFF;\n",
       "    }\n",
       "  </style>\n",
       "\n",
       "    <script>\n",
       "      const buttonEl =\n",
       "        document.querySelector('#df-bad12590-9d37-4671-b2f6-8e605b89ce0c button.colab-df-convert');\n",
       "      buttonEl.style.display =\n",
       "        google.colab.kernel.accessAllowed ? 'block' : 'none';\n",
       "\n",
       "      async function convertToInteractive(key) {\n",
       "        const element = document.querySelector('#df-bad12590-9d37-4671-b2f6-8e605b89ce0c');\n",
       "        const dataTable =\n",
       "          await google.colab.kernel.invokeFunction('convertToInteractive',\n",
       "                                                    [key], {});\n",
       "        if (!dataTable) return;\n",
       "\n",
       "        const docLinkHtml = 'Like what you see? Visit the ' +\n",
       "          '<a target=\"_blank\" href=https://colab.research.google.com/notebooks/data_table.ipynb>data table notebook</a>'\n",
       "          + ' to learn more about interactive tables.';\n",
       "        element.innerHTML = '';\n",
       "        dataTable['output_type'] = 'display_data';\n",
       "        await google.colab.output.renderOutput(dataTable, element);\n",
       "        const docLink = document.createElement('div');\n",
       "        docLink.innerHTML = docLinkHtml;\n",
       "        element.appendChild(docLink);\n",
       "      }\n",
       "    </script>\n",
       "  </div>\n",
       "\n",
       "\n",
       "<div id=\"df-12163cbe-862d-46ec-a3dc-826265d86e59\">\n",
       "  <button class=\"colab-df-quickchart\" onclick=\"quickchart('df-12163cbe-862d-46ec-a3dc-826265d86e59')\"\n",
       "            title=\"Suggest charts.\"\n",
       "            style=\"display:none;\">\n",
       "\n",
       "<svg xmlns=\"http://www.w3.org/2000/svg\" height=\"24px\"viewBox=\"0 0 24 24\"\n",
       "     width=\"24px\">\n",
       "    <g>\n",
       "        <path d=\"M19 3H5c-1.1 0-2 .9-2 2v14c0 1.1.9 2 2 2h14c1.1 0 2-.9 2-2V5c0-1.1-.9-2-2-2zM9 17H7v-7h2v7zm4 0h-2V7h2v10zm4 0h-2v-4h2v4z\"/>\n",
       "    </g>\n",
       "</svg>\n",
       "  </button>\n",
       "\n",
       "<style>\n",
       "  .colab-df-quickchart {\n",
       "    background-color: #E8F0FE;\n",
       "    border: none;\n",
       "    border-radius: 50%;\n",
       "    cursor: pointer;\n",
       "    display: none;\n",
       "    fill: #1967D2;\n",
       "    height: 32px;\n",
       "    padding: 0 0 0 0;\n",
       "    width: 32px;\n",
       "  }\n",
       "\n",
       "  .colab-df-quickchart:hover {\n",
       "    background-color: #E2EBFA;\n",
       "    box-shadow: 0px 1px 2px rgba(60, 64, 67, 0.3), 0px 1px 3px 1px rgba(60, 64, 67, 0.15);\n",
       "    fill: #174EA6;\n",
       "  }\n",
       "\n",
       "  [theme=dark] .colab-df-quickchart {\n",
       "    background-color: #3B4455;\n",
       "    fill: #D2E3FC;\n",
       "  }\n",
       "\n",
       "  [theme=dark] .colab-df-quickchart:hover {\n",
       "    background-color: #434B5C;\n",
       "    box-shadow: 0px 1px 3px 1px rgba(0, 0, 0, 0.15);\n",
       "    filter: drop-shadow(0px 1px 2px rgba(0, 0, 0, 0.3));\n",
       "    fill: #FFFFFF;\n",
       "  }\n",
       "</style>\n",
       "\n",
       "  <script>\n",
       "    async function quickchart(key) {\n",
       "      const charts = await google.colab.kernel.invokeFunction(\n",
       "          'suggestCharts', [key], {});\n",
       "    }\n",
       "    (() => {\n",
       "      let quickchartButtonEl =\n",
       "        document.querySelector('#df-12163cbe-862d-46ec-a3dc-826265d86e59 button');\n",
       "      quickchartButtonEl.style.display =\n",
       "        google.colab.kernel.accessAllowed ? 'block' : 'none';\n",
       "    })();\n",
       "  </script>\n",
       "</div>\n",
       "    </div>\n",
       "  </div>\n"
      ],
      "text/plain": [
       "              Value           std          mean           ROI            CV\n",
       "count  5.100000e+04  5.100000e+04  5.100000e+04  51000.000000  51000.000000\n",
       "mean   8.760330e+05  2.570727e+05  6.788827e+05      3.940624      0.342105\n",
       "std    1.176212e+06  5.286190e+05  8.174821e+05     22.741604      0.187040\n",
       "min    1.623000e+05  1.866613e+04  9.586755e+04     -0.912302      0.088818\n",
       "25%    3.780000e+05  7.686192e+04  2.747581e+05      0.734187      0.229045\n",
       "50%    5.750000e+05  1.379157e+05  4.315645e+05      1.422403      0.289101\n",
       "75%    9.185500e+05  2.530333e+05  7.718940e+05      2.478723      0.381796\n",
       "max    1.931490e+07  6.686020e+06  8.366725e+06    344.461390      1.701296"
      ]
     },
     "execution_count": 127,
     "metadata": {},
     "output_type": "execute_result"
    }
   ],
   "source": [
    "top_zipcodes_df.describe()"
   ]
  },
  {
   "cell_type": "markdown",
   "metadata": {
    "id": "AIk5-umVg6B6"
   },
   "source": [
    "### **5-year Return on Investment**"
   ]
  },
  {
   "cell_type": "code",
   "execution_count": 128,
   "metadata": {
    "colab": {
     "base_uri": "https://localhost:8080/",
     "height": 237
    },
    "executionInfo": {
     "elapsed": 11,
     "status": "ok",
     "timestamp": 1692807742174,
     "user": {
      "displayName": "Waruchu Kuria",
      "userId": "10228095980568770522"
     },
     "user_tz": -180
    },
    "id": "SIY6tWiVo_DZ",
    "outputId": "3d52bf27-1417-4478-d3f7-ba157c3944a2"
   },
   "outputs": [
    {
     "data": {
      "text/html": [
       "\n",
       "  <div id=\"df-12cfc620-9c1d-4f32-9567-7b57bfd6eb70\" class=\"colab-df-container\">\n",
       "    <div>\n",
       "<style scoped>\n",
       "    .dataframe tbody tr th:only-of-type {\n",
       "        vertical-align: middle;\n",
       "    }\n",
       "\n",
       "    .dataframe tbody tr th {\n",
       "        vertical-align: top;\n",
       "    }\n",
       "\n",
       "    .dataframe thead th {\n",
       "        text-align: right;\n",
       "    }\n",
       "</style>\n",
       "<table border=\"1\" class=\"dataframe\">\n",
       "  <thead>\n",
       "    <tr style=\"text-align: right;\">\n",
       "      <th></th>\n",
       "      <th>State</th>\n",
       "      <th>County</th>\n",
       "      <th>Metro</th>\n",
       "      <th>City</th>\n",
       "      <th>ZipCode</th>\n",
       "      <th>Value</th>\n",
       "      <th>std</th>\n",
       "      <th>mean</th>\n",
       "      <th>ROI</th>\n",
       "      <th>CV</th>\n",
       "      <th>Year</th>\n",
       "      <th>5-year-periods</th>\n",
       "    </tr>\n",
       "    <tr>\n",
       "      <th>Date</th>\n",
       "      <th></th>\n",
       "      <th></th>\n",
       "      <th></th>\n",
       "      <th></th>\n",
       "      <th></th>\n",
       "      <th></th>\n",
       "      <th></th>\n",
       "      <th></th>\n",
       "      <th></th>\n",
       "      <th></th>\n",
       "      <th></th>\n",
       "      <th></th>\n",
       "    </tr>\n",
       "  </thead>\n",
       "  <tbody>\n",
       "    <tr>\n",
       "      <th>2017-06-01</th>\n",
       "      <td>WY</td>\n",
       "      <td>Converse</td>\n",
       "      <td>missing</td>\n",
       "      <td>Douglas</td>\n",
       "      <td>82633</td>\n",
       "      <td>219000.0</td>\n",
       "      <td>23974.269738</td>\n",
       "      <td>177132.452830</td>\n",
       "      <td>0.540394</td>\n",
       "      <td>0.135347</td>\n",
       "      <td>2017</td>\n",
       "      <td>2017-2021</td>\n",
       "    </tr>\n",
       "    <tr>\n",
       "      <th>2017-08-01</th>\n",
       "      <td>WY</td>\n",
       "      <td>Albany</td>\n",
       "      <td>Laramie</td>\n",
       "      <td>Laramie</td>\n",
       "      <td>82072</td>\n",
       "      <td>219000.0</td>\n",
       "      <td>26301.503054</td>\n",
       "      <td>186305.283019</td>\n",
       "      <td>0.409578</td>\n",
       "      <td>0.141174</td>\n",
       "      <td>2017</td>\n",
       "      <td>2017-2021</td>\n",
       "    </tr>\n",
       "    <tr>\n",
       "      <th>2018-02-01</th>\n",
       "      <td>WY</td>\n",
       "      <td>Park</td>\n",
       "      <td>missing</td>\n",
       "      <td>Powell</td>\n",
       "      <td>82435</td>\n",
       "      <td>219000.0</td>\n",
       "      <td>18666.128673</td>\n",
       "      <td>173243.396226</td>\n",
       "      <td>0.400000</td>\n",
       "      <td>0.107745</td>\n",
       "      <td>2018</td>\n",
       "      <td>2018-2022</td>\n",
       "    </tr>\n",
       "    <tr>\n",
       "      <th>2015-11-01</th>\n",
       "      <td>WY</td>\n",
       "      <td>Albany</td>\n",
       "      <td>Laramie</td>\n",
       "      <td>Laramie</td>\n",
       "      <td>82070</td>\n",
       "      <td>218900.0</td>\n",
       "      <td>29098.670943</td>\n",
       "      <td>186173.207547</td>\n",
       "      <td>0.547927</td>\n",
       "      <td>0.156299</td>\n",
       "      <td>2015</td>\n",
       "      <td>2015-2019</td>\n",
       "    </tr>\n",
       "    <tr>\n",
       "      <th>2014-02-01</th>\n",
       "      <td>WY</td>\n",
       "      <td>Albany</td>\n",
       "      <td>Laramie</td>\n",
       "      <td>Laramie</td>\n",
       "      <td>82070</td>\n",
       "      <td>218800.0</td>\n",
       "      <td>29098.670943</td>\n",
       "      <td>186173.207547</td>\n",
       "      <td>0.547927</td>\n",
       "      <td>0.156299</td>\n",
       "      <td>2014</td>\n",
       "      <td>2014-2018</td>\n",
       "    </tr>\n",
       "  </tbody>\n",
       "</table>\n",
       "</div>\n",
       "    <div class=\"colab-df-buttons\">\n",
       "\n",
       "  <div class=\"colab-df-container\">\n",
       "    <button class=\"colab-df-convert\" onclick=\"convertToInteractive('df-12cfc620-9c1d-4f32-9567-7b57bfd6eb70')\"\n",
       "            title=\"Convert this dataframe to an interactive table.\"\n",
       "            style=\"display:none;\">\n",
       "\n",
       "  <svg xmlns=\"http://www.w3.org/2000/svg\" height=\"24px\" viewBox=\"0 -960 960 960\">\n",
       "    <path d=\"M120-120v-720h720v720H120Zm60-500h600v-160H180v160Zm220 220h160v-160H400v160Zm0 220h160v-160H400v160ZM180-400h160v-160H180v160Zm440 0h160v-160H620v160ZM180-180h160v-160H180v160Zm440 0h160v-160H620v160Z\"/>\n",
       "  </svg>\n",
       "    </button>\n",
       "\n",
       "  <style>\n",
       "    .colab-df-container {\n",
       "      display:flex;\n",
       "      gap: 12px;\n",
       "    }\n",
       "\n",
       "    .colab-df-convert {\n",
       "      background-color: #E8F0FE;\n",
       "      border: none;\n",
       "      border-radius: 50%;\n",
       "      cursor: pointer;\n",
       "      display: none;\n",
       "      fill: #1967D2;\n",
       "      height: 32px;\n",
       "      padding: 0 0 0 0;\n",
       "      width: 32px;\n",
       "    }\n",
       "\n",
       "    .colab-df-convert:hover {\n",
       "      background-color: #E2EBFA;\n",
       "      box-shadow: 0px 1px 2px rgba(60, 64, 67, 0.3), 0px 1px 3px 1px rgba(60, 64, 67, 0.15);\n",
       "      fill: #174EA6;\n",
       "    }\n",
       "\n",
       "    .colab-df-buttons div {\n",
       "      margin-bottom: 4px;\n",
       "    }\n",
       "\n",
       "    [theme=dark] .colab-df-convert {\n",
       "      background-color: #3B4455;\n",
       "      fill: #D2E3FC;\n",
       "    }\n",
       "\n",
       "    [theme=dark] .colab-df-convert:hover {\n",
       "      background-color: #434B5C;\n",
       "      box-shadow: 0px 1px 3px 1px rgba(0, 0, 0, 0.15);\n",
       "      filter: drop-shadow(0px 1px 2px rgba(0, 0, 0, 0.3));\n",
       "      fill: #FFFFFF;\n",
       "    }\n",
       "  </style>\n",
       "\n",
       "    <script>\n",
       "      const buttonEl =\n",
       "        document.querySelector('#df-12cfc620-9c1d-4f32-9567-7b57bfd6eb70 button.colab-df-convert');\n",
       "      buttonEl.style.display =\n",
       "        google.colab.kernel.accessAllowed ? 'block' : 'none';\n",
       "\n",
       "      async function convertToInteractive(key) {\n",
       "        const element = document.querySelector('#df-12cfc620-9c1d-4f32-9567-7b57bfd6eb70');\n",
       "        const dataTable =\n",
       "          await google.colab.kernel.invokeFunction('convertToInteractive',\n",
       "                                                    [key], {});\n",
       "        if (!dataTable) return;\n",
       "\n",
       "        const docLinkHtml = 'Like what you see? Visit the ' +\n",
       "          '<a target=\"_blank\" href=https://colab.research.google.com/notebooks/data_table.ipynb>data table notebook</a>'\n",
       "          + ' to learn more about interactive tables.';\n",
       "        element.innerHTML = '';\n",
       "        dataTable['output_type'] = 'display_data';\n",
       "        await google.colab.output.renderOutput(dataTable, element);\n",
       "        const docLink = document.createElement('div');\n",
       "        docLink.innerHTML = docLinkHtml;\n",
       "        element.appendChild(docLink);\n",
       "      }\n",
       "    </script>\n",
       "  </div>\n",
       "\n",
       "\n",
       "<div id=\"df-944ab9ad-7a03-4adb-a53a-3068fc17c3a1\">\n",
       "  <button class=\"colab-df-quickchart\" onclick=\"quickchart('df-944ab9ad-7a03-4adb-a53a-3068fc17c3a1')\"\n",
       "            title=\"Suggest charts.\"\n",
       "            style=\"display:none;\">\n",
       "\n",
       "<svg xmlns=\"http://www.w3.org/2000/svg\" height=\"24px\"viewBox=\"0 0 24 24\"\n",
       "     width=\"24px\">\n",
       "    <g>\n",
       "        <path d=\"M19 3H5c-1.1 0-2 .9-2 2v14c0 1.1.9 2 2 2h14c1.1 0 2-.9 2-2V5c0-1.1-.9-2-2-2zM9 17H7v-7h2v7zm4 0h-2V7h2v10zm4 0h-2v-4h2v4z\"/>\n",
       "    </g>\n",
       "</svg>\n",
       "  </button>\n",
       "\n",
       "<style>\n",
       "  .colab-df-quickchart {\n",
       "    background-color: #E8F0FE;\n",
       "    border: none;\n",
       "    border-radius: 50%;\n",
       "    cursor: pointer;\n",
       "    display: none;\n",
       "    fill: #1967D2;\n",
       "    height: 32px;\n",
       "    padding: 0 0 0 0;\n",
       "    width: 32px;\n",
       "  }\n",
       "\n",
       "  .colab-df-quickchart:hover {\n",
       "    background-color: #E2EBFA;\n",
       "    box-shadow: 0px 1px 2px rgba(60, 64, 67, 0.3), 0px 1px 3px 1px rgba(60, 64, 67, 0.15);\n",
       "    fill: #174EA6;\n",
       "  }\n",
       "\n",
       "  [theme=dark] .colab-df-quickchart {\n",
       "    background-color: #3B4455;\n",
       "    fill: #D2E3FC;\n",
       "  }\n",
       "\n",
       "  [theme=dark] .colab-df-quickchart:hover {\n",
       "    background-color: #434B5C;\n",
       "    box-shadow: 0px 1px 3px 1px rgba(0, 0, 0, 0.15);\n",
       "    filter: drop-shadow(0px 1px 2px rgba(0, 0, 0, 0.3));\n",
       "    fill: #FFFFFF;\n",
       "  }\n",
       "</style>\n",
       "\n",
       "  <script>\n",
       "    async function quickchart(key) {\n",
       "      const charts = await google.colab.kernel.invokeFunction(\n",
       "          'suggestCharts', [key], {});\n",
       "    }\n",
       "    (() => {\n",
       "      let quickchartButtonEl =\n",
       "        document.querySelector('#df-944ab9ad-7a03-4adb-a53a-3068fc17c3a1 button');\n",
       "      quickchartButtonEl.style.display =\n",
       "        google.colab.kernel.accessAllowed ? 'block' : 'none';\n",
       "    })();\n",
       "  </script>\n",
       "</div>\n",
       "    </div>\n",
       "  </div>\n"
      ],
      "text/plain": [
       "           State    County    Metro     City ZipCode     Value           std  \\\n",
       "Date                                                                           \n",
       "2017-06-01    WY  Converse  missing  Douglas   82633  219000.0  23974.269738   \n",
       "2017-08-01    WY    Albany  Laramie  Laramie   82072  219000.0  26301.503054   \n",
       "2018-02-01    WY      Park  missing   Powell   82435  219000.0  18666.128673   \n",
       "2015-11-01    WY    Albany  Laramie  Laramie   82070  218900.0  29098.670943   \n",
       "2014-02-01    WY    Albany  Laramie  Laramie   82070  218800.0  29098.670943   \n",
       "\n",
       "                     mean       ROI        CV  Year 5-year-periods  \n",
       "Date                                                                \n",
       "2017-06-01  177132.452830  0.540394  0.135347  2017      2017-2021  \n",
       "2017-08-01  186305.283019  0.409578  0.141174  2017      2017-2021  \n",
       "2018-02-01  173243.396226  0.400000  0.107745  2018      2018-2022  \n",
       "2015-11-01  186173.207547  0.547927  0.156299  2015      2015-2019  \n",
       "2014-02-01  186173.207547  0.547927  0.156299  2014      2014-2018  "
      ]
     },
     "execution_count": 128,
     "metadata": {},
     "output_type": "execute_result"
    }
   ],
   "source": [
    "# Create a new 'year' column based on the year from the datetime index\n",
    "top_zipcodes_df['Year'] = top_zipcodes_df.index.year\n",
    "\n",
    "# Define a function to group dates into 5-year periods\n",
    "def create_5_year_periods(year):\n",
    "    return f\"{year}-{year+4}\"\n",
    "\n",
    "# Apply the function to create the '5-year-periods' column\n",
    "top_zipcodes_df['5-year-periods'] = top_zipcodes_df['Year'].apply(create_5_year_periods)\n",
    "\n",
    "top_zipcodes_df.tail()"
   ]
  },
  {
   "cell_type": "markdown",
   "metadata": {
    "id": "gtpoFgw4sLlU"
   },
   "source": [
    "#### **Calculate Mean ROI for each 5-year period**"
   ]
  },
  {
   "cell_type": "code",
   "execution_count": 147,
   "metadata": {
    "colab": {
     "base_uri": "https://localhost:8080/",
     "height": 607
    },
    "executionInfo": {
     "elapsed": 3706,
     "status": "ok",
     "timestamp": 1692808426984,
     "user": {
      "displayName": "Waruchu Kuria",
      "userId": "10228095980568770522"
     },
     "user_tz": -180
    },
    "id": "6tf3F4rysI0x",
    "outputId": "45754463-45f4-4295-d574-88ae1b7e3364"
   },
   "outputs": [
    {
     "data": {
      "image/png": "[encoded data removed]",
      "text/plain": [
       "<Figure size 1000x600 with 1 Axes>"
      ]
     },
     "metadata": {},
     "output_type": "display_data"
    }
   ],
   "source": [
    "mean_roi_by_period = top_zipcodes_df.groupby('5-year-periods')['ROI'].mean()\n",
    "\n",
    "# Plotting the data\n",
    "plt.figure(figsize=(10, 6))\n",
    "mean_roi_by_period.plot(kind='bar', color='blue')\n",
    "plt.title('Mean ROI by 5-Year Period')\n",
    "plt.xlabel('5-Year Period')\n",
    "plt.ylabel('Mean ROI')\n",
    "plt.xticks(rotation=45)\n",
    "plt.tight_layout()\n",
    "plt.show()"
   ]
  },
  {
   "cell_type": "code",
   "execution_count": 148,
   "metadata": {
    "colab": {
     "base_uri": "https://localhost:8080/",
     "height": 409
    },
    "executionInfo": {
     "elapsed": 384,
     "status": "error",
     "timestamp": 1692808882553,
     "user": {
      "displayName": "Waruchu Kuria",
      "userId": "10228095980568770522"
     },
     "user_tz": -180
    },
    "id": "FS4rQ1VfRWWJ",
    "outputId": "6976c32e-ec2b-4766-adc2-9d2b2caa7aa8"
   },
   "outputs": [
    {
     "ename": "ValueError",
     "evalue": "ignored",
     "output_type": "error",
     "traceback": [
      "\u001b[0;31m---------------------------------------------------------------------------\u001b[0m",
      "\u001b[0;31mValueError\u001b[0m                                Traceback (most recent call last)",
      "\u001b[0;32m<ipython-input-148-69b6a481f850>\u001b[0m in \u001b[0;36m<cell line: 8>\u001b[0;34m()\u001b[0m\n\u001b[1;32m     10\u001b[0m     \u001b[0mend_col\u001b[0m \u001b[0;34m=\u001b[0m \u001b[0mstr\u001b[0m\u001b[0;34m(\u001b[0m\u001b[0mend_year\u001b[0m\u001b[0;34m)\u001b[0m \u001b[0;34m+\u001b[0m \u001b[0;34m'-04'\u001b[0m\u001b[0;34m\u001b[0m\u001b[0;34m\u001b[0m\u001b[0m\n\u001b[1;32m     11\u001b[0m \u001b[0;34m\u001b[0m\u001b[0m\n\u001b[0;32m---> 12\u001b[0;31m     roi_data['ROI_' + str(start_year) + '-' + str(end_year)] = (\n\u001b[0m\u001b[1;32m     13\u001b[0m         \u001b[0;34m(\u001b[0m\u001b[0mtop_zipcodes_df\u001b[0m\u001b[0;34m[\u001b[0m\u001b[0mend_col\u001b[0m\u001b[0;34m]\u001b[0m \u001b[0;34m-\u001b[0m \u001b[0mtop_zipcodes_df\u001b[0m\u001b[0;34m[\u001b[0m\u001b[0mstart_col\u001b[0m\u001b[0;34m]\u001b[0m\u001b[0;34m)\u001b[0m \u001b[0;34m/\u001b[0m \u001b[0mtop_zipcodes_df\u001b[0m\u001b[0;34m[\u001b[0m\u001b[0mstart_col\u001b[0m\u001b[0;34m]\u001b[0m\u001b[0;34m\u001b[0m\u001b[0;34m\u001b[0m\u001b[0m\n\u001b[1;32m     14\u001b[0m     ) * 100\n",
      "\u001b[0;32m/usr/local/lib/python3.10/dist-packages/pandas/core/frame.py\u001b[0m in \u001b[0;36m__setitem__\u001b[0;34m(self, key, value)\u001b[0m\n\u001b[1;32m   3968\u001b[0m             \u001b[0mself\u001b[0m\u001b[0;34m.\u001b[0m\u001b[0m_setitem_array\u001b[0m\u001b[0;34m(\u001b[0m\u001b[0mkey\u001b[0m\u001b[0;34m,\u001b[0m \u001b[0mvalue\u001b[0m\u001b[0;34m)\u001b[0m\u001b[0;34m\u001b[0m\u001b[0;34m\u001b[0m\u001b[0m\n\u001b[1;32m   3969\u001b[0m         \u001b[0;32melif\u001b[0m \u001b[0misinstance\u001b[0m\u001b[0;34m(\u001b[0m\u001b[0mvalue\u001b[0m\u001b[0;34m,\u001b[0m \u001b[0mDataFrame\u001b[0m\u001b[0;34m)\u001b[0m\u001b[0;34m:\u001b[0m\u001b[0;34m\u001b[0m\u001b[0;34m\u001b[0m\u001b[0m\n\u001b[0;32m-> 3970\u001b[0;31m             \u001b[0mself\u001b[0m\u001b[0;34m.\u001b[0m\u001b[0m_set_item_frame_value\u001b[0m\u001b[0;34m(\u001b[0m\u001b[0mkey\u001b[0m\u001b[0;34m,\u001b[0m \u001b[0mvalue\u001b[0m\u001b[0;34m)\u001b[0m\u001b[0;34m\u001b[0m\u001b[0;34m\u001b[0m\u001b[0m\n\u001b[0m\u001b[1;32m   3971\u001b[0m         elif (\n\u001b[1;32m   3972\u001b[0m             \u001b[0mis_list_like\u001b[0m\u001b[0;34m(\u001b[0m\u001b[0mvalue\u001b[0m\u001b[0;34m)\u001b[0m\u001b[0;34m\u001b[0m\u001b[0;34m\u001b[0m\u001b[0m\n",
      "\u001b[0;32m/usr/local/lib/python3.10/dist-packages/pandas/core/frame.py\u001b[0m in \u001b[0;36m_set_item_frame_value\u001b[0;34m(self, key, value)\u001b[0m\n\u001b[1;32m   4123\u001b[0m \u001b[0;34m\u001b[0m\u001b[0m\n\u001b[1;32m   4124\u001b[0m         \u001b[0;32mif\u001b[0m \u001b[0mlen\u001b[0m\u001b[0;34m(\u001b[0m\u001b[0mvalue\u001b[0m\u001b[0;34m.\u001b[0m\u001b[0mcolumns\u001b[0m\u001b[0;34m)\u001b[0m \u001b[0;34m!=\u001b[0m \u001b[0;36m1\u001b[0m\u001b[0;34m:\u001b[0m\u001b[0;34m\u001b[0m\u001b[0;34m\u001b[0m\u001b[0m\n\u001b[0;32m-> 4125\u001b[0;31m             raise ValueError(\n\u001b[0m\u001b[1;32m   4126\u001b[0m                 \u001b[0;34m\"Cannot set a DataFrame with multiple columns to the single \"\u001b[0m\u001b[0;34m\u001b[0m\u001b[0;34m\u001b[0m\u001b[0m\n\u001b[1;32m   4127\u001b[0m                 \u001b[0;34mf\"column {key}\"\u001b[0m\u001b[0;34m\u001b[0m\u001b[0;34m\u001b[0m\u001b[0m\n",
      "\u001b[0;31mValueError\u001b[0m: Cannot set a DataFrame with multiple columns to the single column ROI_1998-2003"
     ]
    }
   ],
   "source": [
    "# List of 5-year periods start and end years\n",
    "periods = [(1998, 2003), (2003, 2008), (2008, 2013), (2013, 2018)]\n",
    "\n",
    "# Create a new DataFrame to store ROI values\n",
    "roi_data = pd.DataFrame()\n",
    "\n",
    "# Calculate ROI for each period and store in the new DataFrame\n",
    "for start_year, end_year in periods:\n",
    "    start_col = str(start_year) + '-04'  # Assuming April data is available for each year\n",
    "    end_col = str(end_year) + '-04'\n",
    "\n",
    "    roi_data['ROI_' + str(start_year) + '-' + str(end_year)] = (\n",
    "        (data[end_col] - top_zipcodes_df[start_col]) / top_zipcodes_df[start_col]\n",
    "    ) * 100\n",
    "\n",
    "# Display the new DataFrame with ROI values for each period\n",
    "print(roi_data)\n"
   ]
  },
  {
   "cell_type": "markdown",
   "metadata": {
    "id": "9zoB7987OsD2"
   },
   "source": [
    "### **Determine the top 5 zip codes that show the highest potential return on investment (ROI)**"
   ]
  },
  {
   "cell_type": "code",
   "execution_count": 149,
   "metadata": {
    "colab": {
     "base_uri": "https://localhost:8080/",
     "height": 651
    },
    "executionInfo": {
     "elapsed": 5899,
     "status": "ok",
     "timestamp": 1692809135458,
     "user": {
      "displayName": "Waruchu Kuria",
      "userId": "10228095980568770522"
     },
     "user_tz": -180
    },
    "id": "5tySigYZOVK-",
    "outputId": "15f12126-8605-460a-cdc9-74fdced19d62"
   },
   "outputs": [
    {
     "name": "stdout",
     "output_type": "stream",
     "text": [
      "                ROI\n",
      "ZipCode            \n",
      "10021    344.461390\n",
      "31561    179.740741\n",
      "10011     79.492987\n",
      "11231     40.421769\n",
      "10014     32.631006\n"
     ]
    },
    {
     "data": {
      "image/png": "[encoded data removed]",
      "text/plain": [
       "<Figure size 1000x500 with 1 Axes>"
      ]
     },
     "metadata": {},
     "output_type": "display_data"
    }
   ],
   "source": [
    "# Create a DataFrame of the top 5 zip codes\n",
    "top_zipcodes_ROI = pd.DataFrame(top_zipcodes_df.groupby(\"ZipCode\")[\"ROI\"].mean().sort_values(ascending=False).head(5))\n",
    "print(top_zipcodes_ROI)\n",
    "\n",
    "# Create a bar chart of the average ROI\n",
    "fig, ax = plt.subplots(1, 1, figsize=(10, 5))\n",
    "top_zipcodes_ROI.plot(kind='bar', ax=ax, color=\"blue\")\n",
    "\n",
    "# Set the title, labels, and ticks\n",
    "plt.title(\"Zipcodes with the Highest ROI\")\n",
    "ax.set_ylabel(\"Average ROI\");\n",
    "ax.set_xlabel(\"Zipcodes\")\n",
    "# plt.xticks(fontsize= 18)\n",
    "\n",
    "# Show the bar chart\n",
    "plt.show()"
   ]
  },
  {
   "cell_type": "code",
   "execution_count": 131,
   "metadata": {
    "colab": {
     "base_uri": "https://localhost:8080/",
     "height": 237
    },
    "executionInfo": {
     "elapsed": 11,
     "status": "ok",
     "timestamp": 1692807743299,
     "user": {
      "displayName": "Waruchu Kuria",
      "userId": "10228095980568770522"
     },
     "user_tz": -180
    },
    "id": "2p-SAHYZyKbB",
    "outputId": "b058651f-ef8c-4642-f643-774101d8380c"
   },
   "outputs": [
    {
     "data": {
      "text/html": [
       "\n",
       "  <div id=\"df-439a9589-8d06-463b-91cc-ece477240b40\" class=\"colab-df-container\">\n",
       "    <div>\n",
       "<style scoped>\n",
       "    .dataframe tbody tr th:only-of-type {\n",
       "        vertical-align: middle;\n",
       "    }\n",
       "\n",
       "    .dataframe tbody tr th {\n",
       "        vertical-align: top;\n",
       "    }\n",
       "\n",
       "    .dataframe thead th {\n",
       "        text-align: right;\n",
       "    }\n",
       "</style>\n",
       "<table border=\"1\" class=\"dataframe\">\n",
       "  <thead>\n",
       "    <tr style=\"text-align: right;\">\n",
       "      <th></th>\n",
       "      <th>State</th>\n",
       "      <th>County</th>\n",
       "      <th>Metro</th>\n",
       "      <th>City</th>\n",
       "      <th>ZipCode</th>\n",
       "      <th>Value</th>\n",
       "      <th>std</th>\n",
       "      <th>mean</th>\n",
       "      <th>ROI</th>\n",
       "      <th>CV</th>\n",
       "      <th>Year</th>\n",
       "      <th>5-year-periods</th>\n",
       "    </tr>\n",
       "    <tr>\n",
       "      <th>Date</th>\n",
       "      <th></th>\n",
       "      <th></th>\n",
       "      <th></th>\n",
       "      <th></th>\n",
       "      <th></th>\n",
       "      <th></th>\n",
       "      <th></th>\n",
       "      <th></th>\n",
       "      <th></th>\n",
       "      <th></th>\n",
       "      <th></th>\n",
       "      <th></th>\n",
       "    </tr>\n",
       "  </thead>\n",
       "  <tbody>\n",
       "    <tr>\n",
       "      <th>2007-11-01</th>\n",
       "      <td>GA</td>\n",
       "      <td>Glynn</td>\n",
       "      <td>Brunswick</td>\n",
       "      <td>Sea Island</td>\n",
       "      <td>31561</td>\n",
       "      <td>2935800.0</td>\n",
       "      <td>1.198596e+06</td>\n",
       "      <td>1.406019e+06</td>\n",
       "      <td>179.740741</td>\n",
       "      <td>0.852475</td>\n",
       "      <td>2007</td>\n",
       "      <td>2007-2011</td>\n",
       "    </tr>\n",
       "    <tr>\n",
       "      <th>2007-12-01</th>\n",
       "      <td>GA</td>\n",
       "      <td>Glynn</td>\n",
       "      <td>Brunswick</td>\n",
       "      <td>Sea Island</td>\n",
       "      <td>31561</td>\n",
       "      <td>2935300.0</td>\n",
       "      <td>1.198596e+06</td>\n",
       "      <td>1.406019e+06</td>\n",
       "      <td>179.740741</td>\n",
       "      <td>0.852475</td>\n",
       "      <td>2007</td>\n",
       "      <td>2007-2011</td>\n",
       "    </tr>\n",
       "    <tr>\n",
       "      <th>2008-01-01</th>\n",
       "      <td>GA</td>\n",
       "      <td>Glynn</td>\n",
       "      <td>Brunswick</td>\n",
       "      <td>Sea Island</td>\n",
       "      <td>31561</td>\n",
       "      <td>2931900.0</td>\n",
       "      <td>1.198596e+06</td>\n",
       "      <td>1.406019e+06</td>\n",
       "      <td>179.740741</td>\n",
       "      <td>0.852475</td>\n",
       "      <td>2008</td>\n",
       "      <td>2008-2012</td>\n",
       "    </tr>\n",
       "    <tr>\n",
       "      <th>2007-10-01</th>\n",
       "      <td>GA</td>\n",
       "      <td>Glynn</td>\n",
       "      <td>Brunswick</td>\n",
       "      <td>Sea Island</td>\n",
       "      <td>31561</td>\n",
       "      <td>2926500.0</td>\n",
       "      <td>1.198596e+06</td>\n",
       "      <td>1.406019e+06</td>\n",
       "      <td>179.740741</td>\n",
       "      <td>0.852475</td>\n",
       "      <td>2007</td>\n",
       "      <td>2007-2011</td>\n",
       "    </tr>\n",
       "    <tr>\n",
       "      <th>2008-02-01</th>\n",
       "      <td>GA</td>\n",
       "      <td>Glynn</td>\n",
       "      <td>Brunswick</td>\n",
       "      <td>Sea Island</td>\n",
       "      <td>31561</td>\n",
       "      <td>2919600.0</td>\n",
       "      <td>1.198596e+06</td>\n",
       "      <td>1.406019e+06</td>\n",
       "      <td>179.740741</td>\n",
       "      <td>0.852475</td>\n",
       "      <td>2008</td>\n",
       "      <td>2008-2012</td>\n",
       "    </tr>\n",
       "  </tbody>\n",
       "</table>\n",
       "</div>\n",
       "    <div class=\"colab-df-buttons\">\n",
       "\n",
       "  <div class=\"colab-df-container\">\n",
       "    <button class=\"colab-df-convert\" onclick=\"convertToInteractive('df-439a9589-8d06-463b-91cc-ece477240b40')\"\n",
       "            title=\"Convert this dataframe to an interactive table.\"\n",
       "            style=\"display:none;\">\n",
       "\n",
       "  <svg xmlns=\"http://www.w3.org/2000/svg\" height=\"24px\" viewBox=\"0 -960 960 960\">\n",
       "    <path d=\"M120-120v-720h720v720H120Zm60-500h600v-160H180v160Zm220 220h160v-160H400v160Zm0 220h160v-160H400v160ZM180-400h160v-160H180v160Zm440 0h160v-160H620v160ZM180-180h160v-160H180v160Zm440 0h160v-160H620v160Z\"/>\n",
       "  </svg>\n",
       "    </button>\n",
       "\n",
       "  <style>\n",
       "    .colab-df-container {\n",
       "      display:flex;\n",
       "      gap: 12px;\n",
       "    }\n",
       "\n",
       "    .colab-df-convert {\n",
       "      background-color: #E8F0FE;\n",
       "      border: none;\n",
       "      border-radius: 50%;\n",
       "      cursor: pointer;\n",
       "      display: none;\n",
       "      fill: #1967D2;\n",
       "      height: 32px;\n",
       "      padding: 0 0 0 0;\n",
       "      width: 32px;\n",
       "    }\n",
       "\n",
       "    .colab-df-convert:hover {\n",
       "      background-color: #E2EBFA;\n",
       "      box-shadow: 0px 1px 2px rgba(60, 64, 67, 0.3), 0px 1px 3px 1px rgba(60, 64, 67, 0.15);\n",
       "      fill: #174EA6;\n",
       "    }\n",
       "\n",
       "    .colab-df-buttons div {\n",
       "      margin-bottom: 4px;\n",
       "    }\n",
       "\n",
       "    [theme=dark] .colab-df-convert {\n",
       "      background-color: #3B4455;\n",
       "      fill: #D2E3FC;\n",
       "    }\n",
       "\n",
       "    [theme=dark] .colab-df-convert:hover {\n",
       "      background-color: #434B5C;\n",
       "      box-shadow: 0px 1px 3px 1px rgba(0, 0, 0, 0.15);\n",
       "      filter: drop-shadow(0px 1px 2px rgba(0, 0, 0, 0.3));\n",
       "      fill: #FFFFFF;\n",
       "    }\n",
       "  </style>\n",
       "\n",
       "    <script>\n",
       "      const buttonEl =\n",
       "        document.querySelector('#df-439a9589-8d06-463b-91cc-ece477240b40 button.colab-df-convert');\n",
       "      buttonEl.style.display =\n",
       "        google.colab.kernel.accessAllowed ? 'block' : 'none';\n",
       "\n",
       "      async function convertToInteractive(key) {\n",
       "        const element = document.querySelector('#df-439a9589-8d06-463b-91cc-ece477240b40');\n",
       "        const dataTable =\n",
       "          await google.colab.kernel.invokeFunction('convertToInteractive',\n",
       "                                                    [key], {});\n",
       "        if (!dataTable) return;\n",
       "\n",
       "        const docLinkHtml = 'Like what you see? Visit the ' +\n",
       "          '<a target=\"_blank\" href=https://colab.research.google.com/notebooks/data_table.ipynb>data table notebook</a>'\n",
       "          + ' to learn more about interactive tables.';\n",
       "        element.innerHTML = '';\n",
       "        dataTable['output_type'] = 'display_data';\n",
       "        await google.colab.output.renderOutput(dataTable, element);\n",
       "        const docLink = document.createElement('div');\n",
       "        docLink.innerHTML = docLinkHtml;\n",
       "        element.appendChild(docLink);\n",
       "      }\n",
       "    </script>\n",
       "  </div>\n",
       "\n",
       "\n",
       "<div id=\"df-54d6ebfc-2b44-42cf-900a-7e384fa34532\">\n",
       "  <button class=\"colab-df-quickchart\" onclick=\"quickchart('df-54d6ebfc-2b44-42cf-900a-7e384fa34532')\"\n",
       "            title=\"Suggest charts.\"\n",
       "            style=\"display:none;\">\n",
       "\n",
       "<svg xmlns=\"http://www.w3.org/2000/svg\" height=\"24px\"viewBox=\"0 0 24 24\"\n",
       "     width=\"24px\">\n",
       "    <g>\n",
       "        <path d=\"M19 3H5c-1.1 0-2 .9-2 2v14c0 1.1.9 2 2 2h14c1.1 0 2-.9 2-2V5c0-1.1-.9-2-2-2zM9 17H7v-7h2v7zm4 0h-2V7h2v10zm4 0h-2v-4h2v4z\"/>\n",
       "    </g>\n",
       "</svg>\n",
       "  </button>\n",
       "\n",
       "<style>\n",
       "  .colab-df-quickchart {\n",
       "    background-color: #E8F0FE;\n",
       "    border: none;\n",
       "    border-radius: 50%;\n",
       "    cursor: pointer;\n",
       "    display: none;\n",
       "    fill: #1967D2;\n",
       "    height: 32px;\n",
       "    padding: 0 0 0 0;\n",
       "    width: 32px;\n",
       "  }\n",
       "\n",
       "  .colab-df-quickchart:hover {\n",
       "    background-color: #E2EBFA;\n",
       "    box-shadow: 0px 1px 2px rgba(60, 64, 67, 0.3), 0px 1px 3px 1px rgba(60, 64, 67, 0.15);\n",
       "    fill: #174EA6;\n",
       "  }\n",
       "\n",
       "  [theme=dark] .colab-df-quickchart {\n",
       "    background-color: #3B4455;\n",
       "    fill: #D2E3FC;\n",
       "  }\n",
       "\n",
       "  [theme=dark] .colab-df-quickchart:hover {\n",
       "    background-color: #434B5C;\n",
       "    box-shadow: 0px 1px 3px 1px rgba(0, 0, 0, 0.15);\n",
       "    filter: drop-shadow(0px 1px 2px rgba(0, 0, 0, 0.3));\n",
       "    fill: #FFFFFF;\n",
       "  }\n",
       "</style>\n",
       "\n",
       "  <script>\n",
       "    async function quickchart(key) {\n",
       "      const charts = await google.colab.kernel.invokeFunction(\n",
       "          'suggestCharts', [key], {});\n",
       "    }\n",
       "    (() => {\n",
       "      let quickchartButtonEl =\n",
       "        document.querySelector('#df-54d6ebfc-2b44-42cf-900a-7e384fa34532 button');\n",
       "      quickchartButtonEl.style.display =\n",
       "        google.colab.kernel.accessAllowed ? 'block' : 'none';\n",
       "    })();\n",
       "  </script>\n",
       "</div>\n",
       "    </div>\n",
       "  </div>\n"
      ],
      "text/plain": [
       "           State County      Metro        City ZipCode      Value  \\\n",
       "Date                                                                \n",
       "2007-11-01    GA  Glynn  Brunswick  Sea Island   31561  2935800.0   \n",
       "2007-12-01    GA  Glynn  Brunswick  Sea Island   31561  2935300.0   \n",
       "2008-01-01    GA  Glynn  Brunswick  Sea Island   31561  2931900.0   \n",
       "2007-10-01    GA  Glynn  Brunswick  Sea Island   31561  2926500.0   \n",
       "2008-02-01    GA  Glynn  Brunswick  Sea Island   31561  2919600.0   \n",
       "\n",
       "                     std          mean         ROI        CV  Year  \\\n",
       "Date                                                                 \n",
       "2007-11-01  1.198596e+06  1.406019e+06  179.740741  0.852475  2007   \n",
       "2007-12-01  1.198596e+06  1.406019e+06  179.740741  0.852475  2007   \n",
       "2008-01-01  1.198596e+06  1.406019e+06  179.740741  0.852475  2008   \n",
       "2007-10-01  1.198596e+06  1.406019e+06  179.740741  0.852475  2007   \n",
       "2008-02-01  1.198596e+06  1.406019e+06  179.740741  0.852475  2008   \n",
       "\n",
       "           5-year-periods  \n",
       "Date                       \n",
       "2007-11-01      2007-2011  \n",
       "2007-12-01      2007-2011  \n",
       "2008-01-01      2008-2012  \n",
       "2007-10-01      2007-2011  \n",
       "2008-02-01      2008-2012  "
      ]
     },
     "execution_count": 131,
     "metadata": {},
     "output_type": "execute_result"
    }
   ],
   "source": [
    "#top 5 zipcodes in terms of ROI\n",
    "top_5_zipcodes_ROI =['10021', '31561', '10011', '11231', '10014']\n",
    "\n",
    "top5_roi_df = top_zipcodes_df[top_zipcodes_df['ZipCode'].isin(top_5_zipcodes_ROI)]\n",
    "top5_roi_df.head()"
   ]
  },
  {
   "cell_type": "code",
   "execution_count": 132,
   "metadata": {
    "colab": {
     "base_uri": "https://localhost:8080/",
     "height": 651
    },
    "executionInfo": {
     "elapsed": 1371,
     "status": "ok",
     "timestamp": 1692807744661,
     "user": {
      "displayName": "Waruchu Kuria",
      "userId": "10228095980568770522"
     },
     "user_tz": -180
    },
    "id": "WXpsxBJIPF4X",
    "outputId": "b2458c3a-b8de-4e01-8756-b0dccf748f7c"
   },
   "outputs": [
    {
     "name": "stdout",
     "output_type": "stream",
     "text": [
      "               CV\n",
      "ZipCode          \n",
      "56041    1.701296\n",
      "2116     1.476219\n",
      "16102    1.295869\n",
      "43013    1.183662\n",
      "24054    1.020255\n"
     ]
    },
    {
     "data": {
      "image/png": "[encoded data removed]",
      "text/plain": [
       "<Figure size 1000x500 with 1 Axes>"
      ]
     },
     "metadata": {},
     "output_type": "display_data"
    }
   ],
   "source": [
    "# Create a DataFrame of the top 5 zip codes\n",
    "top_zipcodes_CV = pd.DataFrame(top_zipcodes_df.groupby(\"ZipCode\")[\"CV\"].mean().sort_values(ascending=False).head(5))\n",
    "print(top_zipcodes_CV)\n",
    "\n",
    "# Create a bar chart of the average CV\n",
    "fig, ax = plt.subplots(1, 1, figsize=(10, 5))\n",
    "top_zipcodes_CV.plot(kind='bar', ax=ax, color=\"red\")\n",
    "\n",
    "# Set the title, labels, and ticks\n",
    "plt.title(\"Zipcodes with the Highest CV\")\n",
    "ax.set_ylabel(\"Average CV\");\n",
    "ax.set_xlabel(\"Zipcodes\")\n",
    "# plt.xticks(fontsize= 18)\n",
    "\n",
    "# Show the bar chart\n",
    "plt.show()"
   ]
  },
  {
   "cell_type": "code",
   "execution_count": 133,
   "metadata": {
    "colab": {
     "base_uri": "https://localhost:8080/",
     "height": 237
    },
    "executionInfo": {
     "elapsed": 24,
     "status": "ok",
     "timestamp": 1692807744662,
     "user": {
      "displayName": "Waruchu Kuria",
      "userId": "10228095980568770522"
     },
     "user_tz": -180
    },
    "id": "uaWCE8mE1kWG",
    "outputId": "e297c979-145f-4185-925f-bfa0c0335f12"
   },
   "outputs": [
    {
     "data": {
      "text/html": [
       "\n",
       "  <div id=\"df-f5acaa44-06ef-4465-a04a-5b77de57a5f4\" class=\"colab-df-container\">\n",
       "    <div>\n",
       "<style scoped>\n",
       "    .dataframe tbody tr th:only-of-type {\n",
       "        vertical-align: middle;\n",
       "    }\n",
       "\n",
       "    .dataframe tbody tr th {\n",
       "        vertical-align: top;\n",
       "    }\n",
       "\n",
       "    .dataframe thead th {\n",
       "        text-align: right;\n",
       "    }\n",
       "</style>\n",
       "<table border=\"1\" class=\"dataframe\">\n",
       "  <thead>\n",
       "    <tr style=\"text-align: right;\">\n",
       "      <th></th>\n",
       "      <th>State</th>\n",
       "      <th>County</th>\n",
       "      <th>Metro</th>\n",
       "      <th>City</th>\n",
       "      <th>ZipCode</th>\n",
       "      <th>Value</th>\n",
       "      <th>std</th>\n",
       "      <th>mean</th>\n",
       "      <th>ROI</th>\n",
       "      <th>CV</th>\n",
       "      <th>Year</th>\n",
       "      <th>5-year-periods</th>\n",
       "    </tr>\n",
       "    <tr>\n",
       "      <th>Date</th>\n",
       "      <th></th>\n",
       "      <th></th>\n",
       "      <th></th>\n",
       "      <th></th>\n",
       "      <th></th>\n",
       "      <th></th>\n",
       "      <th></th>\n",
       "      <th></th>\n",
       "      <th></th>\n",
       "      <th></th>\n",
       "      <th></th>\n",
       "      <th></th>\n",
       "    </tr>\n",
       "  </thead>\n",
       "  <tbody>\n",
       "    <tr>\n",
       "      <th>2018-04-01</th>\n",
       "      <td>MA</td>\n",
       "      <td>Suffolk</td>\n",
       "      <td>Boston</td>\n",
       "      <td>Boston</td>\n",
       "      <td>2116</td>\n",
       "      <td>2136500.0</td>\n",
       "      <td>663382.278771</td>\n",
       "      <td>449379.245283</td>\n",
       "      <td>22.45225</td>\n",
       "      <td>1.476219</td>\n",
       "      <td>2018</td>\n",
       "      <td>2018-2022</td>\n",
       "    </tr>\n",
       "    <tr>\n",
       "      <th>2018-03-01</th>\n",
       "      <td>MA</td>\n",
       "      <td>Suffolk</td>\n",
       "      <td>Boston</td>\n",
       "      <td>Boston</td>\n",
       "      <td>2116</td>\n",
       "      <td>2106500.0</td>\n",
       "      <td>663382.278771</td>\n",
       "      <td>449379.245283</td>\n",
       "      <td>22.45225</td>\n",
       "      <td>1.476219</td>\n",
       "      <td>2018</td>\n",
       "      <td>2018-2022</td>\n",
       "    </tr>\n",
       "    <tr>\n",
       "      <th>2017-12-01</th>\n",
       "      <td>MA</td>\n",
       "      <td>Suffolk</td>\n",
       "      <td>Boston</td>\n",
       "      <td>Boston</td>\n",
       "      <td>2116</td>\n",
       "      <td>2064500.0</td>\n",
       "      <td>663382.278771</td>\n",
       "      <td>449379.245283</td>\n",
       "      <td>22.45225</td>\n",
       "      <td>1.476219</td>\n",
       "      <td>2017</td>\n",
       "      <td>2017-2021</td>\n",
       "    </tr>\n",
       "    <tr>\n",
       "      <th>2017-11-01</th>\n",
       "      <td>MA</td>\n",
       "      <td>Suffolk</td>\n",
       "      <td>Boston</td>\n",
       "      <td>Boston</td>\n",
       "      <td>2116</td>\n",
       "      <td>2057800.0</td>\n",
       "      <td>663382.278771</td>\n",
       "      <td>449379.245283</td>\n",
       "      <td>22.45225</td>\n",
       "      <td>1.476219</td>\n",
       "      <td>2017</td>\n",
       "      <td>2017-2021</td>\n",
       "    </tr>\n",
       "    <tr>\n",
       "      <th>2018-02-01</th>\n",
       "      <td>MA</td>\n",
       "      <td>Suffolk</td>\n",
       "      <td>Boston</td>\n",
       "      <td>Boston</td>\n",
       "      <td>2116</td>\n",
       "      <td>2056900.0</td>\n",
       "      <td>663382.278771</td>\n",
       "      <td>449379.245283</td>\n",
       "      <td>22.45225</td>\n",
       "      <td>1.476219</td>\n",
       "      <td>2018</td>\n",
       "      <td>2018-2022</td>\n",
       "    </tr>\n",
       "  </tbody>\n",
       "</table>\n",
       "</div>\n",
       "    <div class=\"colab-df-buttons\">\n",
       "\n",
       "  <div class=\"colab-df-container\">\n",
       "    <button class=\"colab-df-convert\" onclick=\"convertToInteractive('df-f5acaa44-06ef-4465-a04a-5b77de57a5f4')\"\n",
       "            title=\"Convert this dataframe to an interactive table.\"\n",
       "            style=\"display:none;\">\n",
       "\n",
       "  <svg xmlns=\"http://www.w3.org/2000/svg\" height=\"24px\" viewBox=\"0 -960 960 960\">\n",
       "    <path d=\"M120-120v-720h720v720H120Zm60-500h600v-160H180v160Zm220 220h160v-160H400v160Zm0 220h160v-160H400v160ZM180-400h160v-160H180v160Zm440 0h160v-160H620v160ZM180-180h160v-160H180v160Zm440 0h160v-160H620v160Z\"/>\n",
       "  </svg>\n",
       "    </button>\n",
       "\n",
       "  <style>\n",
       "    .colab-df-container {\n",
       "      display:flex;\n",
       "      gap: 12px;\n",
       "    }\n",
       "\n",
       "    .colab-df-convert {\n",
       "      background-color: #E8F0FE;\n",
       "      border: none;\n",
       "      border-radius: 50%;\n",
       "      cursor: pointer;\n",
       "      display: none;\n",
       "      fill: #1967D2;\n",
       "      height: 32px;\n",
       "      padding: 0 0 0 0;\n",
       "      width: 32px;\n",
       "    }\n",
       "\n",
       "    .colab-df-convert:hover {\n",
       "      background-color: #E2EBFA;\n",
       "      box-shadow: 0px 1px 2px rgba(60, 64, 67, 0.3), 0px 1px 3px 1px rgba(60, 64, 67, 0.15);\n",
       "      fill: #174EA6;\n",
       "    }\n",
       "\n",
       "    .colab-df-buttons div {\n",
       "      margin-bottom: 4px;\n",
       "    }\n",
       "\n",
       "    [theme=dark] .colab-df-convert {\n",
       "      background-color: #3B4455;\n",
       "      fill: #D2E3FC;\n",
       "    }\n",
       "\n",
       "    [theme=dark] .colab-df-convert:hover {\n",
       "      background-color: #434B5C;\n",
       "      box-shadow: 0px 1px 3px 1px rgba(0, 0, 0, 0.15);\n",
       "      filter: drop-shadow(0px 1px 2px rgba(0, 0, 0, 0.3));\n",
       "      fill: #FFFFFF;\n",
       "    }\n",
       "  </style>\n",
       "\n",
       "    <script>\n",
       "      const buttonEl =\n",
       "        document.querySelector('#df-f5acaa44-06ef-4465-a04a-5b77de57a5f4 button.colab-df-convert');\n",
       "      buttonEl.style.display =\n",
       "        google.colab.kernel.accessAllowed ? 'block' : 'none';\n",
       "\n",
       "      async function convertToInteractive(key) {\n",
       "        const element = document.querySelector('#df-f5acaa44-06ef-4465-a04a-5b77de57a5f4');\n",
       "        const dataTable =\n",
       "          await google.colab.kernel.invokeFunction('convertToInteractive',\n",
       "                                                    [key], {});\n",
       "        if (!dataTable) return;\n",
       "\n",
       "        const docLinkHtml = 'Like what you see? Visit the ' +\n",
       "          '<a target=\"_blank\" href=https://colab.research.google.com/notebooks/data_table.ipynb>data table notebook</a>'\n",
       "          + ' to learn more about interactive tables.';\n",
       "        element.innerHTML = '';\n",
       "        dataTable['output_type'] = 'display_data';\n",
       "        await google.colab.output.renderOutput(dataTable, element);\n",
       "        const docLink = document.createElement('div');\n",
       "        docLink.innerHTML = docLinkHtml;\n",
       "        element.appendChild(docLink);\n",
       "      }\n",
       "    </script>\n",
       "  </div>\n",
       "\n",
       "\n",
       "<div id=\"df-b77cca12-bbee-40af-9efb-10f845b9ee40\">\n",
       "  <button class=\"colab-df-quickchart\" onclick=\"quickchart('df-b77cca12-bbee-40af-9efb-10f845b9ee40')\"\n",
       "            title=\"Suggest charts.\"\n",
       "            style=\"display:none;\">\n",
       "\n",
       "<svg xmlns=\"http://www.w3.org/2000/svg\" height=\"24px\"viewBox=\"0 0 24 24\"\n",
       "     width=\"24px\">\n",
       "    <g>\n",
       "        <path d=\"M19 3H5c-1.1 0-2 .9-2 2v14c0 1.1.9 2 2 2h14c1.1 0 2-.9 2-2V5c0-1.1-.9-2-2-2zM9 17H7v-7h2v7zm4 0h-2V7h2v10zm4 0h-2v-4h2v4z\"/>\n",
       "    </g>\n",
       "</svg>\n",
       "  </button>\n",
       "\n",
       "<style>\n",
       "  .colab-df-quickchart {\n",
       "    background-color: #E8F0FE;\n",
       "    border: none;\n",
       "    border-radius: 50%;\n",
       "    cursor: pointer;\n",
       "    display: none;\n",
       "    fill: #1967D2;\n",
       "    height: 32px;\n",
       "    padding: 0 0 0 0;\n",
       "    width: 32px;\n",
       "  }\n",
       "\n",
       "  .colab-df-quickchart:hover {\n",
       "    background-color: #E2EBFA;\n",
       "    box-shadow: 0px 1px 2px rgba(60, 64, 67, 0.3), 0px 1px 3px 1px rgba(60, 64, 67, 0.15);\n",
       "    fill: #174EA6;\n",
       "  }\n",
       "\n",
       "  [theme=dark] .colab-df-quickchart {\n",
       "    background-color: #3B4455;\n",
       "    fill: #D2E3FC;\n",
       "  }\n",
       "\n",
       "  [theme=dark] .colab-df-quickchart:hover {\n",
       "    background-color: #434B5C;\n",
       "    box-shadow: 0px 1px 3px 1px rgba(0, 0, 0, 0.15);\n",
       "    filter: drop-shadow(0px 1px 2px rgba(0, 0, 0, 0.3));\n",
       "    fill: #FFFFFF;\n",
       "  }\n",
       "</style>\n",
       "\n",
       "  <script>\n",
       "    async function quickchart(key) {\n",
       "      const charts = await google.colab.kernel.invokeFunction(\n",
       "          'suggestCharts', [key], {});\n",
       "    }\n",
       "    (() => {\n",
       "      let quickchartButtonEl =\n",
       "        document.querySelector('#df-b77cca12-bbee-40af-9efb-10f845b9ee40 button');\n",
       "      quickchartButtonEl.style.display =\n",
       "        google.colab.kernel.accessAllowed ? 'block' : 'none';\n",
       "    })();\n",
       "  </script>\n",
       "</div>\n",
       "    </div>\n",
       "  </div>\n"
      ],
      "text/plain": [
       "           State   County   Metro    City ZipCode      Value            std  \\\n",
       "Date                                                                          \n",
       "2018-04-01    MA  Suffolk  Boston  Boston    2116  2136500.0  663382.278771   \n",
       "2018-03-01    MA  Suffolk  Boston  Boston    2116  2106500.0  663382.278771   \n",
       "2017-12-01    MA  Suffolk  Boston  Boston    2116  2064500.0  663382.278771   \n",
       "2017-11-01    MA  Suffolk  Boston  Boston    2116  2057800.0  663382.278771   \n",
       "2018-02-01    MA  Suffolk  Boston  Boston    2116  2056900.0  663382.278771   \n",
       "\n",
       "                     mean       ROI        CV  Year 5-year-periods  \n",
       "Date                                                                \n",
       "2018-04-01  449379.245283  22.45225  1.476219  2018      2018-2022  \n",
       "2018-03-01  449379.245283  22.45225  1.476219  2018      2018-2022  \n",
       "2017-12-01  449379.245283  22.45225  1.476219  2017      2017-2021  \n",
       "2017-11-01  449379.245283  22.45225  1.476219  2017      2017-2021  \n",
       "2018-02-01  449379.245283  22.45225  1.476219  2018      2018-2022  "
      ]
     },
     "execution_count": 133,
     "metadata": {},
     "output_type": "execute_result"
    }
   ],
   "source": [
    "#top 5 zipcodes in terms of CV\n",
    "top_5_zipcodes_CV =['56041', '2116', '16102', '43013', '24054']\n",
    "\n",
    "top5_cv_df = top_zipcodes_df[top_zipcodes_df['ZipCode'].isin(top_5_zipcodes_CV)]\n",
    "top5_cv_df.head()"
   ]
  },
  {
   "cell_type": "markdown",
   "metadata": {
    "id": "agLRtzeWUsJZ"
   },
   "source": [
    "### **Determine the 5 Least Advisable Cities to Invest in**"
   ]
  },
  {
   "cell_type": "code",
   "execution_count": 134,
   "metadata": {
    "colab": {
     "base_uri": "https://localhost:8080/",
     "height": 651
    },
    "executionInfo": {
     "elapsed": 23,
     "status": "ok",
     "timestamp": 1692807744662,
     "user": {
      "displayName": "Waruchu Kuria",
      "userId": "10228095980568770522"
     },
     "user_tz": -180
    },
    "id": "ASFD_4EEUuCr",
    "outputId": "58145a0f-276a-4844-bc02-f044262fd66a"
   },
   "outputs": [
    {
     "name": "stdout",
     "output_type": "stream",
     "text": [
      "              ROI\n",
      "ZipCode          \n",
      "67473   -0.834832\n",
      "71075   -0.849241\n",
      "24054   -0.876821\n",
      "28039   -0.908117\n",
      "16102   -0.912302\n"
     ]
    },
    {
     "data": {
      "image/png": "[encoded data removed]",
      "text/plain": [
       "<Figure size 1000x500 with 1 Axes>"
      ]
     },
     "metadata": {},
     "output_type": "display_data"
    }
   ],
   "source": [
    "# Create a DataFrame of the bottom 5 zip codes\n",
    "bottom_zipcodes_ROI = pd.DataFrame(top_zipcodes_df.groupby(\"ZipCode\")[\"ROI\"].mean().sort_values(ascending=False).tail(5))\n",
    "print(bottom_zipcodes_ROI)\n",
    "\n",
    "# Create a bar chart of the average ROI\n",
    "fig, ax = plt.subplots(1, 1, figsize=(10, 5))\n",
    "bottom_zipcodes_ROI.plot(kind='bar', ax=ax, color=\"blue\")\n",
    "\n",
    "# Set the title, labels, and ticks\n",
    "plt.title(\"Zipcodes with the Lowest ROI\")\n",
    "ax.set_ylabel(\"Average ROI\");\n",
    "ax.set_xlabel(\"Zipcodes\")\n",
    "# plt.xticks(fontsize= 18)\n",
    "\n",
    "# Show the bar chart\n",
    "plt.show()"
   ]
  },
  {
   "cell_type": "code",
   "execution_count": 135,
   "metadata": {
    "colab": {
     "base_uri": "https://localhost:8080/",
     "height": 237
    },
    "executionInfo": {
     "elapsed": 19,
     "status": "ok",
     "timestamp": 1692807744662,
     "user": {
      "displayName": "Waruchu Kuria",
      "userId": "10228095980568770522"
     },
     "user_tz": -180
    },
    "id": "LVJLQcTw0vli",
    "outputId": "c91a0e2a-aff7-4428-b55c-c1845e6ec819"
   },
   "outputs": [
    {
     "data": {
      "text/html": [
       "\n",
       "  <div id=\"df-5a965442-27c4-4f74-a757-94f5cce8d585\" class=\"colab-df-container\">\n",
       "    <div>\n",
       "<style scoped>\n",
       "    .dataframe tbody tr th:only-of-type {\n",
       "        vertical-align: middle;\n",
       "    }\n",
       "\n",
       "    .dataframe tbody tr th {\n",
       "        vertical-align: top;\n",
       "    }\n",
       "\n",
       "    .dataframe thead th {\n",
       "        text-align: right;\n",
       "    }\n",
       "</style>\n",
       "<table border=\"1\" class=\"dataframe\">\n",
       "  <thead>\n",
       "    <tr style=\"text-align: right;\">\n",
       "      <th></th>\n",
       "      <th>State</th>\n",
       "      <th>County</th>\n",
       "      <th>Metro</th>\n",
       "      <th>City</th>\n",
       "      <th>ZipCode</th>\n",
       "      <th>Value</th>\n",
       "      <th>std</th>\n",
       "      <th>mean</th>\n",
       "      <th>ROI</th>\n",
       "      <th>CV</th>\n",
       "      <th>Year</th>\n",
       "      <th>5-year-periods</th>\n",
       "    </tr>\n",
       "    <tr>\n",
       "      <th>Date</th>\n",
       "      <th></th>\n",
       "      <th></th>\n",
       "      <th></th>\n",
       "      <th></th>\n",
       "      <th></th>\n",
       "      <th></th>\n",
       "      <th></th>\n",
       "      <th></th>\n",
       "      <th></th>\n",
       "      <th></th>\n",
       "      <th></th>\n",
       "      <th></th>\n",
       "    </tr>\n",
       "  </thead>\n",
       "  <tbody>\n",
       "    <tr>\n",
       "      <th>2007-11-01</th>\n",
       "      <td>GA</td>\n",
       "      <td>Glynn</td>\n",
       "      <td>Brunswick</td>\n",
       "      <td>Sea Island</td>\n",
       "      <td>31561</td>\n",
       "      <td>2935800.0</td>\n",
       "      <td>1.198596e+06</td>\n",
       "      <td>1.406019e+06</td>\n",
       "      <td>179.740741</td>\n",
       "      <td>0.852475</td>\n",
       "      <td>2007</td>\n",
       "      <td>2007-2011</td>\n",
       "    </tr>\n",
       "    <tr>\n",
       "      <th>2007-12-01</th>\n",
       "      <td>GA</td>\n",
       "      <td>Glynn</td>\n",
       "      <td>Brunswick</td>\n",
       "      <td>Sea Island</td>\n",
       "      <td>31561</td>\n",
       "      <td>2935300.0</td>\n",
       "      <td>1.198596e+06</td>\n",
       "      <td>1.406019e+06</td>\n",
       "      <td>179.740741</td>\n",
       "      <td>0.852475</td>\n",
       "      <td>2007</td>\n",
       "      <td>2007-2011</td>\n",
       "    </tr>\n",
       "    <tr>\n",
       "      <th>2008-01-01</th>\n",
       "      <td>GA</td>\n",
       "      <td>Glynn</td>\n",
       "      <td>Brunswick</td>\n",
       "      <td>Sea Island</td>\n",
       "      <td>31561</td>\n",
       "      <td>2931900.0</td>\n",
       "      <td>1.198596e+06</td>\n",
       "      <td>1.406019e+06</td>\n",
       "      <td>179.740741</td>\n",
       "      <td>0.852475</td>\n",
       "      <td>2008</td>\n",
       "      <td>2008-2012</td>\n",
       "    </tr>\n",
       "    <tr>\n",
       "      <th>2007-10-01</th>\n",
       "      <td>GA</td>\n",
       "      <td>Glynn</td>\n",
       "      <td>Brunswick</td>\n",
       "      <td>Sea Island</td>\n",
       "      <td>31561</td>\n",
       "      <td>2926500.0</td>\n",
       "      <td>1.198596e+06</td>\n",
       "      <td>1.406019e+06</td>\n",
       "      <td>179.740741</td>\n",
       "      <td>0.852475</td>\n",
       "      <td>2007</td>\n",
       "      <td>2007-2011</td>\n",
       "    </tr>\n",
       "    <tr>\n",
       "      <th>2008-02-01</th>\n",
       "      <td>GA</td>\n",
       "      <td>Glynn</td>\n",
       "      <td>Brunswick</td>\n",
       "      <td>Sea Island</td>\n",
       "      <td>31561</td>\n",
       "      <td>2919600.0</td>\n",
       "      <td>1.198596e+06</td>\n",
       "      <td>1.406019e+06</td>\n",
       "      <td>179.740741</td>\n",
       "      <td>0.852475</td>\n",
       "      <td>2008</td>\n",
       "      <td>2008-2012</td>\n",
       "    </tr>\n",
       "  </tbody>\n",
       "</table>\n",
       "</div>\n",
       "    <div class=\"colab-df-buttons\">\n",
       "\n",
       "  <div class=\"colab-df-container\">\n",
       "    <button class=\"colab-df-convert\" onclick=\"convertToInteractive('df-5a965442-27c4-4f74-a757-94f5cce8d585')\"\n",
       "            title=\"Convert this dataframe to an interactive table.\"\n",
       "            style=\"display:none;\">\n",
       "\n",
       "  <svg xmlns=\"http://www.w3.org/2000/svg\" height=\"24px\" viewBox=\"0 -960 960 960\">\n",
       "    <path d=\"M120-120v-720h720v720H120Zm60-500h600v-160H180v160Zm220 220h160v-160H400v160Zm0 220h160v-160H400v160ZM180-400h160v-160H180v160Zm440 0h160v-160H620v160ZM180-180h160v-160H180v160Zm440 0h160v-160H620v160Z\"/>\n",
       "  </svg>\n",
       "    </button>\n",
       "\n",
       "  <style>\n",
       "    .colab-df-container {\n",
       "      display:flex;\n",
       "      gap: 12px;\n",
       "    }\n",
       "\n",
       "    .colab-df-convert {\n",
       "      background-color: #E8F0FE;\n",
       "      border: none;\n",
       "      border-radius: 50%;\n",
       "      cursor: pointer;\n",
       "      display: none;\n",
       "      fill: #1967D2;\n",
       "      height: 32px;\n",
       "      padding: 0 0 0 0;\n",
       "      width: 32px;\n",
       "    }\n",
       "\n",
       "    .colab-df-convert:hover {\n",
       "      background-color: #E2EBFA;\n",
       "      box-shadow: 0px 1px 2px rgba(60, 64, 67, 0.3), 0px 1px 3px 1px rgba(60, 64, 67, 0.15);\n",
       "      fill: #174EA6;\n",
       "    }\n",
       "\n",
       "    .colab-df-buttons div {\n",
       "      margin-bottom: 4px;\n",
       "    }\n",
       "\n",
       "    [theme=dark] .colab-df-convert {\n",
       "      background-color: #3B4455;\n",
       "      fill: #D2E3FC;\n",
       "    }\n",
       "\n",
       "    [theme=dark] .colab-df-convert:hover {\n",
       "      background-color: #434B5C;\n",
       "      box-shadow: 0px 1px 3px 1px rgba(0, 0, 0, 0.15);\n",
       "      filter: drop-shadow(0px 1px 2px rgba(0, 0, 0, 0.3));\n",
       "      fill: #FFFFFF;\n",
       "    }\n",
       "  </style>\n",
       "\n",
       "    <script>\n",
       "      const buttonEl =\n",
       "        document.querySelector('#df-5a965442-27c4-4f74-a757-94f5cce8d585 button.colab-df-convert');\n",
       "      buttonEl.style.display =\n",
       "        google.colab.kernel.accessAllowed ? 'block' : 'none';\n",
       "\n",
       "      async function convertToInteractive(key) {\n",
       "        const element = document.querySelector('#df-5a965442-27c4-4f74-a757-94f5cce8d585');\n",
       "        const dataTable =\n",
       "          await google.colab.kernel.invokeFunction('convertToInteractive',\n",
       "                                                    [key], {});\n",
       "        if (!dataTable) return;\n",
       "\n",
       "        const docLinkHtml = 'Like what you see? Visit the ' +\n",
       "          '<a target=\"_blank\" href=https://colab.research.google.com/notebooks/data_table.ipynb>data table notebook</a>'\n",
       "          + ' to learn more about interactive tables.';\n",
       "        element.innerHTML = '';\n",
       "        dataTable['output_type'] = 'display_data';\n",
       "        await google.colab.output.renderOutput(dataTable, element);\n",
       "        const docLink = document.createElement('div');\n",
       "        docLink.innerHTML = docLinkHtml;\n",
       "        element.appendChild(docLink);\n",
       "      }\n",
       "    </script>\n",
       "  </div>\n",
       "\n",
       "\n",
       "<div id=\"df-a585458f-cdff-4217-9237-f8ed6796fb1e\">\n",
       "  <button class=\"colab-df-quickchart\" onclick=\"quickchart('df-a585458f-cdff-4217-9237-f8ed6796fb1e')\"\n",
       "            title=\"Suggest charts.\"\n",
       "            style=\"display:none;\">\n",
       "\n",
       "<svg xmlns=\"http://www.w3.org/2000/svg\" height=\"24px\"viewBox=\"0 0 24 24\"\n",
       "     width=\"24px\">\n",
       "    <g>\n",
       "        <path d=\"M19 3H5c-1.1 0-2 .9-2 2v14c0 1.1.9 2 2 2h14c1.1 0 2-.9 2-2V5c0-1.1-.9-2-2-2zM9 17H7v-7h2v7zm4 0h-2V7h2v10zm4 0h-2v-4h2v4z\"/>\n",
       "    </g>\n",
       "</svg>\n",
       "  </button>\n",
       "\n",
       "<style>\n",
       "  .colab-df-quickchart {\n",
       "    background-color: #E8F0FE;\n",
       "    border: none;\n",
       "    border-radius: 50%;\n",
       "    cursor: pointer;\n",
       "    display: none;\n",
       "    fill: #1967D2;\n",
       "    height: 32px;\n",
       "    padding: 0 0 0 0;\n",
       "    width: 32px;\n",
       "  }\n",
       "\n",
       "  .colab-df-quickchart:hover {\n",
       "    background-color: #E2EBFA;\n",
       "    box-shadow: 0px 1px 2px rgba(60, 64, 67, 0.3), 0px 1px 3px 1px rgba(60, 64, 67, 0.15);\n",
       "    fill: #174EA6;\n",
       "  }\n",
       "\n",
       "  [theme=dark] .colab-df-quickchart {\n",
       "    background-color: #3B4455;\n",
       "    fill: #D2E3FC;\n",
       "  }\n",
       "\n",
       "  [theme=dark] .colab-df-quickchart:hover {\n",
       "    background-color: #434B5C;\n",
       "    box-shadow: 0px 1px 3px 1px rgba(0, 0, 0, 0.15);\n",
       "    filter: drop-shadow(0px 1px 2px rgba(0, 0, 0, 0.3));\n",
       "    fill: #FFFFFF;\n",
       "  }\n",
       "</style>\n",
       "\n",
       "  <script>\n",
       "    async function quickchart(key) {\n",
       "      const charts = await google.colab.kernel.invokeFunction(\n",
       "          'suggestCharts', [key], {});\n",
       "    }\n",
       "    (() => {\n",
       "      let quickchartButtonEl =\n",
       "        document.querySelector('#df-a585458f-cdff-4217-9237-f8ed6796fb1e button');\n",
       "      quickchartButtonEl.style.display =\n",
       "        google.colab.kernel.accessAllowed ? 'block' : 'none';\n",
       "    })();\n",
       "  </script>\n",
       "</div>\n",
       "    </div>\n",
       "  </div>\n"
      ],
      "text/plain": [
       "           State County      Metro        City ZipCode      Value  \\\n",
       "Date                                                                \n",
       "2007-11-01    GA  Glynn  Brunswick  Sea Island   31561  2935800.0   \n",
       "2007-12-01    GA  Glynn  Brunswick  Sea Island   31561  2935300.0   \n",
       "2008-01-01    GA  Glynn  Brunswick  Sea Island   31561  2931900.0   \n",
       "2007-10-01    GA  Glynn  Brunswick  Sea Island   31561  2926500.0   \n",
       "2008-02-01    GA  Glynn  Brunswick  Sea Island   31561  2919600.0   \n",
       "\n",
       "                     std          mean         ROI        CV  Year  \\\n",
       "Date                                                                 \n",
       "2007-11-01  1.198596e+06  1.406019e+06  179.740741  0.852475  2007   \n",
       "2007-12-01  1.198596e+06  1.406019e+06  179.740741  0.852475  2007   \n",
       "2008-01-01  1.198596e+06  1.406019e+06  179.740741  0.852475  2008   \n",
       "2007-10-01  1.198596e+06  1.406019e+06  179.740741  0.852475  2007   \n",
       "2008-02-01  1.198596e+06  1.406019e+06  179.740741  0.852475  2008   \n",
       "\n",
       "           5-year-periods  \n",
       "Date                       \n",
       "2007-11-01      2007-2011  \n",
       "2007-12-01      2007-2011  \n",
       "2008-01-01      2008-2012  \n",
       "2007-10-01      2007-2011  \n",
       "2008-02-01      2008-2012  "
      ]
     },
     "execution_count": 135,
     "metadata": {},
     "output_type": "execute_result"
    }
   ],
   "source": [
    "# bottom 5 zipcodes in terms of ROI\n",
    "bottom_5_zipcodes_ROI =['67473', '71075', '24054', '28039', '16102']\n",
    "\n",
    "bottom5_roi_df = top_zipcodes_df[top_zipcodes_df['ZipCode'].isin(bottom_5_zipcodes_ROI)]\n",
    "bottom5_df.head()"
   ]
  },
  {
   "cell_type": "code",
   "execution_count": 136,
   "metadata": {
    "colab": {
     "base_uri": "https://localhost:8080/",
     "height": 651
    },
    "executionInfo": {
     "elapsed": 19,
     "status": "ok",
     "timestamp": 1692807744663,
     "user": {
      "displayName": "Waruchu Kuria",
      "userId": "10228095980568770522"
     },
     "user_tz": -180
    },
    "id": "wRemzxRqUuJL",
    "outputId": "ea3d85d7-a880-425c-c576-64359d80101b"
   },
   "outputs": [
    {
     "name": "stdout",
     "output_type": "stream",
     "text": [
      "               CV\n",
      "ZipCode          \n",
      "38139    0.103142\n",
      "74137    0.101036\n",
      "46037    0.098410\n",
      "46077    0.091697\n",
      "44040    0.088818\n"
     ]
    },
    {
     "data": {
      "image/png": "[encoded data removed]",
      "text/plain": [
       "<Figure size 1000x500 with 1 Axes>"
      ]
     },
     "metadata": {},
     "output_type": "display_data"
    }
   ],
   "source": [
    "# Create a DataFrame of the bottom 5 zip codes\n",
    "bottom_zipcodes_CV = pd.DataFrame(top_zipcodes_df.groupby(\"ZipCode\")[\"CV\"].mean().sort_values(ascending=False).tail(5))\n",
    "print(bottom_zipcodes_CV)\n",
    "\n",
    "# Create a bar chart of the average ROI\n",
    "fig, ax = plt.subplots(1, 1, figsize=(10, 5))\n",
    "bottom_zipcodes_CV.plot(kind='bar', ax=ax, color=\"red\")\n",
    "\n",
    "# Set the title, labels, and ticks\n",
    "plt.title(\"Zipcodes with the Lowest CV\")\n",
    "ax.set_ylabel(\"Average ROI\");\n",
    "ax.set_xlabel(\"Zipcodes\")\n",
    "# plt.xticks(fontsize= 18)\n",
    "\n",
    "# Show the bar chart\n",
    "plt.show()"
   ]
  },
  {
   "cell_type": "code",
   "execution_count": 137,
   "metadata": {
    "colab": {
     "base_uri": "https://localhost:8080/",
     "height": 237
    },
    "executionInfo": {
     "elapsed": 16,
     "status": "ok",
     "timestamp": 1692807744663,
     "user": {
      "displayName": "Waruchu Kuria",
      "userId": "10228095980568770522"
     },
     "user_tz": -180
    },
    "id": "aD3AXYsZ1LSD",
    "outputId": "26736387-402c-4e97-b5e9-1931f5574df6"
   },
   "outputs": [
    {
     "data": {
      "text/html": [
       "\n",
       "  <div id=\"df-b1511fe5-cd65-4cec-b12f-b1462eb84c3d\" class=\"colab-df-container\">\n",
       "    <div>\n",
       "<style scoped>\n",
       "    .dataframe tbody tr th:only-of-type {\n",
       "        vertical-align: middle;\n",
       "    }\n",
       "\n",
       "    .dataframe tbody tr th {\n",
       "        vertical-align: top;\n",
       "    }\n",
       "\n",
       "    .dataframe thead th {\n",
       "        text-align: right;\n",
       "    }\n",
       "</style>\n",
       "<table border=\"1\" class=\"dataframe\">\n",
       "  <thead>\n",
       "    <tr style=\"text-align: right;\">\n",
       "      <th></th>\n",
       "      <th>State</th>\n",
       "      <th>County</th>\n",
       "      <th>Metro</th>\n",
       "      <th>City</th>\n",
       "      <th>ZipCode</th>\n",
       "      <th>Value</th>\n",
       "      <th>std</th>\n",
       "      <th>mean</th>\n",
       "      <th>ROI</th>\n",
       "      <th>CV</th>\n",
       "      <th>Year</th>\n",
       "      <th>5-year-periods</th>\n",
       "    </tr>\n",
       "    <tr>\n",
       "      <th>Date</th>\n",
       "      <th></th>\n",
       "      <th></th>\n",
       "      <th></th>\n",
       "      <th></th>\n",
       "      <th></th>\n",
       "      <th></th>\n",
       "      <th></th>\n",
       "      <th></th>\n",
       "      <th></th>\n",
       "      <th></th>\n",
       "      <th></th>\n",
       "      <th></th>\n",
       "    </tr>\n",
       "  </thead>\n",
       "  <tbody>\n",
       "    <tr>\n",
       "      <th>2018-04-01</th>\n",
       "      <td>IN</td>\n",
       "      <td>Boone</td>\n",
       "      <td>Indianapolis</td>\n",
       "      <td>Zionsville</td>\n",
       "      <td>46077</td>\n",
       "      <td>394800.0</td>\n",
       "      <td>28488.424284</td>\n",
       "      <td>310680.0</td>\n",
       "      <td>0.562945</td>\n",
       "      <td>0.091697</td>\n",
       "      <td>2018</td>\n",
       "      <td>2018-2022</td>\n",
       "    </tr>\n",
       "    <tr>\n",
       "      <th>2018-03-01</th>\n",
       "      <td>IN</td>\n",
       "      <td>Boone</td>\n",
       "      <td>Indianapolis</td>\n",
       "      <td>Zionsville</td>\n",
       "      <td>46077</td>\n",
       "      <td>390400.0</td>\n",
       "      <td>28488.424284</td>\n",
       "      <td>310680.0</td>\n",
       "      <td>0.562945</td>\n",
       "      <td>0.091697</td>\n",
       "      <td>2018</td>\n",
       "      <td>2018-2022</td>\n",
       "    </tr>\n",
       "    <tr>\n",
       "      <th>2018-02-01</th>\n",
       "      <td>IN</td>\n",
       "      <td>Boone</td>\n",
       "      <td>Indianapolis</td>\n",
       "      <td>Zionsville</td>\n",
       "      <td>46077</td>\n",
       "      <td>385300.0</td>\n",
       "      <td>28488.424284</td>\n",
       "      <td>310680.0</td>\n",
       "      <td>0.562945</td>\n",
       "      <td>0.091697</td>\n",
       "      <td>2018</td>\n",
       "      <td>2018-2022</td>\n",
       "    </tr>\n",
       "    <tr>\n",
       "      <th>2018-01-01</th>\n",
       "      <td>IN</td>\n",
       "      <td>Boone</td>\n",
       "      <td>Indianapolis</td>\n",
       "      <td>Zionsville</td>\n",
       "      <td>46077</td>\n",
       "      <td>383300.0</td>\n",
       "      <td>28488.424284</td>\n",
       "      <td>310680.0</td>\n",
       "      <td>0.562945</td>\n",
       "      <td>0.091697</td>\n",
       "      <td>2018</td>\n",
       "      <td>2018-2022</td>\n",
       "    </tr>\n",
       "    <tr>\n",
       "      <th>2017-12-01</th>\n",
       "      <td>IN</td>\n",
       "      <td>Boone</td>\n",
       "      <td>Indianapolis</td>\n",
       "      <td>Zionsville</td>\n",
       "      <td>46077</td>\n",
       "      <td>382700.0</td>\n",
       "      <td>28488.424284</td>\n",
       "      <td>310680.0</td>\n",
       "      <td>0.562945</td>\n",
       "      <td>0.091697</td>\n",
       "      <td>2017</td>\n",
       "      <td>2017-2021</td>\n",
       "    </tr>\n",
       "  </tbody>\n",
       "</table>\n",
       "</div>\n",
       "    <div class=\"colab-df-buttons\">\n",
       "\n",
       "  <div class=\"colab-df-container\">\n",
       "    <button class=\"colab-df-convert\" onclick=\"convertToInteractive('df-b1511fe5-cd65-4cec-b12f-b1462eb84c3d')\"\n",
       "            title=\"Convert this dataframe to an interactive table.\"\n",
       "            style=\"display:none;\">\n",
       "\n",
       "  <svg xmlns=\"http://www.w3.org/2000/svg\" height=\"24px\" viewBox=\"0 -960 960 960\">\n",
       "    <path d=\"M120-120v-720h720v720H120Zm60-500h600v-160H180v160Zm220 220h160v-160H400v160Zm0 220h160v-160H400v160ZM180-400h160v-160H180v160Zm440 0h160v-160H620v160ZM180-180h160v-160H180v160Zm440 0h160v-160H620v160Z\"/>\n",
       "  </svg>\n",
       "    </button>\n",
       "\n",
       "  <style>\n",
       "    .colab-df-container {\n",
       "      display:flex;\n",
       "      gap: 12px;\n",
       "    }\n",
       "\n",
       "    .colab-df-convert {\n",
       "      background-color: #E8F0FE;\n",
       "      border: none;\n",
       "      border-radius: 50%;\n",
       "      cursor: pointer;\n",
       "      display: none;\n",
       "      fill: #1967D2;\n",
       "      height: 32px;\n",
       "      padding: 0 0 0 0;\n",
       "      width: 32px;\n",
       "    }\n",
       "\n",
       "    .colab-df-convert:hover {\n",
       "      background-color: #E2EBFA;\n",
       "      box-shadow: 0px 1px 2px rgba(60, 64, 67, 0.3), 0px 1px 3px 1px rgba(60, 64, 67, 0.15);\n",
       "      fill: #174EA6;\n",
       "    }\n",
       "\n",
       "    .colab-df-buttons div {\n",
       "      margin-bottom: 4px;\n",
       "    }\n",
       "\n",
       "    [theme=dark] .colab-df-convert {\n",
       "      background-color: #3B4455;\n",
       "      fill: #D2E3FC;\n",
       "    }\n",
       "\n",
       "    [theme=dark] .colab-df-convert:hover {\n",
       "      background-color: #434B5C;\n",
       "      box-shadow: 0px 1px 3px 1px rgba(0, 0, 0, 0.15);\n",
       "      filter: drop-shadow(0px 1px 2px rgba(0, 0, 0, 0.3));\n",
       "      fill: #FFFFFF;\n",
       "    }\n",
       "  </style>\n",
       "\n",
       "    <script>\n",
       "      const buttonEl =\n",
       "        document.querySelector('#df-b1511fe5-cd65-4cec-b12f-b1462eb84c3d button.colab-df-convert');\n",
       "      buttonEl.style.display =\n",
       "        google.colab.kernel.accessAllowed ? 'block' : 'none';\n",
       "\n",
       "      async function convertToInteractive(key) {\n",
       "        const element = document.querySelector('#df-b1511fe5-cd65-4cec-b12f-b1462eb84c3d');\n",
       "        const dataTable =\n",
       "          await google.colab.kernel.invokeFunction('convertToInteractive',\n",
       "                                                    [key], {});\n",
       "        if (!dataTable) return;\n",
       "\n",
       "        const docLinkHtml = 'Like what you see? Visit the ' +\n",
       "          '<a target=\"_blank\" href=https://colab.research.google.com/notebooks/data_table.ipynb>data table notebook</a>'\n",
       "          + ' to learn more about interactive tables.';\n",
       "        element.innerHTML = '';\n",
       "        dataTable['output_type'] = 'display_data';\n",
       "        await google.colab.output.renderOutput(dataTable, element);\n",
       "        const docLink = document.createElement('div');\n",
       "        docLink.innerHTML = docLinkHtml;\n",
       "        element.appendChild(docLink);\n",
       "      }\n",
       "    </script>\n",
       "  </div>\n",
       "\n",
       "\n",
       "<div id=\"df-1694ace7-5495-4b01-bdaf-2e527416a780\">\n",
       "  <button class=\"colab-df-quickchart\" onclick=\"quickchart('df-1694ace7-5495-4b01-bdaf-2e527416a780')\"\n",
       "            title=\"Suggest charts.\"\n",
       "            style=\"display:none;\">\n",
       "\n",
       "<svg xmlns=\"http://www.w3.org/2000/svg\" height=\"24px\"viewBox=\"0 0 24 24\"\n",
       "     width=\"24px\">\n",
       "    <g>\n",
       "        <path d=\"M19 3H5c-1.1 0-2 .9-2 2v14c0 1.1.9 2 2 2h14c1.1 0 2-.9 2-2V5c0-1.1-.9-2-2-2zM9 17H7v-7h2v7zm4 0h-2V7h2v10zm4 0h-2v-4h2v4z\"/>\n",
       "    </g>\n",
       "</svg>\n",
       "  </button>\n",
       "\n",
       "<style>\n",
       "  .colab-df-quickchart {\n",
       "    background-color: #E8F0FE;\n",
       "    border: none;\n",
       "    border-radius: 50%;\n",
       "    cursor: pointer;\n",
       "    display: none;\n",
       "    fill: #1967D2;\n",
       "    height: 32px;\n",
       "    padding: 0 0 0 0;\n",
       "    width: 32px;\n",
       "  }\n",
       "\n",
       "  .colab-df-quickchart:hover {\n",
       "    background-color: #E2EBFA;\n",
       "    box-shadow: 0px 1px 2px rgba(60, 64, 67, 0.3), 0px 1px 3px 1px rgba(60, 64, 67, 0.15);\n",
       "    fill: #174EA6;\n",
       "  }\n",
       "\n",
       "  [theme=dark] .colab-df-quickchart {\n",
       "    background-color: #3B4455;\n",
       "    fill: #D2E3FC;\n",
       "  }\n",
       "\n",
       "  [theme=dark] .colab-df-quickchart:hover {\n",
       "    background-color: #434B5C;\n",
       "    box-shadow: 0px 1px 3px 1px rgba(0, 0, 0, 0.15);\n",
       "    filter: drop-shadow(0px 1px 2px rgba(0, 0, 0, 0.3));\n",
       "    fill: #FFFFFF;\n",
       "  }\n",
       "</style>\n",
       "\n",
       "  <script>\n",
       "    async function quickchart(key) {\n",
       "      const charts = await google.colab.kernel.invokeFunction(\n",
       "          'suggestCharts', [key], {});\n",
       "    }\n",
       "    (() => {\n",
       "      let quickchartButtonEl =\n",
       "        document.querySelector('#df-1694ace7-5495-4b01-bdaf-2e527416a780 button');\n",
       "      quickchartButtonEl.style.display =\n",
       "        google.colab.kernel.accessAllowed ? 'block' : 'none';\n",
       "    })();\n",
       "  </script>\n",
       "</div>\n",
       "    </div>\n",
       "  </div>\n"
      ],
      "text/plain": [
       "           State County         Metro        City ZipCode     Value  \\\n",
       "Date                                                                  \n",
       "2018-04-01    IN  Boone  Indianapolis  Zionsville   46077  394800.0   \n",
       "2018-03-01    IN  Boone  Indianapolis  Zionsville   46077  390400.0   \n",
       "2018-02-01    IN  Boone  Indianapolis  Zionsville   46077  385300.0   \n",
       "2018-01-01    IN  Boone  Indianapolis  Zionsville   46077  383300.0   \n",
       "2017-12-01    IN  Boone  Indianapolis  Zionsville   46077  382700.0   \n",
       "\n",
       "                     std      mean       ROI        CV  Year 5-year-periods  \n",
       "Date                                                                         \n",
       "2018-04-01  28488.424284  310680.0  0.562945  0.091697  2018      2018-2022  \n",
       "2018-03-01  28488.424284  310680.0  0.562945  0.091697  2018      2018-2022  \n",
       "2018-02-01  28488.424284  310680.0  0.562945  0.091697  2018      2018-2022  \n",
       "2018-01-01  28488.424284  310680.0  0.562945  0.091697  2018      2018-2022  \n",
       "2017-12-01  28488.424284  310680.0  0.562945  0.091697  2017      2017-2021  "
      ]
     },
     "execution_count": 137,
     "metadata": {},
     "output_type": "execute_result"
    }
   ],
   "source": [
    "# bottom 5 zipcodes in terms of CV\n",
    "bottom_5_zipcodes_CV =['38139', '74137', '46037', '46077', '44040']\n",
    "\n",
    "bottom5_cv_df = top_zipcodes_df[top_zipcodes_df['ZipCode'].isin(bottom_5_zipcodes_CV)]\n",
    "bottom5_cv_df.head()"
   ]
  },
  {
   "cell_type": "markdown",
   "metadata": {
    "id": "2zFPBYKzVxqJ"
   },
   "source": [
    "### **Which are the Top 5 Metro Areas and States with the Highest Market Performance in Terms of Price Growth** (correct graph)"
   ]
  },
  {
   "cell_type": "code",
   "execution_count": 138,
   "metadata": {
    "colab": {
     "base_uri": "https://localhost:8080/",
     "height": 718
    },
    "executionInfo": {
     "elapsed": 1332,
     "status": "ok",
     "timestamp": 1692807745980,
     "user": {
      "displayName": "Waruchu Kuria",
      "userId": "10228095980568770522"
     },
     "user_tz": -180
    },
    "id": "zNly3O32ZI7t",
    "outputId": "e8cf7e54-080e-4ed5-9a14-19181b202840"
   },
   "outputs": [
    {
     "name": "stdout",
     "output_type": "stream",
     "text": [
      "Top 5 Metropolitan Areas with the Highest Market Performance in Terms of Price Growth:\n",
      "('New Castle', 'PA')\n",
      "('Martinsville', 'VA')\n",
      "('Shreveport', 'LA')\n",
      "('Seneca', 'SC')\n",
      "('Columbus', 'GA')\n"
     ]
    },
    {
     "data": {
      "image/png": "[encoded data removed]",
      "text/plain": [
       "<Figure size 1000x600 with 1 Axes>"
      ]
     },
     "metadata": {},
     "output_type": "display_data"
    }
   ],
   "source": [
    "# Group the data by metro area and state and calculate the mean ROI\n",
    "top_metro_areas_df = top_zipcodes_df.groupby([\"Metro\", \"State\"])[\"ROI\"].mean()\n",
    "\n",
    "# Sort by mean ROI\n",
    "top_metro_areas_df = top_metro_areas_df.sort_values(ascending=True)\n",
    "\n",
    "# Get the top 5 metropolitan areas\n",
    "top_5_metro_areas = top_metro_areas_df.index[:5]\n",
    "\n",
    "# Print the top 5 metropolitan areas\n",
    "print(\"Top 5 Metropolitan Areas with the Highest Market Performance in Terms of Price Growth:\")\n",
    "for metro_area in top_5_metro_areas:\n",
    "    print(metro_area)\n",
    "\n",
    "# Plot a horizontal bar graph\n",
    "plt.figure(figsize=(10, 6))\n",
    "top_metro_areas_df.loc[top_5_metro_areas].plot(kind='barh', color='blue')\n",
    "plt.xlabel('Mean ROI')\n",
    "plt.ylabel('Metro Area, State')\n",
    "plt.title('Top 5 Metropolitan Areas with the Highest Market Performance')\n",
    "plt.tight_layout()\n",
    "plt.show()"
   ]
  },
  {
   "cell_type": "code",
   "execution_count": 139,
   "metadata": {
    "colab": {
     "base_uri": "https://localhost:8080/"
    },
    "executionInfo": {
     "elapsed": 24,
     "status": "ok",
     "timestamp": 1692807745981,
     "user": {
      "displayName": "Waruchu Kuria",
      "userId": "10228095980568770522"
     },
     "user_tz": -180
    },
    "id": "AIq75xLHZI4y",
    "outputId": "978490d6-562f-4c67-f885-c28393cbd4fc"
   },
   "outputs": [
    {
     "name": "stdout",
     "output_type": "stream",
     "text": [
      "Top 5 Cities with the Highest Market Performance in Terms of Price Growth:\n",
      "('Sea Island', 'GA')\n",
      "('New York', 'NY')\n",
      "('Ketchum', 'ID')\n",
      "('Boston', 'MA')\n",
      "('Zephyr Cove', 'NV')\n"
     ]
    }
   ],
   "source": [
    "# Group the data by state and calculate the mean ROI\n",
    "top_cities_df = top_zipcodes_df.groupby([\"City\", \"State\"])[\"ROI\"].mean()\n",
    "\n",
    "# Sort by mean ROI\n",
    "top_cities_df = top_cities_df.sort_values(ascending=False)\n",
    "\n",
    "# Get the top 5 states\n",
    "top_cities_df = top_cities_df.index[:5]\n",
    "\n",
    "# Print the top 5 states\n",
    "print(\"Top 5 Cities with the Highest Market Performance in Terms of Price Growth:\")\n",
    "for city in top_cities_df:\n",
    "    print(city)"
   ]
  },
  {
   "cell_type": "code",
   "execution_count": 139,
   "metadata": {
    "executionInfo": {
     "elapsed": 21,
     "status": "ok",
     "timestamp": 1692807745982,
     "user": {
      "displayName": "Waruchu Kuria",
      "userId": "10228095980568770522"
     },
     "user_tz": -180
    },
    "id": "PwrpVhY7E21y"
   },
   "outputs": [],
   "source": []
  },
  {
   "cell_type": "markdown",
   "metadata": {
    "id": "XTWqX-JeaZeS"
   },
   "source": [
    "### **Determine the best month to invest to maximize ROI**"
   ]
  },
  {
   "cell_type": "code",
   "execution_count": 140,
   "metadata": {
    "colab": {
     "base_uri": "https://localhost:8080/"
    },
    "executionInfo": {
     "elapsed": 21,
     "status": "ok",
     "timestamp": 1692807745982,
     "user": {
      "displayName": "Waruchu Kuria",
      "userId": "10228095980568770522"
     },
     "user_tz": -180
    },
    "id": "5p12bCvKZIzk",
    "outputId": "871796f0-4360-4b36-d00c-3db35ab24b81"
   },
   "outputs": [
    {
     "name": "stdout",
     "output_type": "stream",
     "text": [
      "The best month to invest to maximize ROI is: 2012-01-01 00:00:00\n"
     ]
    }
   ],
   "source": [
    "# Group the data by month and calculate the mean ROI\n",
    "monthly_roi_df = top_zipcodes_df.groupby(\"Date\")[\"ROI\"].mean()\n",
    "\n",
    "# Sort by mean ROI\n",
    "monthly_roi_df = monthly_roi_df.sort_values(ascending=False)\n",
    "\n",
    "# Get the month with the highest mean ROI\n",
    "best_month = monthly_roi_df.index[0]\n",
    "\n",
    "# Print the best month\n",
    "print(\"The best month to invest to maximize ROI is:\", best_month)"
   ]
  },
  {
   "cell_type": "code",
   "execution_count": 141,
   "metadata": {
    "colab": {
     "base_uri": "https://localhost:8080/"
    },
    "executionInfo": {
     "elapsed": 20,
     "status": "ok",
     "timestamp": 1692807745984,
     "user": {
      "displayName": "Waruchu Kuria",
      "userId": "10228095980568770522"
     },
     "user_tz": -180
    },
    "id": "2N9ZIZLPdgia",
    "outputId": "016ecdd6-2543-42ea-8ea0-e645ce638cf5"
   },
   "outputs": [
    {
     "data": {
      "text/plain": [
       "Date\n",
       "2012-01-01    6.455961\n",
       "2011-12-01    6.408751\n",
       "2012-02-01    6.407686\n",
       "2012-04-01    6.387725\n",
       "2012-03-01    6.381454\n",
       "Name: ROI, dtype: float64"
      ]
     },
     "execution_count": 141,
     "metadata": {},
     "output_type": "execute_result"
    }
   ],
   "source": [
    "monthly_roi_df.head()"
   ]
  },
  {
   "cell_type": "code",
   "execution_count": 142,
   "metadata": {
    "colab": {
     "base_uri": "https://localhost:8080/",
     "height": 806
    },
    "executionInfo": {
     "elapsed": 19,
     "status": "ok",
     "timestamp": 1692807745985,
     "user": {
      "displayName": "Waruchu Kuria",
      "userId": "10228095980568770522"
     },
     "user_tz": -180
    },
    "id": "vprS7TsGbMky",
    "outputId": "0aa5898d-b135-44e2-90a1-d650a8f0805f"
   },
   "outputs": [
    {
     "data": {
      "image/png": "[encoded data removed]",
      "text/plain": [
       "<Figure size 800x500 with 1 Axes>"
      ]
     },
     "metadata": {},
     "output_type": "display_data"
    },
    {
     "name": "stdout",
     "output_type": "stream",
     "text": [
      "Earliest Dates\n",
      "Date\n",
      "1996-04-01    844316.666667\n",
      "1996-05-01    845825.000000\n",
      "1996-06-01    847191.666667\n",
      "1996-07-01    848566.666667\n",
      "1996-08-01    850300.000000\n",
      "Freq: MS, Name: Value, dtype: float64\n",
      "\n",
      "Most Recent\n",
      "Date\n",
      "2017-12-01    938186.372745\n",
      "2018-01-01    944122.745098\n",
      "2018-02-01    947162.948960\n",
      "2018-03-01    941500.184162\n",
      "2018-04-01    940774.358974\n",
      "Freq: MS, Name: Value, dtype: float64\n"
     ]
    }
   ],
   "source": [
    "monthly_data = top_zipcodes_df['Value'].resample('MS').mean()\n",
    "monthly_data = monthly_data.fillna(monthly_data.bfill())\n",
    "monthly_data.plot(figsize=(8,5))\n",
    "plt.title('Average Home Value By Month')\n",
    "plt.ylabel('Value')\n",
    "plt.show()\n",
    "print(\"Earliest Dates\")\n",
    "print(monthly_data.head())\n",
    "print()\n",
    "print(\"Most Recent\")\n",
    "print(monthly_data.tail())"
   ]
  },
  {
   "cell_type": "code",
   "execution_count": 143,
   "metadata": {
    "colab": {
     "base_uri": "https://localhost:8080/",
     "height": 502
    },
    "executionInfo": {
     "elapsed": 865,
     "status": "ok",
     "timestamp": 1692807746833,
     "user": {
      "displayName": "Waruchu Kuria",
      "userId": "10228095980568770522"
     },
     "user_tz": -180
    },
    "id": "UKbStG7kdRse",
    "outputId": "e5c9d9a9-978e-419b-ac7b-1e15b16cb2f4"
   },
   "outputs": [
    {
     "data": {
      "text/plain": [
       "<Axes: xlabel='Date'>"
      ]
     },
     "execution_count": 143,
     "metadata": {},
     "output_type": "execute_result"
    },
    {
     "data": {
      "image/png": "[encoded data removed]",
      "text/plain": [
       "<Figure size 800x500 with 1 Axes>"
      ]
     },
     "metadata": {},
     "output_type": "display_data"
    }
   ],
   "source": [
    "monthly_data['2012':].plot(figsize=(8,5))"
   ]
  },
  {
   "cell_type": "markdown",
   "metadata": {
    "id": "iw4aLGHHxZki"
   },
   "source": [
    "## **Modeling**\n",
    "- To begin the modelling, the data will be checked for `trend`, `seasonality` and `residuals`."
   ]
  },
  {
   "cell_type": "markdown",
   "metadata": {
    "id": "ttJPl9Lt-3JW"
   },
   "source": [
    "### **Checking for Trend** (correct this)"
   ]
  },
  {
   "cell_type": "code",
   "execution_count": 144,
   "metadata": {
    "colab": {
     "base_uri": "https://localhost:8080/",
     "height": 490
    },
    "executionInfo": {
     "elapsed": 1117,
     "status": "ok",
     "timestamp": 1692807747937,
     "user": {
      "displayName": "Waruchu Kuria",
      "userId": "10228095980568770522"
     },
     "user_tz": -180
    },
    "id": "V9lhTMFs-2pB",
    "outputId": "fa7159a5-6f78-40d9-cdf7-b2caa39d3c51"
   },
   "outputs": [
    {
     "data": {
      "image/png": "[encoded data removed]",
      "text/plain": [
       "<Figure size 640x480 with 1 Axes>"
      ]
     },
     "metadata": {},
     "output_type": "display_data"
    }
   ],
   "source": [
    "#checking for trends in the dataset\n",
    "\n",
    "# Calculate mean ROI for each ZipCode and sort in descending order\n",
    "top_zipcodes_by_mean_roi = top_zipcodes_df.groupby(\"ZipCode\")[\"ROI\"].mean().sort_values(ascending=False).head(20)\n",
    "\n",
    "for zip_code, region_data in top_zipcodes_by_mean_roi.groupby(\"ZipCode\"):\n",
    "  zipcode_data = top_zipcodes_df[top_zipcodes_df[\"ZipCode\"] == zip_code]\n",
    "  values = zipcode_data['ROI'].mean()  # Select the mean 'ROI'\n",
    "  plt.plot(values, label=zip_code)  # Plot the values with zip code as label\n",
    "\n",
    "plt.xlabel('Time')\n",
    "plt.ylabel('ROI')\n",
    "plt.title('Line Plot by Zip Code')\n",
    "plt.legend()\n",
    "plt.show()"
   ]
  },
  {
   "cell_type": "code",
   "execution_count": 145,
   "metadata": {
    "executionInfo": {
     "elapsed": 17,
     "status": "ok",
     "timestamp": 1692807747937,
     "user": {
      "displayName": "Waruchu Kuria",
      "userId": "10228095980568770522"
     },
     "user_tz": -180
    },
    "id": "OOFglQr29o1l"
   },
   "outputs": [],
   "source": [
    "def seasonal_decomposition(df):\n",
    "    decomposition = seasonal_decompose(df)\n",
    "\n",
    "    # Gather the trend, seasonality, and residuals\n",
    "    trend = decomposition.trend\n",
    "    seasonal = decomposition.seasonal\n",
    "    residual = decomposition.resid\n",
    "\n",
    "    # Plot gathered statistics\n",
    "    plt.figure(figsize=(8,8))\n",
    "    plt.subplot(411)\n",
    "    plt.plot(df, label='Original', color='blue')\n",
    "    #plt.plot(ts, label='Original', color='blue')\n",
    "    plt.legend(loc='best')\n",
    "    plt.subplot(412)\n",
    "    plt.plot(trend, label='Trend', color='blue')\n",
    "    plt.legend(loc='best')\n",
    "    plt.subplot(413)\n",
    "    plt.plot(seasonal,label='Seasonality', color='blue')\n",
    "    plt.legend(loc='best')\n",
    "    plt.subplot(414)\n",
    "    plt.plot(residual, label='Residuals', color='blue')\n",
    "    plt.legend(loc='best')\n",
    "    plt.tight_layout()"
   ]
  },
  {
   "cell_type": "markdown",
   "metadata": {
    "id": "motJJG7N6Hid"
   },
   "source": [
    "### **Check for Seasonality**"
   ]
  },
  {
   "cell_type": "code",
   "execution_count": 146,
   "metadata": {
    "colab": {
     "base_uri": "https://localhost:8080/",
     "height": 311
    },
    "executionInfo": {
     "elapsed": 17,
     "status": "error",
     "timestamp": 1692807747938,
     "user": {
      "displayName": "Waruchu Kuria",
      "userId": "10228095980568770522"
     },
     "user_tz": -180
    },
    "id": "6mtFoS6SyLE9",
    "outputId": "04b1f417-c2bb-4811-d940-770e7dfd2646"
   },
   "outputs": [
    {
     "ename": "ValueError",
     "evalue": "ignored",
     "output_type": "error",
     "traceback": [
      "\u001b[0;31m---------------------------------------------------------------------------\u001b[0m",
      "\u001b[0;31mValueError\u001b[0m                                Traceback (most recent call last)",
      "\u001b[0;32m<ipython-input-146-bdb07b84ccbe>\u001b[0m in \u001b[0;36m<cell line: 1>\u001b[0;34m()\u001b[0m\n\u001b[0;32m----> 1\u001b[0;31m \u001b[0mseasonal_decompose\u001b[0m\u001b[0;34m(\u001b[0m\u001b[0mtop_zipcodes_df\u001b[0m\u001b[0;34m[\u001b[0m\u001b[0;34m\"ROI\"\u001b[0m\u001b[0;34m]\u001b[0m\u001b[0;34m)\u001b[0m\u001b[0;34m\u001b[0m\u001b[0;34m\u001b[0m\u001b[0m\n\u001b[0m",
      "\u001b[0;32m/usr/local/lib/python3.10/dist-packages/statsmodels/tsa/seasonal.py\u001b[0m in \u001b[0;36mseasonal_decompose\u001b[0;34m(x, model, filt, period, two_sided, extrapolate_trend)\u001b[0m\n\u001b[1;32m    164\u001b[0m             \u001b[0mperiod\u001b[0m \u001b[0;34m=\u001b[0m \u001b[0mpfreq\u001b[0m\u001b[0;34m\u001b[0m\u001b[0;34m\u001b[0m\u001b[0m\n\u001b[1;32m    165\u001b[0m         \u001b[0;32melse\u001b[0m\u001b[0;34m:\u001b[0m\u001b[0;34m\u001b[0m\u001b[0;34m\u001b[0m\u001b[0m\n\u001b[0;32m--> 166\u001b[0;31m             raise ValueError(\n\u001b[0m\u001b[1;32m    167\u001b[0m                 \u001b[0;34m\"You must specify a period or x must be a pandas object with \"\u001b[0m\u001b[0;34m\u001b[0m\u001b[0;34m\u001b[0m\u001b[0m\n\u001b[1;32m    168\u001b[0m                 \u001b[0;34m\"a PeriodIndex or a DatetimeIndex with a freq not set to None\"\u001b[0m\u001b[0;34m\u001b[0m\u001b[0;34m\u001b[0m\u001b[0m\n",
      "\u001b[0;31mValueError\u001b[0m: You must specify a period or x must be a pandas object with a PeriodIndex or a DatetimeIndex with a freq not set to None"
     ]
    }
   ],
   "source": [
    "seasonal_decompose(top_zipcodes_df[\"ROI\"])"
   ]
  },
  {
   "cell_type": "markdown",
   "metadata": {
    "id": "WGVDq26N3K31"
   },
   "source": [
    "### **Check for Stationarity**"
   ]
  },
  {
   "cell_type": "code",
   "execution_count": null,
   "metadata": {
    "executionInfo": {
     "elapsed": 17,
     "status": "aborted",
     "timestamp": 1692807747939,
     "user": {
      "displayName": "Waruchu Kuria",
      "userId": "10228095980568770522"
     },
     "user_tz": -180
    },
    "id": "D1o--mFPyLJR"
   },
   "outputs": [],
   "source": [
    "# Extract the 'ROI' column for analysis\n",
    "roi_series = top_zipcodes_df['ROI']\n",
    "\n",
    "# Apply the ADF test\n",
    "result = adfuller(roi_series)\n",
    "\n",
    "# Print the ADF test results\n",
    "print(\"ADF Statistic:\", result[0])\n",
    "print(\"p-value:\", result[1])\n",
    "print(\"Critical Values:\", result[4])\n",
    "print(\"Is Stationary:\", \"No\" if result[1] > 0.05 else \"Yes\")\n"
   ]
  },
  {
   "cell_type": "markdown",
   "metadata": {
    "id": "nV4okxsN6nLN"
   },
   "source": [
    "- The series `**is stationary**` because the p-value is less than 0.05.\n",
    "- There will be no need to difference."
   ]
  },
  {
   "cell_type": "code",
   "execution_count": null,
   "metadata": {
    "executionInfo": {
     "elapsed": 18,
     "status": "aborted",
     "timestamp": 1692807747940,
     "user": {
      "displayName": "Waruchu Kuria",
      "userId": "10228095980568770522"
     },
     "user_tz": -180
    },
    "id": "w0HkDXqFyLHA"
   },
   "outputs": [],
   "source": [
    "# Checking by State\n",
    "grouped = top_zipcodes_df.groupby('State')\n",
    "\n",
    "# For each group (State) apply ADF test\n",
    "for state, group in grouped:\n",
    "\n",
    "    # Extract the ROI values for the current state\n",
    "    roi_values = group['ROI']\n",
    "\n",
    "    # Performing Augmented Dickey Fuller test\n",
    "    result = adfuller(roi_values)\n",
    "\n",
    "    # Print State Name, Test Statistics and p-value\n",
    "    print(f\"State: {state}\")\n",
    "    print(f\"Test Statistics: {result[0]}\")\n",
    "    print(f\"p-value: {result[1]}\")\n",
    "\n",
    "    # Determine if the data is stationary\n",
    "    if result[1] < 0.05:\n",
    "        print(\"Data is stationary\")\n",
    "    else:\n",
    "        print(\"Data is not stationary\")\n",
    "\n",
    "    print(\"\\n\")\n"
   ]
  },
  {
   "cell_type": "markdown",
   "metadata": {
    "id": "JeaA7je-BxiJ"
   },
   "source": [
    "ARIMA"
   ]
  },
  {
   "cell_type": "code",
   "execution_count": null,
   "metadata": {
    "executionInfo": {
     "elapsed": 18,
     "status": "aborted",
     "timestamp": 1692807747941,
     "user": {
      "displayName": "Waruchu Kuria",
      "userId": "10228095980568770522"
     },
     "user_tz": -180
    },
    "id": "E7OpmL9gyLC0"
   },
   "outputs": [],
   "source": []
  },
  {
   "cell_type": "code",
   "execution_count": null,
   "metadata": {
    "executionInfo": {
     "elapsed": 18,
     "status": "aborted",
     "timestamp": 1692807747941,
     "user": {
      "displayName": "Waruchu Kuria",
      "userId": "10228095980568770522"
     },
     "user_tz": -180
    },
    "id": "ZHPWfMb0yLAY"
   },
   "outputs": [],
   "source": []
  },
  {
   "cell_type": "code",
   "execution_count": null,
   "metadata": {
    "executionInfo": {
     "elapsed": 19,
     "status": "aborted",
     "timestamp": 1692807747942,
     "user": {
      "displayName": "Waruchu Kuria",
      "userId": "10228095980568770522"
     },
     "user_tz": -180
    },
    "id": "mr4L4y12yK99"
   },
   "outputs": [],
   "source": []
  },
  {
   "cell_type": "code",
   "execution_count": null,
   "metadata": {
    "executionInfo": {
     "elapsed": 19,
     "status": "aborted",
     "timestamp": 1692807747943,
     "user": {
      "displayName": "Waruchu Kuria",
      "userId": "10228095980568770522"
     },
     "user_tz": -180
    },
    "id": "LbHh42D6yK7u"
   },
   "outputs": [],
   "source": []
  },
  {
   "cell_type": "code",
   "execution_count": null,
   "metadata": {
    "executionInfo": {
     "elapsed": 20,
     "status": "aborted",
     "timestamp": 1692807747944,
     "user": {
      "displayName": "Waruchu Kuria",
      "userId": "10228095980568770522"
     },
     "user_tz": -180
    },
    "id": "3Xhjw68gyK5l"
   },
   "outputs": [],
   "source": [
    "# top_zipcodes_df to csv\n",
    "csv_file_path = 'top_zipcodes_data.csv'\n",
    "top_zipcodes_df.to_csv(csv_file_path, index=False)"
   ]
  }
 ],
 "metadata": {
  "colab": {
   "authorship_tag": "ABX9TyObG+SPdGCBMievsMrsqkQR",
   "provenance": []
  },
  "kernelspec": {
   "display_name": "Python 3",
   "language": "python",
   "name": "python3"
  },
  "language_info": {
   "codemirror_mode": {
    "name": "ipython",
    "version": 3
   },
   "file_extension": ".py",
   "mimetype": "text/x-python",
   "name": "python",
   "nbconvert_exporter": "python",
   "pygments_lexer": "ipython3",
   "version": "3.8.5"
  }
 },
 "nbformat": 4,
 "nbformat_minor": 1
}
