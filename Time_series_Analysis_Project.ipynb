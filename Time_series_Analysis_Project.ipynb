{
 "cells": [
  {
   "cell_type": "markdown",
   "metadata": {
    "id": "9N8ufMpQfeZf"
   },
   "source": [
    "<div style=\"text-align: center; color: blue\">\n",
    "    <h1>A TIME SERIES MODEL</h1>\n",
    "    <p style=\"text-align: center; font-size: 20px; color: Orange\">Forecasting real estate prices of various zip codes and determining the top five (5) best zipcodes for Waridi Investments to venture into. \n",
    "    </p>\n",
    "</div>\n"
   ]
  },
  {
   "cell_type": "markdown",
   "metadata": {
    "id": "S3UDuF8ZfSBq"
   },
   "source": [
    "\n",
    "## Group 8 Project Colaborators\n",
    "\n",
    "**STUDENT NAMES:**  \n",
    "+ SAMMY SIFUNA  \n",
    "+ JULIUS CHARLES  \n",
    "+ WARUCH KURIA  \n",
    "+ RAEL NDONYE  \n",
    "+ ALLAN OMONDI  \n",
    "+ JANET KHAINZA"
   ]
  },
  {
   "cell_type": "markdown",
   "metadata": {
    "id": "l9gUP8Ptfx0L"
   },
   "source": [
    "## Business Understanding\n",
    "       \n",
    "### Background\n",
    "Between `1996` to `2018`, the U.S. real estate market underwent significant transformations. It commenced with an increase in home prices driven by a growing perception of real estate as a valuable long-term investment. However, the Great Recession between `2007` to `2009` brought about extensive declines in home values, triggering foreclosures and eroding trust.\n",
    "Over time,low interest rates and government interventions helped restore stability and confidence in the market. Urbanization gained momentum as more people gravitated towards cities, younger individuals entered the housing market, and technology assumed a pivotal role. Although certain cities thrived, others faced challenges. Regulatory reforms were introduced to prevent potential crises. Hence, the era marked a period of adaptation and evolution in the dynamics of buying and selling homes.\n",
    "![Depiction of a Changing Market Prices](images/time-series-analysis.jpg)\n",
    "\n",
    "\n",
    "### Problem Statement\n",
    "Waridi Investments, a recently established real estate investment firm, has engaged our services to identify the top `5 zip codes` with the potential for the highest return on investment when they `sell in 5 years`. Their strategic approach is to initiate short-term investments in one of the most thriving real estate markets in the United States of America. The company places significant emphasis on securing sound investments that ensure consistent cash flow, ultimately enabling them to reinvest effectively when the opportune moment arises.\n",
    "\n",
    "### Objectives\n",
    "* To determine the top `5 zip codes` that show the highest potential `return on investment (ROI) in 5 years.`\n",
    "* To determine the `5 least advisable cities` to invest in.\n",
    "* To identify which `top 5 metropolitan areas` and states have the highest market performance in terms of price growth.\n",
    "* To determine the best month to invest to maximize ROI.\n",
    "* To show how factors like economic stability(recession) impact housing market performance.\n",
    "\n",
    "#### Hypotheis testing\n",
    "**Null Hypothesis (H0):** The variables do not help predict future real estate prices\n",
    "\n",
    "**Alternative Hypothesis (H1):** The variables predict future real estate prices"
   ]
  },
  {
   "cell_type": "markdown",
   "metadata": {
    "id": "_eP0KiM0gExS"
   },
   "source": [
    "## Data Understanding\n",
    "\n",
    "### A Brief Description of the Dataset\n",
    "\n",
    "This data represents median monthly housing sales prices for `265 zip codes in the USA`, over the period of `April 1996 through April 2018` as reported by Zillow.\n",
    "\n",
    "Each row represents a unique zip code. Each record contains location information and median housing sales prices for each month.\n",
    "\n",
    "There are `11568 rows and 272 variables`:\n",
    "\n",
    "+ **RegionID:** Unique index\n",
    "+ **RegionName:** Unique Zip Code\n",
    "+ **City:** City in which the zip code is located\n",
    "+ **State:** State in which the zip code is located\n",
    "+ **Metro:** Metropolitan Area in which the zip code is located\n",
    "+ **CountyName:** County in which the zip code is located\n",
    "+ **SizeRank:** Numerical rank of size of zip code, ranked 1 through 14723\n",
    "+ **1996-04 through 2018-04:** refers to the median housing sales values for `April 1996` through `April 2018`, that is `265 data points` of monthly data for each zip code\n",
    "\n",
    "We shall check for the accuracy of our forecasts using `MSE (Mean Squared Error)`. This will provide us with the average error of our forecasts.\n"
   ]
  },
  {
   "cell_type": "markdown",
   "metadata": {},
   "source": [
    "### Assumptions:\n",
    "1. The zip codes are representative of the broader real estate market in the United States.\n",
    "2. The real estate market conditions during this period were influenced by various economic and socio-political factors.\n",
    "3. The data covers a combination of urban, suburban, and rural area.\n",
    "4. The data doesn't reflect significant improvements or renovations made to properties over time that could increase or decrease prices."
   ]
  },
  {
   "cell_type": "markdown",
   "metadata": {},
   "source": [
    "### Reviewing and Inspecting the Data\n",
    "\n",
    "In this step, we load, review, and examine the dataset further"
   ]
  },
  {
   "cell_type": "code",
   "execution_count": 1,
   "metadata": {
    "executionInfo": {
     "elapsed": 2397,
     "status": "ok",
     "timestamp": 1692894023967,
     "user": {
      "displayName": "Waruchu Kuria",
      "userId": "10228095980568770522"
     },
     "user_tz": -180
    },
    "id": "Wn0q7hBlAFjM"
   },
   "outputs": [],
   "source": [
    "# Import libraries\n",
    "import numpy as np\n",
    "import folium\n",
    "import pandas as pd\n",
    "import matplotlib as mpl\n",
    "from matplotlib import pyplot as plt\n",
    "from scipy import stats\n",
    "from random import gauss as gs\n",
    "import math\n",
    "import datetime\n",
    "from sklearn.linear_model import LinearRegression\n",
    "from sklearn.metrics import mean_squared_error\n",
    "from math import sqrt\n",
    "import statsmodels.api as sm\n",
    "from statsmodels.tsa.arima_model import ARMA\n",
    "from statsmodels.tsa.stattools import adfuller, acf, pacf\n",
    "from statsmodels.graphics.tsaplots import plot_acf,plot_pacf\n",
    "from pandas.plotting import autocorrelation_plot, lag_plot\n",
    "from statsmodels.tsa.seasonal import seasonal_decompose\n",
    "from statsmodels.tsa.statespace.sarimax import SARIMAX\n",
    "from pandas.plotting import register_matplotlib_converters\n",
    "register_matplotlib_converters()\n",
    "from statsmodels.graphics.tsaplots import plot_acf, plot_pacf\n",
    "import warnings\n",
    "warnings.filterwarnings('ignore')\n",
    "from matplotlib.pylab import rcParams\n",
    "%matplotlib inline\n",
    "plt.style.use('ggplot')"
   ]
  },
  {
   "cell_type": "code",
   "execution_count": 2,
   "metadata": {
    "colab": {
     "base_uri": "https://localhost:8080/",
     "height": 290
    },
    "executionInfo": {
     "elapsed": 1865,
     "status": "ok",
     "timestamp": 1692894025828,
     "user": {
      "displayName": "Waruchu Kuria",
      "userId": "10228095980568770522"
     },
     "user_tz": -180
    },
    "id": "K1JM1cxNAGxz",
    "outputId": "ce616610-f3f9-4ef5-8bee-c31c480480ae"
   },
   "outputs": [
    {
     "data": {
      "text/html": [
       "<div>\n",
       "<style scoped>\n",
       "    .dataframe tbody tr th:only-of-type {\n",
       "        vertical-align: middle;\n",
       "    }\n",
       "\n",
       "    .dataframe tbody tr th {\n",
       "        vertical-align: top;\n",
       "    }\n",
       "\n",
       "    .dataframe thead th {\n",
       "        text-align: right;\n",
       "    }\n",
       "</style>\n",
       "<table border=\"1\" class=\"dataframe\">\n",
       "  <thead>\n",
       "    <tr style=\"text-align: right;\">\n",
       "      <th></th>\n",
       "      <th>RegionID</th>\n",
       "      <th>RegionName</th>\n",
       "      <th>City</th>\n",
       "      <th>State</th>\n",
       "      <th>Metro</th>\n",
       "      <th>CountyName</th>\n",
       "      <th>SizeRank</th>\n",
       "      <th>1996-04</th>\n",
       "      <th>1996-05</th>\n",
       "      <th>1996-06</th>\n",
       "      <th>...</th>\n",
       "      <th>2017-07</th>\n",
       "      <th>2017-08</th>\n",
       "      <th>2017-09</th>\n",
       "      <th>2017-10</th>\n",
       "      <th>2017-11</th>\n",
       "      <th>2017-12</th>\n",
       "      <th>2018-01</th>\n",
       "      <th>2018-02</th>\n",
       "      <th>2018-03</th>\n",
       "      <th>2018-04</th>\n",
       "    </tr>\n",
       "  </thead>\n",
       "  <tbody>\n",
       "    <tr>\n",
       "      <th>0</th>\n",
       "      <td>84654</td>\n",
       "      <td>60657</td>\n",
       "      <td>Chicago</td>\n",
       "      <td>IL</td>\n",
       "      <td>Chicago</td>\n",
       "      <td>Cook</td>\n",
       "      <td>1</td>\n",
       "      <td>334200.0</td>\n",
       "      <td>335400.0</td>\n",
       "      <td>336500.0</td>\n",
       "      <td>...</td>\n",
       "      <td>1005500</td>\n",
       "      <td>1007500</td>\n",
       "      <td>1007800</td>\n",
       "      <td>1009600</td>\n",
       "      <td>1013300</td>\n",
       "      <td>1018700</td>\n",
       "      <td>1024400</td>\n",
       "      <td>1030700</td>\n",
       "      <td>1033800</td>\n",
       "      <td>1030600</td>\n",
       "    </tr>\n",
       "    <tr>\n",
       "      <th>1</th>\n",
       "      <td>90668</td>\n",
       "      <td>75070</td>\n",
       "      <td>McKinney</td>\n",
       "      <td>TX</td>\n",
       "      <td>Dallas-Fort Worth</td>\n",
       "      <td>Collin</td>\n",
       "      <td>2</td>\n",
       "      <td>235700.0</td>\n",
       "      <td>236900.0</td>\n",
       "      <td>236700.0</td>\n",
       "      <td>...</td>\n",
       "      <td>308000</td>\n",
       "      <td>310000</td>\n",
       "      <td>312500</td>\n",
       "      <td>314100</td>\n",
       "      <td>315000</td>\n",
       "      <td>316600</td>\n",
       "      <td>318100</td>\n",
       "      <td>319600</td>\n",
       "      <td>321100</td>\n",
       "      <td>321800</td>\n",
       "    </tr>\n",
       "    <tr>\n",
       "      <th>2</th>\n",
       "      <td>91982</td>\n",
       "      <td>77494</td>\n",
       "      <td>Katy</td>\n",
       "      <td>TX</td>\n",
       "      <td>Houston</td>\n",
       "      <td>Harris</td>\n",
       "      <td>3</td>\n",
       "      <td>210400.0</td>\n",
       "      <td>212200.0</td>\n",
       "      <td>212200.0</td>\n",
       "      <td>...</td>\n",
       "      <td>321000</td>\n",
       "      <td>320600</td>\n",
       "      <td>320200</td>\n",
       "      <td>320400</td>\n",
       "      <td>320800</td>\n",
       "      <td>321200</td>\n",
       "      <td>321200</td>\n",
       "      <td>323000</td>\n",
       "      <td>326900</td>\n",
       "      <td>329900</td>\n",
       "    </tr>\n",
       "    <tr>\n",
       "      <th>3</th>\n",
       "      <td>84616</td>\n",
       "      <td>60614</td>\n",
       "      <td>Chicago</td>\n",
       "      <td>IL</td>\n",
       "      <td>Chicago</td>\n",
       "      <td>Cook</td>\n",
       "      <td>4</td>\n",
       "      <td>498100.0</td>\n",
       "      <td>500900.0</td>\n",
       "      <td>503100.0</td>\n",
       "      <td>...</td>\n",
       "      <td>1289800</td>\n",
       "      <td>1287700</td>\n",
       "      <td>1287400</td>\n",
       "      <td>1291500</td>\n",
       "      <td>1296600</td>\n",
       "      <td>1299000</td>\n",
       "      <td>1302700</td>\n",
       "      <td>1306400</td>\n",
       "      <td>1308500</td>\n",
       "      <td>1307000</td>\n",
       "    </tr>\n",
       "    <tr>\n",
       "      <th>4</th>\n",
       "      <td>93144</td>\n",
       "      <td>79936</td>\n",
       "      <td>El Paso</td>\n",
       "      <td>TX</td>\n",
       "      <td>El Paso</td>\n",
       "      <td>El Paso</td>\n",
       "      <td>5</td>\n",
       "      <td>77300.0</td>\n",
       "      <td>77300.0</td>\n",
       "      <td>77300.0</td>\n",
       "      <td>...</td>\n",
       "      <td>119100</td>\n",
       "      <td>119400</td>\n",
       "      <td>120000</td>\n",
       "      <td>120300</td>\n",
       "      <td>120300</td>\n",
       "      <td>120300</td>\n",
       "      <td>120300</td>\n",
       "      <td>120500</td>\n",
       "      <td>121000</td>\n",
       "      <td>121500</td>\n",
       "    </tr>\n",
       "    <tr>\n",
       "      <th>5</th>\n",
       "      <td>91733</td>\n",
       "      <td>77084</td>\n",
       "      <td>Houston</td>\n",
       "      <td>TX</td>\n",
       "      <td>Houston</td>\n",
       "      <td>Harris</td>\n",
       "      <td>6</td>\n",
       "      <td>95000.0</td>\n",
       "      <td>95200.0</td>\n",
       "      <td>95400.0</td>\n",
       "      <td>...</td>\n",
       "      <td>157900</td>\n",
       "      <td>158700</td>\n",
       "      <td>160200</td>\n",
       "      <td>161900</td>\n",
       "      <td>162800</td>\n",
       "      <td>162800</td>\n",
       "      <td>162800</td>\n",
       "      <td>162900</td>\n",
       "      <td>163500</td>\n",
       "      <td>164300</td>\n",
       "    </tr>\n",
       "    <tr>\n",
       "      <th>6</th>\n",
       "      <td>61807</td>\n",
       "      <td>10467</td>\n",
       "      <td>New York</td>\n",
       "      <td>NY</td>\n",
       "      <td>New York</td>\n",
       "      <td>Bronx</td>\n",
       "      <td>7</td>\n",
       "      <td>152900.0</td>\n",
       "      <td>152700.0</td>\n",
       "      <td>152600.0</td>\n",
       "      <td>...</td>\n",
       "      <td>394400</td>\n",
       "      <td>400000</td>\n",
       "      <td>407300</td>\n",
       "      <td>411600</td>\n",
       "      <td>413200</td>\n",
       "      <td>414300</td>\n",
       "      <td>413900</td>\n",
       "      <td>411400</td>\n",
       "      <td>413200</td>\n",
       "      <td>417900</td>\n",
       "    </tr>\n",
       "    <tr>\n",
       "      <th>7</th>\n",
       "      <td>84640</td>\n",
       "      <td>60640</td>\n",
       "      <td>Chicago</td>\n",
       "      <td>IL</td>\n",
       "      <td>Chicago</td>\n",
       "      <td>Cook</td>\n",
       "      <td>8</td>\n",
       "      <td>216500.0</td>\n",
       "      <td>216700.0</td>\n",
       "      <td>216900.0</td>\n",
       "      <td>...</td>\n",
       "      <td>798000</td>\n",
       "      <td>787100</td>\n",
       "      <td>776100</td>\n",
       "      <td>774900</td>\n",
       "      <td>777900</td>\n",
       "      <td>777900</td>\n",
       "      <td>778500</td>\n",
       "      <td>780500</td>\n",
       "      <td>782800</td>\n",
       "      <td>782800</td>\n",
       "    </tr>\n",
       "    <tr>\n",
       "      <th>8</th>\n",
       "      <td>91940</td>\n",
       "      <td>77449</td>\n",
       "      <td>Katy</td>\n",
       "      <td>TX</td>\n",
       "      <td>Houston</td>\n",
       "      <td>Harris</td>\n",
       "      <td>9</td>\n",
       "      <td>95400.0</td>\n",
       "      <td>95600.0</td>\n",
       "      <td>95800.0</td>\n",
       "      <td>...</td>\n",
       "      <td>166800</td>\n",
       "      <td>167400</td>\n",
       "      <td>168400</td>\n",
       "      <td>169600</td>\n",
       "      <td>170900</td>\n",
       "      <td>172300</td>\n",
       "      <td>173300</td>\n",
       "      <td>174200</td>\n",
       "      <td>175400</td>\n",
       "      <td>176200</td>\n",
       "    </tr>\n",
       "    <tr>\n",
       "      <th>9</th>\n",
       "      <td>97564</td>\n",
       "      <td>94109</td>\n",
       "      <td>San Francisco</td>\n",
       "      <td>CA</td>\n",
       "      <td>San Francisco</td>\n",
       "      <td>San Francisco</td>\n",
       "      <td>10</td>\n",
       "      <td>766000.0</td>\n",
       "      <td>771100.0</td>\n",
       "      <td>776500.0</td>\n",
       "      <td>...</td>\n",
       "      <td>3767700</td>\n",
       "      <td>3763900</td>\n",
       "      <td>3775000</td>\n",
       "      <td>3799700</td>\n",
       "      <td>3793900</td>\n",
       "      <td>3778700</td>\n",
       "      <td>3770800</td>\n",
       "      <td>3763100</td>\n",
       "      <td>3779800</td>\n",
       "      <td>3813500</td>\n",
       "    </tr>\n",
       "  </tbody>\n",
       "</table>\n",
       "<p>10 rows × 272 columns</p>\n",
       "</div>"
      ],
      "text/plain": [
       "   RegionID  RegionName           City State              Metro  \\\n",
       "0     84654       60657        Chicago    IL            Chicago   \n",
       "1     90668       75070       McKinney    TX  Dallas-Fort Worth   \n",
       "2     91982       77494           Katy    TX            Houston   \n",
       "3     84616       60614        Chicago    IL            Chicago   \n",
       "4     93144       79936        El Paso    TX            El Paso   \n",
       "5     91733       77084        Houston    TX            Houston   \n",
       "6     61807       10467       New York    NY           New York   \n",
       "7     84640       60640        Chicago    IL            Chicago   \n",
       "8     91940       77449           Katy    TX            Houston   \n",
       "9     97564       94109  San Francisco    CA      San Francisco   \n",
       "\n",
       "      CountyName  SizeRank   1996-04   1996-05   1996-06  ...  2017-07  \\\n",
       "0           Cook         1  334200.0  335400.0  336500.0  ...  1005500   \n",
       "1         Collin         2  235700.0  236900.0  236700.0  ...   308000   \n",
       "2         Harris         3  210400.0  212200.0  212200.0  ...   321000   \n",
       "3           Cook         4  498100.0  500900.0  503100.0  ...  1289800   \n",
       "4        El Paso         5   77300.0   77300.0   77300.0  ...   119100   \n",
       "5         Harris         6   95000.0   95200.0   95400.0  ...   157900   \n",
       "6          Bronx         7  152900.0  152700.0  152600.0  ...   394400   \n",
       "7           Cook         8  216500.0  216700.0  216900.0  ...   798000   \n",
       "8         Harris         9   95400.0   95600.0   95800.0  ...   166800   \n",
       "9  San Francisco        10  766000.0  771100.0  776500.0  ...  3767700   \n",
       "\n",
       "   2017-08  2017-09  2017-10  2017-11  2017-12  2018-01  2018-02  2018-03  \\\n",
       "0  1007500  1007800  1009600  1013300  1018700  1024400  1030700  1033800   \n",
       "1   310000   312500   314100   315000   316600   318100   319600   321100   \n",
       "2   320600   320200   320400   320800   321200   321200   323000   326900   \n",
       "3  1287700  1287400  1291500  1296600  1299000  1302700  1306400  1308500   \n",
       "4   119400   120000   120300   120300   120300   120300   120500   121000   \n",
       "5   158700   160200   161900   162800   162800   162800   162900   163500   \n",
       "6   400000   407300   411600   413200   414300   413900   411400   413200   \n",
       "7   787100   776100   774900   777900   777900   778500   780500   782800   \n",
       "8   167400   168400   169600   170900   172300   173300   174200   175400   \n",
       "9  3763900  3775000  3799700  3793900  3778700  3770800  3763100  3779800   \n",
       "\n",
       "   2018-04  \n",
       "0  1030600  \n",
       "1   321800  \n",
       "2   329900  \n",
       "3  1307000  \n",
       "4   121500  \n",
       "5   164300  \n",
       "6   417900  \n",
       "7   782800  \n",
       "8   176200  \n",
       "9  3813500  \n",
       "\n",
       "[10 rows x 272 columns]"
      ]
     },
     "execution_count": 2,
     "metadata": {},
     "output_type": "execute_result"
    }
   ],
   "source": [
    "#loading dataset and viewing first 5 rows\n",
    "data = pd.read_csv('data/zillow_data.csv')\n",
    "\n",
    "data.head(10)"
   ]
  },
  {
   "cell_type": "code",
   "execution_count": 3,
   "metadata": {},
   "outputs": [
    {
     "data": {
      "text/html": [
       "<div>\n",
       "<style scoped>\n",
       "    .dataframe tbody tr th:only-of-type {\n",
       "        vertical-align: middle;\n",
       "    }\n",
       "\n",
       "    .dataframe tbody tr th {\n",
       "        vertical-align: top;\n",
       "    }\n",
       "\n",
       "    .dataframe thead th {\n",
       "        text-align: right;\n",
       "    }\n",
       "</style>\n",
       "<table border=\"1\" class=\"dataframe\">\n",
       "  <thead>\n",
       "    <tr style=\"text-align: right;\">\n",
       "      <th></th>\n",
       "      <th>RegionID</th>\n",
       "      <th>RegionName</th>\n",
       "      <th>City</th>\n",
       "      <th>State</th>\n",
       "      <th>Metro</th>\n",
       "      <th>CountyName</th>\n",
       "      <th>SizeRank</th>\n",
       "      <th>1996-04</th>\n",
       "      <th>1996-05</th>\n",
       "      <th>1996-06</th>\n",
       "      <th>...</th>\n",
       "      <th>2017-07</th>\n",
       "      <th>2017-08</th>\n",
       "      <th>2017-09</th>\n",
       "      <th>2017-10</th>\n",
       "      <th>2017-11</th>\n",
       "      <th>2017-12</th>\n",
       "      <th>2018-01</th>\n",
       "      <th>2018-02</th>\n",
       "      <th>2018-03</th>\n",
       "      <th>2018-04</th>\n",
       "    </tr>\n",
       "  </thead>\n",
       "  <tbody>\n",
       "    <tr>\n",
       "      <th>14713</th>\n",
       "      <td>59187</td>\n",
       "      <td>3765</td>\n",
       "      <td>Haverhill</td>\n",
       "      <td>NH</td>\n",
       "      <td>Claremont</td>\n",
       "      <td>Grafton</td>\n",
       "      <td>14714</td>\n",
       "      <td>80800.0</td>\n",
       "      <td>80100.0</td>\n",
       "      <td>79400.0</td>\n",
       "      <td>...</td>\n",
       "      <td>119800</td>\n",
       "      <td>120000</td>\n",
       "      <td>120800</td>\n",
       "      <td>121600</td>\n",
       "      <td>122600</td>\n",
       "      <td>123400</td>\n",
       "      <td>124400</td>\n",
       "      <td>125500</td>\n",
       "      <td>126600</td>\n",
       "      <td>127500</td>\n",
       "    </tr>\n",
       "    <tr>\n",
       "      <th>14714</th>\n",
       "      <td>94711</td>\n",
       "      <td>84781</td>\n",
       "      <td>Pine Valley</td>\n",
       "      <td>UT</td>\n",
       "      <td>St. George</td>\n",
       "      <td>Washington</td>\n",
       "      <td>14715</td>\n",
       "      <td>135900.0</td>\n",
       "      <td>136300.0</td>\n",
       "      <td>136600.0</td>\n",
       "      <td>...</td>\n",
       "      <td>241100</td>\n",
       "      <td>243200</td>\n",
       "      <td>244300</td>\n",
       "      <td>248900</td>\n",
       "      <td>254600</td>\n",
       "      <td>257600</td>\n",
       "      <td>258000</td>\n",
       "      <td>260600</td>\n",
       "      <td>264700</td>\n",
       "      <td>266800</td>\n",
       "    </tr>\n",
       "    <tr>\n",
       "      <th>14715</th>\n",
       "      <td>62556</td>\n",
       "      <td>12429</td>\n",
       "      <td>Esopus</td>\n",
       "      <td>NY</td>\n",
       "      <td>Kingston</td>\n",
       "      <td>Ulster</td>\n",
       "      <td>14716</td>\n",
       "      <td>78300.0</td>\n",
       "      <td>78300.0</td>\n",
       "      <td>78200.0</td>\n",
       "      <td>...</td>\n",
       "      <td>164200</td>\n",
       "      <td>166600</td>\n",
       "      <td>170000</td>\n",
       "      <td>171000</td>\n",
       "      <td>170700</td>\n",
       "      <td>171300</td>\n",
       "      <td>172400</td>\n",
       "      <td>173600</td>\n",
       "      <td>175800</td>\n",
       "      <td>177500</td>\n",
       "    </tr>\n",
       "    <tr>\n",
       "      <th>14716</th>\n",
       "      <td>99032</td>\n",
       "      <td>97028</td>\n",
       "      <td>Rhododendron</td>\n",
       "      <td>OR</td>\n",
       "      <td>Portland</td>\n",
       "      <td>Clackamas</td>\n",
       "      <td>14717</td>\n",
       "      <td>136200.0</td>\n",
       "      <td>136600.0</td>\n",
       "      <td>136800.0</td>\n",
       "      <td>...</td>\n",
       "      <td>332600</td>\n",
       "      <td>332900</td>\n",
       "      <td>335600</td>\n",
       "      <td>338900</td>\n",
       "      <td>340500</td>\n",
       "      <td>341000</td>\n",
       "      <td>342300</td>\n",
       "      <td>345000</td>\n",
       "      <td>348000</td>\n",
       "      <td>349300</td>\n",
       "    </tr>\n",
       "    <tr>\n",
       "      <th>14717</th>\n",
       "      <td>62697</td>\n",
       "      <td>12720</td>\n",
       "      <td>Bethel</td>\n",
       "      <td>NY</td>\n",
       "      <td>NaN</td>\n",
       "      <td>Sullivan</td>\n",
       "      <td>14718</td>\n",
       "      <td>62500.0</td>\n",
       "      <td>62600.0</td>\n",
       "      <td>62700.0</td>\n",
       "      <td>...</td>\n",
       "      <td>122200</td>\n",
       "      <td>122700</td>\n",
       "      <td>122300</td>\n",
       "      <td>122000</td>\n",
       "      <td>122200</td>\n",
       "      <td>122800</td>\n",
       "      <td>123200</td>\n",
       "      <td>123200</td>\n",
       "      <td>120700</td>\n",
       "      <td>117700</td>\n",
       "    </tr>\n",
       "    <tr>\n",
       "      <th>14718</th>\n",
       "      <td>58333</td>\n",
       "      <td>1338</td>\n",
       "      <td>Ashfield</td>\n",
       "      <td>MA</td>\n",
       "      <td>Greenfield Town</td>\n",
       "      <td>Franklin</td>\n",
       "      <td>14719</td>\n",
       "      <td>94600.0</td>\n",
       "      <td>94300.0</td>\n",
       "      <td>94000.0</td>\n",
       "      <td>...</td>\n",
       "      <td>216800</td>\n",
       "      <td>217700</td>\n",
       "      <td>218600</td>\n",
       "      <td>218500</td>\n",
       "      <td>218100</td>\n",
       "      <td>216400</td>\n",
       "      <td>213100</td>\n",
       "      <td>209800</td>\n",
       "      <td>209200</td>\n",
       "      <td>209300</td>\n",
       "    </tr>\n",
       "    <tr>\n",
       "      <th>14719</th>\n",
       "      <td>59107</td>\n",
       "      <td>3293</td>\n",
       "      <td>Woodstock</td>\n",
       "      <td>NH</td>\n",
       "      <td>Claremont</td>\n",
       "      <td>Grafton</td>\n",
       "      <td>14720</td>\n",
       "      <td>92700.0</td>\n",
       "      <td>92500.0</td>\n",
       "      <td>92400.0</td>\n",
       "      <td>...</td>\n",
       "      <td>202100</td>\n",
       "      <td>208400</td>\n",
       "      <td>212200</td>\n",
       "      <td>215200</td>\n",
       "      <td>214300</td>\n",
       "      <td>213100</td>\n",
       "      <td>213700</td>\n",
       "      <td>218300</td>\n",
       "      <td>222700</td>\n",
       "      <td>225800</td>\n",
       "    </tr>\n",
       "    <tr>\n",
       "      <th>14720</th>\n",
       "      <td>75672</td>\n",
       "      <td>40404</td>\n",
       "      <td>Berea</td>\n",
       "      <td>KY</td>\n",
       "      <td>Richmond</td>\n",
       "      <td>Madison</td>\n",
       "      <td>14721</td>\n",
       "      <td>57100.0</td>\n",
       "      <td>57300.0</td>\n",
       "      <td>57500.0</td>\n",
       "      <td>...</td>\n",
       "      <td>121800</td>\n",
       "      <td>122800</td>\n",
       "      <td>124600</td>\n",
       "      <td>126700</td>\n",
       "      <td>128800</td>\n",
       "      <td>130600</td>\n",
       "      <td>131700</td>\n",
       "      <td>132500</td>\n",
       "      <td>133000</td>\n",
       "      <td>133400</td>\n",
       "    </tr>\n",
       "    <tr>\n",
       "      <th>14721</th>\n",
       "      <td>93733</td>\n",
       "      <td>81225</td>\n",
       "      <td>Mount Crested Butte</td>\n",
       "      <td>CO</td>\n",
       "      <td>NaN</td>\n",
       "      <td>Gunnison</td>\n",
       "      <td>14722</td>\n",
       "      <td>191100.0</td>\n",
       "      <td>192400.0</td>\n",
       "      <td>193700.0</td>\n",
       "      <td>...</td>\n",
       "      <td>662800</td>\n",
       "      <td>671200</td>\n",
       "      <td>682400</td>\n",
       "      <td>695600</td>\n",
       "      <td>695500</td>\n",
       "      <td>694700</td>\n",
       "      <td>706400</td>\n",
       "      <td>705300</td>\n",
       "      <td>681500</td>\n",
       "      <td>664400</td>\n",
       "    </tr>\n",
       "    <tr>\n",
       "      <th>14722</th>\n",
       "      <td>95851</td>\n",
       "      <td>89155</td>\n",
       "      <td>Mesquite</td>\n",
       "      <td>NV</td>\n",
       "      <td>Las Vegas</td>\n",
       "      <td>Clark</td>\n",
       "      <td>14723</td>\n",
       "      <td>176400.0</td>\n",
       "      <td>176300.0</td>\n",
       "      <td>176100.0</td>\n",
       "      <td>...</td>\n",
       "      <td>333800</td>\n",
       "      <td>336400</td>\n",
       "      <td>339700</td>\n",
       "      <td>343800</td>\n",
       "      <td>346800</td>\n",
       "      <td>348900</td>\n",
       "      <td>350400</td>\n",
       "      <td>353000</td>\n",
       "      <td>356000</td>\n",
       "      <td>357200</td>\n",
       "    </tr>\n",
       "  </tbody>\n",
       "</table>\n",
       "<p>10 rows × 272 columns</p>\n",
       "</div>"
      ],
      "text/plain": [
       "       RegionID  RegionName                 City State            Metro  \\\n",
       "14713     59187        3765            Haverhill    NH        Claremont   \n",
       "14714     94711       84781          Pine Valley    UT       St. George   \n",
       "14715     62556       12429               Esopus    NY         Kingston   \n",
       "14716     99032       97028         Rhododendron    OR         Portland   \n",
       "14717     62697       12720               Bethel    NY              NaN   \n",
       "14718     58333        1338             Ashfield    MA  Greenfield Town   \n",
       "14719     59107        3293            Woodstock    NH        Claremont   \n",
       "14720     75672       40404                Berea    KY         Richmond   \n",
       "14721     93733       81225  Mount Crested Butte    CO              NaN   \n",
       "14722     95851       89155             Mesquite    NV        Las Vegas   \n",
       "\n",
       "       CountyName  SizeRank   1996-04   1996-05   1996-06  ...  2017-07  \\\n",
       "14713     Grafton     14714   80800.0   80100.0   79400.0  ...   119800   \n",
       "14714  Washington     14715  135900.0  136300.0  136600.0  ...   241100   \n",
       "14715      Ulster     14716   78300.0   78300.0   78200.0  ...   164200   \n",
       "14716   Clackamas     14717  136200.0  136600.0  136800.0  ...   332600   \n",
       "14717    Sullivan     14718   62500.0   62600.0   62700.0  ...   122200   \n",
       "14718    Franklin     14719   94600.0   94300.0   94000.0  ...   216800   \n",
       "14719     Grafton     14720   92700.0   92500.0   92400.0  ...   202100   \n",
       "14720     Madison     14721   57100.0   57300.0   57500.0  ...   121800   \n",
       "14721    Gunnison     14722  191100.0  192400.0  193700.0  ...   662800   \n",
       "14722       Clark     14723  176400.0  176300.0  176100.0  ...   333800   \n",
       "\n",
       "       2017-08  2017-09  2017-10  2017-11  2017-12  2018-01  2018-02  2018-03  \\\n",
       "14713   120000   120800   121600   122600   123400   124400   125500   126600   \n",
       "14714   243200   244300   248900   254600   257600   258000   260600   264700   \n",
       "14715   166600   170000   171000   170700   171300   172400   173600   175800   \n",
       "14716   332900   335600   338900   340500   341000   342300   345000   348000   \n",
       "14717   122700   122300   122000   122200   122800   123200   123200   120700   \n",
       "14718   217700   218600   218500   218100   216400   213100   209800   209200   \n",
       "14719   208400   212200   215200   214300   213100   213700   218300   222700   \n",
       "14720   122800   124600   126700   128800   130600   131700   132500   133000   \n",
       "14721   671200   682400   695600   695500   694700   706400   705300   681500   \n",
       "14722   336400   339700   343800   346800   348900   350400   353000   356000   \n",
       "\n",
       "       2018-04  \n",
       "14713   127500  \n",
       "14714   266800  \n",
       "14715   177500  \n",
       "14716   349300  \n",
       "14717   117700  \n",
       "14718   209300  \n",
       "14719   225800  \n",
       "14720   133400  \n",
       "14721   664400  \n",
       "14722   357200  \n",
       "\n",
       "[10 rows x 272 columns]"
      ]
     },
     "execution_count": 3,
     "metadata": {},
     "output_type": "execute_result"
    }
   ],
   "source": [
    "data.tail(10)"
   ]
  },
  {
   "cell_type": "code",
   "execution_count": 4,
   "metadata": {
    "colab": {
     "base_uri": "https://localhost:8080/"
    },
    "executionInfo": {
     "elapsed": 18,
     "status": "ok",
     "timestamp": 1692894026640,
     "user": {
      "displayName": "Waruchu Kuria",
      "userId": "10228095980568770522"
     },
     "user_tz": -180
    },
    "id": "NS1vwFavhcb8",
    "outputId": "88153356-e956-4b32-f97d-35e40b7aafa6"
   },
   "outputs": [
    {
     "name": "stdout",
     "output_type": "stream",
     "text": [
      "<class 'pandas.core.frame.DataFrame'>\n",
      "RangeIndex: 14723 entries, 0 to 14722\n",
      "Columns: 272 entries, RegionID to 2018-04\n",
      "dtypes: float64(219), int64(49), object(4)\n",
      "memory usage: 30.6+ MB\n"
     ]
    }
   ],
   "source": [
    "data.info()"
   ]
  },
  {
   "cell_type": "code",
   "execution_count": 5,
   "metadata": {
    "colab": {
     "base_uri": "https://localhost:8080/"
    },
    "executionInfo": {
     "elapsed": 16,
     "status": "ok",
     "timestamp": 1692894026640,
     "user": {
      "displayName": "Waruchu Kuria",
      "userId": "10228095980568770522"
     },
     "user_tz": -180
    },
    "id": "3TznssuiAQm7",
    "outputId": "f626f4a1-411f-461a-f6fe-25dca8605d53"
   },
   "outputs": [
    {
     "data": {
      "text/plain": [
       "Index(['RegionID', 'RegionName', 'City', 'State', 'Metro', 'CountyName',\n",
       "       'SizeRank', '1996-04', '1996-05', '1996-06',\n",
       "       ...\n",
       "       '2017-07', '2017-08', '2017-09', '2017-10', '2017-11', '2017-12',\n",
       "       '2018-01', '2018-02', '2018-03', '2018-04'],\n",
       "      dtype='object', length=272)"
      ]
     },
     "execution_count": 5,
     "metadata": {},
     "output_type": "execute_result"
    }
   ],
   "source": [
    "data.columns"
   ]
  },
  {
   "cell_type": "code",
   "execution_count": 6,
   "metadata": {
    "colab": {
     "base_uri": "https://localhost:8080/"
    },
    "executionInfo": {
     "elapsed": 13,
     "status": "ok",
     "timestamp": 1692894026640,
     "user": {
      "displayName": "Waruchu Kuria",
      "userId": "10228095980568770522"
     },
     "user_tz": -180
    },
    "id": "dfZUA0asAQke",
    "outputId": "3d24d53d-c395-44e7-ebf8-cdd2dd3c76a3"
   },
   "outputs": [
    {
     "data": {
      "text/plain": [
       "(14723, 272)"
      ]
     },
     "execution_count": 6,
     "metadata": {},
     "output_type": "execute_result"
    }
   ],
   "source": [
    "# Examine the shape of the dataset\n",
    "data.shape"
   ]
  },
  {
   "cell_type": "code",
   "execution_count": 7,
   "metadata": {
    "colab": {
     "base_uri": "https://localhost:8080/"
    },
    "executionInfo": {
     "elapsed": 12,
     "status": "ok",
     "timestamp": 1692894026641,
     "user": {
      "displayName": "Waruchu Kuria",
      "userId": "10228095980568770522"
     },
     "user_tz": -180
    },
    "id": "Pb_Mhs8BAQiL",
    "outputId": "cdf92063-8567-492f-94cd-7154fa869d28"
   },
   "outputs": [
    {
     "name": "stdout",
     "output_type": "stream",
     "text": [
      "Total number of zipcodes: 14723\n"
     ]
    },
    {
     "data": {
      "text/plain": [
       "RegionID         0\n",
       "RegionName       0\n",
       "City             0\n",
       "State            0\n",
       "Metro         1043\n",
       "CountyName       0\n",
       "SizeRank         0\n",
       "1996-04       1039\n",
       "1996-05       1039\n",
       "1996-06       1039\n",
       "1996-07       1039\n",
       "1996-08       1039\n",
       "1996-09       1039\n",
       "1996-10       1039\n",
       "1996-11       1039\n",
       "1996-12       1039\n",
       "1997-01       1039\n",
       "1997-02       1039\n",
       "1997-03       1039\n",
       "1997-04       1039\n",
       "dtype: int64"
      ]
     },
     "execution_count": 7,
     "metadata": {},
     "output_type": "execute_result"
    }
   ],
   "source": [
    "# Viewing number of zipcodes in dataset and NAN values\n",
    "print('Total number of zipcodes:', len(data))\n",
    "data.iloc[:, :20].isna().sum()"
   ]
  },
  {
   "cell_type": "code",
   "execution_count": 8,
   "metadata": {
    "colab": {
     "base_uri": "https://localhost:8080/"
    },
    "executionInfo": {
     "elapsed": 10,
     "status": "ok",
     "timestamp": 1692894026641,
     "user": {
      "displayName": "Waruchu Kuria",
      "userId": "10228095980568770522"
     },
     "user_tz": -180
    },
    "id": "s-EUXAmnAQfi",
    "outputId": "cd3938e5-3fe7-4932-d655-576cdc59061b"
   },
   "outputs": [
    {
     "data": {
      "text/plain": [
       "RegionID        int64\n",
       "RegionName      int64\n",
       "City           object\n",
       "State          object\n",
       "Metro          object\n",
       "CountyName     object\n",
       "SizeRank        int64\n",
       "1996-04       float64\n",
       "1996-05       float64\n",
       "1996-06       float64\n",
       "dtype: object"
      ]
     },
     "execution_count": 8,
     "metadata": {},
     "output_type": "execute_result"
    }
   ],
   "source": [
    "#Inspecting dataframe dtypes\n",
    "\n",
    "data.iloc[:, :10].dtypes"
   ]
  },
  {
   "cell_type": "code",
   "execution_count": 9,
   "metadata": {
    "colab": {
     "base_uri": "https://localhost:8080/"
    },
    "executionInfo": {
     "elapsed": 8,
     "status": "ok",
     "timestamp": 1692894026641,
     "user": {
      "displayName": "Waruchu Kuria",
      "userId": "10228095980568770522"
     },
     "user_tz": -180
    },
    "id": "zNzSXdLkAexT",
    "outputId": "1269af57-f1f2-48ea-86d5-1dcbbb00fd45"
   },
   "outputs": [
    {
     "name": "stdout",
     "output_type": "stream",
     "text": [
      "string\n"
     ]
    }
   ],
   "source": [
    "# change 'RegionName' column to 'ZipCode' to avoid confusion\n",
    "data.rename(columns={'RegionName': 'ZipCode'}, inplace=True)\n",
    "\n",
    "data.ZipCode = data.ZipCode.astype('string')\n",
    "\n",
    "#confirming the change\n",
    "print(data.dtypes[\"ZipCode\"])"
   ]
  },
  {
   "cell_type": "code",
   "execution_count": 10,
   "metadata": {
    "colab": {
     "base_uri": "https://localhost:8080/"
    },
    "executionInfo": {
     "elapsed": 625,
     "status": "ok",
     "timestamp": 1692894027260,
     "user": {
      "displayName": "Waruchu Kuria",
      "userId": "10228095980568770522"
     },
     "user_tz": -180
    },
    "id": "xQInn49aAok9",
    "outputId": "29675761-ad57-4be3-854d-68e909b86c41"
   },
   "outputs": [
    {
     "data": {
      "text/plain": [
       "0"
      ]
     },
     "execution_count": 10,
     "metadata": {},
     "output_type": "execute_result"
    }
   ],
   "source": [
    "# check for duplicates\n",
    "data.duplicated().sum()"
   ]
  },
  {
   "cell_type": "code",
   "execution_count": 11,
   "metadata": {
    "colab": {
     "base_uri": "https://localhost:8080/"
    },
    "executionInfo": {
     "elapsed": 19,
     "status": "ok",
     "timestamp": 1692894027260,
     "user": {
      "displayName": "Waruchu Kuria",
      "userId": "10228095980568770522"
     },
     "user_tz": -180
    },
    "id": "TJS4GzZSAoi5",
    "outputId": "2a52699e-8161-4f4d-f3d9-283a028d6df1"
   },
   "outputs": [
    {
     "data": {
      "text/plain": [
       "RegionID       0\n",
       "ZipCode        0\n",
       "City           0\n",
       "State          0\n",
       "Metro       1043\n",
       "            ... \n",
       "2017-12        0\n",
       "2018-01        0\n",
       "2018-02        0\n",
       "2018-03        0\n",
       "2018-04        0\n",
       "Length: 272, dtype: int64"
      ]
     },
     "execution_count": 11,
     "metadata": {},
     "output_type": "execute_result"
    }
   ],
   "source": [
    "# all missing data because of the datatime appearing as columns\n",
    "data.isnull().sum()"
   ]
  },
  {
   "cell_type": "markdown",
   "metadata": {
    "id": "nLXCJ9mRHPfG"
   },
   "source": [
    "## Exploratory Data Analysis(EDA) and Feature Engineering"
   ]
  },
  {
   "cell_type": "markdown",
   "metadata": {
    "id": "a7KehqlqiOIb"
   },
   "source": [
    "### Missing Values\n",
    "\n",
    "There are some missing values in the `Metro` and `dates` columns."
   ]
  },
  {
   "cell_type": "code",
   "execution_count": 12,
   "metadata": {
    "colab": {
     "base_uri": "https://localhost:8080/",
     "height": 423
    },
    "executionInfo": {
     "elapsed": 16,
     "status": "ok",
     "timestamp": 1692894027260,
     "user": {
      "displayName": "Waruchu Kuria",
      "userId": "10228095980568770522"
     },
     "user_tz": -180
    },
    "id": "1kEdDCb-AogG",
    "outputId": "869c9caf-1966-4412-ec26-e34370716d3c"
   },
   "outputs": [
    {
     "data": {
      "text/html": [
       "<div>\n",
       "<style scoped>\n",
       "    .dataframe tbody tr th:only-of-type {\n",
       "        vertical-align: middle;\n",
       "    }\n",
       "\n",
       "    .dataframe tbody tr th {\n",
       "        vertical-align: top;\n",
       "    }\n",
       "\n",
       "    .dataframe thead th {\n",
       "        text-align: right;\n",
       "    }\n",
       "</style>\n",
       "<table border=\"1\" class=\"dataframe\">\n",
       "  <thead>\n",
       "    <tr style=\"text-align: right;\">\n",
       "      <th></th>\n",
       "      <th>0</th>\n",
       "    </tr>\n",
       "  </thead>\n",
       "  <tbody>\n",
       "    <tr>\n",
       "      <th>Metro</th>\n",
       "      <td>1043</td>\n",
       "    </tr>\n",
       "    <tr>\n",
       "      <th>1996-04</th>\n",
       "      <td>1039</td>\n",
       "    </tr>\n",
       "    <tr>\n",
       "      <th>1996-05</th>\n",
       "      <td>1039</td>\n",
       "    </tr>\n",
       "    <tr>\n",
       "      <th>1996-06</th>\n",
       "      <td>1039</td>\n",
       "    </tr>\n",
       "    <tr>\n",
       "      <th>1996-07</th>\n",
       "      <td>1039</td>\n",
       "    </tr>\n",
       "    <tr>\n",
       "      <th>...</th>\n",
       "      <td>...</td>\n",
       "    </tr>\n",
       "    <tr>\n",
       "      <th>2014-02</th>\n",
       "      <td>56</td>\n",
       "    </tr>\n",
       "    <tr>\n",
       "      <th>2014-03</th>\n",
       "      <td>56</td>\n",
       "    </tr>\n",
       "    <tr>\n",
       "      <th>2014-04</th>\n",
       "      <td>56</td>\n",
       "    </tr>\n",
       "    <tr>\n",
       "      <th>2014-05</th>\n",
       "      <td>56</td>\n",
       "    </tr>\n",
       "    <tr>\n",
       "      <th>2014-06</th>\n",
       "      <td>56</td>\n",
       "    </tr>\n",
       "  </tbody>\n",
       "</table>\n",
       "<p>220 rows × 1 columns</p>\n",
       "</div>"
      ],
      "text/plain": [
       "            0\n",
       "Metro    1043\n",
       "1996-04  1039\n",
       "1996-05  1039\n",
       "1996-06  1039\n",
       "1996-07  1039\n",
       "...       ...\n",
       "2014-02    56\n",
       "2014-03    56\n",
       "2014-04    56\n",
       "2014-05    56\n",
       "2014-06    56\n",
       "\n",
       "[220 rows x 1 columns]"
      ]
     },
     "execution_count": 12,
     "metadata": {},
     "output_type": "execute_result"
    }
   ],
   "source": [
    "# Define a function to explore missing data\n",
    "def missing_data(data):\n",
    "    missing_data = data.isna().sum()\n",
    "    missing_data = missing_data[missing_data>0]\n",
    "    return missing_data.to_frame()\n",
    "\n",
    "# Apply missing_data function to the dataframe\n",
    "missing_data(data)"
   ]
  },
  {
   "cell_type": "markdown",
   "metadata": {
    "id": "T4vZxUJAhoZo"
   },
   "source": [
    "- Missing values in the **Metro** column are replaced with **missing**.  \n",
    "- Missing values in the dates columns are backfilled."
   ]
  },
  {
   "cell_type": "code",
   "execution_count": 13,
   "metadata": {
    "colab": {
     "base_uri": "https://localhost:8080/"
    },
    "executionInfo": {
     "elapsed": 15,
     "status": "ok",
     "timestamp": 1692894027261,
     "user": {
      "displayName": "Waruchu Kuria",
      "userId": "10228095980568770522"
     },
     "user_tz": -180
    },
    "id": "bIa_0kaUA79m",
    "outputId": "e25127b4-4e2e-4135-948a-f0ce216686b0"
   },
   "outputs": [
    {
     "data": {
      "text/plain": [
       "0"
      ]
     },
     "execution_count": 13,
     "metadata": {},
     "output_type": "execute_result"
    }
   ],
   "source": [
    "# replacing the missing values bin Metro with 'missing'\n",
    "data.Metro.fillna('missing', inplace=True)\n",
    "\n",
    "# interpolate missing values on date columns\n",
    "data.interpolate(method=\"pad\", inplace=True)\n",
    "\n",
    "data.isna().sum().sum()"
   ]
  },
  {
   "cell_type": "code",
   "execution_count": null,
   "metadata": {},
   "outputs": [],
   "source": []
  },
  {
   "cell_type": "code",
   "execution_count": null,
   "metadata": {},
   "outputs": [],
   "source": []
  },
  {
   "cell_type": "code",
   "execution_count": null,
   "metadata": {},
   "outputs": [],
   "source": []
  },
  {
   "cell_type": "code",
   "execution_count": null,
   "metadata": {},
   "outputs": [],
   "source": []
  },
  {
   "cell_type": "code",
   "execution_count": null,
   "metadata": {},
   "outputs": [],
   "source": []
  },
  {
   "cell_type": "code",
   "execution_count": null,
   "metadata": {},
   "outputs": [],
   "source": []
  },
  {
   "cell_type": "code",
   "execution_count": null,
   "metadata": {},
   "outputs": [],
   "source": []
  },
  {
   "cell_type": "code",
   "execution_count": null,
   "metadata": {},
   "outputs": [],
   "source": []
  },
  {
   "cell_type": "code",
   "execution_count": null,
   "metadata": {},
   "outputs": [],
   "source": []
  },
  {
   "cell_type": "code",
   "execution_count": null,
   "metadata": {},
   "outputs": [],
   "source": []
  },
  {
   "cell_type": "code",
   "execution_count": null,
   "metadata": {},
   "outputs": [],
   "source": []
  },
  {
   "cell_type": "code",
   "execution_count": null,
   "metadata": {},
   "outputs": [],
   "source": []
  },
  {
   "cell_type": "code",
   "execution_count": null,
   "metadata": {},
   "outputs": [],
   "source": []
  },
  {
   "cell_type": "markdown",
   "metadata": {
    "id": "2V4Cj3k3ip3R"
   },
   "source": [
    "### Creating New Columns for Analysis"
   ]
  },
  {
   "cell_type": "markdown",
   "metadata": {
    "id": "7JWwpSBikKlE"
   },
   "source": [
    "- In finance, the coefficient of variation allows investors to determine how much volatility, or risk, is assumed in comparison to the amount of return expected from investments.\n",
    "- Ideally, if the coefficient of variation formula should result in a lower ratio of the standard deviation to mean return, then the better the risk-return trade-off.\n",
    "- (**CONFIRM**)Therefore, in these next steps we are going to filter the data some more by calculating the CV value and only selecting values with in the company's risk factor (assume 60 percentile)."
   ]
  },
  {
   "cell_type": "code",
   "execution_count": null,
   "metadata": {
    "executionInfo": {
     "elapsed": 12,
     "status": "ok",
     "timestamp": 1692894027261,
     "user": {
      "displayName": "Waruchu Kuria",
      "userId": "10228095980568770522"
     },
     "user_tz": -180
    },
    "id": "aGRGRqSZCc_k"
   },
   "outputs": [],
   "source": [
    "# # calculating and creating a new column -ROI\n",
    "# data['ROI'] = (data['2018-04']/ data['1996-04'])-1\n",
    "\n",
    "# #calculating std to be used to find CV\n",
    "# data[\"std\"] = data.loc[:, \"1996-04\":\"2018-04\"].std(skipna=True, axis=1)\n",
    "\n",
    "# #calculating mean to be used to find CV\n",
    "# data[\"mean\"] = data.loc[:, \"1996-04\":\"2018-04\"].mean(skipna=True, axis=1)\n",
    "\n",
    "# # calculating and creating a new column - CV\n",
    "# data[\"CV\"] = data['std']/ data[\"mean\"]\n",
    "\n",
    "# data.columns"
   ]
  },
  {
   "cell_type": "code",
   "execution_count": null,
   "metadata": {
    "executionInfo": {
     "elapsed": 13,
     "status": "ok",
     "timestamp": 1692894027262,
     "user": {
      "displayName": "Waruchu Kuria",
      "userId": "10228095980568770522"
     },
     "user_tz": -180
    },
    "id": "FS4rQ1VfRWWJ"
   },
   "outputs": [],
   "source": [
    "# # List of 5-year periods start and end years\n",
    "# periods = [(1998, 2003), (2003, 2008), (2008, 2013), (2013, 2018)]\n",
    "\n",
    "# # Create a new DataFrame to store ROI values\n",
    "# roi_data = pd.DataFrame()\n",
    "\n",
    "# # Calculate ROI for each period and store in the new DataFrame\n",
    "# for start_year, end_year in periods:\n",
    "#     start_col = str(start_year) + '-04'  # Assuming April data is available for each year\n",
    "#     end_col = str(end_year) + '-04'\n",
    "\n",
    "#     roi_data['ROI_' + str(start_year) + '-' + str(end_year)] = (\n",
    "#         (data[end_col] - data[start_col]) / data[start_col]\n",
    "#     ) * 100\n",
    "\n",
    "# # Display the new DataFrame with ROI values for each period\n",
    "# print(roi_data)\n"
   ]
  },
  {
   "cell_type": "markdown",
   "metadata": {
    "id": "iGwNSsS7NCjU"
   },
   "source": [
    "### Select Top 10 States to invest in\n",
    "As per this article by [Fit Small Business](https://fitsmallbusiness.com/best-and-worst-states-to-invest-in-real-estate/), the 10 states for the best yields in real estate are Georgia, Utah, Texas, North Carolina and Texas.\n",
    "- This narrows down our number of Zip Codes to 4039.\n",
    "\n"
   ]
  },
  {
   "cell_type": "code",
   "execution_count": 14,
   "metadata": {
    "colab": {
     "base_uri": "https://localhost:8080/",
     "height": 326
    },
    "executionInfo": {
     "elapsed": 12,
     "status": "ok",
     "timestamp": 1692894027262,
     "user": {
      "displayName": "Waruchu Kuria",
      "userId": "10228095980568770522"
     },
     "user_tz": -180
    },
    "id": "GGM90QBxWm-q",
    "outputId": "1b09026f-71d3-4086-ae2f-9e494b45e125"
   },
   "outputs": [
    {
     "name": "stdout",
     "output_type": "stream",
     "text": [
      "Total Zipcodes in DataFrame: 4039\n"
     ]
    },
    {
     "data": {
      "text/html": [
       "<div>\n",
       "<style scoped>\n",
       "    .dataframe tbody tr th:only-of-type {\n",
       "        vertical-align: middle;\n",
       "    }\n",
       "\n",
       "    .dataframe tbody tr th {\n",
       "        vertical-align: top;\n",
       "    }\n",
       "\n",
       "    .dataframe thead th {\n",
       "        text-align: right;\n",
       "    }\n",
       "</style>\n",
       "<table border=\"1\" class=\"dataframe\">\n",
       "  <thead>\n",
       "    <tr style=\"text-align: right;\">\n",
       "      <th></th>\n",
       "      <th>ZipCode</th>\n",
       "      <th>City</th>\n",
       "      <th>State</th>\n",
       "      <th>Metro</th>\n",
       "      <th>CountyName</th>\n",
       "      <th>1996-04</th>\n",
       "      <th>1996-05</th>\n",
       "      <th>1996-06</th>\n",
       "      <th>1996-07</th>\n",
       "      <th>1996-08</th>\n",
       "      <th>...</th>\n",
       "      <th>2017-07</th>\n",
       "      <th>2017-08</th>\n",
       "      <th>2017-09</th>\n",
       "      <th>2017-10</th>\n",
       "      <th>2017-11</th>\n",
       "      <th>2017-12</th>\n",
       "      <th>2018-01</th>\n",
       "      <th>2018-02</th>\n",
       "      <th>2018-03</th>\n",
       "      <th>2018-04</th>\n",
       "    </tr>\n",
       "  </thead>\n",
       "  <tbody>\n",
       "    <tr>\n",
       "      <th>0</th>\n",
       "      <td>75070</td>\n",
       "      <td>McKinney</td>\n",
       "      <td>TX</td>\n",
       "      <td>Dallas-Fort Worth</td>\n",
       "      <td>Collin</td>\n",
       "      <td>235700.0</td>\n",
       "      <td>236900.0</td>\n",
       "      <td>236700.0</td>\n",
       "      <td>235400.0</td>\n",
       "      <td>233300.0</td>\n",
       "      <td>...</td>\n",
       "      <td>308000</td>\n",
       "      <td>310000</td>\n",
       "      <td>312500</td>\n",
       "      <td>314100</td>\n",
       "      <td>315000</td>\n",
       "      <td>316600</td>\n",
       "      <td>318100</td>\n",
       "      <td>319600</td>\n",
       "      <td>321100</td>\n",
       "      <td>321800</td>\n",
       "    </tr>\n",
       "    <tr>\n",
       "      <th>1</th>\n",
       "      <td>77494</td>\n",
       "      <td>Katy</td>\n",
       "      <td>TX</td>\n",
       "      <td>Houston</td>\n",
       "      <td>Harris</td>\n",
       "      <td>210400.0</td>\n",
       "      <td>212200.0</td>\n",
       "      <td>212200.0</td>\n",
       "      <td>210700.0</td>\n",
       "      <td>208300.0</td>\n",
       "      <td>...</td>\n",
       "      <td>321000</td>\n",
       "      <td>320600</td>\n",
       "      <td>320200</td>\n",
       "      <td>320400</td>\n",
       "      <td>320800</td>\n",
       "      <td>321200</td>\n",
       "      <td>321200</td>\n",
       "      <td>323000</td>\n",
       "      <td>326900</td>\n",
       "      <td>329900</td>\n",
       "    </tr>\n",
       "    <tr>\n",
       "      <th>2</th>\n",
       "      <td>79936</td>\n",
       "      <td>El Paso</td>\n",
       "      <td>TX</td>\n",
       "      <td>El Paso</td>\n",
       "      <td>El Paso</td>\n",
       "      <td>77300.0</td>\n",
       "      <td>77300.0</td>\n",
       "      <td>77300.0</td>\n",
       "      <td>77300.0</td>\n",
       "      <td>77400.0</td>\n",
       "      <td>...</td>\n",
       "      <td>119100</td>\n",
       "      <td>119400</td>\n",
       "      <td>120000</td>\n",
       "      <td>120300</td>\n",
       "      <td>120300</td>\n",
       "      <td>120300</td>\n",
       "      <td>120300</td>\n",
       "      <td>120500</td>\n",
       "      <td>121000</td>\n",
       "      <td>121500</td>\n",
       "    </tr>\n",
       "    <tr>\n",
       "      <th>3</th>\n",
       "      <td>77084</td>\n",
       "      <td>Houston</td>\n",
       "      <td>TX</td>\n",
       "      <td>Houston</td>\n",
       "      <td>Harris</td>\n",
       "      <td>95000.0</td>\n",
       "      <td>95200.0</td>\n",
       "      <td>95400.0</td>\n",
       "      <td>95700.0</td>\n",
       "      <td>95900.0</td>\n",
       "      <td>...</td>\n",
       "      <td>157900</td>\n",
       "      <td>158700</td>\n",
       "      <td>160200</td>\n",
       "      <td>161900</td>\n",
       "      <td>162800</td>\n",
       "      <td>162800</td>\n",
       "      <td>162800</td>\n",
       "      <td>162900</td>\n",
       "      <td>163500</td>\n",
       "      <td>164300</td>\n",
       "    </tr>\n",
       "    <tr>\n",
       "      <th>4</th>\n",
       "      <td>77449</td>\n",
       "      <td>Katy</td>\n",
       "      <td>TX</td>\n",
       "      <td>Houston</td>\n",
       "      <td>Harris</td>\n",
       "      <td>95400.0</td>\n",
       "      <td>95600.0</td>\n",
       "      <td>95800.0</td>\n",
       "      <td>96100.0</td>\n",
       "      <td>96400.0</td>\n",
       "      <td>...</td>\n",
       "      <td>166800</td>\n",
       "      <td>167400</td>\n",
       "      <td>168400</td>\n",
       "      <td>169600</td>\n",
       "      <td>170900</td>\n",
       "      <td>172300</td>\n",
       "      <td>173300</td>\n",
       "      <td>174200</td>\n",
       "      <td>175400</td>\n",
       "      <td>176200</td>\n",
       "    </tr>\n",
       "  </tbody>\n",
       "</table>\n",
       "<p>5 rows × 270 columns</p>\n",
       "</div>"
      ],
      "text/plain": [
       "  ZipCode      City State              Metro CountyName   1996-04   1996-05  \\\n",
       "0   75070  McKinney    TX  Dallas-Fort Worth     Collin  235700.0  236900.0   \n",
       "1   77494      Katy    TX            Houston     Harris  210400.0  212200.0   \n",
       "2   79936   El Paso    TX            El Paso    El Paso   77300.0   77300.0   \n",
       "3   77084   Houston    TX            Houston     Harris   95000.0   95200.0   \n",
       "4   77449      Katy    TX            Houston     Harris   95400.0   95600.0   \n",
       "\n",
       "    1996-06   1996-07   1996-08  ...  2017-07  2017-08  2017-09  2017-10  \\\n",
       "0  236700.0  235400.0  233300.0  ...   308000   310000   312500   314100   \n",
       "1  212200.0  210700.0  208300.0  ...   321000   320600   320200   320400   \n",
       "2   77300.0   77300.0   77400.0  ...   119100   119400   120000   120300   \n",
       "3   95400.0   95700.0   95900.0  ...   157900   158700   160200   161900   \n",
       "4   95800.0   96100.0   96400.0  ...   166800   167400   168400   169600   \n",
       "\n",
       "   2017-11  2017-12  2018-01  2018-02  2018-03  2018-04  \n",
       "0   315000   316600   318100   319600   321100   321800  \n",
       "1   320800   321200   321200   323000   326900   329900  \n",
       "2   120300   120300   120300   120500   121000   121500  \n",
       "3   162800   162800   162800   162900   163500   164300  \n",
       "4   170900   172300   173300   174200   175400   176200  \n",
       "\n",
       "[5 rows x 270 columns]"
      ]
     },
     "execution_count": 14,
     "metadata": {},
     "output_type": "execute_result"
    }
   ],
   "source": [
    "# List of states to invest in\n",
    "states_to_invest = ['GA', 'UT', 'TX', 'NC', 'NJ', 'TN', 'WA', 'DE', 'NE', 'FL']\n",
    "\n",
    "# Filter data for the selected states\n",
    "data_states = data[data['State'].isin(states_to_invest)].copy()\n",
    "\n",
    "# Drop unnecessary columns\n",
    "columns_to_drop = ['RegionID', 'SizeRank']\n",
    "data_states.drop(columns_to_drop, axis=1, inplace=True)\n",
    "\n",
    "# Reset the index\n",
    "data_states.reset_index(drop=True, inplace=True)\n",
    "\n",
    "print('Total Zipcodes in DataFrame:', len(data_states))\n",
    "data_states.head()"
   ]
  },
  {
   "cell_type": "code",
   "execution_count": null,
   "metadata": {
    "colab": {
     "base_uri": "https://localhost:8080/",
     "height": 349
    },
    "executionInfo": {
     "elapsed": 1045,
     "status": "ok",
     "timestamp": 1692894028298,
     "user": {
      "displayName": "Waruchu Kuria",
      "userId": "10228095980568770522"
     },
     "user_tz": -180
    },
    "id": "Bs0qlqasXz0N",
    "outputId": "2eb0b092-ac1a-4eb2-edf7-a984f7f8881b"
   },
   "outputs": [],
   "source": [
    "#Check for zeros\n",
    "data_states.describe()"
   ]
  },
  {
   "cell_type": "markdown",
   "metadata": {
    "id": "LdbJn5JDdOru"
   },
   "source": [
    "### Calculating ROI and CV"
   ]
  },
  {
   "cell_type": "markdown",
   "metadata": {
    "id": "gonSNzDeV0Ot"
   },
   "source": [
    "Calculating the average price for the last five years to narrow down the data."
   ]
  },
  {
   "cell_type": "code",
   "execution_count": null,
   "metadata": {
    "colab": {
     "base_uri": "https://localhost:8080/"
    },
    "executionInfo": {
     "elapsed": 10,
     "status": "ok",
     "timestamp": 1692894028299,
     "user": {
      "displayName": "Waruchu Kuria",
      "userId": "10228095980568770522"
     },
     "user_tz": -180
    },
    "id": "FcI79oaNdoRm",
    "outputId": "1151575a-732a-4176-fdb9-816a3bd95bdb"
   },
   "outputs": [],
   "source": [
    "# average price for the last 5 years (2013 to 2018)\n",
    "data_states['yr_avg']=data_states.iloc[:,-60:].mean(skipna=True, axis=1)\n",
    "\n",
    "#Calculate the 75% cutoff value\n",
    "q_75 = data_states['yr_avg'].quantile(q=0.75)\n",
    "print(f'Average Value 75% cutoff value: {round(q_75,2)}')\n",
    "\n",
    "#Calculate the 25% cutoff value\n",
    "q_25 = data_states['yr_avg'].quantile(q=0.25)\n",
    "print(f'Average Value 25% cutoff value: {round(q_25,2)}')\n",
    "\n",
    "#Get data frame with selected zipcodes.\n",
    "states_avg = data_states[(data_states['yr_avg']<q_75) & (data_states['yr_avg']>q_25)]\n",
    "print(f'Amount of zipcodes: {len(states_avg)}')"
   ]
  },
  {
   "cell_type": "code",
   "execution_count": null,
   "metadata": {
    "colab": {
     "base_uri": "https://localhost:8080/",
     "height": 290
    },
    "executionInfo": {
     "elapsed": 346,
     "status": "ok",
     "timestamp": 1692894156860,
     "user": {
      "displayName": "Waruchu Kuria",
      "userId": "10228095980568770522"
     },
     "user_tz": -180
    },
    "id": "MHOxerHXfCsP",
    "outputId": "dcc6b019-5bbc-4166-8a32-9a80cfb3cc17"
   },
   "outputs": [],
   "source": [
    "states_avg.head()"
   ]
  },
  {
   "cell_type": "code",
   "execution_count": null,
   "metadata": {
    "colab": {
     "base_uri": "https://localhost:8080/",
     "height": 206
    },
    "executionInfo": {
     "elapsed": 423,
     "status": "ok",
     "timestamp": 1692894159338,
     "user": {
      "displayName": "Waruchu Kuria",
      "userId": "10228095980568770522"
     },
     "user_tz": -180
    },
    "id": "nnfx-ovddM54",
    "outputId": "912021d6-8195-4314-9da6-20286a1edacd"
   },
   "outputs": [],
   "source": [
    "#Calculate historical return on investment\n",
    "data_states['ROI'] = (data_states['yr_avg']/data_states['1996-04'])-1\n",
    "\n",
    "## 5 year ROI\n",
    "data_states['ROI_5yr'] = round((data_states['2018-04'] - data_states['2013-01'])/ data_states['2013-01'],4)\n",
    "\n",
    "## 3 year ROI\n",
    "data_states['ROI_3yr'] = round((data_states['2018-04'] - data_states['2015-01'])/ data_states['2015-01'],4)\n",
    "\n",
    "#Calculate standard deviation of monthly values\n",
    "data_states['std'] = data_states.loc[:,'1996-04':'2018-04'].std(skipna=True, axis=1)\n",
    "\n",
    "#Calculate historical mean value\n",
    "data_states['mean'] = data_states.loc[:,'1996-04':'2018-04'].mean(skipna=True, axis=1)\n",
    "\n",
    "#Calculate coefficient of variation\n",
    "data_states['CV'] = data_states['std']/data_states['mean']\n",
    "\n",
    "#Show calculated values\n",
    "data_states[['State', 'ZipCode','std','mean','ROI','ROI_5yr', 'ROI_3yr', 'CV']].head()"
   ]
  },
  {
   "cell_type": "code",
   "execution_count": null,
   "metadata": {
    "colab": {
     "base_uri": "https://localhost:8080/"
    },
    "executionInfo": {
     "elapsed": 314,
     "status": "ok",
     "timestamp": 1692894162195,
     "user": {
      "displayName": "Waruchu Kuria",
      "userId": "10228095980568770522"
     },
     "user_tz": -180
    },
    "id": "RjqB3CJCgXrO",
    "outputId": "218e24c0-01eb-493d-f50e-cb742fe95538"
   },
   "outputs": [],
   "source": [
    "states_roi = data_states.groupby('State', group_keys=False).sum()['ROI']\n",
    "states_roi.sort_values(ascending=False)"
   ]
  },
  {
   "cell_type": "code",
   "execution_count": null,
   "metadata": {
    "colab": {
     "base_uri": "https://localhost:8080/"
    },
    "executionInfo": {
     "elapsed": 4,
     "status": "ok",
     "timestamp": 1692894164506,
     "user": {
      "displayName": "Waruchu Kuria",
      "userId": "10228095980568770522"
     },
     "user_tz": -180
    },
    "id": "wOyDsSm9h3ve",
    "outputId": "84f34069-fac6-4009-f799-4fc89e81a0ed"
   },
   "outputs": [],
   "source": [
    "#Define upper limit of CV according to risk profile.\n",
    "cv_60 = data_states.CV.quantile(.6)\n",
    "print(f'\\nCV upper limit: {cv_60}')"
   ]
  },
  {
   "cell_type": "code",
   "execution_count": null,
   "metadata": {
    "colab": {
     "base_uri": "https://localhost:8080/",
     "height": 307
    },
    "executionInfo": {
     "elapsed": 5,
     "status": "ok",
     "timestamp": 1692894166258,
     "user": {
      "displayName": "Waruchu Kuria",
      "userId": "10228095980568770522"
     },
     "user_tz": -180
    },
    "id": "LkZnXnX3inJQ",
    "outputId": "56553f33-6a91-492d-e8a2-131575f12ccd"
   },
   "outputs": [],
   "source": [
    "# Group states by highest ROIs within the firms risk profile.\n",
    "states_roi_cv = data_states[data_states['CV'] < cv_60].sort_values('ROI', axis=0, ascending=False)\n",
    "states_roi_cv.head()"
   ]
  },
  {
   "cell_type": "code",
   "execution_count": null,
   "metadata": {
    "colab": {
     "base_uri": "https://localhost:8080/"
    },
    "executionInfo": {
     "elapsed": 476,
     "status": "ok",
     "timestamp": 1692885108585,
     "user": {
      "displayName": "Waruchu Kuria",
      "userId": "10228095980568770522"
     },
     "user_tz": -180
    },
    "id": "tOeRNgbTjdkJ",
    "outputId": "9857de8e-a684-4682-b21d-890e8ab6318a"
   },
   "outputs": [],
   "source": [
    "states_roi_cv.shape"
   ]
  },
  {
   "cell_type": "code",
   "execution_count": null,
   "metadata": {
    "colab": {
     "base_uri": "https://localhost:8080/"
    },
    "executionInfo": {
     "elapsed": 305,
     "status": "ok",
     "timestamp": 1692885111879,
     "user": {
      "displayName": "Waruchu Kuria",
      "userId": "10228095980568770522"
     },
     "user_tz": -180
    },
    "id": "TcC4uKC1l5Ml",
    "outputId": "f318d5e1-08b6-483c-c539-51d687e88e10"
   },
   "outputs": [],
   "source": [
    "# No. of zipcodes per state\n",
    "states_roi_cv['State'].value_counts()"
   ]
  },
  {
   "cell_type": "code",
   "execution_count": null,
   "metadata": {
    "colab": {
     "base_uri": "https://localhost:8080/"
    },
    "executionInfo": {
     "elapsed": 315,
     "status": "ok",
     "timestamp": 1692885159872,
     "user": {
      "displayName": "Waruchu Kuria",
      "userId": "10228095980568770522"
     },
     "user_tz": -180
    },
    "id": "rE_d80sQmlTo",
    "outputId": "5faa8491-284c-411e-be0a-edf44722cbf5"
   },
   "outputs": [],
   "source": [
    "### not sure why\n",
    "states_roi_cv.groupby('State').max()['ROI']"
   ]
  },
  {
   "cell_type": "code",
   "execution_count": null,
   "metadata": {
    "colab": {
     "base_uri": "https://localhost:8080/"
    },
    "executionInfo": {
     "elapsed": 328,
     "status": "ok",
     "timestamp": 1692885241358,
     "user": {
      "displayName": "Waruchu Kuria",
      "userId": "10228095980568770522"
     },
     "user_tz": -180
    },
    "id": "BtOId_3amusx",
    "outputId": "3b6b222e-da5e-44c4-b24d-09ca81fb154e"
   },
   "outputs": [],
   "source": [
    "states_roi_cv.isna().sum()"
   ]
  },
  {
   "cell_type": "code",
   "execution_count": null,
   "metadata": {
    "colab": {
     "base_uri": "https://localhost:8080/"
    },
    "executionInfo": {
     "elapsed": 330,
     "status": "ok",
     "timestamp": 1692885258724,
     "user": {
      "displayName": "Waruchu Kuria",
      "userId": "10228095980568770522"
     },
     "user_tz": -180
    },
    "id": "6Q-jiJjtojvj",
    "outputId": "acb04de6-ae09-45f0-8a95-ed1839d561fe"
   },
   "outputs": [],
   "source": [
    "states_roi_cv_grouped = states_roi_cv.groupby('State').sum()['ROI']\n",
    "states_roi_cv_grouped.sort_values(ascending=False)\n",
    "\n",
    "# max roi, least cv\n",
    "target_states = list(states_roi_cv_grouped.sort_values(ascending=False).index)\n",
    "target_states"
   ]
  },
  {
   "cell_type": "code",
   "execution_count": null,
   "metadata": {
    "colab": {
     "base_uri": "https://localhost:8080/",
     "height": 308
    },
    "executionInfo": {
     "elapsed": 335,
     "status": "ok",
     "timestamp": 1692885274295,
     "user": {
      "displayName": "Waruchu Kuria",
      "userId": "10228095980568770522"
     },
     "user_tz": -180
    },
    "id": "jRy_X2IVpHte",
    "outputId": "31ccc9c2-63cf-4996-cd3c-f0e4862d19b4"
   },
   "outputs": [],
   "source": [
    "# Filter the DataFrame for the target states\n",
    "states_combined = states_roi_cv[states_roi_cv['State'].isin(target_states)]\n",
    "\n",
    "# Print the filtered DataFrame\n",
    "states_combined.head()"
   ]
  },
  {
   "cell_type": "code",
   "execution_count": null,
   "metadata": {
    "colab": {
     "base_uri": "https://localhost:8080/"
    },
    "executionInfo": {
     "elapsed": 305,
     "status": "ok",
     "timestamp": 1692885278233,
     "user": {
      "displayName": "Waruchu Kuria",
      "userId": "10228095980568770522"
     },
     "user_tz": -180
    },
    "id": "i-yUUlD8sXVl",
    "outputId": "eb00eb9a-121f-46f3-fd85-27255e522448"
   },
   "outputs": [],
   "source": [
    "states_roi_cv.columns"
   ]
  },
  {
   "cell_type": "code",
   "execution_count": null,
   "metadata": {
    "colab": {
     "base_uri": "https://localhost:8080/",
     "height": 206
    },
    "executionInfo": {
     "elapsed": 971,
     "status": "ok",
     "timestamp": 1692885360798,
     "user": {
      "displayName": "Waruchu Kuria",
      "userId": "10228095980568770522"
     },
     "user_tz": -180
    },
    "id": "xEMEMn6hxR1Q",
    "outputId": "7f61576e-8f1e-4b6b-c97f-941c8380c122"
   },
   "outputs": [],
   "source": [
    "# creating a function that changes the dataframe structure from wide view to long view\n",
    "\n",
    "def melt_df(data):\n",
    "    melted = pd.melt(data, id_vars=['ZipCode', 'City', 'State', 'Metro',\n",
    "                                    'CountyName', 'yr_avg', 'ROI', 'ROI_5yr',\n",
    "                                    'ROI_3yr',\t'std',\t'mean',\t'CV'],\n",
    "                     var_name='Date')\n",
    "    melted['Date'] = pd.to_datetime(melted['Date'], infer_datetime_format=True)\n",
    "    melted = melted.dropna(subset=['value'])\n",
    "    return melted\n",
    "\n",
    "states_melted = melt_df(states_combined)\n",
    "\n",
    "states_melted.head()"
   ]
  },
  {
   "cell_type": "code",
   "execution_count": null,
   "metadata": {
    "id": "CJI2I0kT3J4n"
   },
   "outputs": [],
   "source": [
    "# Convert 'date' column to datetime format\n",
    "states_melted['Date'] = pd.to_datetime(states_melted['Date'])\n",
    "\n",
    "# Set the 'Date' column as index\n",
    "states_melted.set_index('Date', inplace=True)"
   ]
  },
  {
   "cell_type": "code",
   "execution_count": null,
   "metadata": {
    "colab": {
     "base_uri": "https://localhost:8080/",
     "height": 455
    },
    "executionInfo": {
     "elapsed": 372,
     "status": "ok",
     "timestamp": 1692886047218,
     "user": {
      "displayName": "Waruchu Kuria",
      "userId": "10228095980568770522"
     },
     "user_tz": -180
    },
    "id": "86bIdZC_xy_P",
    "outputId": "d756f954-7cf6-41e6-8aae-8706b692acda"
   },
   "outputs": [],
   "source": [
    "# Sort the DataFrame by ROI in descending order\n",
    "top_10_zipcodes = states_melted.sort_values(by='ROI', ascending=False)\n",
    "\n",
    "# Print the top 10 zip codes by ROI\n",
    "top_10_zipcodes"
   ]
  },
  {
   "cell_type": "markdown",
   "metadata": {
    "id": "YlNHS_nqecv4"
   },
   "source": [
    "### **Converting to Time Series**"
   ]
  },
  {
   "cell_type": "markdown",
   "metadata": {
    "id": "pjKjEzbdi5w0"
   },
   "source": [
    "**Step 1: Changing the dataframe from wide view to long view**"
   ]
  },
  {
   "cell_type": "code",
   "execution_count": null,
   "metadata": {
    "id": "t7wyD2cZDi__"
   },
   "outputs": [],
   "source": [
    "melted_data = states_melted.copy()"
   ]
  },
  {
   "cell_type": "code",
   "execution_count": null,
   "metadata": {
    "id": "pkNdQtWyCc3h"
   },
   "outputs": [],
   "source": [
    "# creating a function that changes the dataframe structure from wide view to long view\n",
    "\n",
    "def melt_df(data):\n",
    "    melted = pd.melt(data, id_vars=['ZipCode', 'City', 'State', 'Metro',\n",
    "                                    'CountyName'], var_name='Date')\n",
    "    melted_data['Date'] = pd.to_datetime(melted_data['Date'], format='%Y-%m-%d')\n",
    "    melted = melted.dropna(subset=['value'])\n",
    "    return melted\n",
    "\n",
    "melted_data = melt_df(melted_data)"
   ]
  },
  {
   "cell_type": "markdown",
   "metadata": {
    "id": "BHy-0CgXeveE"
   },
   "source": [
    "**Step 2: Converting the Date Column to DateTime Format and Setting it as the Index**"
   ]
  },
  {
   "cell_type": "code",
   "execution_count": null,
   "metadata": {
    "id": "0F1WbqY0Cc8z"
   },
   "outputs": [],
   "source": [
    "# Convert 'date' column to datetime format\n",
    "melted_data['Date'] = pd.to_datetime(melted_data['Date'])\n",
    "\n",
    "# Set the 'Date' column as index\n",
    "melted_data.set_index('Date', inplace=True)"
   ]
  },
  {
   "cell_type": "code",
   "execution_count": null,
   "metadata": {
    "colab": {
     "base_uri": "https://localhost:8080/",
     "height": 238
    },
    "executionInfo": {
     "elapsed": 335,
     "status": "ok",
     "timestamp": 1692878104025,
     "user": {
      "displayName": "Waruchu Kuria",
      "userId": "10228095980568770522"
     },
     "user_tz": -180
    },
    "id": "HOnzcGIiCc6Y",
    "outputId": "0adf062d-9401-44b0-a5d1-50d27fc3af41"
   },
   "outputs": [],
   "source": [
    "melted_data.head()"
   ]
  },
  {
   "cell_type": "code",
   "execution_count": null,
   "metadata": {
    "colab": {
     "base_uri": "https://localhost:8080/"
    },
    "executionInfo": {
     "elapsed": 320,
     "status": "ok",
     "timestamp": 1692884111043,
     "user": {
      "displayName": "Waruchu Kuria",
      "userId": "10228095980568770522"
     },
     "user_tz": -180
    },
    "id": "GlpCaFPCwVz5",
    "outputId": "8dda76e5-7903-4932-86b0-0892a662441c"
   },
   "outputs": [],
   "source": [
    "print(\"Columns in melted_data:\", melted_data.columns)\n",
    "print()\n",
    "print(\"Columns in states_combined:\", states_combined.columns)"
   ]
  },
  {
   "cell_type": "code",
   "execution_count": null,
   "metadata": {
    "colab": {
     "base_uri": "https://localhost:8080/",
     "height": 390
    },
    "executionInfo": {
     "elapsed": 2338,
     "status": "error",
     "timestamp": 1692883936991,
     "user": {
      "displayName": "Waruchu Kuria",
      "userId": "10228095980568770522"
     },
     "user_tz": -180
    },
    "id": "KYcTm-JpvZ5k",
    "outputId": "bda86f0e-7357-45c2-a335-1adc30ee12f9"
   },
   "outputs": [],
   "source": [
    "# Join the dataframes based on common columns\n",
    "final_df = melted_data.merge(states_combined, on=['ZipCode', 'City', 'State', 'Metro', 'CountyName'])\n",
    "\n",
    "# Set the 'Date' column as the index\n",
    "final_df.set_index('Date', inplace=True)\n",
    "\n",
    "# Print the resulting DataFrame\n",
    "final_df.head()"
   ]
  },
  {
   "cell_type": "markdown",
   "metadata": {
    "id": "lIqTf2OhfAIN"
   },
   "source": [
    "### **Narrowing Down to a Few Zip Codes from the Data**\n",
    "- The data is quite large.\n",
    "- Therefore, the analysis will filter out the first 1000 zip codes per state based on median prices (`value`)."
   ]
  },
  {
   "cell_type": "code",
   "execution_count": null,
   "metadata": {
    "colab": {
     "base_uri": "https://localhost:8080/",
     "height": 238
    },
    "executionInfo": {
     "elapsed": 9410,
     "status": "ok",
     "timestamp": 1692873245190,
     "user": {
      "displayName": "Waruchu Kuria",
      "userId": "10228095980568770522"
     },
     "user_tz": -180
    },
    "id": "ag0RuQkUIBA2",
    "outputId": "b2c406ac-c1b8-4073-8b14-3d746dd5cd9a"
   },
   "outputs": [],
   "source": [
    "# # Group by 'State' and get the top 1000 zip codes for each state based on median prices\n",
    "# top_zipcodes = (melted_data.sort_values(['State', 'value'], ascending=[True, False])\n",
    "#                 .groupby('State')\n",
    "#                 .head(1000))\n",
    "\n",
    "# # # Create a new DataFrame with the selected data\n",
    "# top_zipcodes_df = pd.DataFrame({\n",
    "#     # 'Date': top_zipcodes['Date'],\n",
    "#     'State': top_zipcodes['State'],\n",
    "#     'County': top_zipcodes['CountyName'],\n",
    "#     'Metro': top_zipcodes['Metro'],\n",
    "#     'City': top_zipcodes['City'],\n",
    "#     'ZipCode': top_zipcodes['ZipCode'],\n",
    "#     'SizeRank': top_zipcodes['SizeRank'],\n",
    "#     'Value': top_zipcodes['value']\n",
    "\n",
    "# })\n",
    "# # # Display the result\n",
    "# top_zipcodes_df.head()"
   ]
  },
  {
   "cell_type": "code",
   "execution_count": null,
   "metadata": {
    "colab": {
     "base_uri": "https://localhost:8080/",
     "height": 424
    },
    "executionInfo": {
     "elapsed": 32,
     "status": "ok",
     "timestamp": 1692873245192,
     "user": {
      "displayName": "Waruchu Kuria",
      "userId": "10228095980568770522"
     },
     "user_tz": -180
    },
    "id": "qSAzO-S6cR_c",
    "outputId": "28bfd44f-e80e-4021-c7da-29ab1432827f"
   },
   "outputs": [],
   "source": [
    "top_zipcodes_df.reset_index()"
   ]
  },
  {
   "cell_type": "code",
   "execution_count": null,
   "metadata": {
    "colab": {
     "base_uri": "https://localhost:8080/",
     "height": 35
    },
    "executionInfo": {
     "elapsed": 27,
     "status": "ok",
     "timestamp": 1692873245194,
     "user": {
      "displayName": "Waruchu Kuria",
      "userId": "10228095980568770522"
     },
     "user_tz": -180
    },
    "id": "UlcZo19leadj",
    "outputId": "e3fb4371-59f4-40b6-c094-813b28ff49eb"
   },
   "outputs": [],
   "source": [
    "top_zipcodes_df.index.name"
   ]
  },
  {
   "cell_type": "code",
   "execution_count": null,
   "metadata": {
    "colab": {
     "base_uri": "https://localhost:8080/",
     "height": 245
    },
    "executionInfo": {
     "elapsed": 877,
     "status": "error",
     "timestamp": 1692873246047,
     "user": {
      "displayName": "Waruchu Kuria",
      "userId": "10228095980568770522"
     },
     "user_tz": -180
    },
    "id": "kOPWgIRacHNQ",
    "outputId": "132c5f44-f184-4b0b-cbe9-fde7b36c9f00"
   },
   "outputs": [],
   "source": [
    "# List of 5-year periods start and end years\n",
    "periods = [(1998, 2003), (2003, 2008), (2008, 2013), (2013, 2018)]\n",
    "\n",
    "# Create an empty DataFrame to store ROI values\n",
    "roi_data = pd.DataFrame()\n",
    "\n",
    "# Iterate over each zip code\n",
    "for zip_code in top_zipcodes_df['ZipCode']:\n",
    "    zip_roi_data = {'ZipCode': zip_code}\n",
    "\n",
    "    for start_year, end_year in periods:\n",
    "        start_col = str(start_year) + '-04'  # Assuming April data is available for each year\n",
    "        end_col = str(end_year) + '-04'\n",
    "\n",
    "        start_value = top_zipcodes_df[top_zipcodes_df['ZipCode'] == zip_code][start_col].values[1]\n",
    "        end_value = top_zipcodes_df[top_zipcodes_df['ZipCode'] == zip_code][end_col].values[1]\n",
    "\n",
    "        roi = ((end_value - start_value) / start_value) * 100\n",
    "        col_name = f'ROI_{start_year}-{end_year}'\n",
    "        zip_roi_data[col_name] = roi\n",
    "\n",
    "    # Append the data for the current zip code to the roi_data DataFrame\n",
    "    roi_data = roi_data.append(zip_roi_data, ignore_index=True)\n",
    "\n",
    "# Display the new DataFrame with ROI values for each period\n",
    "print(roi_data)\n"
   ]
  },
  {
   "cell_type": "code",
   "execution_count": null,
   "metadata": {
    "id": "tw22pceafHW9"
   },
   "outputs": [],
   "source": [
    "# confirming the new columns are added correctly\n",
    "melted_data.info()"
   ]
  },
  {
   "cell_type": "code",
   "execution_count": null,
   "metadata": {
    "id": "CxPO6EaoGfys"
   },
   "outputs": [],
   "source": [
    "# ROI 5-years\n"
   ]
  },
  {
   "cell_type": "code",
   "execution_count": null,
   "metadata": {
    "id": "3Irqjiu-XCJc"
   },
   "outputs": [],
   "source": [
    "# Assuming your datetime column is named 'Date' and it's the index of your melted_data DataFrame\n",
    "melted_data['Year'] = melted_data.index.year\n",
    "\n",
    "# Define a function to create 5-year bands\n",
    "def create_5_year_band(year):\n",
    "    return f\"{year // 5 * 5}-{year // 5 * 5 + 4}\"\n",
    "\n",
    "# Apply the function to the 'Year' column to create the 5-year bands\n",
    "melted_data['5_Year_Band'] = melted_data['Year'].apply(create_5_year_band)\n",
    "melted_data.head()\n"
   ]
  },
  {
   "cell_type": "code",
   "execution_count": null,
   "metadata": {
    "id": "wM-e1DWuanml"
   },
   "outputs": [],
   "source": []
  },
  {
   "cell_type": "code",
   "execution_count": null,
   "metadata": {
    "id": "t-Wl8uC-naVh"
   },
   "outputs": [],
   "source": [
    "top_zipcodes_df.index.name"
   ]
  },
  {
   "cell_type": "code",
   "execution_count": null,
   "metadata": {
    "id": "8jRiVT4egzcr"
   },
   "outputs": [],
   "source": [
    "top_zipcodes_df.info()"
   ]
  },
  {
   "cell_type": "markdown",
   "metadata": {
    "id": "UFLHh3O4pUL0"
   },
   "source": [
    "- The data now has 51000 records, i.e. 1000 zipcodes from 51 states."
   ]
  },
  {
   "cell_type": "code",
   "execution_count": null,
   "metadata": {
    "id": "ofamd4-1qP57"
   },
   "outputs": [],
   "source": [
    "top_zipcodes_df.columns"
   ]
  },
  {
   "cell_type": "code",
   "execution_count": null,
   "metadata": {
    "id": "ldmTEOCLs7sp"
   },
   "outputs": [],
   "source": [
    "top_zipcodes_df.describe()"
   ]
  },
  {
   "cell_type": "markdown",
   "metadata": {
    "id": "AIk5-umVg6B6"
   },
   "source": [
    "### **5-year Return on Investment**"
   ]
  },
  {
   "cell_type": "code",
   "execution_count": null,
   "metadata": {
    "id": "SIY6tWiVo_DZ"
   },
   "outputs": [],
   "source": [
    "# # Create a new 'year' column based on the year from the datetime index\n",
    "# top_zipcodes_df['Year'] = top_zipcodes_df.index.year\n",
    "\n",
    "# # Define a function to group dates into 5-year periods\n",
    "# def create_5_year_periods(year):\n",
    "#     return f\"{year}-{year+4}\"\n",
    "\n",
    "# # Apply the function to create the '5-year-periods' column\n",
    "# top_zipcodes_df['5-year-periods'] = top_zipcodes_df['Year'].apply(create_5_year_periods)\n",
    "\n",
    "# top_zipcodes_df.tail()"
   ]
  },
  {
   "cell_type": "markdown",
   "metadata": {
    "id": "gtpoFgw4sLlU"
   },
   "source": [
    "#### **Calculate Mean ROI for each 5-year period**"
   ]
  },
  {
   "cell_type": "code",
   "execution_count": null,
   "metadata": {
    "id": "6tf3F4rysI0x"
   },
   "outputs": [],
   "source": [
    "mean_roi_by_period = top_zipcodes_df.groupby('5_Year_Band')['ROI'].mean()\n",
    "\n",
    "# Plotting the data\n",
    "plt.figure(figsize=(10, 6))\n",
    "mean_roi_by_period.plot(kind='bar', color='blue')\n",
    "plt.title('Mean ROI by 5-Year Period')\n",
    "plt.xlabel('5-Year Period')\n",
    "plt.ylabel('Mean ROI')\n",
    "plt.xticks(rotation=45)\n",
    "plt.tight_layout()\n",
    "plt.show()"
   ]
  },
  {
   "cell_type": "markdown",
   "metadata": {
    "id": "9zoB7987OsD2"
   },
   "source": [
    "### **Determine the top 5 zip codes that show the highest potential return on investment (ROI)**"
   ]
  },
  {
   "cell_type": "code",
   "execution_count": null,
   "metadata": {
    "id": "5tySigYZOVK-"
   },
   "outputs": [],
   "source": [
    "# Create a DataFrame of the top 5 zip codes\n",
    "top_zipcodes_ROI = pd.DataFrame(top_zipcodes_df.groupby(\"ZipCode\")[\"ROI\"].mean().sort_values(ascending=False).head(5))\n",
    "print(top_zipcodes_ROI)\n",
    "\n",
    "# Create a bar chart of the average ROI\n",
    "fig, ax = plt.subplots(1, 1, figsize=(10, 5))\n",
    "top_zipcodes_ROI.plot(kind='bar', ax=ax, color=\"blue\")\n",
    "\n",
    "# Set the title, labels, and ticks\n",
    "plt.title(\"Zipcodes with the Highest ROI\")\n",
    "ax.set_ylabel(\"Average ROI\");\n",
    "ax.set_xlabel(\"Zipcodes\")\n",
    "# plt.xticks(fontsize= 18)\n",
    "\n",
    "# Show the bar chart\n",
    "plt.show()"
   ]
  },
  {
   "cell_type": "code",
   "execution_count": null,
   "metadata": {
    "id": "2p-SAHYZyKbB"
   },
   "outputs": [],
   "source": [
    "#top 5 zipcodes in terms of ROI\n",
    "top_5_zipcodes_ROI =['10021', '31561', '10011', '11231', '10014']\n",
    "\n",
    "top5_roi_df = top_zipcodes_df[top_zipcodes_df['ZipCode'].isin(top_5_zipcodes_ROI)]\n",
    "top5_roi_df.head()"
   ]
  },
  {
   "cell_type": "code",
   "execution_count": null,
   "metadata": {
    "id": "WXpsxBJIPF4X"
   },
   "outputs": [],
   "source": [
    "# Create a DataFrame of the top 5 zip codes\n",
    "top_zipcodes_CV = pd.DataFrame(top_zipcodes_df.groupby(\"ZipCode\")[\"CV\"].mean().sort_values(ascending=False).head(5))\n",
    "print(top_zipcodes_CV)\n",
    "\n",
    "# Create a bar chart of the average CV\n",
    "fig, ax = plt.subplots(1, 1, figsize=(10, 5))\n",
    "top_zipcodes_CV.plot(kind='bar', ax=ax, color=\"red\")\n",
    "\n",
    "# Set the title, labels, and ticks\n",
    "plt.title(\"Zipcodes with the Highest CV\")\n",
    "ax.set_ylabel(\"Average CV\");\n",
    "ax.set_xlabel(\"Zipcodes\")\n",
    "# plt.xticks(fontsize= 18)\n",
    "\n",
    "# Show the bar chart\n",
    "plt.show()"
   ]
  },
  {
   "cell_type": "code",
   "execution_count": null,
   "metadata": {
    "id": "uaWCE8mE1kWG"
   },
   "outputs": [],
   "source": [
    "#top 5 zipcodes in terms of CV\n",
    "top_5_zipcodes_CV =['56041', '2116', '16102', '43013', '24054']\n",
    "\n",
    "top5_cv_df = top_zipcodes_df[top_zipcodes_df['ZipCode'].isin(top_5_zipcodes_CV)]\n",
    "top5_cv_df.head()"
   ]
  },
  {
   "cell_type": "markdown",
   "metadata": {
    "id": "agLRtzeWUsJZ"
   },
   "source": [
    "### **Determine the 5 Least Advisable Cities to Invest in**"
   ]
  },
  {
   "cell_type": "code",
   "execution_count": null,
   "metadata": {
    "id": "ASFD_4EEUuCr"
   },
   "outputs": [],
   "source": [
    "# Create a DataFrame of the bottom 5 zip codes\n",
    "bottom_zipcodes_ROI = pd.DataFrame(top_zipcodes_df.groupby(\"ZipCode\")[\"ROI\"].mean().sort_values(ascending=False).tail(5))\n",
    "print(bottom_zipcodes_ROI)\n",
    "\n",
    "# Create a bar chart of the average ROI\n",
    "fig, ax = plt.subplots(1, 1, figsize=(10, 5))\n",
    "bottom_zipcodes_ROI.plot(kind='bar', ax=ax, color=\"blue\")\n",
    "\n",
    "# Set the title, labels, and ticks\n",
    "plt.title(\"Zipcodes with the Lowest ROI\")\n",
    "ax.set_ylabel(\"Average ROI\");\n",
    "ax.set_xlabel(\"Zipcodes\")\n",
    "# plt.xticks(fontsize= 18)\n",
    "\n",
    "# Show the bar chart\n",
    "plt.show()"
   ]
  },
  {
   "cell_type": "code",
   "execution_count": null,
   "metadata": {
    "id": "LVJLQcTw0vli"
   },
   "outputs": [],
   "source": [
    "# bottom 5 zipcodes in terms of ROI\n",
    "bottom_5_zipcodes_ROI =['67473', '71075', '24054', '28039', '16102']\n",
    "\n",
    "bottom5_roi_df = top_zipcodes_df[top_zipcodes_df['ZipCode'].isin(bottom_5_zipcodes_ROI)]\n",
    "bottom5_df.head()"
   ]
  },
  {
   "cell_type": "code",
   "execution_count": null,
   "metadata": {
    "id": "wRemzxRqUuJL"
   },
   "outputs": [],
   "source": [
    "# Create a DataFrame of the bottom 5 zip codes\n",
    "bottom_zipcodes_CV = pd.DataFrame(top_zipcodes_df.groupby(\"ZipCode\")[\"CV\"].mean().sort_values(ascending=False).tail(5))\n",
    "print(bottom_zipcodes_CV)\n",
    "\n",
    "# Create a bar chart of the average ROI\n",
    "fig, ax = plt.subplots(1, 1, figsize=(10, 5))\n",
    "bottom_zipcodes_CV.plot(kind='bar', ax=ax, color=\"red\")\n",
    "\n",
    "# Set the title, labels, and ticks\n",
    "plt.title(\"Zipcodes with the Lowest CV\")\n",
    "ax.set_ylabel(\"Average ROI\");\n",
    "ax.set_xlabel(\"Zipcodes\")\n",
    "# plt.xticks(fontsize= 18)\n",
    "\n",
    "# Show the bar chart\n",
    "plt.show()"
   ]
  },
  {
   "cell_type": "code",
   "execution_count": null,
   "metadata": {
    "id": "aD3AXYsZ1LSD"
   },
   "outputs": [],
   "source": [
    "# bottom 5 zipcodes in terms of CV\n",
    "bottom_5_zipcodes_CV =['38139', '74137', '46037', '46077', '44040']\n",
    "\n",
    "bottom5_cv_df = top_zipcodes_df[top_zipcodes_df['ZipCode'].isin(bottom_5_zipcodes_CV)]\n",
    "bottom5_cv_df.head()"
   ]
  },
  {
   "cell_type": "markdown",
   "metadata": {
    "id": "2zFPBYKzVxqJ"
   },
   "source": [
    "### **Which are the Top 5 Metro Areas and States with the Highest Market Performance in Terms of Price Growth** (correct graph)"
   ]
  },
  {
   "cell_type": "code",
   "execution_count": null,
   "metadata": {
    "id": "zNly3O32ZI7t"
   },
   "outputs": [],
   "source": [
    "# Group the data by metro area and state and calculate the mean ROI\n",
    "top_metro_areas_df = top_zipcodes_df.groupby([\"Metro\", \"State\"])[\"ROI\"].mean()\n",
    "\n",
    "# Sort by mean ROI\n",
    "top_metro_areas_df = top_metro_areas_df.sort_values(ascending=True)\n",
    "\n",
    "# Get the top 5 metropolitan areas\n",
    "top_5_metro_areas = top_metro_areas_df.index[:5]\n",
    "\n",
    "# Print the top 5 metropolitan areas\n",
    "print(\"Top 5 Metropolitan Areas with the Highest Market Performance in Terms of Price Growth:\")\n",
    "for metro_area in top_5_metro_areas:\n",
    "    print(metro_area)\n",
    "\n",
    "# Plot a horizontal bar graph\n",
    "plt.figure(figsize=(10, 6))\n",
    "top_metro_areas_df.loc[top_5_metro_areas].plot(kind='barh', color='blue')\n",
    "plt.xlabel('Mean ROI')\n",
    "plt.ylabel('Metro Area, State')\n",
    "plt.title('Top 5 Metropolitan Areas with the Highest Market Performance')\n",
    "plt.tight_layout()\n",
    "plt.show()"
   ]
  },
  {
   "cell_type": "code",
   "execution_count": null,
   "metadata": {
    "id": "AIq75xLHZI4y"
   },
   "outputs": [],
   "source": [
    "# Group the data by state and calculate the mean ROI\n",
    "top_cities_df = top_zipcodes_df.groupby([\"City\", \"State\"])[\"ROI\"].mean()\n",
    "\n",
    "# Sort by mean ROI\n",
    "top_cities_df = top_cities_df.sort_values(ascending=False)\n",
    "\n",
    "# Get the top 5 states\n",
    "top_cities_df = top_cities_df.index[:5]\n",
    "\n",
    "# Print the top 5 states\n",
    "print(\"Top 5 Cities with the Highest Market Performance in Terms of Price Growth:\")\n",
    "for city in top_cities_df:\n",
    "    print(city)"
   ]
  },
  {
   "cell_type": "code",
   "execution_count": null,
   "metadata": {
    "id": "PwrpVhY7E21y"
   },
   "outputs": [],
   "source": []
  },
  {
   "cell_type": "markdown",
   "metadata": {
    "id": "XTWqX-JeaZeS"
   },
   "source": [
    "### **Determine the best month to invest to maximize ROI**"
   ]
  },
  {
   "cell_type": "code",
   "execution_count": null,
   "metadata": {
    "id": "5p12bCvKZIzk"
   },
   "outputs": [],
   "source": [
    "# Group the data by month and calculate the mean ROI\n",
    "monthly_roi_df = top_zipcodes_df.groupby(\"Date\")[\"ROI\"].mean()\n",
    "\n",
    "# Sort by mean ROI\n",
    "monthly_roi_df = monthly_roi_df.sort_values(ascending=False)\n",
    "\n",
    "# Get the month with the highest mean ROI\n",
    "best_month = monthly_roi_df.index[0]\n",
    "\n",
    "# Print the best month\n",
    "print(\"The best month to invest to maximize ROI is:\", best_month)"
   ]
  },
  {
   "cell_type": "code",
   "execution_count": null,
   "metadata": {
    "id": "2N9ZIZLPdgia"
   },
   "outputs": [],
   "source": [
    "monthly_roi_df.head()"
   ]
  },
  {
   "cell_type": "code",
   "execution_count": null,
   "metadata": {
    "id": "vprS7TsGbMky"
   },
   "outputs": [],
   "source": [
    "monthly_data = top_zipcodes_df['Value'].resample('MS').mean()\n",
    "monthly_data = monthly_data.fillna(monthly_data.bfill())\n",
    "monthly_data.plot(figsize=(8,5))\n",
    "plt.title('Average Home Value By Month')\n",
    "plt.ylabel('Value')\n",
    "plt.show()\n",
    "print(\"Earliest Dates\")\n",
    "print(monthly_data.head())\n",
    "print()\n",
    "print(\"Most Recent\")\n",
    "print(monthly_data.tail())"
   ]
  },
  {
   "cell_type": "code",
   "execution_count": null,
   "metadata": {
    "id": "UKbStG7kdRse"
   },
   "outputs": [],
   "source": [
    "monthly_data['2012':].plot(figsize=(8,5))"
   ]
  },
  {
   "cell_type": "markdown",
   "metadata": {
    "id": "iw4aLGHHxZki"
   },
   "source": [
    "## Modeling\n",
    "- To begin the modelling, the data will be checked for `trend`, `seasonality` and `residuals`."
   ]
  },
  {
   "cell_type": "markdown",
   "metadata": {
    "id": "ttJPl9Lt-3JW"
   },
   "source": [
    "### Checking for Trend (correct this)"
   ]
  },
  {
   "cell_type": "code",
   "execution_count": null,
   "metadata": {
    "id": "V9lhTMFs-2pB"
   },
   "outputs": [],
   "source": [
    "#checking for trends in the dataset\n",
    "\n",
    "# Calculate mean ROI for each ZipCode and sort in descending order\n",
    "top_zipcodes_by_mean_roi = top_zipcodes_df.groupby(\"ZipCode\")[\"ROI\"].mean().sort_values(ascending=False).head(20)\n",
    "\n",
    "for zip_code, region_data in top_zipcodes_by_mean_roi.groupby(\"ZipCode\"):\n",
    "  zipcode_data = top_zipcodes_df[top_zipcodes_df[\"ZipCode\"] == zip_code]\n",
    "  values = zipcode_data['ROI'].mean()  # Select the mean 'ROI'\n",
    "  plt.plot(values, label=zip_code)  # Plot the values with zip code as label\n",
    "\n",
    "plt.xlabel('Time')\n",
    "plt.ylabel('ROI')\n",
    "plt.title('Line Plot by Zip Code')\n",
    "plt.legend()\n",
    "plt.show()"
   ]
  },
  {
   "cell_type": "code",
   "execution_count": null,
   "metadata": {
    "id": "OOFglQr29o1l"
   },
   "outputs": [],
   "source": [
    "def seasonal_decomposition(df):\n",
    "    decomposition = seasonal_decompose(df)\n",
    "\n",
    "    # Gather the trend, seasonality, and residuals\n",
    "    trend = decomposition.trend\n",
    "    seasonal = decomposition.seasonal\n",
    "    residual = decomposition.resid\n",
    "\n",
    "    # Plot gathered statistics\n",
    "    plt.figure(figsize=(8,8))\n",
    "    plt.subplot(411)\n",
    "    plt.plot(df, label='Original', color='blue')\n",
    "    #plt.plot(ts, label='Original', color='blue')\n",
    "    plt.legend(loc='best')\n",
    "    plt.subplot(412)\n",
    "    plt.plot(trend, label='Trend', color='blue')\n",
    "    plt.legend(loc='best')\n",
    "    plt.subplot(413)\n",
    "    plt.plot(seasonal,label='Seasonality', color='blue')\n",
    "    plt.legend(loc='best')\n",
    "    plt.subplot(414)\n",
    "    plt.plot(residual, label='Residuals', color='blue')\n",
    "    plt.legend(loc='best')\n",
    "    plt.tight_layout()"
   ]
  },
  {
   "cell_type": "markdown",
   "metadata": {
    "id": "motJJG7N6Hid"
   },
   "source": [
    "### Check for Seasonality"
   ]
  },
  {
   "cell_type": "code",
   "execution_count": null,
   "metadata": {
    "id": "6mtFoS6SyLE9"
   },
   "outputs": [],
   "source": [
    "seasonal_decompose(top_zipcodes_df[\"ROI\"])"
   ]
  },
  {
   "cell_type": "markdown",
   "metadata": {
    "id": "WGVDq26N3K31"
   },
   "source": [
    "### Check for Stationarity"
   ]
  },
  {
   "cell_type": "code",
   "execution_count": null,
   "metadata": {
    "id": "D1o--mFPyLJR"
   },
   "outputs": [],
   "source": [
    "# Extract the 'ROI' column for analysis\n",
    "roi_series = top_zipcodes_df['ROI']\n",
    "\n",
    "# Apply the ADF test\n",
    "result = adfuller(roi_series)\n",
    "\n",
    "# Print the ADF test results\n",
    "print(\"ADF Statistic:\", result[0])\n",
    "print(\"p-value:\", result[1])\n",
    "print(\"Critical Values:\", result[4])\n",
    "print(\"Is Stationary:\", \"No\" if result[1] > 0.05 else \"Yes\")\n"
   ]
  },
  {
   "cell_type": "markdown",
   "metadata": {
    "id": "nV4okxsN6nLN"
   },
   "source": [
    "- The series `**is stationary**` because the p-value is less than 0.05.\n",
    "- There will be no need to difference."
   ]
  },
  {
   "cell_type": "code",
   "execution_count": null,
   "metadata": {
    "id": "w0HkDXqFyLHA"
   },
   "outputs": [],
   "source": [
    "# Checking by State\n",
    "grouped = top_zipcodes_df.groupby('State')\n",
    "\n",
    "# For each group (State) apply ADF test\n",
    "for state, group in grouped:\n",
    "\n",
    "    # Extract the ROI values for the current state\n",
    "    roi_values = group['ROI']\n",
    "\n",
    "    # Performing Augmented Dickey Fuller test\n",
    "    result = adfuller(roi_values)\n",
    "\n",
    "    # Print State Name, Test Statistics and p-value\n",
    "    print(f\"State: {state}\")\n",
    "    print(f\"Test Statistics: {result[0]}\")\n",
    "    print(f\"p-value: {result[1]}\")\n",
    "\n",
    "    # Determine if the data is stationary\n",
    "    if result[1] < 0.05:\n",
    "        print(\"Data is stationary\")\n",
    "    else:\n",
    "        print(\"Data is not stationary\")\n",
    "\n",
    "    print(\"\\n\")\n"
   ]
  },
  {
   "cell_type": "markdown",
   "metadata": {
    "id": "JeaA7je-BxiJ"
   },
   "source": [
    "ARIMA"
   ]
  },
  {
   "cell_type": "code",
   "execution_count": null,
   "metadata": {
    "id": "E7OpmL9gyLC0"
   },
   "outputs": [],
   "source": []
  },
  {
   "cell_type": "code",
   "execution_count": null,
   "metadata": {
    "id": "ZHPWfMb0yLAY"
   },
   "outputs": [],
   "source": []
  },
  {
   "cell_type": "code",
   "execution_count": null,
   "metadata": {
    "id": "mr4L4y12yK99"
   },
   "outputs": [],
   "source": []
  },
  {
   "cell_type": "code",
   "execution_count": null,
   "metadata": {
    "id": "LbHh42D6yK7u"
   },
   "outputs": [],
   "source": []
  },
  {
   "cell_type": "code",
   "execution_count": null,
   "metadata": {
    "id": "3Xhjw68gyK5l"
   },
   "outputs": [],
   "source": [
    "# top_zipcodes_df to csv\n",
    "csv_file_path = 'top_zipcodes_data.csv'\n",
    "top_zipcodes_df.to_csv(csv_file_path, index=False)"
   ]
  }
 ],
 "metadata": {
  "colab": {
   "authorship_tag": "ABX9TyN4UJU7bMeJMUp4WcCNwqm9",
   "provenance": [
    {
     "file_id": "1Qrtq2mBS5q7JcJqbzkJ6bOM3IVOtj7zV",
     "timestamp": 1692809499518
    }
   ]
  },
  "kernelspec": {
   "display_name": "Python (learn-env)",
   "language": "python",
   "name": "learn-env"
  },
  "language_info": {
   "codemirror_mode": {
    "name": "ipython",
    "version": 3
   },
   "file_extension": ".py",
   "mimetype": "text/x-python",
   "name": "python",
   "nbconvert_exporter": "python",
   "pygments_lexer": "ipython3",
   "version": "3.8.5"
  },
  "toc": {
   "base_numbering": 1,
   "nav_menu": {},
   "number_sections": true,
   "sideBar": true,
   "skip_h1_title": true,
   "title_cell": "Table of Contents",
   "title_sidebar": "Contents",
   "toc_cell": false,
   "toc_position": {
    "height": "688.182px",
    "left": "1396.36px",
    "top": "110.781px",
    "width": "349.091px"
   },
   "toc_section_display": true,
   "toc_window_display": true
  }
 },
 "nbformat": 4,
 "nbformat_minor": 1
}
